{
 "cells": [
  {
   "cell_type": "code",
   "execution_count": 75,
   "id": "692d9281",
   "metadata": {},
   "outputs": [
    {
     "data": {
      "text/plain": [
       "<torch._C.Generator at 0x7f838c01b6f0>"
      ]
     },
     "execution_count": 75,
     "metadata": {},
     "output_type": "execute_result"
    }
   ],
   "source": [
    "%reload_ext autoreload\n",
    "%autoreload 2\n",
    "import sys\n",
    "sys.path.append('/home/sebastian/masters/') # add my repo to python path\n",
    "import os\n",
    "import torch\n",
    "import numpy as np\n",
    "import pandas as pd\n",
    "import modules\n",
    "import matplotlib.pyplot as plt\n",
    "\n",
    "from sklearn.metrics import *\n",
    "from pathlib import Path\n",
    "\n",
    "from modules.dataset import *\n",
    "from modules.utils import *\n",
    "from modules.models import *\n",
    "from modules.lstm_utils import *\n",
    "\n",
    "np.random.seed(0)\n",
    "torch.manual_seed(0)"
   ]
  },
  {
   "cell_type": "code",
   "execution_count": 76,
   "id": "5af6f539",
   "metadata": {},
   "outputs": [],
   "source": [
    "def compute_auc_mcc(pred_paths, threshold):\n",
    "    overall_pred = list()\n",
    "    overall_true = list()\n",
    "    overall_thres_pred = list()\n",
    "    individual_auc = list()\n",
    "    individual_mcc = list()\n",
    "\n",
    "    for i in range(len(pred_paths)):\n",
    "        data = torch.load(pred_paths[i])\n",
    "        pred = data[\"y_pred\"]\n",
    "        true = data[\"y_true\"]\n",
    "\n",
    "        try:\n",
    "            auc = roc_auc_score(true, pred)\n",
    "            individual_auc.append(auc)\n",
    "            fpr, tpr, _ = roc_curve(true, pred)\n",
    "\n",
    "            thresh_pred = torch.zeros(len(pred))\n",
    "            thresh_pred[pred >= threshold] = 1\n",
    "            mcc = matthews_corrcoef(true, thresh_pred)\n",
    "            individual_mcc.append(mcc)\n",
    "\n",
    "            overall_pred.extend(pred)\n",
    "            overall_true.extend(true)\n",
    "            overall_thres_pred.extend(thresh_pred)\n",
    "        except ValueError:\n",
    "            print(f\"Fail for idx {i}\")\n",
    "            individual_auc.append(None)\n",
    "            individual_mcc.append(None)\n",
    "        \n",
    "    overall_auc = roc_auc_score(overall_true, overall_pred)\n",
    "    overall_fpr, overall_tpr, _ = roc_curve(true, pred, pos_label=1)\n",
    "    overall_mcc = matthews_corrcoef(overall_true, overall_thres_pred)\n",
    "    \n",
    "    return overall_auc, overall_fpr, overall_tpr, individual_auc, overall_mcc, individual_mcc\n",
    "\n",
    "def plot_roc_curve(unique_peptide, excluded, tpr, fpr, individual_auc):\n",
    "    # ROC plot\n",
    "    cm = plt.get_cmap('tab20')  # https://matplotlib.org/stable/tutorials/colors/colormaps.html\n",
    "\n",
    "    fig = plt.figure(figsize=(12, 7))\n",
    "    ax = fig.add_subplot(111)\n",
    "    ax.set_prop_cycle(color=[cm(1*i/n_splits) for i in range(n_splits)])\n",
    "    for i, pep in enumerate(unique_peptides):\n",
    "        if pep not in excluded:\n",
    "            ax.plot(\n",
    "                fpr[i], \n",
    "                tpr[i], \n",
    "                label=f\"{pep}, AUC = {round(individual_auc[i], 3)}\",\n",
    "            )\n",
    "    plt.legend()\n",
    "    plt.plot([0, 1], [0, 1], linestyle=\"--\")\n",
    "    plt.xlim([0.0, 1.0])\n",
    "    plt.ylim([0.0, 1.0])\n",
    "    plt.xlabel(\"False Positive Rate\")\n",
    "    plt.ylabel(\"True Positive Rate\")\n",
    "    plt.title(\"LOO validation ROC curve\")# (peptides with count < 40 left out for visual clarity (drop on CDR3b))\")\n",
    "    plt.show()"
   ]
  },
  {
   "cell_type": "code",
   "execution_count": 145,
   "id": "63424902",
   "metadata": {},
   "outputs": [],
   "source": [
    "root = Path(\"/home/sebastian/masters/data/\")\n",
    "data_root = root / \"neat_data\"\n",
    "metadata_path = data_root / \"metadata.csv\"\n",
    "processed_dir = data_root / \"processed\"\n",
    "state_file = root / \"state_files\" / \"e53-s1952148-d93703104.state\"\n",
    "out_dir = root / \"results\"\n",
    "\n",
    "model_dir = data_root / \"raw\" / \"tcrpmhc\"\n",
    "\n",
    "paths = list(model_dir.glob(\"*\"))\n",
    "join_key = [int(x.name.split(\"_\")[0]) for x in paths]\n",
    "path_df = pd.DataFrame({'#ID': join_key, 'path': paths})\n",
    "\n",
    "metadata = pd.read_csv(metadata_path)\n",
    "metadata = metadata.join(path_df.set_index(\"#ID\"), on=\"#ID\", how=\"inner\")  # filter to non-missing data\n",
    "metadata = metadata.reset_index(drop=True)\n",
    "unique_peptides = metadata[\"peptide\"].unique()"
   ]
  },
  {
   "cell_type": "code",
   "execution_count": 78,
   "id": "ea35f43b",
   "metadata": {},
   "outputs": [],
   "source": [
    "validation_pep = \"KTWGQYWQV\"\n",
    "unique_peptides = np.delete(unique_peptides, np.where(unique_peptides == validation_pep))\n",
    "\n",
    "no_pos_peptides = [\"CLGGLLTMV\", \"ILKEPVHGV\"]\n",
    "for pep in no_pos_peptides:\n",
    "    unique_peptides = np.delete(unique_peptides, np.where(unique_peptides == pep))\n",
    "\n",
    "threshold = 0.1\n",
    "cv_fold = 5\n",
    "excluded = [] # [\"KLQCVDLHV\", \"KVAELVHFL\", \"YLLEMLWRL\", \"SLLMWITQV\"]\n",
    "\n",
    "overall_LOO_results_df = pd.DataFrame(columns=[\n",
    "    \"Model\", \n",
    "    \"AUC\",\n",
    "    f\"MCC (threshold = {threshold})\",\n",
    "])\n",
    "\n",
    "individual_AUC_results_df = pd.DataFrame(columns=[\"Model\"] + list(unique_peptides))\n",
    "\n",
    "individual_MCC_results_df = pd.DataFrame(columns=[\"Model\"] + list(unique_peptides))\n",
    "\n",
    "overall_CV_results_df = pd.DataFrame(columns=[\n",
    "    \"Model\", \n",
    "    \"AUC\",\n",
    "    f\"MCC (threshold = {threshold})\",\n",
    "])"
   ]
  },
  {
   "cell_type": "markdown",
   "id": "e708e85a",
   "metadata": {},
   "source": [
    "### Embedding verification"
   ]
  },
  {
   "cell_type": "code",
   "execution_count": 72,
   "id": "e3453e64",
   "metadata": {},
   "outputs": [
    {
     "name": "stdout",
     "output_type": "stream",
     "text": [
      "1.0\n",
      "1.0\n",
      "1.0\n",
      "1.0\n",
      "1.0\n",
      "1.0\n"
     ]
    }
   ],
   "source": [
    "save_dir = Path(out_dir / \"lstm_embedding_verification/\")\n",
    "pred_paths = [save_dir / f\"pred_{i}.pt\" for i in range(cv_fold)]\n",
    "overall_pred = list()\n",
    "overall_true = list()\n",
    "for i in range(len(pred_paths)):\n",
    "    data = torch.load(pred_paths[i], map_location=\"cpu\")\n",
    "    pred = data[\"y_pred\"]\n",
    "    true = data[\"y_true\"]\n",
    "\n",
    "    auc = roc_auc_score(true, pred , multi_class=\"ovr\", average=\"weighted\")\n",
    "    print(auc)\n",
    "    overall_pred.extend(pred)\n",
    "    overall_true.extend(true)\n",
    "overall_auc = roc_auc_score(true, pred , multi_class=\"ovr\", average=\"weighted\")\n",
    "print(overall_auc)"
   ]
  },
  {
   "cell_type": "markdown",
   "id": "e13dfc63",
   "metadata": {},
   "source": [
    "### LOO validation"
   ]
  },
  {
   "cell_type": "code",
   "execution_count": 59,
   "id": "f4d80234",
   "metadata": {},
   "outputs": [
    {
     "name": "stdout",
     "output_type": "stream",
     "text": [
      "Single LSTM PS lstm_ps_single\n"
     ]
    },
    {
     "name": "stderr",
     "output_type": "stream",
     "text": [
      "/home/sebastian/anaconda3/envs/ps/lib/python3.8/site-packages/sklearn/metrics/_classification.py:873: RuntimeWarning: invalid value encountered in double_scalars\n",
      "  mcc = cov_ytyp / np.sqrt(cov_ytyt * cov_ypyp)\n"
     ]
    },
    {
     "name": "stdout",
     "output_type": "stream",
     "text": [
      "Single LSTM PS (swapped negatives) lstm_ps_single_swapped\n",
      "Single LSTM energy terms lstm_single_energy\n",
      "Fail for idx 0\n",
      "Fail for idx 1\n",
      "Fail for idx 2\n",
      "Fail for idx 3\n",
      "Fail for idx 4\n",
      "Fail for idx 5\n",
      "Fail for idx 6\n",
      "Fail for idx 7\n",
      "Fail for idx 8\n",
      "Fail for idx 9\n",
      "Fail for idx 10\n",
      "Fail for idx 11\n",
      "Fail for idx 12\n",
      "Fail for idx 13\n",
      "Fail for idx 14\n",
      "Single LSTM energy terms failed!\n",
      "Quad LSTM PS lstm_ps\n",
      "Quad LSTM PS (swapped negatives) lstm_ps_swapped\n"
     ]
    },
    {
     "name": "stderr",
     "output_type": "stream",
     "text": [
      "/home/sebastian/anaconda3/envs/ps/lib/python3.8/site-packages/sklearn/metrics/_classification.py:873: RuntimeWarning: invalid value encountered in double_scalars\n",
      "  mcc = cov_ytyp / np.sqrt(cov_ytyt * cov_ypyp)\n"
     ]
    },
    {
     "name": "stdout",
     "output_type": "stream",
     "text": [
      "Quad LSTM PS+ESM lstm_esm_ps\n"
     ]
    },
    {
     "name": "stderr",
     "output_type": "stream",
     "text": [
      "/home/sebastian/anaconda3/envs/ps/lib/python3.8/site-packages/sklearn/metrics/_classification.py:873: RuntimeWarning: invalid value encountered in double_scalars\n",
      "  mcc = cov_ytyp / np.sqrt(cov_ytyt * cov_ypyp)\n",
      "/home/sebastian/anaconda3/envs/ps/lib/python3.8/site-packages/sklearn/metrics/_classification.py:873: RuntimeWarning: invalid value encountered in double_scalars\n",
      "  mcc = cov_ytyp / np.sqrt(cov_ytyt * cov_ypyp)\n"
     ]
    },
    {
     "name": "stdout",
     "output_type": "stream",
     "text": [
      "Quad LSTM ESM lstm_esm\n"
     ]
    },
    {
     "name": "stderr",
     "output_type": "stream",
     "text": [
      "/home/sebastian/anaconda3/envs/ps/lib/python3.8/site-packages/sklearn/metrics/_classification.py:873: RuntimeWarning: invalid value encountered in double_scalars\n",
      "  mcc = cov_ytyp / np.sqrt(cov_ytyt * cov_ypyp)\n"
     ]
    },
    {
     "name": "stdout",
     "output_type": "stream",
     "text": [
      "Quad LSTM PS (FoldX) lstm_ps_foldx\n",
      "Fail for idx 13\n",
      "Fail for idx 14\n"
     ]
    },
    {
     "name": "stderr",
     "output_type": "stream",
     "text": [
      "/home/sebastian/anaconda3/envs/ps/lib/python3.8/site-packages/sklearn/metrics/_ranking.py:941: UndefinedMetricWarning: No negative samples in y_true, false positive value should be meaningless\n",
      "  warnings.warn(\"No negative samples in y_true, \"\n",
      "/home/sebastian/anaconda3/envs/ps/lib/python3.8/site-packages/sklearn/metrics/_classification.py:873: RuntimeWarning: invalid value encountered in double_scalars\n",
      "  mcc = cov_ytyp / np.sqrt(cov_ytyt * cov_ypyp)\n"
     ]
    },
    {
     "name": "stdout",
     "output_type": "stream",
     "text": [
      "Quad LSTM PS+ESM (FoldX) lstm_esm_ps_foldx\n",
      "Fail for idx 13\n",
      "Fail for idx 14\n"
     ]
    },
    {
     "name": "stderr",
     "output_type": "stream",
     "text": [
      "/home/sebastian/anaconda3/envs/ps/lib/python3.8/site-packages/sklearn/metrics/_ranking.py:941: UndefinedMetricWarning: No negative samples in y_true, false positive value should be meaningless\n",
      "  warnings.warn(\"No negative samples in y_true, \"\n"
     ]
    },
    {
     "name": "stdout",
     "output_type": "stream",
     "text": [
      "Quad LSTM PS (Rosetta) lstm_ps_rosetta\n",
      "Fail for idx 13\n",
      "Fail for idx 14\n"
     ]
    },
    {
     "name": "stderr",
     "output_type": "stream",
     "text": [
      "/home/sebastian/anaconda3/envs/ps/lib/python3.8/site-packages/sklearn/metrics/_ranking.py:941: UndefinedMetricWarning: No negative samples in y_true, false positive value should be meaningless\n",
      "  warnings.warn(\"No negative samples in y_true, \"\n"
     ]
    },
    {
     "name": "stdout",
     "output_type": "stream",
     "text": [
      "Quad LSTM PS+ESM (Rosetta) lstm_esm_ps_rosetta\n",
      "Fail for idx 13\n",
      "Fail for idx 14\n"
     ]
    },
    {
     "name": "stderr",
     "output_type": "stream",
     "text": [
      "/home/sebastian/anaconda3/envs/ps/lib/python3.8/site-packages/sklearn/metrics/_ranking.py:941: UndefinedMetricWarning: No negative samples in y_true, false positive value should be meaningless\n",
      "  warnings.warn(\"No negative samples in y_true, \"\n",
      "/home/sebastian/anaconda3/envs/ps/lib/python3.8/site-packages/sklearn/metrics/_classification.py:873: RuntimeWarning: invalid value encountered in double_scalars\n",
      "  mcc = cov_ytyp / np.sqrt(cov_ytyt * cov_ypyp)\n"
     ]
    },
    {
     "name": "stdout",
     "output_type": "stream",
     "text": [
      "CDR3+peptide LSTM PS lstm_ps_cdr_pep_only\n",
      "CDR3+peptide LSTM PS (swapped negatives) lstm_ps_cdr_pep_only_swapped\n",
      "Modified ProteinSolver proteinsolver_finetune\n"
     ]
    },
    {
     "name": "stderr",
     "output_type": "stream",
     "text": [
      "/home/sebastian/anaconda3/envs/ps/lib/python3.8/site-packages/sklearn/metrics/_classification.py:873: RuntimeWarning: invalid value encountered in double_scalars\n",
      "  mcc = cov_ytyp / np.sqrt(cov_ytyt * cov_ypyp)\n"
     ]
    },
    {
     "name": "stdout",
     "output_type": "stream",
     "text": [
      "Modified ProteinSolver (FoldX) proteinsolver_finetune_foldx\n",
      "Fail for idx 13\n",
      "Fail for idx 14\n"
     ]
    },
    {
     "name": "stderr",
     "output_type": "stream",
     "text": [
      "/home/sebastian/anaconda3/envs/ps/lib/python3.8/site-packages/sklearn/metrics/_ranking.py:941: UndefinedMetricWarning: No negative samples in y_true, false positive value should be meaningless\n",
      "  warnings.warn(\"No negative samples in y_true, \"\n",
      "/home/sebastian/anaconda3/envs/ps/lib/python3.8/site-packages/sklearn/metrics/_classification.py:873: RuntimeWarning: invalid value encountered in double_scalars\n",
      "  mcc = cov_ytyp / np.sqrt(cov_ytyt * cov_ypyp)\n"
     ]
    },
    {
     "name": "stdout",
     "output_type": "stream",
     "text": [
      "Modified ProteinSolver (Rosetta) proteinsolver_finetune_rosetta\n",
      "Fail for idx 13\n",
      "Fail for idx 14\n"
     ]
    },
    {
     "name": "stderr",
     "output_type": "stream",
     "text": [
      "/home/sebastian/anaconda3/envs/ps/lib/python3.8/site-packages/sklearn/metrics/_ranking.py:941: UndefinedMetricWarning: No negative samples in y_true, false positive value should be meaningless\n",
      "  warnings.warn(\"No negative samples in y_true, \"\n"
     ]
    }
   ],
   "source": [
    "model_names = [\n",
    "    \"Single LSTM PS\",\n",
    "    \"Single LSTM PS (swapped negatives)\",\n",
    "    \"Single LSTM energy terms\",\n",
    "    \"Quad LSTM PS\",\n",
    "    \"Quad LSTM PS (swapped negatives)\",\n",
    "    \"Quad LSTM PS+ESM\",\n",
    "    \"Quad LSTM ESM\",\n",
    "    \"Quad LSTM PS (FoldX)\",\n",
    "    \"Quad LSTM PS+ESM (FoldX)\",\n",
    "    \"Quad LSTM PS (Rosetta)\",\n",
    "    \"Quad LSTM PS+ESM (Rosetta)\",\n",
    "    \"CDR3+peptide LSTM PS\",\n",
    "    \"CDR3+peptide LSTM PS (swapped negatives)\",\n",
    "    \"Modified ProteinSolver\",\n",
    "    \"Modified ProteinSolver (FoldX)\",\n",
    "    \"Modified ProteinSolver (Rosetta)\",\n",
    "    \n",
    "    \n",
    "    \n",
    "]\n",
    "\n",
    "paths = [\n",
    "    \"lstm_ps_single\",\n",
    "    \"lstm_ps_single_swapped\",\n",
    "    \"lstm_single_energy\",\n",
    "    \"lstm_ps\",\n",
    "    \"lstm_ps_swapped\",\n",
    "    \"lstm_esm_ps\",\n",
    "    \"lstm_esm\",\n",
    "    \"lstm_ps_foldx\",\n",
    "    \"lstm_esm_ps_foldx\",\n",
    "    \"lstm_ps_rosetta\",\n",
    "    \"lstm_esm_ps_rosetta\",\n",
    "    \"lstm_ps_cdr_pep_only\",\n",
    "    \"lstm_ps_cdr_pep_only_swapped\",\n",
    "    \"proteinsolver_finetune\",\n",
    "    \"proteinsolver_finetune_foldx\",\n",
    "    \"proteinsolver_finetune_rosetta\"\n",
    "    \n",
    "]\n",
    "for model_name, path in zip(model_names, paths):\n",
    "    print(model_name, path)\n",
    "    try:\n",
    "        save_dir = Path(out_dir / f\"{path}/b3edafc0112356cefbdde3ca0ec5b396\")\n",
    "        pred_paths = [save_dir / f\"pred_{i}.pt\" for i in range(len(unique_peptides))]\n",
    "        overall_auc, overall_fpr, overall_tpr, individual_auc, overall_mcc, individual_mcc = compute_auc_mcc(pred_paths, threshold)\n",
    "        overall_row = [model_name, overall_auc, overall_mcc]\n",
    "        overall_LOO_results_df = overall_LOO_results_df.append(\n",
    "            pd.Series(overall_row, index=overall_LOO_results_df.columns), ignore_index=True\n",
    "        )\n",
    "        individual_AUC_results_df = individual_AUC_results_df.append(\n",
    "            pd.Series([model_name] + individual_auc, index=individual_AUC_results_df.columns), ignore_index=True\n",
    "        )\n",
    "        individual_MCC_results_df = individual_MCC_results_df.append(\n",
    "            pd.Series([model_name] + individual_mcc, index=individual_MCC_results_df.columns), ignore_index=True\n",
    "        )\n",
    "    except:\n",
    "        print(model_name, \"failed!\")"
   ]
  },
  {
   "cell_type": "code",
   "execution_count": 63,
   "id": "6dc530af",
   "metadata": {},
   "outputs": [
    {
     "data": {
      "text/html": [
       "<div>\n",
       "<style scoped>\n",
       "    .dataframe tbody tr th:only-of-type {\n",
       "        vertical-align: middle;\n",
       "    }\n",
       "\n",
       "    .dataframe tbody tr th {\n",
       "        vertical-align: top;\n",
       "    }\n",
       "\n",
       "    .dataframe thead th {\n",
       "        text-align: right;\n",
       "    }\n",
       "</style>\n",
       "<table border=\"1\" class=\"dataframe\">\n",
       "  <thead>\n",
       "    <tr style=\"text-align: right;\">\n",
       "      <th></th>\n",
       "      <th>Model</th>\n",
       "      <th>AUC</th>\n",
       "      <th>MCC (threshold = 0.1)</th>\n",
       "    </tr>\n",
       "  </thead>\n",
       "  <tbody>\n",
       "    <tr>\n",
       "      <th>0</th>\n",
       "      <td>Single LSTM PS</td>\n",
       "      <td>0.422768</td>\n",
       "      <td>-0.112476</td>\n",
       "    </tr>\n",
       "    <tr>\n",
       "      <th>1</th>\n",
       "      <td>Single LSTM PS (swapped negatives)</td>\n",
       "      <td>0.581993</td>\n",
       "      <td>0.111589</td>\n",
       "    </tr>\n",
       "    <tr>\n",
       "      <th>2</th>\n",
       "      <td>Quad LSTM PS</td>\n",
       "      <td>0.385946</td>\n",
       "      <td>-0.177863</td>\n",
       "    </tr>\n",
       "    <tr>\n",
       "      <th>3</th>\n",
       "      <td>Quad LSTM PS (swapped negatives)</td>\n",
       "      <td>0.601471</td>\n",
       "      <td>0.139841</td>\n",
       "    </tr>\n",
       "    <tr>\n",
       "      <th>4</th>\n",
       "      <td>Quad LSTM PS+ESM</td>\n",
       "      <td>0.538407</td>\n",
       "      <td>0.057611</td>\n",
       "    </tr>\n",
       "    <tr>\n",
       "      <th>5</th>\n",
       "      <td>Quad LSTM ESM</td>\n",
       "      <td>0.448322</td>\n",
       "      <td>0.018213</td>\n",
       "    </tr>\n",
       "    <tr>\n",
       "      <th>6</th>\n",
       "      <td>Quad LSTM PS (FoldX)</td>\n",
       "      <td>0.509681</td>\n",
       "      <td>-0.051362</td>\n",
       "    </tr>\n",
       "    <tr>\n",
       "      <th>7</th>\n",
       "      <td>Quad LSTM PS+ESM (FoldX)</td>\n",
       "      <td>0.459599</td>\n",
       "      <td>0.023776</td>\n",
       "    </tr>\n",
       "    <tr>\n",
       "      <th>8</th>\n",
       "      <td>Quad LSTM PS (Rosetta)</td>\n",
       "      <td>0.557098</td>\n",
       "      <td>0.090968</td>\n",
       "    </tr>\n",
       "    <tr>\n",
       "      <th>9</th>\n",
       "      <td>Quad LSTM PS+ESM (Rosetta)</td>\n",
       "      <td>0.437909</td>\n",
       "      <td>-0.051747</td>\n",
       "    </tr>\n",
       "    <tr>\n",
       "      <th>10</th>\n",
       "      <td>CDR3+peptide LSTM PS</td>\n",
       "      <td>0.408860</td>\n",
       "      <td>-0.119627</td>\n",
       "    </tr>\n",
       "    <tr>\n",
       "      <th>11</th>\n",
       "      <td>CDR3+peptide LSTM PS (swapped negatives)</td>\n",
       "      <td>0.546075</td>\n",
       "      <td>0.074480</td>\n",
       "    </tr>\n",
       "    <tr>\n",
       "      <th>12</th>\n",
       "      <td>Modified ProteinSolver</td>\n",
       "      <td>0.455105</td>\n",
       "      <td>-0.044484</td>\n",
       "    </tr>\n",
       "    <tr>\n",
       "      <th>13</th>\n",
       "      <td>Modified ProteinSolver (FoldX)</td>\n",
       "      <td>0.458191</td>\n",
       "      <td>-0.065209</td>\n",
       "    </tr>\n",
       "    <tr>\n",
       "      <th>14</th>\n",
       "      <td>Modified ProteinSolver (Rosetta)</td>\n",
       "      <td>0.377818</td>\n",
       "      <td>-0.104386</td>\n",
       "    </tr>\n",
       "  </tbody>\n",
       "</table>\n",
       "</div>"
      ],
      "text/plain": [
       "                                       Model       AUC  MCC (threshold = 0.1)\n",
       "0                             Single LSTM PS  0.422768              -0.112476\n",
       "1         Single LSTM PS (swapped negatives)  0.581993               0.111589\n",
       "2                               Quad LSTM PS  0.385946              -0.177863\n",
       "3           Quad LSTM PS (swapped negatives)  0.601471               0.139841\n",
       "4                           Quad LSTM PS+ESM  0.538407               0.057611\n",
       "5                              Quad LSTM ESM  0.448322               0.018213\n",
       "6                       Quad LSTM PS (FoldX)  0.509681              -0.051362\n",
       "7                   Quad LSTM PS+ESM (FoldX)  0.459599               0.023776\n",
       "8                     Quad LSTM PS (Rosetta)  0.557098               0.090968\n",
       "9                 Quad LSTM PS+ESM (Rosetta)  0.437909              -0.051747\n",
       "10                      CDR3+peptide LSTM PS  0.408860              -0.119627\n",
       "11  CDR3+peptide LSTM PS (swapped negatives)  0.546075               0.074480\n",
       "12                    Modified ProteinSolver  0.455105              -0.044484\n",
       "13            Modified ProteinSolver (FoldX)  0.458191              -0.065209\n",
       "14          Modified ProteinSolver (Rosetta)  0.377818              -0.104386"
      ]
     },
     "execution_count": 63,
     "metadata": {},
     "output_type": "execute_result"
    }
   ],
   "source": [
    "overall_LOO_results_df"
   ]
  },
  {
   "cell_type": "code",
   "execution_count": 62,
   "id": "ea092f6a",
   "metadata": {},
   "outputs": [
    {
     "data": {
      "text/html": [
       "<div>\n",
       "<style scoped>\n",
       "    .dataframe tbody tr th:only-of-type {\n",
       "        vertical-align: middle;\n",
       "    }\n",
       "\n",
       "    .dataframe tbody tr th {\n",
       "        vertical-align: top;\n",
       "    }\n",
       "\n",
       "    .dataframe thead th {\n",
       "        text-align: right;\n",
       "    }\n",
       "</style>\n",
       "<table border=\"1\" class=\"dataframe\">\n",
       "  <thead>\n",
       "    <tr style=\"text-align: right;\">\n",
       "      <th></th>\n",
       "      <th>Model</th>\n",
       "      <th>NLVPMVATV</th>\n",
       "      <th>SLFNTVATL</th>\n",
       "      <th>RTLNAWVKV</th>\n",
       "      <th>KVLEYVIKV</th>\n",
       "      <th>YLLEMLWRL</th>\n",
       "      <th>IMDQVPFSV</th>\n",
       "      <th>MLDLQPETT</th>\n",
       "      <th>FLYALALLL</th>\n",
       "      <th>SLLMWITQV</th>\n",
       "      <th>LLFGYPVYV</th>\n",
       "      <th>GLCTLVAML</th>\n",
       "      <th>RMFPNAPYL</th>\n",
       "      <th>GILGFVFTL</th>\n",
       "      <th>KLQCVDLHV</th>\n",
       "      <th>KVAELVHFL</th>\n",
       "    </tr>\n",
       "  </thead>\n",
       "  <tbody>\n",
       "    <tr>\n",
       "      <th>0</th>\n",
       "      <td>ProteinSolver</td>\n",
       "      <td>0.538196</td>\n",
       "      <td>0.604082</td>\n",
       "      <td>0.527184</td>\n",
       "      <td>0.231481</td>\n",
       "      <td>0.565657</td>\n",
       "      <td>0.546296</td>\n",
       "      <td>0.488636</td>\n",
       "      <td>0.481366</td>\n",
       "      <td>0.682353</td>\n",
       "      <td>0.457867</td>\n",
       "      <td>0.619376</td>\n",
       "      <td>0.495726</td>\n",
       "      <td>0.398939</td>\n",
       "      <td>0.75</td>\n",
       "      <td>0.0</td>\n",
       "    </tr>\n",
       "    <tr>\n",
       "      <th>1</th>\n",
       "      <td>ProteinSolver</td>\n",
       "      <td>0.509153</td>\n",
       "      <td>0.326154</td>\n",
       "      <td>0.551790</td>\n",
       "      <td>0.535354</td>\n",
       "      <td>0.411765</td>\n",
       "      <td>0.578704</td>\n",
       "      <td>0.475152</td>\n",
       "      <td>0.656829</td>\n",
       "      <td>0.710345</td>\n",
       "      <td>0.486047</td>\n",
       "      <td>0.508925</td>\n",
       "      <td>0.495854</td>\n",
       "      <td>0.602030</td>\n",
       "      <td>1.0</td>\n",
       "      <td>0.0</td>\n",
       "    </tr>\n",
       "    <tr>\n",
       "      <th>2</th>\n",
       "      <td>ProteinSolver</td>\n",
       "      <td>0.638329</td>\n",
       "      <td>0.424490</td>\n",
       "      <td>0.614082</td>\n",
       "      <td>0.324074</td>\n",
       "      <td>0.585859</td>\n",
       "      <td>0.435185</td>\n",
       "      <td>0.389205</td>\n",
       "      <td>0.709317</td>\n",
       "      <td>0.576471</td>\n",
       "      <td>0.439467</td>\n",
       "      <td>0.557062</td>\n",
       "      <td>0.490028</td>\n",
       "      <td>0.330291</td>\n",
       "      <td>0.75</td>\n",
       "      <td>0.0</td>\n",
       "    </tr>\n",
       "    <tr>\n",
       "      <th>3</th>\n",
       "      <td>ProteinSolver</td>\n",
       "      <td>0.666673</td>\n",
       "      <td>0.563077</td>\n",
       "      <td>0.704923</td>\n",
       "      <td>0.707071</td>\n",
       "      <td>0.437908</td>\n",
       "      <td>0.606481</td>\n",
       "      <td>0.540606</td>\n",
       "      <td>0.839874</td>\n",
       "      <td>0.606897</td>\n",
       "      <td>0.482791</td>\n",
       "      <td>0.727387</td>\n",
       "      <td>0.752902</td>\n",
       "      <td>0.504547</td>\n",
       "      <td>0.857143</td>\n",
       "      <td>0.333333</td>\n",
       "    </tr>\n",
       "    <tr>\n",
       "      <th>4</th>\n",
       "      <td>ProteinSolver</td>\n",
       "      <td>0.596884</td>\n",
       "      <td>0.114286</td>\n",
       "      <td>0.600267</td>\n",
       "      <td>0.601852</td>\n",
       "      <td>0.515152</td>\n",
       "      <td>0.604167</td>\n",
       "      <td>0.497159</td>\n",
       "      <td>0.545963</td>\n",
       "      <td>0.611765</td>\n",
       "      <td>0.422400</td>\n",
       "      <td>0.553701</td>\n",
       "      <td>0.606838</td>\n",
       "      <td>0.533675</td>\n",
       "      <td>1.0</td>\n",
       "      <td>0.0</td>\n",
       "    </tr>\n",
       "    <tr>\n",
       "      <th>5</th>\n",
       "      <td>ProteinSolver</td>\n",
       "      <td>0.654250</td>\n",
       "      <td>0.461224</td>\n",
       "      <td>0.455882</td>\n",
       "      <td>0.194444</td>\n",
       "      <td>0.545455</td>\n",
       "      <td>0.476852</td>\n",
       "      <td>0.446023</td>\n",
       "      <td>0.629814</td>\n",
       "      <td>0.623529</td>\n",
       "      <td>0.474133</td>\n",
       "      <td>0.492541</td>\n",
       "      <td>0.410256</td>\n",
       "      <td>0.395619</td>\n",
       "      <td>1.0</td>\n",
       "      <td>0.5</td>\n",
       "    </tr>\n",
       "    <tr>\n",
       "      <th>6</th>\n",
       "      <td>ProteinSolver</td>\n",
       "      <td>0.635444</td>\n",
       "      <td>0.471429</td>\n",
       "      <td>0.383459</td>\n",
       "      <td>0.320513</td>\n",
       "      <td>0.564103</td>\n",
       "      <td>0.490260</td>\n",
       "      <td>0.500000</td>\n",
       "      <td>0.600000</td>\n",
       "      <td>0.541667</td>\n",
       "      <td>0.346939</td>\n",
       "      <td>0.527837</td>\n",
       "      <td>0.437500</td>\n",
       "      <td>0.543703</td>\n",
       "      <td>None</td>\n",
       "      <td>None</td>\n",
       "    </tr>\n",
       "    <tr>\n",
       "      <th>7</th>\n",
       "      <td>ProteinSolver</td>\n",
       "      <td>0.677006</td>\n",
       "      <td>0.466667</td>\n",
       "      <td>0.555764</td>\n",
       "      <td>0.525641</td>\n",
       "      <td>0.487179</td>\n",
       "      <td>0.551948</td>\n",
       "      <td>0.492063</td>\n",
       "      <td>0.648684</td>\n",
       "      <td>0.500000</td>\n",
       "      <td>0.425788</td>\n",
       "      <td>0.409091</td>\n",
       "      <td>0.379464</td>\n",
       "      <td>0.467714</td>\n",
       "      <td>None</td>\n",
       "      <td>None</td>\n",
       "    </tr>\n",
       "    <tr>\n",
       "      <th>8</th>\n",
       "      <td>ProteinSolver</td>\n",
       "      <td>0.655091</td>\n",
       "      <td>0.347619</td>\n",
       "      <td>0.645990</td>\n",
       "      <td>0.423077</td>\n",
       "      <td>0.512821</td>\n",
       "      <td>0.535714</td>\n",
       "      <td>0.539683</td>\n",
       "      <td>0.397807</td>\n",
       "      <td>0.416667</td>\n",
       "      <td>0.457792</td>\n",
       "      <td>0.447284</td>\n",
       "      <td>0.625000</td>\n",
       "      <td>0.590180</td>\n",
       "      <td>None</td>\n",
       "      <td>None</td>\n",
       "    </tr>\n",
       "    <tr>\n",
       "      <th>9</th>\n",
       "      <td>ProteinSolver</td>\n",
       "      <td>0.609216</td>\n",
       "      <td>0.295238</td>\n",
       "      <td>0.480576</td>\n",
       "      <td>0.243590</td>\n",
       "      <td>0.589744</td>\n",
       "      <td>0.594156</td>\n",
       "      <td>0.464286</td>\n",
       "      <td>0.539474</td>\n",
       "      <td>0.666667</td>\n",
       "      <td>0.366419</td>\n",
       "      <td>0.403868</td>\n",
       "      <td>0.459821</td>\n",
       "      <td>0.437818</td>\n",
       "      <td>None</td>\n",
       "      <td>None</td>\n",
       "    </tr>\n",
       "    <tr>\n",
       "      <th>10</th>\n",
       "      <td>ProteinSolver</td>\n",
       "      <td>0.596708</td>\n",
       "      <td>0.469388</td>\n",
       "      <td>0.554813</td>\n",
       "      <td>0.601852</td>\n",
       "      <td>0.828283</td>\n",
       "      <td>0.525463</td>\n",
       "      <td>0.451705</td>\n",
       "      <td>0.737888</td>\n",
       "      <td>0.647059</td>\n",
       "      <td>0.391467</td>\n",
       "      <td>0.496633</td>\n",
       "      <td>0.592593</td>\n",
       "      <td>0.362019</td>\n",
       "      <td>0.75</td>\n",
       "      <td>0.0</td>\n",
       "    </tr>\n",
       "    <tr>\n",
       "      <th>11</th>\n",
       "      <td>ProteinSolver</td>\n",
       "      <td>0.526217</td>\n",
       "      <td>0.498462</td>\n",
       "      <td>0.581522</td>\n",
       "      <td>0.611111</td>\n",
       "      <td>0.470588</td>\n",
       "      <td>0.546296</td>\n",
       "      <td>0.597576</td>\n",
       "      <td>0.669702</td>\n",
       "      <td>0.641379</td>\n",
       "      <td>0.243411</td>\n",
       "      <td>0.445324</td>\n",
       "      <td>0.673300</td>\n",
       "      <td>0.485631</td>\n",
       "      <td>1.0</td>\n",
       "      <td>0.833333</td>\n",
       "    </tr>\n",
       "    <tr>\n",
       "      <th>12</th>\n",
       "      <td>ProteinSolver</td>\n",
       "      <td>0.451634</td>\n",
       "      <td>0.481633</td>\n",
       "      <td>0.459002</td>\n",
       "      <td>0.212963</td>\n",
       "      <td>0.565657</td>\n",
       "      <td>0.645833</td>\n",
       "      <td>0.485795</td>\n",
       "      <td>0.433230</td>\n",
       "      <td>0.741176</td>\n",
       "      <td>0.529867</td>\n",
       "      <td>0.621999</td>\n",
       "      <td>0.378917</td>\n",
       "      <td>0.449635</td>\n",
       "      <td>0.0</td>\n",
       "      <td>1.0</td>\n",
       "    </tr>\n",
       "    <tr>\n",
       "      <th>13</th>\n",
       "      <td>ProteinSolver</td>\n",
       "      <td>0.531532</td>\n",
       "      <td>0.595238</td>\n",
       "      <td>0.533835</td>\n",
       "      <td>0.166667</td>\n",
       "      <td>0.589744</td>\n",
       "      <td>0.538961</td>\n",
       "      <td>0.706349</td>\n",
       "      <td>0.497368</td>\n",
       "      <td>0.541667</td>\n",
       "      <td>0.455009</td>\n",
       "      <td>0.620302</td>\n",
       "      <td>0.392857</td>\n",
       "      <td>0.415524</td>\n",
       "      <td>None</td>\n",
       "      <td>None</td>\n",
       "    </tr>\n",
       "    <tr>\n",
       "      <th>14</th>\n",
       "      <td>ProteinSolver</td>\n",
       "      <td>0.553764</td>\n",
       "      <td>0.619048</td>\n",
       "      <td>0.486842</td>\n",
       "      <td>0.435897</td>\n",
       "      <td>0.487179</td>\n",
       "      <td>0.493506</td>\n",
       "      <td>0.547619</td>\n",
       "      <td>0.385965</td>\n",
       "      <td>0.625000</td>\n",
       "      <td>0.587199</td>\n",
       "      <td>0.536336</td>\n",
       "      <td>0.383929</td>\n",
       "      <td>0.337974</td>\n",
       "      <td>None</td>\n",
       "      <td>None</td>\n",
       "    </tr>\n",
       "  </tbody>\n",
       "</table>\n",
       "</div>"
      ],
      "text/plain": [
       "            Model  NLVPMVATV  SLFNTVATL  RTLNAWVKV  KVLEYVIKV  YLLEMLWRL  \\\n",
       "0   ProteinSolver   0.538196   0.604082   0.527184   0.231481   0.565657   \n",
       "1   ProteinSolver   0.509153   0.326154   0.551790   0.535354   0.411765   \n",
       "2   ProteinSolver   0.638329   0.424490   0.614082   0.324074   0.585859   \n",
       "3   ProteinSolver   0.666673   0.563077   0.704923   0.707071   0.437908   \n",
       "4   ProteinSolver   0.596884   0.114286   0.600267   0.601852   0.515152   \n",
       "5   ProteinSolver   0.654250   0.461224   0.455882   0.194444   0.545455   \n",
       "6   ProteinSolver   0.635444   0.471429   0.383459   0.320513   0.564103   \n",
       "7   ProteinSolver   0.677006   0.466667   0.555764   0.525641   0.487179   \n",
       "8   ProteinSolver   0.655091   0.347619   0.645990   0.423077   0.512821   \n",
       "9   ProteinSolver   0.609216   0.295238   0.480576   0.243590   0.589744   \n",
       "10  ProteinSolver   0.596708   0.469388   0.554813   0.601852   0.828283   \n",
       "11  ProteinSolver   0.526217   0.498462   0.581522   0.611111   0.470588   \n",
       "12  ProteinSolver   0.451634   0.481633   0.459002   0.212963   0.565657   \n",
       "13  ProteinSolver   0.531532   0.595238   0.533835   0.166667   0.589744   \n",
       "14  ProteinSolver   0.553764   0.619048   0.486842   0.435897   0.487179   \n",
       "\n",
       "    IMDQVPFSV  MLDLQPETT  FLYALALLL  SLLMWITQV  LLFGYPVYV  GLCTLVAML  \\\n",
       "0    0.546296   0.488636   0.481366   0.682353   0.457867   0.619376   \n",
       "1    0.578704   0.475152   0.656829   0.710345   0.486047   0.508925   \n",
       "2    0.435185   0.389205   0.709317   0.576471   0.439467   0.557062   \n",
       "3    0.606481   0.540606   0.839874   0.606897   0.482791   0.727387   \n",
       "4    0.604167   0.497159   0.545963   0.611765   0.422400   0.553701   \n",
       "5    0.476852   0.446023   0.629814   0.623529   0.474133   0.492541   \n",
       "6    0.490260   0.500000   0.600000   0.541667   0.346939   0.527837   \n",
       "7    0.551948   0.492063   0.648684   0.500000   0.425788   0.409091   \n",
       "8    0.535714   0.539683   0.397807   0.416667   0.457792   0.447284   \n",
       "9    0.594156   0.464286   0.539474   0.666667   0.366419   0.403868   \n",
       "10   0.525463   0.451705   0.737888   0.647059   0.391467   0.496633   \n",
       "11   0.546296   0.597576   0.669702   0.641379   0.243411   0.445324   \n",
       "12   0.645833   0.485795   0.433230   0.741176   0.529867   0.621999   \n",
       "13   0.538961   0.706349   0.497368   0.541667   0.455009   0.620302   \n",
       "14   0.493506   0.547619   0.385965   0.625000   0.587199   0.536336   \n",
       "\n",
       "    RMFPNAPYL  GILGFVFTL KLQCVDLHV KVAELVHFL  \n",
       "0    0.495726   0.398939      0.75       0.0  \n",
       "1    0.495854   0.602030       1.0       0.0  \n",
       "2    0.490028   0.330291      0.75       0.0  \n",
       "3    0.752902   0.504547  0.857143  0.333333  \n",
       "4    0.606838   0.533675       1.0       0.0  \n",
       "5    0.410256   0.395619       1.0       0.5  \n",
       "6    0.437500   0.543703      None      None  \n",
       "7    0.379464   0.467714      None      None  \n",
       "8    0.625000   0.590180      None      None  \n",
       "9    0.459821   0.437818      None      None  \n",
       "10   0.592593   0.362019      0.75       0.0  \n",
       "11   0.673300   0.485631       1.0  0.833333  \n",
       "12   0.378917   0.449635       0.0       1.0  \n",
       "13   0.392857   0.415524      None      None  \n",
       "14   0.383929   0.337974      None      None  "
      ]
     },
     "execution_count": 62,
     "metadata": {},
     "output_type": "execute_result"
    }
   ],
   "source": [
    "individual_AUC_results_df"
   ]
  },
  {
   "cell_type": "code",
   "execution_count": 82,
   "id": "6320c53d",
   "metadata": {},
   "outputs": [
    {
     "name": "stderr",
     "output_type": "stream",
     "text": [
      "/home/sebastian/anaconda3/envs/ps/lib/python3.8/site-packages/sklearn/metrics/_classification.py:873: RuntimeWarning: invalid value encountered in double_scalars\n",
      "  mcc = cov_ytyp / np.sqrt(cov_ytyt * cov_ypyp)\n",
      "/home/sebastian/anaconda3/envs/ps/lib/python3.8/site-packages/sklearn/metrics/_classification.py:873: RuntimeWarning: invalid value encountered in double_scalars\n",
      "  mcc = cov_ytyp / np.sqrt(cov_ytyt * cov_ypyp)\n",
      "/home/sebastian/anaconda3/envs/ps/lib/python3.8/site-packages/sklearn/metrics/_classification.py:873: RuntimeWarning: invalid value encountered in double_scalars\n",
      "  mcc = cov_ytyp / np.sqrt(cov_ytyt * cov_ypyp)\n",
      "/home/sebastian/anaconda3/envs/ps/lib/python3.8/site-packages/sklearn/metrics/_classification.py:873: RuntimeWarning: invalid value encountered in double_scalars\n",
      "  mcc = cov_ytyp / np.sqrt(cov_ytyt * cov_ypyp)\n",
      "/home/sebastian/anaconda3/envs/ps/lib/python3.8/site-packages/sklearn/metrics/_classification.py:873: RuntimeWarning: invalid value encountered in double_scalars\n",
      "  mcc = cov_ytyp / np.sqrt(cov_ytyt * cov_ypyp)\n",
      "/home/sebastian/anaconda3/envs/ps/lib/python3.8/site-packages/sklearn/metrics/_classification.py:873: RuntimeWarning: invalid value encountered in double_scalars\n",
      "  mcc = cov_ytyp / np.sqrt(cov_ytyt * cov_ypyp)\n",
      "/home/sebastian/anaconda3/envs/ps/lib/python3.8/site-packages/sklearn/metrics/_classification.py:873: RuntimeWarning: invalid value encountered in double_scalars\n",
      "  mcc = cov_ytyp / np.sqrt(cov_ytyt * cov_ypyp)\n",
      "/home/sebastian/anaconda3/envs/ps/lib/python3.8/site-packages/sklearn/metrics/_classification.py:873: RuntimeWarning: invalid value encountered in double_scalars\n",
      "  mcc = cov_ytyp / np.sqrt(cov_ytyt * cov_ypyp)\n",
      "/home/sebastian/anaconda3/envs/ps/lib/python3.8/site-packages/sklearn/metrics/_classification.py:873: RuntimeWarning: invalid value encountered in double_scalars\n",
      "  mcc = cov_ytyp / np.sqrt(cov_ytyt * cov_ypyp)\n",
      "/home/sebastian/anaconda3/envs/ps/lib/python3.8/site-packages/sklearn/metrics/_classification.py:873: RuntimeWarning: invalid value encountered in double_scalars\n",
      "  mcc = cov_ytyp / np.sqrt(cov_ytyt * cov_ypyp)\n",
      "/home/sebastian/anaconda3/envs/ps/lib/python3.8/site-packages/sklearn/metrics/_classification.py:873: RuntimeWarning: invalid value encountered in double_scalars\n",
      "  mcc = cov_ytyp / np.sqrt(cov_ytyt * cov_ypyp)\n",
      "/home/sebastian/anaconda3/envs/ps/lib/python3.8/site-packages/sklearn/metrics/_classification.py:873: RuntimeWarning: invalid value encountered in double_scalars\n",
      "  mcc = cov_ytyp / np.sqrt(cov_ytyt * cov_ypyp)\n",
      "/home/sebastian/anaconda3/envs/ps/lib/python3.8/site-packages/sklearn/metrics/_classification.py:873: RuntimeWarning: invalid value encountered in double_scalars\n",
      "  mcc = cov_ytyp / np.sqrt(cov_ytyt * cov_ypyp)\n",
      "/home/sebastian/anaconda3/envs/ps/lib/python3.8/site-packages/sklearn/metrics/_classification.py:873: RuntimeWarning: invalid value encountered in double_scalars\n",
      "  mcc = cov_ytyp / np.sqrt(cov_ytyt * cov_ypyp)\n",
      "/home/sebastian/anaconda3/envs/ps/lib/python3.8/site-packages/sklearn/metrics/_classification.py:873: RuntimeWarning: invalid value encountered in double_scalars\n",
      "  mcc = cov_ytyp / np.sqrt(cov_ytyt * cov_ypyp)\n",
      "/home/sebastian/anaconda3/envs/ps/lib/python3.8/site-packages/sklearn/metrics/_classification.py:873: RuntimeWarning: invalid value encountered in double_scalars\n",
      "  mcc = cov_ytyp / np.sqrt(cov_ytyt * cov_ypyp)\n"
     ]
    }
   ],
   "source": [
    "save_dir = Path(\"/home/sebastian/masters/data/results/lstm_esm_ps_nested_loo/897883c2a356353997ac2199d774e322\")\n",
    "pred_paths = [save_dir / f\"pred_{i}.pt\" for i in range(len(unique_peptides))]\n",
    "overall_auc, overall_fpr, overall_tpr, individual_auc, overall_mcc, individual_mcc = compute_auc_mcc(pred_paths, threshold)\n",
    "overall_row = [model_name, overall_auc, overall_mcc]\n",
    "overall_LOO_results_df = overall_LOO_results_df.append(\n",
    "    pd.Series(overall_row, index=overall_LOO_results_df.columns), ignore_index=True\n",
    ")\n",
    "individual_AUC_results_df = individual_AUC_results_df.append(\n",
    "    pd.Series([model_name] + individual_auc, index=individual_AUC_results_df.columns), ignore_index=True\n",
    ")\n",
    "individual_MCC_results_df = individual_MCC_results_df.append(\n",
    "    pd.Series([model_name] + individual_mcc, index=individual_MCC_results_df.columns), ignore_index=True\n",
    ")"
   ]
  },
  {
   "cell_type": "code",
   "execution_count": 83,
   "id": "699bd539",
   "metadata": {},
   "outputs": [
    {
     "data": {
      "text/plain": [
       "['Modified ProteinSolver', 0.46163975470481616, 0.0]"
      ]
     },
     "execution_count": 83,
     "metadata": {},
     "output_type": "execute_result"
    }
   ],
   "source": [
    "overall_row"
   ]
  },
  {
   "cell_type": "code",
   "execution_count": 116,
   "id": "51fab4c9",
   "metadata": {},
   "outputs": [
    {
     "data": {
      "text/plain": [
       "0.4772727272727273"
      ]
     },
     "execution_count": 116,
     "metadata": {},
     "output_type": "execute_result"
    }
   ],
   "source": [
    "i = 3\n",
    "roc_auc_score(torch.load(pred_paths[i])[\"y_true\"], torch.sigmoid(torch.load(pred_paths[i])[\"y_pred\"]))"
   ]
  },
  {
   "cell_type": "code",
   "execution_count": 118,
   "id": "5c1fcc50",
   "metadata": {},
   "outputs": [],
   "source": [
    "loss = [torch.load(save_dir/f\"loss_{i}.pt\") for i in range(15)]"
   ]
  },
  {
   "cell_type": "code",
   "execution_count": 125,
   "id": "6c793832",
   "metadata": {},
   "outputs": [
    {
     "data": {
      "text/plain": [
       "[<matplotlib.lines.Line2D at 0x7f8335685340>]"
      ]
     },
     "execution_count": 125,
     "metadata": {},
     "output_type": "execute_result"
    },
    {
     "data": {
      "image/png": "[encoded data removed]",
      "text/plain": [
       "<Figure size 432x288 with 1 Axes>"
      ]
     },
     "metadata": {
      "needs_background": "light"
     },
     "output_type": "display_data"
    }
   ],
   "source": [
    "plt.plot(loss[3][\"train\"])\n",
    "plt.plot(loss[3][\"valid\"])"
   ]
  },
  {
   "cell_type": "code",
   "execution_count": 121,
   "id": "fe973eeb",
   "metadata": {},
   "outputs": [
    {
     "data": {
      "text/plain": [
       "[0.03254325287654507, 0.023865852819374988]"
      ]
     },
     "execution_count": 121,
     "metadata": {},
     "output_type": "execute_result"
    }
   ],
   "source": [
    "loss[0][\"train\"]"
   ]
  },
  {
   "cell_type": "code",
   "execution_count": 122,
   "id": "49f9991f",
   "metadata": {},
   "outputs": [
    {
     "data": {
      "text/plain": [
       "[0.7262931341926256, 0.6205359747012457]"
      ]
     },
     "execution_count": 122,
     "metadata": {},
     "output_type": "execute_result"
    }
   ],
   "source": [
    "loss[0][\"valid\"]"
   ]
  },
  {
   "cell_type": "markdown",
   "id": "c075c6c0",
   "metadata": {},
   "source": [
    "### 5 fold CV"
   ]
  },
  {
   "cell_type": "code",
   "execution_count": 147,
   "id": "e41937b9",
   "metadata": {},
   "outputs": [
    {
     "name": "stdout",
     "output_type": "stream",
     "text": [
      "Quad LSTM PS lstm_ps_80_cv\n",
      "Quad LSTM PS+ESM lstm_esm_ps_80_cv\n",
      "Quad LSTM ESM lstm_esm_80_cv\n",
      "Modified ProteinSolver proteinsolver_finetune_80_cv\n"
     ]
    }
   ],
   "source": [
    "model_names = [\n",
    "    #\"Single LSTM PS\",\n",
    "    #\"Single LSTM PS (swapped negatives)\",\n",
    "    #\"Single LSTM energy terms\",\n",
    "    \"Quad LSTM PS\",\n",
    "    #\"Quad LSTM PS (swapped negatives)\",\n",
    "    \"Quad LSTM PS+ESM\",\n",
    "    \"Quad LSTM ESM\",\n",
    "    #\"Quad LSTM PS (FoldX)\",\n",
    "    #\"Quad LSTM PS+ESM (FoldX)\",\n",
    "    #\"Quad LSTM PS (Rosetta)\",\n",
    "    #\"Quad LSTM PS+ESM (Rosetta)\",\n",
    "    #\"CDR3+peptide LSTM PS\",\n",
    "    #\"CDR3+peptide LSTM PS (swapped negatives)\",\n",
    "    \"Modified ProteinSolver\",\n",
    "    #\"Modified ProteinSolver (FoldX)\",\n",
    "    #\"Modified ProteinSolver (Rosetta)\"\n",
    "    \n",
    "    \n",
    "]\n",
    "\n",
    "paths = [\n",
    "    #\"lstm_ps_single\",\n",
    "    #\"lstm_ps_single_swapped\",\n",
    "    #\"lstm_single_energy\",\n",
    "    \"lstm_ps_80_cv\",\n",
    "    #\"lstm_ps_swapped\",\n",
    "    \"lstm_esm_ps_80_cv\",\n",
    "    \"lstm_esm_80_cv\",\n",
    "    #\"lstm_ps_foldx\",\n",
    "    #\"lstm_esm_ps_foldx\",\n",
    "    #\"lstm_ps_rosetta\",\n",
    "    #\"lstm_esm_ps_rosetta\",\n",
    "    #\"lstm_ps_cdr_pep_only\",\n",
    "    #\"lstm_ps_cdr_pep_only_swapped\",\n",
    "    \"proteinsolver_finetune_80_cv\",\n",
    "    #\"proteinsolver_finetune_foldx\",\n",
    "    #\"proteinsolver_finetune_rosetta\"\n",
    "    \n",
    "]\n",
    "for model_name, path in zip(model_names, paths):\n",
    "    print(model_name, path)\n",
    "    try:\n",
    "        save_dir = Path(out_dir / f\"{path}/b3edafc0112356cefbdde3ca0ec5b396\")\n",
    "        pred_paths = [save_dir / f\"pred_{i}.pt\" for i in range(cv_fold)]\n",
    "        overall_auc, overall_fpr, overall_tpr, individual_auc, overall_mcc, individual_mcc = compute_auc_mcc(pred_paths, threshold)\n",
    "        overall_row = [model_name, overall_auc, overall_mcc]\n",
    "        overall_CV_results_df = overall_CV_results_df.append(\n",
    "            pd.Series(overall_row, index=overall_CV_results_df.columns), ignore_index=True\n",
    "        )\n",
    "    except:\n",
    "        print(model_name, \"failed!\")"
   ]
  },
  {
   "cell_type": "code",
   "execution_count": 68,
   "id": "4ed0b9f2",
   "metadata": {},
   "outputs": [
    {
     "data": {
      "text/html": [
       "<div>\n",
       "<style scoped>\n",
       "    .dataframe tbody tr th:only-of-type {\n",
       "        vertical-align: middle;\n",
       "    }\n",
       "\n",
       "    .dataframe tbody tr th {\n",
       "        vertical-align: top;\n",
       "    }\n",
       "\n",
       "    .dataframe thead th {\n",
       "        text-align: right;\n",
       "    }\n",
       "</style>\n",
       "<table border=\"1\" class=\"dataframe\">\n",
       "  <thead>\n",
       "    <tr style=\"text-align: right;\">\n",
       "      <th></th>\n",
       "      <th>Model</th>\n",
       "      <th>AUC</th>\n",
       "      <th>MCC (threshold = 0.1)</th>\n",
       "    </tr>\n",
       "  </thead>\n",
       "  <tbody>\n",
       "    <tr>\n",
       "      <th>0</th>\n",
       "      <td>Quad LSTM PS</td>\n",
       "      <td>0.870819</td>\n",
       "      <td>0.450423</td>\n",
       "    </tr>\n",
       "    <tr>\n",
       "      <th>1</th>\n",
       "      <td>Quad LSTM PS+ESM</td>\n",
       "      <td>0.878844</td>\n",
       "      <td>0.480504</td>\n",
       "    </tr>\n",
       "    <tr>\n",
       "      <th>2</th>\n",
       "      <td>Quad LSTM ESM</td>\n",
       "      <td>0.881669</td>\n",
       "      <td>0.429481</td>\n",
       "    </tr>\n",
       "    <tr>\n",
       "      <th>3</th>\n",
       "      <td>Modified ProteinSolver</td>\n",
       "      <td>0.865895</td>\n",
       "      <td>0.479530</td>\n",
       "    </tr>\n",
       "  </tbody>\n",
       "</table>\n",
       "</div>"
      ],
      "text/plain": [
       "                    Model       AUC  MCC (threshold = 0.1)\n",
       "0            Quad LSTM PS  0.870819               0.450423\n",
       "1        Quad LSTM PS+ESM  0.878844               0.480504\n",
       "2           Quad LSTM ESM  0.881669               0.429481\n",
       "3  Modified ProteinSolver  0.865895               0.479530"
      ]
     },
     "execution_count": 68,
     "metadata": {},
     "output_type": "execute_result"
    }
   ],
   "source": [
    "overall_CV_results_df"
   ]
  },
  {
   "cell_type": "code",
   "execution_count": null,
   "id": "38f7dc64",
   "metadata": {},
   "outputs": [],
   "source": []
  }
 ],
 "metadata": {
  "kernelspec": {
   "display_name": "Python 3 (ipykernel)",
   "language": "python",
   "name": "python3"
  },
  "language_info": {
   "codemirror_mode": {
    "name": "ipython",
    "version": 3
   },
   "file_extension": ".py",
   "mimetype": "text/x-python",
   "name": "python",
   "nbconvert_exporter": "python",
   "pygments_lexer": "ipython3",
   "version": "3.8.0"
  }
 },
 "nbformat": 4,
 "nbformat_minor": 5
}

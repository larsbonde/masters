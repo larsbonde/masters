{
 "cells": [
  {
   "cell_type": "code",
   "execution_count": 63,
   "id": "692d9281",
   "metadata": {},
   "outputs": [
    {
     "data": {
      "text/plain": [
       "<torch._C.Generator at 0x7f06480506d0>"
      ]
     },
     "execution_count": 63,
     "metadata": {},
     "output_type": "execute_result"
    }
   ],
   "source": [
    "%reload_ext autoreload\n",
    "%autoreload 2\n",
    "import sys\n",
    "sys.path.append('/home/sebastian/masters/') # add my repo to python path\n",
    "import os\n",
    "import torch\n",
    "import numpy as np\n",
    "import pandas as pd\n",
    "import modules\n",
    "import matplotlib.pyplot as plt\n",
    "\n",
    "from sklearn.metrics import *\n",
    "from pathlib import Path\n",
    "\n",
    "from modules.dataset import *\n",
    "from modules.utils import *\n",
    "from modules.models import *\n",
    "from modules.lstm_utils import *\n",
    "\n",
    "np.random.seed(0)\n",
    "torch.manual_seed(0)"
   ]
  },
  {
   "cell_type": "code",
   "execution_count": 64,
   "id": "63424902",
   "metadata": {},
   "outputs": [],
   "source": [
    "root = Path(\"/home/sebastian/masters/data/\")\n",
    "data_root = root / \"neat_data\"\n",
    "metadata_path = data_root / \"metadata.csv\"\n",
    "processed_dir = data_root / \"processed\"\n",
    "state_file = root / \"state_files\" / \"e53-s1952148-d93703104.state\"\n",
    "out_dir = root / \"results\"\n",
    "\n",
    "model_dir = data_root / \"raw\" / \"tcrpmhc\"\n",
    "\n",
    "paths = list(model_dir.glob(\"*\"))\n",
    "join_key = [int(x.name.split(\"_\")[0]) for x in paths]\n",
    "path_df = pd.DataFrame({'#ID': join_key, 'path': paths})\n",
    "\n",
    "metadata = pd.read_csv(metadata_path)\n",
    "metadata = metadata.join(path_df.set_index(\"#ID\"), on=\"#ID\", how=\"inner\")  # filter to non-missing data\n",
    "metadata = metadata.reset_index(drop=True)\n",
    "unique_peptides = metadata[\"peptide\"].unique()"
   ]
  },
  {
   "cell_type": "code",
   "execution_count": 65,
   "id": "a17e19da",
   "metadata": {},
   "outputs": [],
   "source": [
    "validation_pep = \"KTWGQYWQV\"\n",
    "unique_peptides = np.delete(unique_peptides, np.where(unique_peptides == validation_pep))\n",
    "\n",
    "no_pos_peptides = [\"CLGGLLTMV\", \"ILKEPVHGV\"]\n",
    "for pep in no_pos_peptides:\n",
    "    unique_peptides = np.delete(unique_peptides, np.where(unique_peptides == pep))\n",
    "\n",
    "threshold = 0.1\n",
    "cv_fold = 5\n",
    "excluded = [] # [\"KLQCVDLHV\", \"KVAELVHFL\", \"YLLEMLWRL\", \"SLLMWITQV\"]"
   ]
  },
  {
   "cell_type": "code",
   "execution_count": 66,
   "id": "ea35f43b",
   "metadata": {},
   "outputs": [],
   "source": [
    "overall_LOO_results_df = pd.DataFrame(columns=[\n",
    "    \"Model\", \n",
    "    \"AUC\",\n",
    "    f\"MCC (threshold = {threshold})\",\n",
    "])\n",
    "\n",
    "individual_AUC_results_df = pd.DataFrame(columns=[\"Model\"] + list(unique_peptides))\n",
    "\n",
    "individual_MCC_results_df = pd.DataFrame(columns=[\"Model\"] + list(unique_peptides))\n",
    "\n",
    "overall_CV_results_df = pd.DataFrame(columns=[\n",
    "    \"Model\", \n",
    "    \"AUC\",\n",
    "    f\"MCC (threshold = {threshold})\",\n",
    "])"
   ]
  },
  {
   "cell_type": "code",
   "execution_count": 67,
   "id": "283d42d8",
   "metadata": {},
   "outputs": [],
   "source": [
    "def compute_auc_mcc(pred_paths, threshold):\n",
    "    overall_pred = list()\n",
    "    overall_true = list()\n",
    "    overall_thres_pred = list()\n",
    "    individual_auc = list()\n",
    "    individual_mcc = list()\n",
    "\n",
    "    for i in range(len(pred_paths)):\n",
    "        data = torch.load(pred_paths[i])\n",
    "        pred = data[\"y_pred\"]\n",
    "        true = data[\"y_true\"]\n",
    "\n",
    "        try:\n",
    "            auc = roc_auc_score(true, pred)\n",
    "            individual_auc.append(auc)\n",
    "            fpr, tpr, _ = roc_curve(true, pred)\n",
    "\n",
    "            thresh_pred = torch.zeros(len(pred))\n",
    "            thresh_pred[pred >= threshold] = 1\n",
    "            mcc = matthews_corrcoef(true, thresh_pred)\n",
    "            individual_mcc.append(mcc)\n",
    "\n",
    "            overall_pred.extend(pred)\n",
    "            overall_true.extend(true)\n",
    "            overall_thres_pred.extend(thresh_pred)\n",
    "        except ValueError:\n",
    "            print(f\"Fail for idx {i}\")\n",
    "            individual_auc.append(None)\n",
    "            individual_mcc.append(None)\n",
    "        \n",
    "    overall_auc = roc_auc_score(overall_true, overall_pred)\n",
    "    overall_fpr, overall_tpr, _ = roc_curve(true, pred, pos_label=1)\n",
    "    overall_mcc = matthews_corrcoef(overall_true, overall_thres_pred)\n",
    "    \n",
    "    return overall_auc, overall_fpr, overall_tpr, individual_auc, overall_mcc, individual_mcc\n",
    "\n",
    "def plot_roc_curve(unique_peptide, excluded, tpr, fpr, individual_auc):\n",
    "    # ROC plot\n",
    "    cm = plt.get_cmap('tab20')  # https://matplotlib.org/stable/tutorials/colors/colormaps.html\n",
    "\n",
    "    fig = plt.figure(figsize=(12, 7))\n",
    "    ax = fig.add_subplot(111)\n",
    "    ax.set_prop_cycle(color=[cm(1*i/n_splits) for i in range(n_splits)])\n",
    "    for i, pep in enumerate(unique_peptides):\n",
    "        if pep not in excluded:\n",
    "            ax.plot(\n",
    "                fpr[i], \n",
    "                tpr[i], \n",
    "                label=f\"{pep}, AUC = {round(individual_auc[i], 3)}\",\n",
    "            )\n",
    "    plt.legend()\n",
    "    plt.plot([0, 1], [0, 1], linestyle=\"--\")\n",
    "    plt.xlim([0.0, 1.0])\n",
    "    plt.ylim([0.0, 1.0])\n",
    "    plt.xlabel(\"False Positive Rate\")\n",
    "    plt.ylabel(\"True Positive Rate\")\n",
    "    plt.title(\"LOO validation ROC curve\")# (peptides with count < 40 left out for visual clarity (drop on CDR3b))\")\n",
    "    plt.show()"
   ]
  },
  {
   "cell_type": "markdown",
   "id": "e708e85a",
   "metadata": {},
   "source": [
    "### Embedding verification"
   ]
  },
  {
   "cell_type": "code",
   "execution_count": 56,
   "id": "e3453e64",
   "metadata": {},
   "outputs": [
    {
     "name": "stdout",
     "output_type": "stream",
     "text": [
      "1.0\n",
      "1.0\n",
      "1.0\n",
      "1.0\n",
      "1.0\n",
      "1.0\n"
     ]
    }
   ],
   "source": [
    "save_dir = Path(out_dir / \"lstm_embedding_verification\")\n",
    "pred_paths = [save_dir / f\"pred_{i}.pt\" for i in range(cv_fold)]\n",
    "overall_pred = list()\n",
    "overall_true = list()\n",
    "for i in range(len(pred_paths)):\n",
    "    data = torch.load(pred_paths[i], map_location=\"cpu\")\n",
    "    pred = data[\"y_pred\"]\n",
    "    true = data[\"y_true\"]\n",
    "\n",
    "    auc = roc_auc_score(true, pred , multi_class=\"ovr\", average=\"weighted\")\n",
    "    print(auc)\n",
    "    overall_pred.extend(pred)\n",
    "    overall_true.extend(true)\n",
    "overall_auc = roc_auc_score(true, pred , multi_class=\"ovr\", average=\"weighted\")\n",
    "print(overall_auc)"
   ]
  },
  {
   "cell_type": "code",
   "execution_count": 52,
   "id": "33ab0dac",
   "metadata": {},
   "outputs": [
    {
     "data": {
      "text/plain": [
       "[<matplotlib.lines.Line2D at 0x7f05f8f368b0>]"
      ]
     },
     "execution_count": 52,
     "metadata": {},
     "output_type": "execute_result"
    },
    {
     "data": {
      "image/png": "[encoded data removed]",
      "text/plain": [
       "<Figure size 432x288 with 1 Axes>"
      ]
     },
     "metadata": {
      "needs_background": "light"
     },
     "output_type": "display_data"
    }
   ],
   "source": [
    "#save_dir = Path(\"/home/sebastian/masters/data/state_files/tcr_binding/2nd_gen/lstm_nested_cv/\")\n",
    "loss_paths = [save_dir / f\"loss_{i}.pt\" for i in range(cv_fold)]\n",
    "loss = torch.load(loss_paths[0])\n",
    "plt.plot(loss[\"valid\"])\n",
    "plt.plot(loss[\"train\"])"
   ]
  },
  {
   "cell_type": "code",
   "execution_count": 62,
   "id": "5242e092",
   "metadata": {},
   "outputs": [
    {
     "data": {
      "text/plain": [
       "[0.038275364572744004,\n",
       " 0.006496630941639212,\n",
       " 0.007118084827531204,\n",
       " 0.0015915293516488552,\n",
       " 0.0010822142654118374,\n",
       " 0.0005476913199058875,\n",
       " 0.00025775531196631403,\n",
       " 0.00036438975437178423,\n",
       " 0.0004206836392232327,\n",
       " 0.0010816601966685947,\n",
       " 0.0001348290596247545,\n",
       " 9.549666597538391e-05,\n",
       " 9.368790494647888e-05,\n",
       " 6.316503052019715e-05,\n",
       " 0.00016642117575421062,\n",
       " 0.0005799276344025192,\n",
       " 5.817182183423372e-05,\n",
       " 7.473283968963152e-05,\n",
       " 5.785907618580862e-05,\n",
       " 8.123632972566654e-05,\n",
       " 0.00011006089417270009,\n",
       " 0.00010894037903929481,\n",
       " 7.505327318957428e-05,\n",
       " 8.697827858972463e-05,\n",
       " 6.215691298750903e-05,\n",
       " 7.177002612856417e-05,\n",
       " 5.487165606301589e-05,\n",
       " 5.158220059604048e-05,\n",
       " 5.885413350020009e-05,\n",
       " 6.41676532070677e-05,\n",
       " 5.000418204487166e-05,\n",
       " 6.870721597330866e-05,\n",
       " 0.0016649292731442775,\n",
       " 7.414867045755267e-05,\n",
       " 6.301586914061043e-05,\n",
       " 4.7123437407359e-05,\n",
       " 4.4262710362576464e-05,\n",
       " 5.3750781285382146e-05,\n",
       " 6.433798866177711e-05,\n",
       " 4.133874823271656e-05,\n",
       " 0.02394761474027209,\n",
       " 5.8003847104087146e-05,\n",
       " 6.781918933412098e-05,\n",
       " 7.866890956170268e-05,\n",
       " 6.499022648852589e-05,\n",
       " 6.484679622824819e-05,\n",
       " 6.381695272548531e-05,\n",
       " 8.994823472987756e-05,\n",
       " 0.02331442491033282,\n",
       " 9.41461668951764e-05,\n",
       " 0.00011937308838164686,\n",
       " 7.582406462132934e-05,\n",
       " 7.672102881428426e-05,\n",
       " 6.006727738085611e-05,\n",
       " 8.41266128927885e-05,\n",
       " 5.802919839080957e-05,\n",
       " 0.00019543774240272317,\n",
       " 0.00011453680434533788,\n",
       " 7.890320463712781e-05,\n",
       " 7.307080845974832e-05,\n",
       " 8.149077535968601e-05,\n",
       " 8.857348563331699e-05,\n",
       " 8.158242143664457e-05,\n",
       " 6.203645813658946e-05,\n",
       " 8.043761368070244e-05,\n",
       " 0.00022508418474651481,\n",
       " 5.89225637819023e-05,\n",
       " 5.56139325981449e-05,\n",
       " 9.137237482728823e-05,\n",
       " 8.050945495696083e-05,\n",
       " 8.353693626788507e-05,\n",
       " 8.992954214321343e-05,\n",
       " 8.968518125066966e-05,\n",
       " 6.066440922511443e-05,\n",
       " 7.335493285342802e-05,\n",
       " 8.871030421843234e-05,\n",
       " 6.875241409638715e-05,\n",
       " 6.815990523965958e-05,\n",
       " 7.1767938601219e-05,\n",
       " 0.0003630119246462432,\n",
       " 9.004346775930556e-05,\n",
       " 5.500966556109556e-05,\n",
       " 5.0250801062852426e-05,\n",
       " 6.386732610623413e-05,\n",
       " 7.092981873640557e-05,\n",
       " 5.3431782450939765e-05,\n",
       " 6.804210915245544e-05,\n",
       " 6.26189568877737e-05,\n",
       " 7.486128901824155e-05,\n",
       " 0.00010231967920975554,\n",
       " 5.46609132569443e-05,\n",
       " 6.824975337540091e-05,\n",
       " 6.6863681707957e-05,\n",
       " 9.616482114024938e-05,\n",
       " 8.021313772405177e-05,\n",
       " 7.107253528830298e-05,\n",
       " 0.00013264229897589017,\n",
       " 8.145265610856227e-05,\n",
       " 7.222201168238008e-05,\n",
       " 8.847917743102998e-05,\n",
       " 8.433343123089688e-05,\n",
       " 7.04004247636409e-05,\n",
       " 9.1065774455344e-05,\n",
       " 7.512661330472647e-05,\n",
       " 8.619136276052884e-05,\n",
       " 9.193033869849665e-05,\n",
       " 0.00011295567673594191,\n",
       " 6.963840452391392e-05,\n",
       " 8.112781606994065e-05,\n",
       " 9.545313448208456e-05,\n",
       " 7.026356467759558e-05,\n",
       " 7.248301607839962e-05,\n",
       " 8.784457987626385e-05,\n",
       " 7.091346726950113e-05,\n",
       " 8.563597464531362e-05,\n",
       " 8.386666930258007e-05,\n",
       " 7.90571182123722e-05,\n",
       " 7.648732253827556e-05,\n",
       " 0.00011875436810451946,\n",
       " 0.00010487385267006644,\n",
       " 0.00011477241351875489,\n",
       " 0.00010543468868869428,\n",
       " 0.00010648109075683748,\n",
       " 0.00012904235316448315,\n",
       " 8.13933061156036e-05,\n",
       " 8.981104759925215e-05,\n",
       " 8.437523754171768e-05,\n",
       " 8.797114039374633e-05,\n",
       " 8.245860779183938e-05,\n",
       " 9.374081422499245e-05,\n",
       " 6.729991798085769e-05,\n",
       " 9.182257063957626e-05,\n",
       " 9.211179231641137e-05,\n",
       " 0.00011680062434137968,\n",
       " 9.059224330703191e-05,\n",
       " 9.058097982650509e-05,\n",
       " 0.00010310623756042573,\n",
       " 9.636412018233749e-05,\n",
       " 0.00010765371266048737,\n",
       " 8.029964095518525e-05,\n",
       " 9.401796179353039e-05,\n",
       " 9.33504999776797e-05,\n",
       " 7.657838481929475e-05,\n",
       " 8.983499779724314e-05,\n",
       " 8.160895067268192e-05,\n",
       " 8.045243076472217e-05,\n",
       " 9.990011944219965e-05,\n",
       " 8.113138703088032e-05,\n",
       " 9.272015018693175e-05,\n",
       " 0.00011812999553975066]"
      ]
     },
     "execution_count": 62,
     "metadata": {},
     "output_type": "execute_result"
    }
   ],
   "source": [
    "loss[\"valid\"]"
   ]
  },
  {
   "cell_type": "markdown",
   "id": "e13dfc63",
   "metadata": {},
   "source": [
    "### LOO validation"
   ]
  },
  {
   "cell_type": "code",
   "execution_count": 9,
   "id": "22ebebfc",
   "metadata": {},
   "outputs": [
    {
     "name": "stderr",
     "output_type": "stream",
     "text": [
      "/home/sebastian/anaconda3/envs/ps/lib/python3.8/site-packages/sklearn/metrics/_classification.py:873: RuntimeWarning: invalid value encountered in double_scalars\n",
      "  mcc = cov_ytyp / np.sqrt(cov_ytyt * cov_ypyp)\n",
      "/home/sebastian/anaconda3/envs/ps/lib/python3.8/site-packages/sklearn/metrics/_classification.py:873: RuntimeWarning: invalid value encountered in double_scalars\n",
      "  mcc = cov_ytyp / np.sqrt(cov_ytyt * cov_ypyp)\n"
     ]
    }
   ],
   "source": [
    "model_title = \"Single LSTM PS\"\n",
    "\n",
    "save_dir = Path(out_dir / \"lstm_ps_single\")\n",
    "pred_paths = [save_dir / f\"pred_{i}.pt\" for i in range(len(unique_peptides))]\n",
    "overall_auc, overall_fpr, overall_tpr, individual_auc, overall_mcc, individual_mcc = compute_auc_mcc(pred_paths, threshold)\n",
    "overall_row = [model_title, overall_auc, overall_mcc]\n",
    "overall_LOO_results_df = overall_LOO_results_df.append(\n",
    "    pd.Series(overall_row, index=overall_LOO_results_df.columns), ignore_index=True\n",
    ")\n",
    "individual_AUC_results_df = individual_AUC_results_df.append(\n",
    "    pd.Series([model_title] + individual_auc, index=individual_AUC_results_df.columns), ignore_index=True\n",
    ")\n",
    "individual_MCC_results_df = individual_MCC_results_df.append(\n",
    "    pd.Series([model_title] + individual_mcc, index=individual_MCC_results_df.columns), ignore_index=True\n",
    ")"
   ]
  },
  {
   "cell_type": "code",
   "execution_count": 10,
   "id": "ae340919",
   "metadata": {},
   "outputs": [],
   "source": [
    "model_title = \"LSTM PS\"\n",
    "\n",
    "save_dir = Path(out_dir / \"lstm_ps\")\n",
    "pred_paths = [save_dir / f\"pred_{i}.pt\" for i in range(len(unique_peptides))]\n",
    "overall_auc, overall_fpr, overall_tpr, individual_auc, overall_mcc, individual_mcc = compute_auc_mcc(pred_paths, threshold)\n",
    "overall_row = [model_title, overall_auc, overall_mcc]\n",
    "overall_LOO_results_df = overall_LOO_results_df.append(\n",
    "    pd.Series(overall_row, index=overall_LOO_results_df.columns), ignore_index=True\n",
    ")\n",
    "individual_AUC_results_df = individual_AUC_results_df.append(\n",
    "    pd.Series([model_title] + individual_auc, index=individual_AUC_results_df.columns), ignore_index=True\n",
    ")\n",
    "individual_MCC_results_df = individual_MCC_results_df.append(\n",
    "    pd.Series([model_title] + individual_mcc, index=individual_MCC_results_df.columns), ignore_index=True\n",
    ")"
   ]
  },
  {
   "cell_type": "code",
   "execution_count": 11,
   "id": "7ac28f54",
   "metadata": {},
   "outputs": [],
   "source": [
    "model_title = \"LSTM PS+ESM\"\n",
    "\n",
    "save_dir = Path(out_dir / \"lstm_esm_ps\")\n",
    "pred_paths = [save_dir / f\"pred_{i}.pt\" for i in range(len(unique_peptides))]\n",
    "overall_auc, overall_fpr, overall_tpr, individual_auc, overall_mcc, individual_mcc = compute_auc_mcc(pred_paths, threshold)\n",
    "overall_row = [model_title, overall_auc, overall_mcc]\n",
    "overall_LOO_results_df = overall_LOO_results_df.append(\n",
    "    pd.Series(overall_row, index=overall_LOO_results_df.columns), ignore_index=True\n",
    ")\n",
    "individual_AUC_results_df = individual_AUC_results_df.append(\n",
    "    pd.Series([model_title] + individual_auc, index=individual_AUC_results_df.columns), ignore_index=True\n",
    ")\n",
    "individual_MCC_results_df = individual_MCC_results_df.append(\n",
    "    pd.Series([model_title] + individual_mcc, index=individual_MCC_results_df.columns), ignore_index=True\n",
    ")"
   ]
  },
  {
   "cell_type": "code",
   "execution_count": 12,
   "id": "d1a58193",
   "metadata": {},
   "outputs": [],
   "source": [
    "model_title = \"LSTM ESM\"\n",
    "\n",
    "save_dir = Path(out_dir / \"lstm_esm\")\n",
    "pred_paths = [save_dir / f\"pred_{i}.pt\" for i in range(len(unique_peptides))]\n",
    "overall_auc, overall_fpr, overall_tpr, individual_auc, overall_mcc, individual_mcc = compute_auc_mcc(pred_paths, threshold)\n",
    "overall_row = [model_title, overall_auc, overall_mcc]\n",
    "overall_LOO_results_df = overall_LOO_results_df.append(\n",
    "    pd.Series(overall_row, index=overall_LOO_results_df.columns), ignore_index=True\n",
    ")\n",
    "individual_AUC_results_df = individual_AUC_results_df.append(\n",
    "    pd.Series([model_title] + individual_auc, index=individual_AUC_results_df.columns), ignore_index=True\n",
    ")\n",
    "individual_MCC_results_df = individual_MCC_results_df.append(\n",
    "    pd.Series([model_title] + individual_mcc, index=individual_MCC_results_df.columns), ignore_index=True\n",
    ")"
   ]
  },
  {
   "cell_type": "code",
   "execution_count": 13,
   "id": "90616f16",
   "metadata": {},
   "outputs": [
    {
     "name": "stderr",
     "output_type": "stream",
     "text": [
      "/home/sebastian/anaconda3/envs/ps/lib/python3.8/site-packages/sklearn/metrics/_classification.py:873: RuntimeWarning: invalid value encountered in double_scalars\n",
      "  mcc = cov_ytyp / np.sqrt(cov_ytyt * cov_ypyp)\n"
     ]
    }
   ],
   "source": [
    "model_title = \"ProteinSolver (BC)\"\n",
    "\n",
    "save_dir = Path(out_dir / \"proteinsolver_finetune\")\n",
    "pred_paths = [save_dir / f\"pred_{i}.pt\" for i in range(len(unique_peptides))]\n",
    "overall_auc, overall_fpr, overall_tpr, individual_auc, overall_mcc, individual_mcc = compute_auc_mcc(pred_paths, threshold)\n",
    "overall_row = [model_title, overall_auc, overall_mcc]\n",
    "overall_LOO_results_df = overall_LOO_results_df.append(\n",
    "    pd.Series(overall_row, index=overall_LOO_results_df.columns), ignore_index=True\n",
    ")\n",
    "individual_AUC_results_df = individual_AUC_results_df.append(\n",
    "    pd.Series([model_title] + individual_auc, index=individual_AUC_results_df.columns), ignore_index=True\n",
    ")\n",
    "individual_MCC_results_df = individual_MCC_results_df.append(\n",
    "    pd.Series([model_title] + individual_mcc, index=individual_MCC_results_df.columns), ignore_index=True\n",
    ")"
   ]
  },
  {
   "cell_type": "code",
   "execution_count": 49,
   "id": "8d49a6ca",
   "metadata": {},
   "outputs": [
    {
     "data": {
      "text/html": [
       "<div>\n",
       "<style scoped>\n",
       "    .dataframe tbody tr th:only-of-type {\n",
       "        vertical-align: middle;\n",
       "    }\n",
       "\n",
       "    .dataframe tbody tr th {\n",
       "        vertical-align: top;\n",
       "    }\n",
       "\n",
       "    .dataframe thead th {\n",
       "        text-align: right;\n",
       "    }\n",
       "</style>\n",
       "<table border=\"1\" class=\"dataframe\">\n",
       "  <thead>\n",
       "    <tr style=\"text-align: right;\">\n",
       "      <th></th>\n",
       "      <th>Model</th>\n",
       "      <th>AUC</th>\n",
       "      <th>MCC (threshold = 0.1)</th>\n",
       "    </tr>\n",
       "  </thead>\n",
       "  <tbody>\n",
       "    <tr>\n",
       "      <th>0</th>\n",
       "      <td>LSTM ps</td>\n",
       "      <td>0.545524</td>\n",
       "      <td>-0.004330</td>\n",
       "    </tr>\n",
       "    <tr>\n",
       "      <th>1</th>\n",
       "      <td>LSTM PS+ESM</td>\n",
       "      <td>0.548577</td>\n",
       "      <td>0.039333</td>\n",
       "    </tr>\n",
       "    <tr>\n",
       "      <th>2</th>\n",
       "      <td>LSTM ESM</td>\n",
       "      <td>0.522996</td>\n",
       "      <td>0.019194</td>\n",
       "    </tr>\n",
       "    <tr>\n",
       "      <th>3</th>\n",
       "      <td>ProteinSolver (BC)</td>\n",
       "      <td>0.515638</td>\n",
       "      <td>0.011352</td>\n",
       "    </tr>\n",
       "    <tr>\n",
       "      <th>4</th>\n",
       "      <td>ProteinSolver FoldX (BC)</td>\n",
       "      <td>0.515638</td>\n",
       "      <td>0.011352</td>\n",
       "    </tr>\n",
       "    <tr>\n",
       "      <th>5</th>\n",
       "      <td>ProteinSolver FoldX (BC)</td>\n",
       "      <td>0.385719</td>\n",
       "      <td>-0.091027</td>\n",
       "    </tr>\n",
       "    <tr>\n",
       "      <th>6</th>\n",
       "      <td>ProteinSolver FoldX (BC)</td>\n",
       "      <td>0.385719</td>\n",
       "      <td>-0.091027</td>\n",
       "    </tr>\n",
       "    <tr>\n",
       "      <th>7</th>\n",
       "      <td>LSTM PS FoldX</td>\n",
       "      <td>0.498670</td>\n",
       "      <td>-0.012896</td>\n",
       "    </tr>\n",
       "  </tbody>\n",
       "</table>\n",
       "</div>"
      ],
      "text/plain": [
       "                       Model       AUC  MCC (threshold = 0.1)\n",
       "0                    LSTM ps  0.545524              -0.004330\n",
       "1                LSTM PS+ESM  0.548577               0.039333\n",
       "2                   LSTM ESM  0.522996               0.019194\n",
       "3         ProteinSolver (BC)  0.515638               0.011352\n",
       "4  ProteinSolver FoldX (BC)   0.515638               0.011352\n",
       "5   ProteinSolver FoldX (BC)  0.385719              -0.091027\n",
       "6   ProteinSolver FoldX (BC)  0.385719              -0.091027\n",
       "7              LSTM PS FoldX  0.498670              -0.012896"
      ]
     },
     "execution_count": 49,
     "metadata": {},
     "output_type": "execute_result"
    }
   ],
   "source": [
    "overall_LOO_results_df"
   ]
  },
  {
   "cell_type": "code",
   "execution_count": 14,
   "id": "036cf878",
   "metadata": {},
   "outputs": [
    {
     "name": "stdout",
     "output_type": "stream",
     "text": [
      "Fail for idx 13\n",
      "Fail for idx 14\n"
     ]
    },
    {
     "name": "stderr",
     "output_type": "stream",
     "text": [
      "/home/sebastian/anaconda3/envs/ps/lib/python3.8/site-packages/sklearn/metrics/_ranking.py:941: UndefinedMetricWarning: No negative samples in y_true, false positive value should be meaningless\n",
      "  warnings.warn(\"No negative samples in y_true, \"\n"
     ]
    }
   ],
   "source": [
    "model_title = \"LSTM PS FoldX\"\n",
    "\n",
    "save_dir = Path(out_dir / \"lstm_ps_foldx\")\n",
    "pred_paths = [save_dir / f\"pred_{i}.pt\" for i in range(len(unique_peptides))]\n",
    "overall_auc, overall_fpr, overall_tpr, individual_auc, overall_mcc, individual_mcc = compute_auc_mcc(pred_paths, threshold)\n",
    "overall_row = [model_title, overall_auc, overall_mcc]\n",
    "overall_LOO_results_df = overall_LOO_results_df.append(\n",
    "    pd.Series(overall_row, index=overall_LOO_results_df.columns), ignore_index=True\n",
    ")\n",
    "individual_AUC_results_df = individual_AUC_results_df.append(\n",
    "    pd.Series([model_title] + individual_auc, index=individual_AUC_results_df.columns), ignore_index=True\n",
    ")\n",
    "individual_MCC_results_df = individual_MCC_results_df.append(\n",
    "    pd.Series([model_title] + individual_mcc, index=individual_MCC_results_df.columns), ignore_index=True\n",
    ")"
   ]
  },
  {
   "cell_type": "code",
   "execution_count": 52,
   "id": "505a0bd8",
   "metadata": {},
   "outputs": [
    {
     "data": {
      "text/plain": [
       "[<matplotlib.lines.Line2D at 0x7f2d410c2460>]"
      ]
     },
     "execution_count": 52,
     "metadata": {},
     "output_type": "execute_result"
    },
    {
     "data": {
      "image/png": "[encoded data removed]",
      "text/plain": [
       "<Figure size 432x288 with 1 Axes>"
      ]
     },
     "metadata": {
      "needs_background": "light"
     },
     "output_type": "display_data"
    }
   ],
   "source": [
    "import matplotlib.pyplot as plt\n",
    "save_dir = Path(out_dir / \"lstm_esm_ps_foldx\")\n",
    "#pred_paths = [save_dir / f\"pred_{i}.pt\" for i in range(len(unique_peptides))]\n",
    "t = torch.load(save_dir/\"loss_8.pt\")\n",
    "plt.plot(t[\"train\"])\n",
    "plt.plot(t[\"valid\"])"
   ]
  },
  {
   "cell_type": "code",
   "execution_count": 57,
   "id": "1101b6c5",
   "metadata": {},
   "outputs": [
    {
     "data": {
      "text/plain": [
       "tensor([0., 0., 0., 0., 0., 0., 0., 0., 1., 1., 1.])"
      ]
     },
     "execution_count": 57,
     "metadata": {},
     "output_type": "execute_result"
    }
   ],
   "source": []
  },
  {
   "cell_type": "code",
   "execution_count": 63,
   "id": "f816a696",
   "metadata": {},
   "outputs": [
    {
     "name": "stdout",
     "output_type": "stream",
     "text": [
      "tensor([0., 0., 0., 0., 0., 0., 0., 0., 0., 0., 0., 0., 0., 0., 0., 0., 0., 0.,\n",
      "        0., 0., 0., 0., 0., 0., 0., 0., 0., 0., 1., 1., 1., 1., 1., 1., 1., 1.,\n",
      "        1.])\n",
      "tensor([4.9397e-03, 9.1846e-01, 1.0146e-04, 2.1329e-04, 6.2247e-05, 5.8632e-05,\n",
      "        6.7849e-04, 1.3871e-04, 5.8798e-01, 1.3590e-04, 4.0450e-05, 2.4562e-04,\n",
      "        8.0320e-05, 7.5722e-03, 5.1482e-05, 6.9943e-03, 9.0047e-04, 1.0145e-04,\n",
      "        1.2694e-04, 1.2195e-04, 9.9330e-05, 1.1898e-04, 7.1750e-05, 1.3996e-04,\n",
      "        4.4894e-04, 1.0442e-04, 7.9425e-03, 3.4895e-05, 8.0326e-01, 1.5276e-04,\n",
      "        1.2213e-04, 1.9038e-04, 1.2265e-03, 2.8116e-03, 2.3245e-04, 1.5648e-04,\n",
      "        6.9456e-03])\n"
     ]
    }
   ],
   "source": [
    "i = 6\n",
    "print(torch.load(pred_paths[i])[\"y_true\"])\n",
    "print(torch.load(pred_paths[i])[\"y_pred\"])"
   ]
  },
  {
   "cell_type": "code",
   "execution_count": 53,
   "id": "96f6274c",
   "metadata": {},
   "outputs": [
    {
     "name": "stderr",
     "output_type": "stream",
     "text": [
      "/home/sebastian/anaconda3/envs/ps/lib/python3.8/site-packages/sklearn/metrics/_classification.py:873: RuntimeWarning: invalid value encountered in double_scalars\n",
      "  mcc = cov_ytyp / np.sqrt(cov_ytyt * cov_ypyp)\n"
     ]
    },
    {
     "name": "stdout",
     "output_type": "stream",
     "text": [
      "Fail for idx 13\n",
      "Fail for idx 14\n"
     ]
    },
    {
     "name": "stderr",
     "output_type": "stream",
     "text": [
      "/home/sebastian/anaconda3/envs/ps/lib/python3.8/site-packages/sklearn/metrics/_ranking.py:941: UndefinedMetricWarning: No negative samples in y_true, false positive value should be meaningless\n",
      "  warnings.warn(\"No negative samples in y_true, \"\n"
     ]
    }
   ],
   "source": [
    "model_title = \"LSTM PS+ESM FoldX\"\n",
    "\n",
    "save_dir = Path(out_dir / \"lstm_esm_ps_foldx\")\n",
    "pred_paths = [save_dir / f\"pred_{i}.pt\" for i in range(len(unique_peptides))]\n",
    "overall_auc, overall_fpr, overall_tpr, individual_auc, overall_mcc, individual_mcc = compute_auc_mcc(pred_paths, threshold)\n",
    "overall_row = [model_title, overall_auc, overall_mcc]\n",
    "overall_LOO_results_df = overall_LOO_results_df.append(\n",
    "    pd.Series(overall_row, index=overall_LOO_results_df.columns), ignore_index=True\n",
    ")\n",
    "individual_AUC_results_df = individual_AUC_results_df.append(\n",
    "    pd.Series([model_title] + individual_auc, index=individual_AUC_results_df.columns), ignore_index=True\n",
    ")\n",
    "individual_MCC_results_df = individual_MCC_results_df.append(\n",
    "    pd.Series([model_title] + individual_mcc, index=individual_MCC_results_df.columns), ignore_index=True\n",
    ")"
   ]
  },
  {
   "cell_type": "code",
   "execution_count": 16,
   "id": "b93c1ae5",
   "metadata": {},
   "outputs": [
    {
     "name": "stdout",
     "output_type": "stream",
     "text": [
      "Fail for idx 13\n",
      "Fail for idx 14\n"
     ]
    },
    {
     "name": "stderr",
     "output_type": "stream",
     "text": [
      "/home/sebastian/anaconda3/envs/ps/lib/python3.8/site-packages/sklearn/metrics/_ranking.py:941: UndefinedMetricWarning: No negative samples in y_true, false positive value should be meaningless\n",
      "  warnings.warn(\"No negative samples in y_true, \"\n"
     ]
    }
   ],
   "source": [
    "model_title = \"ProteinSolver FoldX (BC)\"\n",
    "\n",
    "save_dir = Path(out_dir / \"proteinsolver_finetune_foldx\")\n",
    "pred_paths = [save_dir / f\"pred_{i}.pt\" for i in range(len(unique_peptides))]\n",
    "overall_auc, overall_fpr, overall_tpr, individual_auc, overall_mcc, individual_mcc = compute_auc_mcc(pred_paths, threshold)\n",
    "overall_row = [model_title, overall_auc, overall_mcc]\n",
    "overall_LOO_results_df = overall_LOO_results_df.append(\n",
    "    pd.Series(overall_row, index=overall_LOO_results_df.columns), ignore_index=True\n",
    ")\n",
    "individual_AUC_results_df = individual_AUC_results_df.append(\n",
    "    pd.Series([model_title] + individual_auc, index=individual_AUC_results_df.columns), ignore_index=True\n",
    ")\n",
    "individual_MCC_results_df = individual_MCC_results_df.append(\n",
    "    pd.Series([model_title] + individual_mcc, index=individual_MCC_results_df.columns), ignore_index=True\n",
    ")"
   ]
  },
  {
   "cell_type": "code",
   "execution_count": 17,
   "id": "62c5e4fe",
   "metadata": {},
   "outputs": [
    {
     "name": "stdout",
     "output_type": "stream",
     "text": [
      "Fail for idx 13\n",
      "Fail for idx 14\n"
     ]
    },
    {
     "name": "stderr",
     "output_type": "stream",
     "text": [
      "/home/sebastian/anaconda3/envs/ps/lib/python3.8/site-packages/sklearn/metrics/_ranking.py:941: UndefinedMetricWarning: No negative samples in y_true, false positive value should be meaningless\n",
      "  warnings.warn(\"No negative samples in y_true, \"\n"
     ]
    }
   ],
   "source": [
    "model_title = \"LSTM PS Rosetta\"\n",
    "\n",
    "save_dir = Path(out_dir / \"lstm_ps_rosetta\")\n",
    "pred_paths = [save_dir / f\"pred_{i}.pt\" for i in range(len(unique_peptides))]\n",
    "overall_auc, overall_fpr, overall_tpr, individual_auc, overall_mcc, individual_mcc = compute_auc_mcc(pred_paths, threshold)\n",
    "overall_row = [model_title, overall_auc, overall_mcc]\n",
    "overall_LOO_results_df = overall_LOO_results_df.append(\n",
    "    pd.Series(overall_row, index=overall_LOO_results_df.columns), ignore_index=True\n",
    ")\n",
    "individual_AUC_results_df = individual_AUC_results_df.append(\n",
    "    pd.Series([model_title] + individual_auc, index=individual_AUC_results_df.columns), ignore_index=True\n",
    ")\n",
    "individual_MCC_results_df = individual_MCC_results_df.append(\n",
    "    pd.Series([model_title] + individual_mcc, index=individual_MCC_results_df.columns), ignore_index=True\n",
    ")"
   ]
  },
  {
   "cell_type": "code",
   "execution_count": 18,
   "id": "be58dd24",
   "metadata": {},
   "outputs": [
    {
     "name": "stderr",
     "output_type": "stream",
     "text": [
      "/home/sebastian/anaconda3/envs/ps/lib/python3.8/site-packages/sklearn/metrics/_classification.py:873: RuntimeWarning: invalid value encountered in double_scalars\n",
      "  mcc = cov_ytyp / np.sqrt(cov_ytyt * cov_ypyp)\n"
     ]
    },
    {
     "name": "stdout",
     "output_type": "stream",
     "text": [
      "Fail for idx 13\n",
      "Fail for idx 14\n"
     ]
    },
    {
     "name": "stderr",
     "output_type": "stream",
     "text": [
      "/home/sebastian/anaconda3/envs/ps/lib/python3.8/site-packages/sklearn/metrics/_ranking.py:941: UndefinedMetricWarning: No negative samples in y_true, false positive value should be meaningless\n",
      "  warnings.warn(\"No negative samples in y_true, \"\n"
     ]
    }
   ],
   "source": [
    "model_title = \"LSTM PS+ESM Rosetta\"\n",
    "\n",
    "save_dir = Path(out_dir / \"lstm_esm_ps_rosetta\")\n",
    "pred_paths = [save_dir / f\"pred_{i}.pt\" for i in range(len(unique_peptides))]\n",
    "overall_auc, overall_fpr, overall_tpr, individual_auc, overall_mcc, individual_mcc = compute_auc_mcc(pred_paths, threshold)\n",
    "overall_row = [model_title, overall_auc, overall_mcc]\n",
    "overall_LOO_results_df = overall_LOO_results_df.append(\n",
    "    pd.Series(overall_row, index=overall_LOO_results_df.columns), ignore_index=True\n",
    ")\n",
    "individual_AUC_results_df = individual_AUC_results_df.append(\n",
    "    pd.Series([model_title] + individual_auc, index=individual_AUC_results_df.columns), ignore_index=True\n",
    ")\n",
    "individual_MCC_results_df = individual_MCC_results_df.append(\n",
    "    pd.Series([model_title] + individual_mcc, index=individual_MCC_results_df.columns), ignore_index=True\n",
    ")"
   ]
  },
  {
   "cell_type": "code",
   "execution_count": 19,
   "id": "53beee59",
   "metadata": {},
   "outputs": [
    {
     "name": "stdout",
     "output_type": "stream",
     "text": [
      "Fail for idx 13\n",
      "Fail for idx 14\n"
     ]
    },
    {
     "name": "stderr",
     "output_type": "stream",
     "text": [
      "/home/sebastian/anaconda3/envs/ps/lib/python3.8/site-packages/sklearn/metrics/_ranking.py:941: UndefinedMetricWarning: No negative samples in y_true, false positive value should be meaningless\n",
      "  warnings.warn(\"No negative samples in y_true, \"\n"
     ]
    }
   ],
   "source": [
    "model_title = \"ProteinSolver Rosetta (BC)\"\n",
    "\n",
    "save_dir = Path(out_dir / \"proteinsolver_finetune_rosetta\")\n",
    "pred_paths = [save_dir / f\"pred_{i}.pt\" for i in range(len(unique_peptides))]\n",
    "overall_auc, overall_fpr, overall_tpr, individual_auc, overall_mcc, individual_mcc = compute_auc_mcc(pred_paths, threshold)\n",
    "overall_row = [model_title, overall_auc, overall_mcc]\n",
    "overall_LOO_results_df = overall_LOO_results_df.append(\n",
    "    pd.Series(overall_row, index=overall_LOO_results_df.columns), ignore_index=True\n",
    ")\n",
    "individual_AUC_results_df = individual_AUC_results_df.append(\n",
    "    pd.Series([model_title] + individual_auc, index=individual_AUC_results_df.columns), ignore_index=True\n",
    ")\n",
    "individual_MCC_results_df = individual_MCC_results_df.append(\n",
    "    pd.Series([model_title] + individual_mcc, index=individual_MCC_results_df.columns), ignore_index=True\n",
    ")"
   ]
  },
  {
   "cell_type": "code",
   "execution_count": 68,
   "id": "412b1061",
   "metadata": {},
   "outputs": [],
   "source": [
    "model_title = \"LSTM PS CDR3+peptide\"\n",
    "\n",
    "save_dir = Path(out_dir / \"lstm_ps_cdr_pep_only\")\n",
    "pred_paths = [save_dir / f\"pred_{i}.pt\" for i in range(len(unique_peptides))]\n",
    "overall_auc, overall_fpr, overall_tpr, individual_auc, overall_mcc, individual_mcc = compute_auc_mcc(pred_paths, threshold)\n",
    "overall_row = [model_title, overall_auc, overall_mcc]\n",
    "overall_LOO_results_df = overall_LOO_results_df.append(\n",
    "    pd.Series(overall_row, index=overall_LOO_results_df.columns), ignore_index=True\n",
    ")\n",
    "individual_AUC_results_df = individual_AUC_results_df.append(\n",
    "    pd.Series([model_title] + individual_auc, index=individual_AUC_results_df.columns), ignore_index=True\n",
    ")\n",
    "individual_MCC_results_df = individual_MCC_results_df.append(\n",
    "    pd.Series([model_title] + individual_mcc, index=individual_MCC_results_df.columns), ignore_index=True\n",
    ")"
   ]
  },
  {
   "cell_type": "code",
   "execution_count": 69,
   "id": "6dc530af",
   "metadata": {},
   "outputs": [
    {
     "data": {
      "text/html": [
       "<div>\n",
       "<style scoped>\n",
       "    .dataframe tbody tr th:only-of-type {\n",
       "        vertical-align: middle;\n",
       "    }\n",
       "\n",
       "    .dataframe tbody tr th {\n",
       "        vertical-align: top;\n",
       "    }\n",
       "\n",
       "    .dataframe thead th {\n",
       "        text-align: right;\n",
       "    }\n",
       "</style>\n",
       "<table border=\"1\" class=\"dataframe\">\n",
       "  <thead>\n",
       "    <tr style=\"text-align: right;\">\n",
       "      <th></th>\n",
       "      <th>Model</th>\n",
       "      <th>AUC</th>\n",
       "      <th>MCC (threshold = 0.1)</th>\n",
       "    </tr>\n",
       "  </thead>\n",
       "  <tbody>\n",
       "    <tr>\n",
       "      <th>0</th>\n",
       "      <td>Single LSTM PS</td>\n",
       "      <td>0.459207</td>\n",
       "      <td>0.000790</td>\n",
       "    </tr>\n",
       "    <tr>\n",
       "      <th>1</th>\n",
       "      <td>LSTM PS</td>\n",
       "      <td>0.545524</td>\n",
       "      <td>-0.004330</td>\n",
       "    </tr>\n",
       "    <tr>\n",
       "      <th>2</th>\n",
       "      <td>LSTM PS+ESM</td>\n",
       "      <td>0.548577</td>\n",
       "      <td>0.039333</td>\n",
       "    </tr>\n",
       "    <tr>\n",
       "      <th>3</th>\n",
       "      <td>LSTM ESM</td>\n",
       "      <td>0.522996</td>\n",
       "      <td>0.019194</td>\n",
       "    </tr>\n",
       "    <tr>\n",
       "      <th>4</th>\n",
       "      <td>ProteinSolver (BC)</td>\n",
       "      <td>0.515638</td>\n",
       "      <td>0.011352</td>\n",
       "    </tr>\n",
       "    <tr>\n",
       "      <th>5</th>\n",
       "      <td>LSTM PS FoldX</td>\n",
       "      <td>0.498670</td>\n",
       "      <td>-0.012896</td>\n",
       "    </tr>\n",
       "    <tr>\n",
       "      <th>6</th>\n",
       "      <td>LSTM PS+ESM FoldX</td>\n",
       "      <td>0.641673</td>\n",
       "      <td>0.133461</td>\n",
       "    </tr>\n",
       "    <tr>\n",
       "      <th>7</th>\n",
       "      <td>ProteinSolver FoldX (BC)</td>\n",
       "      <td>0.484610</td>\n",
       "      <td>0.008351</td>\n",
       "    </tr>\n",
       "    <tr>\n",
       "      <th>8</th>\n",
       "      <td>LSTM PS Rosetta</td>\n",
       "      <td>0.442858</td>\n",
       "      <td>-0.044289</td>\n",
       "    </tr>\n",
       "    <tr>\n",
       "      <th>9</th>\n",
       "      <td>LSTM PS+ESM Rosetta</td>\n",
       "      <td>0.438228</td>\n",
       "      <td>-0.021109</td>\n",
       "    </tr>\n",
       "    <tr>\n",
       "      <th>10</th>\n",
       "      <td>ProteinSolver Rosetta (BC)</td>\n",
       "      <td>0.385719</td>\n",
       "      <td>-0.091027</td>\n",
       "    </tr>\n",
       "    <tr>\n",
       "      <th>11</th>\n",
       "      <td>LSTM PS+ESM FoldX</td>\n",
       "      <td>0.641673</td>\n",
       "      <td>0.133461</td>\n",
       "    </tr>\n",
       "    <tr>\n",
       "      <th>12</th>\n",
       "      <td>LSTM PS CDR3+peptide</td>\n",
       "      <td>0.526102</td>\n",
       "      <td>0.009646</td>\n",
       "    </tr>\n",
       "    <tr>\n",
       "      <th>13</th>\n",
       "      <td>LSTM PS CDR3+peptide</td>\n",
       "      <td>0.412412</td>\n",
       "      <td>-0.090499</td>\n",
       "    </tr>\n",
       "  </tbody>\n",
       "</table>\n",
       "</div>"
      ],
      "text/plain": [
       "                         Model       AUC  MCC (threshold = 0.1)\n",
       "0               Single LSTM PS  0.459207               0.000790\n",
       "1                      LSTM PS  0.545524              -0.004330\n",
       "2                  LSTM PS+ESM  0.548577               0.039333\n",
       "3                     LSTM ESM  0.522996               0.019194\n",
       "4           ProteinSolver (BC)  0.515638               0.011352\n",
       "5                LSTM PS FoldX  0.498670              -0.012896\n",
       "6            LSTM PS+ESM FoldX  0.641673               0.133461\n",
       "7     ProteinSolver FoldX (BC)  0.484610               0.008351\n",
       "8              LSTM PS Rosetta  0.442858              -0.044289\n",
       "9          LSTM PS+ESM Rosetta  0.438228              -0.021109\n",
       "10  ProteinSolver Rosetta (BC)  0.385719              -0.091027\n",
       "11           LSTM PS+ESM FoldX  0.641673               0.133461\n",
       "12        LSTM PS CDR3+peptide  0.526102               0.009646\n",
       "13        LSTM PS CDR3+peptide  0.412412              -0.090499"
      ]
     },
     "execution_count": 69,
     "metadata": {},
     "output_type": "execute_result"
    }
   ],
   "source": [
    "overall_LOO_results_df"
   ]
  },
  {
   "cell_type": "code",
   "execution_count": 70,
   "id": "a5e40cf1",
   "metadata": {},
   "outputs": [
    {
     "data": {
      "text/html": [
       "<div>\n",
       "<style scoped>\n",
       "    .dataframe tbody tr th:only-of-type {\n",
       "        vertical-align: middle;\n",
       "    }\n",
       "\n",
       "    .dataframe tbody tr th {\n",
       "        vertical-align: top;\n",
       "    }\n",
       "\n",
       "    .dataframe thead th {\n",
       "        text-align: right;\n",
       "    }\n",
       "</style>\n",
       "<table border=\"1\" class=\"dataframe\">\n",
       "  <thead>\n",
       "    <tr style=\"text-align: right;\">\n",
       "      <th></th>\n",
       "      <th>Model</th>\n",
       "      <th>NLVPMVATV</th>\n",
       "      <th>SLFNTVATL</th>\n",
       "      <th>RTLNAWVKV</th>\n",
       "      <th>KVLEYVIKV</th>\n",
       "      <th>YLLEMLWRL</th>\n",
       "      <th>IMDQVPFSV</th>\n",
       "      <th>MLDLQPETT</th>\n",
       "      <th>FLYALALLL</th>\n",
       "      <th>SLLMWITQV</th>\n",
       "      <th>LLFGYPVYV</th>\n",
       "      <th>GLCTLVAML</th>\n",
       "      <th>RMFPNAPYL</th>\n",
       "      <th>GILGFVFTL</th>\n",
       "      <th>KLQCVDLHV</th>\n",
       "      <th>KVAELVHFL</th>\n",
       "    </tr>\n",
       "  </thead>\n",
       "  <tbody>\n",
       "    <tr>\n",
       "      <th>0</th>\n",
       "      <td>Single LSTM PS</td>\n",
       "      <td>0.552579</td>\n",
       "      <td>0.367347</td>\n",
       "      <td>0.613191</td>\n",
       "      <td>0.435185</td>\n",
       "      <td>0.727273</td>\n",
       "      <td>0.375000</td>\n",
       "      <td>0.565341</td>\n",
       "      <td>0.258385</td>\n",
       "      <td>0.717647</td>\n",
       "      <td>0.508267</td>\n",
       "      <td>0.603484</td>\n",
       "      <td>0.427350</td>\n",
       "      <td>0.447142</td>\n",
       "      <td>0.5</td>\n",
       "      <td>1.0</td>\n",
       "    </tr>\n",
       "    <tr>\n",
       "      <th>1</th>\n",
       "      <td>LSTM PS</td>\n",
       "      <td>0.562955</td>\n",
       "      <td>0.359184</td>\n",
       "      <td>0.592692</td>\n",
       "      <td>0.296296</td>\n",
       "      <td>0.333333</td>\n",
       "      <td>0.453704</td>\n",
       "      <td>0.605114</td>\n",
       "      <td>0.188820</td>\n",
       "      <td>0.576471</td>\n",
       "      <td>0.484533</td>\n",
       "      <td>0.590828</td>\n",
       "      <td>0.387464</td>\n",
       "      <td>0.559132</td>\n",
       "      <td>0.75</td>\n",
       "      <td>0.0</td>\n",
       "    </tr>\n",
       "    <tr>\n",
       "      <th>2</th>\n",
       "      <td>LSTM PS+ESM</td>\n",
       "      <td>0.632959</td>\n",
       "      <td>0.306122</td>\n",
       "      <td>0.566845</td>\n",
       "      <td>0.453704</td>\n",
       "      <td>0.585859</td>\n",
       "      <td>0.590278</td>\n",
       "      <td>0.607955</td>\n",
       "      <td>0.655590</td>\n",
       "      <td>0.494118</td>\n",
       "      <td>0.438667</td>\n",
       "      <td>0.619708</td>\n",
       "      <td>0.433048</td>\n",
       "      <td>0.538507</td>\n",
       "      <td>0.25</td>\n",
       "      <td>0.0</td>\n",
       "    </tr>\n",
       "    <tr>\n",
       "      <th>3</th>\n",
       "      <td>LSTM ESM</td>\n",
       "      <td>0.606408</td>\n",
       "      <td>0.265306</td>\n",
       "      <td>0.446970</td>\n",
       "      <td>0.388889</td>\n",
       "      <td>0.515152</td>\n",
       "      <td>0.550926</td>\n",
       "      <td>0.710227</td>\n",
       "      <td>0.422671</td>\n",
       "      <td>0.588235</td>\n",
       "      <td>0.462933</td>\n",
       "      <td>0.601947</td>\n",
       "      <td>0.478632</td>\n",
       "      <td>0.539046</td>\n",
       "      <td>0.75</td>\n",
       "      <td>0.0</td>\n",
       "    </tr>\n",
       "    <tr>\n",
       "      <th>4</th>\n",
       "      <td>ProteinSolver (BC)</td>\n",
       "      <td>0.583217</td>\n",
       "      <td>0.526531</td>\n",
       "      <td>0.499554</td>\n",
       "      <td>0.601852</td>\n",
       "      <td>0.454545</td>\n",
       "      <td>0.555556</td>\n",
       "      <td>0.446023</td>\n",
       "      <td>0.349689</td>\n",
       "      <td>0.694118</td>\n",
       "      <td>0.529867</td>\n",
       "      <td>0.637425</td>\n",
       "      <td>0.509972</td>\n",
       "      <td>0.504736</td>\n",
       "      <td>0.25</td>\n",
       "      <td>0.5</td>\n",
       "    </tr>\n",
       "    <tr>\n",
       "      <th>5</th>\n",
       "      <td>LSTM PS FoldX</td>\n",
       "      <td>0.624074</td>\n",
       "      <td>0.266667</td>\n",
       "      <td>0.536341</td>\n",
       "      <td>0.564103</td>\n",
       "      <td>0.666667</td>\n",
       "      <td>0.428571</td>\n",
       "      <td>0.480159</td>\n",
       "      <td>0.569737</td>\n",
       "      <td>0.291667</td>\n",
       "      <td>0.398423</td>\n",
       "      <td>0.593248</td>\n",
       "      <td>0.308036</td>\n",
       "      <td>0.487150</td>\n",
       "      <td>None</td>\n",
       "      <td>None</td>\n",
       "    </tr>\n",
       "    <tr>\n",
       "      <th>6</th>\n",
       "      <td>LSTM PS+ESM FoldX</td>\n",
       "      <td>0.621553</td>\n",
       "      <td>0.242857</td>\n",
       "      <td>0.642857</td>\n",
       "      <td>0.217949</td>\n",
       "      <td>0.461538</td>\n",
       "      <td>0.477273</td>\n",
       "      <td>0.698413</td>\n",
       "      <td>0.302193</td>\n",
       "      <td>0.166667</td>\n",
       "      <td>0.470315</td>\n",
       "      <td>0.519010</td>\n",
       "      <td>0.343750</td>\n",
       "      <td>0.692714</td>\n",
       "      <td>None</td>\n",
       "      <td>None</td>\n",
       "    </tr>\n",
       "    <tr>\n",
       "      <th>7</th>\n",
       "      <td>ProteinSolver FoldX (BC)</td>\n",
       "      <td>0.594675</td>\n",
       "      <td>0.490476</td>\n",
       "      <td>0.617794</td>\n",
       "      <td>0.423077</td>\n",
       "      <td>0.551282</td>\n",
       "      <td>0.250000</td>\n",
       "      <td>0.440476</td>\n",
       "      <td>0.503509</td>\n",
       "      <td>0.458333</td>\n",
       "      <td>0.485158</td>\n",
       "      <td>0.664119</td>\n",
       "      <td>0.629464</td>\n",
       "      <td>0.464717</td>\n",
       "      <td>None</td>\n",
       "      <td>None</td>\n",
       "    </tr>\n",
       "    <tr>\n",
       "      <th>8</th>\n",
       "      <td>LSTM PS Rosetta</td>\n",
       "      <td>0.621838</td>\n",
       "      <td>0.423810</td>\n",
       "      <td>0.487469</td>\n",
       "      <td>0.628205</td>\n",
       "      <td>0.615385</td>\n",
       "      <td>0.425325</td>\n",
       "      <td>0.440476</td>\n",
       "      <td>0.248684</td>\n",
       "      <td>0.541667</td>\n",
       "      <td>0.496289</td>\n",
       "      <td>0.477477</td>\n",
       "      <td>0.459821</td>\n",
       "      <td>0.443263</td>\n",
       "      <td>None</td>\n",
       "      <td>None</td>\n",
       "    </tr>\n",
       "    <tr>\n",
       "      <th>9</th>\n",
       "      <td>LSTM PS+ESM Rosetta</td>\n",
       "      <td>0.578564</td>\n",
       "      <td>0.261905</td>\n",
       "      <td>0.504386</td>\n",
       "      <td>0.410256</td>\n",
       "      <td>0.820513</td>\n",
       "      <td>0.470779</td>\n",
       "      <td>0.638889</td>\n",
       "      <td>0.488596</td>\n",
       "      <td>0.458333</td>\n",
       "      <td>0.524119</td>\n",
       "      <td>0.584157</td>\n",
       "      <td>0.415179</td>\n",
       "      <td>0.367202</td>\n",
       "      <td>None</td>\n",
       "      <td>None</td>\n",
       "    </tr>\n",
       "    <tr>\n",
       "      <th>10</th>\n",
       "      <td>ProteinSolver Rosetta (BC)</td>\n",
       "      <td>0.563722</td>\n",
       "      <td>0.471429</td>\n",
       "      <td>0.476817</td>\n",
       "      <td>0.410256</td>\n",
       "      <td>0.705128</td>\n",
       "      <td>0.496753</td>\n",
       "      <td>0.476190</td>\n",
       "      <td>0.582018</td>\n",
       "      <td>0.666667</td>\n",
       "      <td>0.415584</td>\n",
       "      <td>0.579598</td>\n",
       "      <td>0.566964</td>\n",
       "      <td>0.334754</td>\n",
       "      <td>None</td>\n",
       "      <td>None</td>\n",
       "    </tr>\n",
       "    <tr>\n",
       "      <th>11</th>\n",
       "      <td>LSTM PS+ESM FoldX</td>\n",
       "      <td>0.621553</td>\n",
       "      <td>0.242857</td>\n",
       "      <td>0.642857</td>\n",
       "      <td>0.217949</td>\n",
       "      <td>0.461538</td>\n",
       "      <td>0.477273</td>\n",
       "      <td>0.698413</td>\n",
       "      <td>0.302193</td>\n",
       "      <td>0.166667</td>\n",
       "      <td>0.470315</td>\n",
       "      <td>0.519010</td>\n",
       "      <td>0.343750</td>\n",
       "      <td>0.692714</td>\n",
       "      <td>None</td>\n",
       "      <td>None</td>\n",
       "    </tr>\n",
       "    <tr>\n",
       "      <th>12</th>\n",
       "      <td>LSTM PS CDR3+peptide</td>\n",
       "      <td>0.588919</td>\n",
       "      <td>0.432653</td>\n",
       "      <td>0.606061</td>\n",
       "      <td>0.592593</td>\n",
       "      <td>0.555556</td>\n",
       "      <td>0.472222</td>\n",
       "      <td>0.647727</td>\n",
       "      <td>0.400932</td>\n",
       "      <td>0.717647</td>\n",
       "      <td>0.474133</td>\n",
       "      <td>0.591222</td>\n",
       "      <td>0.458689</td>\n",
       "      <td>0.523415</td>\n",
       "      <td>1.0</td>\n",
       "      <td>1.0</td>\n",
       "    </tr>\n",
       "    <tr>\n",
       "      <th>13</th>\n",
       "      <td>LSTM PS CDR3+peptide</td>\n",
       "      <td>0.476322</td>\n",
       "      <td>0.347692</td>\n",
       "      <td>0.466752</td>\n",
       "      <td>0.510101</td>\n",
       "      <td>0.522876</td>\n",
       "      <td>0.296296</td>\n",
       "      <td>0.455758</td>\n",
       "      <td>0.326374</td>\n",
       "      <td>0.682759</td>\n",
       "      <td>0.296589</td>\n",
       "      <td>0.467004</td>\n",
       "      <td>0.517413</td>\n",
       "      <td>0.389378</td>\n",
       "      <td>0.285714</td>\n",
       "      <td>0.666667</td>\n",
       "    </tr>\n",
       "  </tbody>\n",
       "</table>\n",
       "</div>"
      ],
      "text/plain": [
       "                         Model  NLVPMVATV  SLFNTVATL  RTLNAWVKV  KVLEYVIKV  \\\n",
       "0               Single LSTM PS   0.552579   0.367347   0.613191   0.435185   \n",
       "1                      LSTM PS   0.562955   0.359184   0.592692   0.296296   \n",
       "2                  LSTM PS+ESM   0.632959   0.306122   0.566845   0.453704   \n",
       "3                     LSTM ESM   0.606408   0.265306   0.446970   0.388889   \n",
       "4           ProteinSolver (BC)   0.583217   0.526531   0.499554   0.601852   \n",
       "5                LSTM PS FoldX   0.624074   0.266667   0.536341   0.564103   \n",
       "6            LSTM PS+ESM FoldX   0.621553   0.242857   0.642857   0.217949   \n",
       "7     ProteinSolver FoldX (BC)   0.594675   0.490476   0.617794   0.423077   \n",
       "8              LSTM PS Rosetta   0.621838   0.423810   0.487469   0.628205   \n",
       "9          LSTM PS+ESM Rosetta   0.578564   0.261905   0.504386   0.410256   \n",
       "10  ProteinSolver Rosetta (BC)   0.563722   0.471429   0.476817   0.410256   \n",
       "11           LSTM PS+ESM FoldX   0.621553   0.242857   0.642857   0.217949   \n",
       "12        LSTM PS CDR3+peptide   0.588919   0.432653   0.606061   0.592593   \n",
       "13        LSTM PS CDR3+peptide   0.476322   0.347692   0.466752   0.510101   \n",
       "\n",
       "    YLLEMLWRL  IMDQVPFSV  MLDLQPETT  FLYALALLL  SLLMWITQV  LLFGYPVYV  \\\n",
       "0    0.727273   0.375000   0.565341   0.258385   0.717647   0.508267   \n",
       "1    0.333333   0.453704   0.605114   0.188820   0.576471   0.484533   \n",
       "2    0.585859   0.590278   0.607955   0.655590   0.494118   0.438667   \n",
       "3    0.515152   0.550926   0.710227   0.422671   0.588235   0.462933   \n",
       "4    0.454545   0.555556   0.446023   0.349689   0.694118   0.529867   \n",
       "5    0.666667   0.428571   0.480159   0.569737   0.291667   0.398423   \n",
       "6    0.461538   0.477273   0.698413   0.302193   0.166667   0.470315   \n",
       "7    0.551282   0.250000   0.440476   0.503509   0.458333   0.485158   \n",
       "8    0.615385   0.425325   0.440476   0.248684   0.541667   0.496289   \n",
       "9    0.820513   0.470779   0.638889   0.488596   0.458333   0.524119   \n",
       "10   0.705128   0.496753   0.476190   0.582018   0.666667   0.415584   \n",
       "11   0.461538   0.477273   0.698413   0.302193   0.166667   0.470315   \n",
       "12   0.555556   0.472222   0.647727   0.400932   0.717647   0.474133   \n",
       "13   0.522876   0.296296   0.455758   0.326374   0.682759   0.296589   \n",
       "\n",
       "    GLCTLVAML  RMFPNAPYL  GILGFVFTL KLQCVDLHV KVAELVHFL  \n",
       "0    0.603484   0.427350   0.447142       0.5       1.0  \n",
       "1    0.590828   0.387464   0.559132      0.75       0.0  \n",
       "2    0.619708   0.433048   0.538507      0.25       0.0  \n",
       "3    0.601947   0.478632   0.539046      0.75       0.0  \n",
       "4    0.637425   0.509972   0.504736      0.25       0.5  \n",
       "5    0.593248   0.308036   0.487150      None      None  \n",
       "6    0.519010   0.343750   0.692714      None      None  \n",
       "7    0.664119   0.629464   0.464717      None      None  \n",
       "8    0.477477   0.459821   0.443263      None      None  \n",
       "9    0.584157   0.415179   0.367202      None      None  \n",
       "10   0.579598   0.566964   0.334754      None      None  \n",
       "11   0.519010   0.343750   0.692714      None      None  \n",
       "12   0.591222   0.458689   0.523415       1.0       1.0  \n",
       "13   0.467004   0.517413   0.389378  0.285714  0.666667  "
      ]
     },
     "execution_count": 70,
     "metadata": {},
     "output_type": "execute_result"
    }
   ],
   "source": [
    "individual_AUC_results_df"
   ]
  },
  {
   "cell_type": "markdown",
   "id": "c075c6c0",
   "metadata": {},
   "source": [
    "### 5 fold CV"
   ]
  },
  {
   "cell_type": "code",
   "execution_count": 69,
   "id": "116dce80",
   "metadata": {},
   "outputs": [],
   "source": [
    "model_title = \"LSTM PS\"\n",
    "\n",
    "save_dir = Path(out_dir / \"lstm_ps_80_cv/\")\n",
    "pred_paths = [save_dir / f\"pred_{i}.pt\" for i in range(cv_fold)]\n",
    "overall_auc, overall_fpr, overall_tpr, individual_auc, overall_mcc, individual_mcc = compute_auc_mcc(pred_paths, threshold)\n",
    "overall_row = [model_title, overall_auc, overall_mcc]\n",
    "overall_CV_results_df = overall_CV_results_df.append(\n",
    "    pd.Series(overall_row, index=overall_CV_results_df.columns), ignore_index=True\n",
    ")\n"
   ]
  },
  {
   "cell_type": "code",
   "execution_count": 70,
   "id": "4ed0b9f2",
   "metadata": {},
   "outputs": [
    {
     "data": {
      "text/html": [
       "<div>\n",
       "<style scoped>\n",
       "    .dataframe tbody tr th:only-of-type {\n",
       "        vertical-align: middle;\n",
       "    }\n",
       "\n",
       "    .dataframe tbody tr th {\n",
       "        vertical-align: top;\n",
       "    }\n",
       "\n",
       "    .dataframe thead th {\n",
       "        text-align: right;\n",
       "    }\n",
       "</style>\n",
       "<table border=\"1\" class=\"dataframe\">\n",
       "  <thead>\n",
       "    <tr style=\"text-align: right;\">\n",
       "      <th></th>\n",
       "      <th>Model</th>\n",
       "      <th>AUC</th>\n",
       "      <th>MCC (threshold = 0.1)</th>\n",
       "    </tr>\n",
       "  </thead>\n",
       "  <tbody>\n",
       "    <tr>\n",
       "      <th>0</th>\n",
       "      <td>LSTM PS</td>\n",
       "      <td>0.575790</td>\n",
       "      <td>0.000000</td>\n",
       "    </tr>\n",
       "    <tr>\n",
       "      <th>1</th>\n",
       "      <td>LSTM PS</td>\n",
       "      <td>0.867809</td>\n",
       "      <td>0.465782</td>\n",
       "    </tr>\n",
       "  </tbody>\n",
       "</table>\n",
       "</div>"
      ],
      "text/plain": [
       "     Model       AUC  MCC (threshold = 0.1)\n",
       "0  LSTM PS  0.575790               0.000000\n",
       "1  LSTM PS  0.867809               0.465782"
      ]
     },
     "execution_count": 70,
     "metadata": {},
     "output_type": "execute_result"
    }
   ],
   "source": [
    "overall_CV_results_df"
   ]
  },
  {
   "cell_type": "code",
   "execution_count": 18,
   "id": "52c9aac8",
   "metadata": {},
   "outputs": [
    {
     "data": {
      "text/plain": [
       "0.5426050841389187"
      ]
     },
     "execution_count": 18,
     "metadata": {},
     "output_type": "execute_result"
    }
   ],
   "source": [
    "data = torch.load(pred_paths[4])\n",
    "pred = data[\"y_pred\"]\n",
    "true = data[\"y_true\"]\n",
    "roc_auc_score(true, pred)\n",
    "\n"
   ]
  },
  {
   "cell_type": "code",
   "execution_count": 26,
   "id": "1896dc5c",
   "metadata": {},
   "outputs": [
    {
     "data": {
      "text/plain": [
       "[<matplotlib.lines.Line2D at 0x7f05f8116ee0>]"
      ]
     },
     "execution_count": 26,
     "metadata": {},
     "output_type": "execute_result"
    },
    {
     "data": {
      "image/png": "[encoded data removed]",
      "text/plain": [
       "<Figure size 432x288 with 1 Axes>"
      ]
     },
     "metadata": {
      "needs_background": "light"
     },
     "output_type": "display_data"
    }
   ],
   "source": [
    "save_dir = Path(\"/home/sebastian/masters/data/state_files/tcr_binding/2nd_gen/lstm_nested_cv/\")\n",
    "loss_paths = [save_dir / f\"loss_{i}.pt\" for i in range(cv_fold)]\n",
    "loss = torch.load(loss_paths[0])\n",
    "plt.plot(loss[\"valid\"])\n",
    "plt.plot(loss[\"train\"])"
   ]
  },
  {
   "cell_type": "code",
   "execution_count": 27,
   "id": "6d7ff158",
   "metadata": {},
   "outputs": [
    {
     "data": {
      "text/plain": [
       "{'train': [0.2599909547465287,\n",
       "  0.0587380253207669,\n",
       "  0.02636778531293613,\n",
       "  0.014318950354137603,\n",
       "  0.009148004564599879,\n",
       "  0.005773522714947581,\n",
       "  0.004648978285081731,\n",
       "  0.0035717326372119427,\n",
       "  0.002899539516304275,\n",
       "  0.0024271780132360567,\n",
       "  0.0023026488964865612,\n",
       "  0.0019673858301115722,\n",
       "  0.0018986245129995309,\n",
       "  0.0016928086376591476,\n",
       "  0.0016307452094456404],\n",
       " 'valid': [0.1261919606899313,\n",
       "  0.05510136378956411,\n",
       "  0.03330035214928691,\n",
       "  0.022833650346786038,\n",
       "  0.010042277259772699,\n",
       "  0.011441605346715055,\n",
       "  0.009012943187068837,\n",
       "  0.007716186174351891,\n",
       "  0.008234350842137835,\n",
       "  0.006305635037885319,\n",
       "  0.006714706292733157,\n",
       "  0.004279460249973436,\n",
       "  0.003039304290010192,\n",
       "  0.004289030305182107,\n",
       "  0.0020906578920492427]}"
      ]
     },
     "execution_count": 27,
     "metadata": {},
     "output_type": "execute_result"
    }
   ],
   "source": [
    "loss"
   ]
  },
  {
   "cell_type": "code",
   "execution_count": 11,
   "id": "53441faa",
   "metadata": {},
   "outputs": [
    {
     "data": {
      "text/plain": [
       "tensor([0.0019, 0.0019, 0.0025,  ..., 0.0022, 0.0015, 0.0020])"
      ]
     },
     "execution_count": 11,
     "metadata": {},
     "output_type": "execute_result"
    }
   ],
   "source": [
    "pred"
   ]
  },
  {
   "cell_type": "code",
   "execution_count": 26,
   "id": "c45a386c",
   "metadata": {},
   "outputs": [
    {
     "data": {
      "text/plain": [
       "tensor([0., 0., 0.,  ..., 1., 0., 1.])"
      ]
     },
     "execution_count": 26,
     "metadata": {},
     "output_type": "execute_result"
    }
   ],
   "source": [
    "true"
   ]
  },
  {
   "cell_type": "code",
   "execution_count": null,
   "id": "e330413e",
   "metadata": {},
   "outputs": [],
   "source": []
  }
 ],
 "metadata": {
  "kernelspec": {
   "display_name": "Python 3 (ipykernel)",
   "language": "python",
   "name": "python3"
  },
  "language_info": {
   "codemirror_mode": {
    "name": "ipython",
    "version": 3
   },
   "file_extension": ".py",
   "mimetype": "text/x-python",
   "name": "python",
   "nbconvert_exporter": "python",
   "pygments_lexer": "ipython3",
   "version": "3.8.0"
  }
 },
 "nbformat": 4,
 "nbformat_minor": 5
}

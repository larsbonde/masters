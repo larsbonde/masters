{
 "cells": [
  {
   "cell_type": "code",
   "execution_count": null,
   "id": "9ee71536",
   "metadata": {},
   "outputs": [],
   "source": [
    "%reload_ext autoreload\n",
    "%autoreload 2\n",
    "\n",
    "import os\n",
    "import torch\n",
    "import torch_geometric\n",
    "import Bio.PDB as PDB\n",
    "import kmbio  # fork of biopython PDB with some changes in how the structure, chain, etc. classes are defined.\n",
    "import numpy as np\n",
    "import proteinsolver\n",
    "\n",
    "from proteinsolver.models.model import *\n",
    "from proteinsolver.datasets import *\n",
    "\n",
    "# custom stuff\n",
    "#import proteinsolver_utils\n",
    "#import proteinsolver_datasets\n",
    "np.random.seed(1)"
   ]
  },
  {
   "cell_type": "code",
   "execution_count": null,
   "id": "1f17a38c",
   "metadata": {},
   "outputs": [],
   "source": [
    "#from_dir = \"/home/sebastian/masters/data/210916_TCRpMHCmodels/models/\"\n",
    "#to_dir = \"/home/sebastian/masters/data/neat_data/tcrpmhc/\"\n",
    "#model_suffix = \"model_TCR-pMHC.pdb\"\n",
    "#for subdir in os.listdir(from_dir):\n",
    "#    subdir_id = subdir.split(\"_\")[0]\n",
    "#    new_name = f\"tcrpmhc_{subdir_id}.pdb\"\n",
    "#    os.system(f\"mv {from_dir}/{subdir}/{model_suffix} {to_dir}/{new_name}\")\n",
    "#    \n",
    "#from_dir = \"/home/sebastian/masters/data/embedding_verification/raw_filtered_models\"\n",
    "#to_dir = \"/home/sebastian/masters/data/neat_data/pmhc/\"\n",
    "#model_suffix = \"model_pMHC.pdb\"\n",
    "#for subdir in os.listdir(from_dir):\n",
    "#    subdir_id = subdir.split(\"_\")[0]\n",
    "#    new_name = f\"pmhc_{subdir_id}.pdb\"\n",
    "#    os.system(f\"mv {from_dir}/{subdir}/{model_suffix} {to_dir}/{new_name}\")\n",
    "#    \n",
    "#from_dir = \"/home/sebastian/masters/data/embedding_verification/raw_filtered_models\"\n",
    "#to_dir = \"/home/sebastian/masters/data/neat_data/p/\"\n",
    "#model_suffix = \"model_p.pdb\"\n",
    "#for subdir in os.listdir(from_dir):\n",
    "#    subdir_id = subdir.split(\"_\")[0]\n",
    "#    new_name = f\"p_{subdir_id}.pdb\"\n",
    "#    os.system(f\"mv {from_dir}/{subdir}/{model_suffix} {to_dir}/{new_name}\")"
   ]
  },
  {
   "cell_type": "code",
   "execution_count": null,
   "id": "60fc67c2",
   "metadata": {},
   "outputs": [],
   "source": [
    "UNIQUE_ID = \"191f05de\"\n",
    "BEST_STATE_FILES = {\n",
    "    #\n",
    "    \"191f05de\": \"/home/sebastian/proteinsolver/data/e53-s1952148-d93703104.state\"\n",
    "}\n",
    "state_file = BEST_STATE_FILES[UNIQUE_ID]\n",
    "\n",
    "\n",
    "#test_file = \"/home/sebastian/proteinsolver/notebooks/protein_demo/inputs/1n5uA03.pdb\"\n",
    "#test_id = \"1n5uA03.pdb\"\n",
    "\n",
    "test_file = \"/home/sebastian/masters/data/test/3hfm.pdb\"\n",
    "test_id = \"3hfm\"\n",
    "\n",
    "def load_model_paths(data_dir, model=\"model_TCR-pMHC.pdb\"):\n",
    "    model_list = list()\n",
    "    for subdir in os.listdir(data_dir):\n",
    "        path = f\"{data_dir}/{subdir}/{model}\"\n",
    "        model_list.append(path)\n",
    "    return np.array(model_list)\n",
    "\n",
    "infiles = load_model_paths(\"/home/sebastian/masters/data/210916_TCRpMHCmodels/models/\")"
   ]
  },
  {
   "cell_type": "code",
   "execution_count": null,
   "id": "2eb016cc",
   "metadata": {},
   "outputs": [],
   "source": [
    "structure_all = kmbio.PDB.load(infiles[0])\n",
    "structure_all = merge_chains(structure_all)\n",
    "structure = kmbio.PDB.Structure(test_id, structure_all[0].extract('A'))\n",
    "\n",
    "pdata = proteinsolver.utils.extract_seq_and_adj(structure, 'A', remove_hetatms=True)\n",
    "data = proteinsolver.datasets.row_to_data(pdata)\n",
    "data = proteinsolver.datasets.transform_edge_attr(data)\n",
    "data.to(device)"
   ]
  },
  {
   "cell_type": "code",
   "execution_count": 5,
   "id": "04fe7c92",
   "metadata": {},
   "outputs": [],
   "source": [
    "import torch.nn.functional as F"
   ]
  },
  {
   "cell_type": "code",
   "execution_count": 6,
   "id": "20d267c4",
   "metadata": {},
   "outputs": [
    {
     "ename": "TypeError",
     "evalue": "softmax() missing 1 required positional argument: 'input'",
     "output_type": "error",
     "traceback": [
      "\u001b[0;31m---------------------------------------------------------------------------\u001b[0m",
      "\u001b[0;31mTypeError\u001b[0m                                 Traceback (most recent call last)",
      "\u001b[0;32m<ipython-input-6-52a5e47581cc>\u001b[0m in \u001b[0;36m<module>\u001b[0;34m\u001b[0m\n\u001b[0;32m----> 1\u001b[0;31m \u001b[0mF\u001b[0m\u001b[0;34m.\u001b[0m\u001b[0msoftmax\u001b[0m\u001b[0;34m(\u001b[0m\u001b[0;34m)\u001b[0m\u001b[0;34m\u001b[0m\u001b[0;34m\u001b[0m\u001b[0m\n\u001b[0m",
      "\u001b[0;31mTypeError\u001b[0m: softmax() missing 1 required positional argument: 'input'"
     ]
    }
   ],
   "source": [
    "F.softmax()"
   ]
  },
  {
   "cell_type": "code",
   "execution_count": null,
   "id": "09eb50af",
   "metadata": {},
   "outputs": [],
   "source": [
    "#train_loader = iter(torch_geometric.data.DataLoader(d_train, batch_size=batch_size))\n",
    "#valid_loader = iter(torch_geometric.data.DataLoader(d_valid, batch_size=batch_size))\n",
    "#d = next(train_loader)\n",
    "#x = torch.ones_like(d.x)*d.x.max().item()\n",
    "#out = gnn(x, d.edge_index, d.edge_attr)\n",
    "#\n",
    "#net.eval()\n",
    "#with torch.no_grad():\n",
    "#    y = net(out.T.unsqueeze(0))\n",
    "#    y = F.softmax(y, dim=0)\n"
   ]
  },
  {
   "cell_type": "code",
   "execution_count": null,
   "id": "31befdf4",
   "metadata": {},
   "outputs": [],
   "source": [
    "def gnn_to_fnn(data, hidden_size, gnn_instance):\n",
    "        data = data.to(device)\n",
    "        y = data.y.to(device)\n",
    "        with torch.no_grad():\n",
    "            out = gnn_instance(data.x, data.edge_index, data.edge_attr)\n",
    "        \n",
    "        batches = torch.unique(data.batch)\n",
    "        sliced_outs = list()\n",
    "        pool = nn.AdaptiveAvgPool1d(output_size=hidden_size)\n",
    "        for batch_idx in batches:\n",
    "            batch_slice = torch.nonzero(data.batch == batch_idx)\n",
    "            chain_map = data.chain_map[batch_idx]\n",
    "            out_sliced = out[batch_slice]\n",
    "            out_sliced = out_sliced[chain_map == \"P\"]  # get peptide only\n",
    "            out_sliced = pool(out_sliced.T)\n",
    "            sliced_outs.append(out_sliced)\n",
    "        batched_out = torch.cat(sliced_outs, dim=1)\n",
    "        return out, y"
   ]
  }
 ],
 "metadata": {
  "kernelspec": {
   "display_name": "Python 3 (ipykernel)",
   "language": "python",
   "name": "python3"
  },
  "language_info": {
   "codemirror_mode": {
    "name": "ipython",
    "version": 3
   },
   "file_extension": ".py",
   "mimetype": "text/x-python",
   "name": "python",
   "nbconvert_exporter": "python",
   "pygments_lexer": "ipython3",
   "version": "3.8.0"
  }
 },
 "nbformat": 4,
 "nbformat_minor": 5
}

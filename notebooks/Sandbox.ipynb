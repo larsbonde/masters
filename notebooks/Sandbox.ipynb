{
 "cells": [
  {
   "cell_type": "code",
   "execution_count": 23,
   "id": "9ee71536",
   "metadata": {},
   "outputs": [],
   "source": [
    "%reload_ext autoreload\n",
    "%autoreload 2\n",
    "\n",
    "import sys\n",
    "sys.path.append('/home/sebastian/masters/') # add my repo to python path\n",
    "import os\n",
    "import torch\n",
    "import torch_geometric\n",
    "import Bio.PDB as PDB\n",
    "import kmbio  # fork of biopython PDB with some changes in how the structure, chain, etc. classes are defined.\n",
    "import numpy as np\n",
    "import proteinsolver\n",
    "import pandas as pd\n",
    "\n",
    "import modules\n",
    "\n",
    "from modules.dataset_utils import *\n",
    "from modules.dataset import *\n",
    "from modules.utils import *\n",
    "from modules.models import *\n",
    "from modules.lstm_utils import *\n",
    "\n",
    "from pathlib import Path\n",
    "# custom stuff\n",
    "#import proteinsolver_utils\n",
    "#import proteinsolver_datasets\n",
    "np.random.seed(0)\n",
    "\n",
    "import matplotlib.pyplot as plt"
   ]
  },
  {
   "cell_type": "code",
   "execution_count": 24,
   "id": "ac9e84fc",
   "metadata": {},
   "outputs": [],
   "source": [
    "root = Path(\"/home/sebastian/masters/data/\")\n",
    "data_root = root / \"neat_data\"\n",
    "metadata_path = data_root / \"metadata.csv\"\n",
    "processed_dir = data_root / \"processed\"\n",
    "state_file = root / \"state_files\" / \"e53-s1952148-d93703104.state\"\n",
    "out_dir = root / \"results_2\"\n",
    "\n",
    "model_dir = data_root / \"raw\" / \"tcrpmhc\"\n",
    "\n",
    "paths = list(model_dir.glob(\"*\"))\n",
    "join_key = [int(x.name.split(\"_\")[0]) for x in paths]\n",
    "path_df = pd.DataFrame({'#ID': join_key, 'path': paths})\n",
    "\n",
    "metadata = pd.read_csv(metadata_path)\n",
    "metadata = metadata.join(path_df.set_index(\"#ID\"), on=\"#ID\", how=\"inner\")  # filter to non-missing data\n",
    "metadata = metadata.reset_index(drop=True)\n",
    "unique_peptides = metadata[\"peptide\"].unique()"
   ]
  },
  {
   "cell_type": "code",
   "execution_count": 63,
   "id": "e1e16cab",
   "metadata": {},
   "outputs": [],
   "source": [
    "model_dir = Path(\"/home/sebastian/masters/data/test\")\n",
    "\n",
    "mock_raw_dir = data_root / \"raw\" / \"energy_terms_mock\"\n",
    "mock_raw_dir.mkdir(mode=0o775, parents=True, exist_ok=True)\n",
    "\n",
    "new_dir = processed_dir / \"energy_terms_pos\"\n",
    "new_dir.mkdir(mode=0o775, parents=True, exist_ok=True)\n",
    "\n",
    "paths = list(model_dir.glob(\"*\"))\n",
    "\n",
    "for path in paths:\n",
    "    raw_idx = int(path.name.split(\"_\")[0])\n",
    "    mock_raw_path = mock_raw_dir / f\"{raw_idx}_tcrpmhc.pdb\"\n",
    "    mock_raw_path.touch(mode=0o664)\n",
    "    \n",
    "join_key = [int(x.name.split(\"_\")[0]) for x in paths]\n",
    "path_df = pd.DataFrame({'#ID': join_key, 'path': paths})\n",
    "metadata = pd.read_csv(metadata_path)\n",
    "metadata = metadata.join(path_df.set_index(\"#ID\"), on=\"#ID\", how=\"inner\")  # filter to non-missing data\n",
    "metadata = metadata.reset_index(drop=True)\n",
    "\n",
    "\n",
    "mhc_idx = 20\n",
    "pep_idx = 21\n",
    "tcra_idx = 22\n",
    "tcrb_idx = 23\n",
    "time_idx = [92, 116, 140]\n",
    "#pos_key to use [\"P\", \"M\", \"A\", \"B\"]\n",
    "targets = list()\n",
    "for i, path, target in zip(list(metadata.index), metadata[\"path\"], metadata[\"binder\"]):\n",
    "    x = np.load(path)\n",
    "    \n",
    "    new_pos = np.array([\n",
    "        x[:,pep_idx],\n",
    "        x[:,mhc_idx],\n",
    "        x[:,tcra_idx],\n",
    "        x[:,tcrb_idx],\n",
    "    ]).T\n",
    "    new_pos = torch.from_numpy(new_pos)\n",
    "    \n",
    "    new_x = np.delete(x, [mhc_idx, pep_idx, tcra_idx, tcrb_idx] + time_idx, axis=1)\n",
    "    new_x = torch.from_numpy(new_x).float()\n",
    "    new_x = torch.hstack((new_x, new_pos))\n",
    "    torch.save(new_x, new_dir / f\"data_{i}.pt\")\n",
    "    \n",
    "    targets.append([data.y])\n",
    "\n",
    "torch.save(targets, new_dir / f\"targets.pt\")"
   ]
  },
  {
   "cell_type": "code",
   "execution_count": 60,
   "id": "538103fe",
   "metadata": {},
   "outputs": [
    {
     "data": {
      "text/plain": [
       "torch.Size([401, 139])"
      ]
     },
     "execution_count": 60,
     "metadata": {},
     "output_type": "execute_result"
    }
   ],
   "source": [
    "new_x.shape"
   ]
  },
  {
   "cell_type": "code",
   "execution_count": 61,
   "id": "4f242136",
   "metadata": {},
   "outputs": [
    {
     "data": {
      "text/plain": [
       "tensor([[0., 0., 0.,  ..., 1., 0., 0.],\n",
       "        [0., 0., 0.,  ..., 1., 0., 0.],\n",
       "        [0., 0., 0.,  ..., 1., 0., 0.],\n",
       "        ...,\n",
       "        [0., 0., 0.,  ..., 0., 0., 1.],\n",
       "        [0., 0., 0.,  ..., 0., 0., 1.],\n",
       "        [0., 0., 0.,  ..., 0., 0., 1.]], dtype=torch.float64)"
      ]
     },
     "execution_count": 61,
     "metadata": {},
     "output_type": "execute_result"
    }
   ],
   "source": [
    "new_x"
   ]
  },
  {
   "cell_type": "code",
   "execution_count": 37,
   "id": "65c3c7dd",
   "metadata": {},
   "outputs": [
    {
     "data": {
      "text/plain": [
       "23"
      ]
     },
     "execution_count": 37,
     "metadata": {},
     "output_type": "execute_result"
    }
   ],
   "source": [
    "columns.index(\"TCRB\")"
   ]
  },
  {
   "cell_type": "code",
   "execution_count": 43,
   "id": "3e2a8a54",
   "metadata": {},
   "outputs": [
    {
     "data": {
      "text/plain": [
       "array([0., 0., 0., 0., 0., 0., 0., 0., 0., 0., 0., 0., 0., 0., 0., 0., 0.,\n",
       "       0., 0., 0., 0., 0., 0., 0., 0., 0., 0., 0., 0., 0., 0., 0., 0., 0.,\n",
       "       0., 0., 0., 0., 0., 0., 0., 0., 0., 0., 0., 0., 0., 0., 0., 0., 0.,\n",
       "       0., 0., 0., 0., 0., 0., 0., 0., 0., 0., 0., 0., 0., 0., 0., 0., 0.,\n",
       "       0., 0., 0., 0., 0., 0., 0., 0., 0., 0., 0., 0., 0., 0., 0., 0., 0.,\n",
       "       0., 0., 0., 0., 0., 0., 0., 0., 0., 0., 0., 0., 0., 0., 0., 0., 0.,\n",
       "       0., 0., 0., 0., 0., 0., 0., 0., 0., 0., 0., 0., 0., 0., 0., 0., 0.,\n",
       "       0., 0., 0., 0., 0., 0., 0., 0., 0., 0., 0., 0., 0., 0., 0., 0., 0.,\n",
       "       0., 0., 0., 0., 0., 0., 0., 0., 0., 0., 0., 0., 0., 0., 0., 0., 0.,\n",
       "       0., 0., 0., 0., 0., 0., 0., 0., 0., 0., 0., 0., 0., 0., 0., 0., 0.,\n",
       "       0., 0., 0., 0., 0., 0., 0., 0., 0., 0., 0., 0., 0., 0., 0., 0., 0.,\n",
       "       0., 0., 0., 0., 0., 0., 0., 0., 0., 0., 0., 0., 0., 0., 0., 0., 0.,\n",
       "       0., 0., 0., 0., 0., 0., 0., 0., 0., 0., 0., 0., 0., 0., 0., 0., 0.,\n",
       "       0., 0., 0., 0., 0., 0., 0., 0., 0., 0., 0., 0., 0., 0., 0., 0., 0.,\n",
       "       0., 0., 0., 0., 0., 0., 0., 0., 0., 0., 0., 0., 0., 0., 0., 0., 0.,\n",
       "       0., 0., 0., 0., 0., 0., 0., 0., 0., 0., 0., 0., 0., 0., 0., 0., 0.,\n",
       "       0., 0., 0., 0., 0., 0., 0., 0., 0., 0., 0., 0., 0., 0., 0., 0., 0.,\n",
       "       0., 0., 0., 0., 0., 0., 0., 1., 1., 1., 1., 1., 1., 1., 1., 1., 1.,\n",
       "       1., 1., 1., 1., 1., 1., 1., 1., 1., 1., 1., 1., 1., 1., 1., 1., 1.,\n",
       "       1., 1., 1., 1., 1., 1., 1., 1., 1., 1., 1., 1., 1., 1., 1., 1., 1.,\n",
       "       1., 1., 1., 1., 1., 1., 1., 1., 1., 1., 1., 1., 1., 1., 1., 1., 1.,\n",
       "       1., 1., 1., 1., 1., 1., 1., 1., 1., 1., 1., 1., 1., 1., 1., 1., 1.,\n",
       "       1., 1., 1., 1., 1., 1., 1., 1., 1., 1., 1., 1., 1., 1., 1., 1., 1.,\n",
       "       1., 1., 1., 1., 1., 1., 1., 1., 1., 1.])"
      ]
     },
     "execution_count": 43,
     "metadata": {},
     "output_type": "execute_result"
    }
   ],
   "source": [
    "x[:,23]"
   ]
  },
  {
   "cell_type": "code",
   "execution_count": 31,
   "id": "dec25c74",
   "metadata": {},
   "outputs": [],
   "source": [
    "columns = ['A', 'C', 'D', 'E', 'F', 'G', 'H', 'I', 'K', 'L', 'M', 'N', 'P', 'Q', 'R', 'S', 'T', 'V', 'W', 'Y', 'MHC', 'peptide', 'TCRA', 'TCRB', 'per_res_complex_fa_atr', 'per_res_complex_fa_rep', 'per_res_complex_fa_sol', 'per_res_complex_fa_intra_rep', 'per_res_complex_fa_intra_sol_xover4', 'per_res_complex_lk_ball_wtd', 'per_res_complex_fa_elec', 'per_res_complex_pro_close', 'per_res_complex_hbond_sr_bb', 'per_res_complex_hbond_lr_bb', 'per_res_complex_hbond_bb_sc', 'per_res_complex_hbond_sc', 'per_res_complex_dslf_fa13', 'per_res_complex_omega', 'per_res_complex_fa_dun', 'per_res_complex_p_aa_pp', 'per_res_complex_yhh_planarity', 'per_res_complex_ref', 'per_res_complex_rama_prepro', 'per_res_complex_score', 'per_res_separate_fa_atr', 'per_res_separate_fa_rep', 'per_res_separate_fa_sol', 'per_res_separate_fa_intra_rep', 'per_res_separate_fa_intra_sol_xover4', 'per_res_separate_lk_ball_wtd', 'per_res_separate_fa_elec', 'per_res_separate_pro_close', 'per_res_separate_hbond_sr_bb', 'per_res_separate_hbond_lr_bb', 'per_res_separate_hbond_bb_sc', 'per_res_separate_hbond_sc', 'per_res_separate_dslf_fa13', 'per_res_separate_omega', 'per_res_separate_fa_dun', 'per_res_separate_p_aa_pp', 'per_res_separate_yhh_planarity', 'per_res_separate_ref', 'per_res_separate_rama_prepro', 'per_res_separate_score', 'foldx_MP', 'foldx_MA', 'foldx_MB', 'foldx_PA', 'foldx_PB', 'foldx_AB', 'total_complex_total_score', 'total_complex_score', 'total_complex_dslf_fa13', 'total_complex_fa_atr', 'total_complex_fa_dun', 'total_complex_fa_elec', 'total_complex_fa_intra_rep', 'total_complex_fa_intra_sol_xover4', 'total_complex_fa_rep', 'total_complex_fa_sol', 'total_complex_hbond_bb_sc', 'total_complex_hbond_lr_bb', 'total_complex_hbond_sc', 'total_complex_hbond_sr_bb', 'total_complex_linear_chainbreak', 'total_complex_lk_ball_wtd', 'total_complex_omega', 'total_complex_overlap_chainbreak', 'total_complex_p_aa_pp', 'total_complex_pro_close', 'total_complex_rama_prepro', 'total_complex_ref', 'total_complex_time', 'total_complex_yhh_planarity', 'total_tcr_total_score', 'total_tcr_score', 'total_tcr_dslf_fa13', 'total_tcr_fa_atr', 'total_tcr_fa_dun', 'total_tcr_fa_elec', 'total_tcr_fa_intra_rep', 'total_tcr_fa_intra_sol_xover4', 'total_tcr_fa_rep', 'total_tcr_fa_sol', 'total_tcr_hbond_bb_sc', 'total_tcr_hbond_lr_bb', 'total_tcr_hbond_sc', 'total_tcr_hbond_sr_bb', 'total_tcr_linear_chainbreak', 'total_tcr_lk_ball_wtd', 'total_tcr_omega', 'total_tcr_overlap_chainbreak', 'total_tcr_p_aa_pp', 'total_tcr_pro_close', 'total_tcr_rama_prepro', 'total_tcr_ref', 'total_tcr_time', 'total_tcr_yhh_planarity', 'total_pmhc_total_score', 'total_pmhc_score', 'total_pmhc_dslf_fa13', 'total_pmhc_fa_atr', 'total_pmhc_fa_dun', 'total_pmhc_fa_elec', 'total_pmhc_fa_intra_rep', 'total_pmhc_fa_intra_sol_xover4', 'total_pmhc_fa_rep', 'total_pmhc_fa_sol', 'total_pmhc_hbond_bb_sc', 'total_pmhc_hbond_lr_bb', 'total_pmhc_hbond_sc', 'total_pmhc_hbond_sr_bb', 'total_pmhc_linear_chainbreak', 'total_pmhc_lk_ball_wtd', 'total_pmhc_omega', 'total_pmhc_overlap_chainbreak', 'total_pmhc_p_aa_pp', 'total_pmhc_pro_close', 'total_pmhc_rama_prepro', 'total_pmhc_ref', 'total_pmhc_time', 'total_pmhc_yhh_planarity']"
   ]
  },
  {
   "cell_type": "code",
   "execution_count": 32,
   "id": "56b5ff7f",
   "metadata": {},
   "outputs": [
    {
     "data": {
      "text/plain": [
       "142"
      ]
     },
     "execution_count": 32,
     "metadata": {},
     "output_type": "execute_result"
    }
   ],
   "source": [
    "len(columns)"
   ]
  },
  {
   "cell_type": "code",
   "execution_count": 27,
   "id": "37ff8b9e",
   "metadata": {},
   "outputs": [
    {
     "data": {
      "text/html": [
       "<div>\n",
       "<style scoped>\n",
       "    .dataframe tbody tr th:only-of-type {\n",
       "        vertical-align: middle;\n",
       "    }\n",
       "\n",
       "    .dataframe tbody tr th {\n",
       "        vertical-align: top;\n",
       "    }\n",
       "\n",
       "    .dataframe thead th {\n",
       "        text-align: right;\n",
       "    }\n",
       "</style>\n",
       "<table border=\"1\" class=\"dataframe\">\n",
       "  <thead>\n",
       "    <tr style=\"text-align: right;\">\n",
       "      <th></th>\n",
       "      <th>#ID</th>\n",
       "      <th>CDR3a</th>\n",
       "      <th>CDR3b</th>\n",
       "      <th>peptide</th>\n",
       "      <th>partition</th>\n",
       "      <th>binder</th>\n",
       "      <th>v_gene_alpha</th>\n",
       "      <th>j_gene_alpha</th>\n",
       "      <th>v_gene_beta</th>\n",
       "      <th>j_gene_beta</th>\n",
       "      <th>origin</th>\n",
       "      <th>v_alpha_vdjdb_name</th>\n",
       "      <th>j_alpha_vdjdb_name</th>\n",
       "      <th>v_beta_vdjdb_name</th>\n",
       "      <th>j_beta_vdjdb_name</th>\n",
       "      <th>path</th>\n",
       "    </tr>\n",
       "  </thead>\n",
       "  <tbody>\n",
       "    <tr>\n",
       "      <th>0</th>\n",
       "      <td>9990</td>\n",
       "      <td>AVNAGGGSQGNLI</td>\n",
       "      <td>ASSSRSSYEQY</td>\n",
       "      <td>GLCTLVAML</td>\n",
       "      <td>2</td>\n",
       "      <td>0</td>\n",
       "      <td>TRAV8-1*01</td>\n",
       "      <td>TRAJ42*01</td>\n",
       "      <td>TRBV19*01</td>\n",
       "      <td>TRBJ2-7*01</td>\n",
       "      <td>swapped</td>\n",
       "      <td>TRAV8-1*01</td>\n",
       "      <td>TRAJ42*01</td>\n",
       "      <td>TRBV19*01</td>\n",
       "      <td>TRBJ2-7*01</td>\n",
       "      <td>/home/sebastian/masters/data/test/9990_2p_neg_...</td>\n",
       "    </tr>\n",
       "    <tr>\n",
       "      <th>1</th>\n",
       "      <td>9991</td>\n",
       "      <td>AAGGSQGNLI</td>\n",
       "      <td>SANRPGTEHSNQPQH</td>\n",
       "      <td>GLCTLVAML</td>\n",
       "      <td>2</td>\n",
       "      <td>0</td>\n",
       "      <td>TRAV13-1*01</td>\n",
       "      <td>TRAJ42*01</td>\n",
       "      <td>TRBV20-1*01</td>\n",
       "      <td>TRBJ1-5*01</td>\n",
       "      <td>swapped</td>\n",
       "      <td>TRAV13-1*01</td>\n",
       "      <td>TRAJ42*01</td>\n",
       "      <td>TRBV20-1*01</td>\n",
       "      <td>TRBJ1-5*01</td>\n",
       "      <td>/home/sebastian/masters/data/test/9991_2p_neg_...</td>\n",
       "    </tr>\n",
       "    <tr>\n",
       "      <th>2</th>\n",
       "      <td>9994</td>\n",
       "      <td>ALSEMNSGNTPLV</td>\n",
       "      <td>ASSGRSTDTQY</td>\n",
       "      <td>NLVPMVATV</td>\n",
       "      <td>2</td>\n",
       "      <td>0</td>\n",
       "      <td>TRAV19*01</td>\n",
       "      <td>TRAJ29*01</td>\n",
       "      <td>TRBV19*01</td>\n",
       "      <td>TRBJ2-3*01</td>\n",
       "      <td>swapped</td>\n",
       "      <td>TRAV19*01</td>\n",
       "      <td>TRAJ29*01</td>\n",
       "      <td>TRBV19*01</td>\n",
       "      <td>TRBJ2-3*01</td>\n",
       "      <td>/home/sebastian/masters/data/test/9994_2p_neg_...</td>\n",
       "    </tr>\n",
       "    <tr>\n",
       "      <th>3</th>\n",
       "      <td>9995</td>\n",
       "      <td>AMNPAWGGATNKLI</td>\n",
       "      <td>ASSARSSYEQY</td>\n",
       "      <td>GLCTLVAML</td>\n",
       "      <td>2</td>\n",
       "      <td>0</td>\n",
       "      <td>TRAV12-2*01</td>\n",
       "      <td>TRAJ32*01</td>\n",
       "      <td>TRBV19*01</td>\n",
       "      <td>TRBJ2-7*01</td>\n",
       "      <td>swapped</td>\n",
       "      <td>TRAV12-2*01</td>\n",
       "      <td>TRAJ32*01</td>\n",
       "      <td>TRBV19*01</td>\n",
       "      <td>TRBJ2-7*01</td>\n",
       "      <td>/home/sebastian/masters/data/test/9995_2p_neg_...</td>\n",
       "    </tr>\n",
       "    <tr>\n",
       "      <th>4</th>\n",
       "      <td>9997</td>\n",
       "      <td>AGAGSQGNLI</td>\n",
       "      <td>ASSGPGGVDEQY</td>\n",
       "      <td>RTLNAWVKV</td>\n",
       "      <td>2</td>\n",
       "      <td>0</td>\n",
       "      <td>TRAV27*01</td>\n",
       "      <td>TRAJ42*01</td>\n",
       "      <td>TRBV5-5*01</td>\n",
       "      <td>TRBJ2-7*01</td>\n",
       "      <td>swapped</td>\n",
       "      <td>TRAV27*01</td>\n",
       "      <td>TRAJ42*01</td>\n",
       "      <td>TRBV5-5*01</td>\n",
       "      <td>TRBJ2-7*01</td>\n",
       "      <td>/home/sebastian/masters/data/test/9997_2p_neg_...</td>\n",
       "    </tr>\n",
       "    <tr>\n",
       "      <th>5</th>\n",
       "      <td>9999</td>\n",
       "      <td>VVPSRTGFQKLV</td>\n",
       "      <td>ASSIRSGVEQY</td>\n",
       "      <td>SLLMWITQV</td>\n",
       "      <td>2</td>\n",
       "      <td>0</td>\n",
       "      <td>TRAV12-1*01</td>\n",
       "      <td>TRAJ8*01</td>\n",
       "      <td>TRBV19*02</td>\n",
       "      <td>TRBJ2-7*01</td>\n",
       "      <td>swapped</td>\n",
       "      <td>TRAV12-1*01</td>\n",
       "      <td>TRAJ8*01</td>\n",
       "      <td>TRBV19*02</td>\n",
       "      <td>TRBJ2-7*01</td>\n",
       "      <td>/home/sebastian/masters/data/test/9999_2p_neg_...</td>\n",
       "    </tr>\n",
       "  </tbody>\n",
       "</table>\n",
       "</div>"
      ],
      "text/plain": [
       "    #ID           CDR3a            CDR3b    peptide  partition  binder  \\\n",
       "0  9990   AVNAGGGSQGNLI      ASSSRSSYEQY  GLCTLVAML          2       0   \n",
       "1  9991      AAGGSQGNLI  SANRPGTEHSNQPQH  GLCTLVAML          2       0   \n",
       "2  9994   ALSEMNSGNTPLV      ASSGRSTDTQY  NLVPMVATV          2       0   \n",
       "3  9995  AMNPAWGGATNKLI      ASSARSSYEQY  GLCTLVAML          2       0   \n",
       "4  9997      AGAGSQGNLI     ASSGPGGVDEQY  RTLNAWVKV          2       0   \n",
       "5  9999    VVPSRTGFQKLV      ASSIRSGVEQY  SLLMWITQV          2       0   \n",
       "\n",
       "  v_gene_alpha j_gene_alpha  v_gene_beta j_gene_beta   origin  \\\n",
       "0   TRAV8-1*01    TRAJ42*01    TRBV19*01  TRBJ2-7*01  swapped   \n",
       "1  TRAV13-1*01    TRAJ42*01  TRBV20-1*01  TRBJ1-5*01  swapped   \n",
       "2    TRAV19*01    TRAJ29*01    TRBV19*01  TRBJ2-3*01  swapped   \n",
       "3  TRAV12-2*01    TRAJ32*01    TRBV19*01  TRBJ2-7*01  swapped   \n",
       "4    TRAV27*01    TRAJ42*01   TRBV5-5*01  TRBJ2-7*01  swapped   \n",
       "5  TRAV12-1*01     TRAJ8*01    TRBV19*02  TRBJ2-7*01  swapped   \n",
       "\n",
       "  v_alpha_vdjdb_name  j_alpha_vdjdb_name  v_beta_vdjdb_name  \\\n",
       "0         TRAV8-1*01           TRAJ42*01          TRBV19*01   \n",
       "1        TRAV13-1*01           TRAJ42*01        TRBV20-1*01   \n",
       "2          TRAV19*01           TRAJ29*01          TRBV19*01   \n",
       "3        TRAV12-2*01           TRAJ32*01          TRBV19*01   \n",
       "4          TRAV27*01           TRAJ42*01         TRBV5-5*01   \n",
       "5        TRAV12-1*01            TRAJ8*01          TRBV19*02   \n",
       "\n",
       "   j_beta_vdjdb_name                                               path  \n",
       "0         TRBJ2-7*01  /home/sebastian/masters/data/test/9990_2p_neg_...  \n",
       "1         TRBJ1-5*01  /home/sebastian/masters/data/test/9991_2p_neg_...  \n",
       "2         TRBJ2-3*01  /home/sebastian/masters/data/test/9994_2p_neg_...  \n",
       "3         TRBJ2-7*01  /home/sebastian/masters/data/test/9995_2p_neg_...  \n",
       "4         TRBJ2-7*01  /home/sebastian/masters/data/test/9997_2p_neg_...  \n",
       "5         TRBJ2-7*01  /home/sebastian/masters/data/test/9999_2p_neg_...  "
      ]
     },
     "execution_count": 27,
     "metadata": {},
     "output_type": "execute_result"
    }
   ],
   "source": [
    "metadata"
   ]
  },
  {
   "cell_type": "code",
   "execution_count": 16,
   "id": "9169a909",
   "metadata": {},
   "outputs": [
    {
     "name": "stderr",
     "output_type": "stream",
     "text": [
      "/home/sebastian/anaconda3/envs/ps/lib/python3.8/site-packages/torch_geometric/deprecation.py:13: UserWarning: 'contains_self_loops' is deprecated, use 'has_self_loops' instead\n",
      "  warnings.warn(out)\n"
     ]
    }
   ],
   "source": [
    "structure_all = kmbio.PDB.load(data_root / \"raw\" / \"tcrpmhc\" / \"5_tcrpmhc.pdb\")\n",
    "structure_all = merge_chains(structure_all)\n",
    "structure = kmbio.PDB.Structure(\"tee\", structure_all[0].extract(\"A\"))\n",
    "pdata = proteinsolver.utils.extract_seq_and_adj(\n",
    "    structure, \"A\", remove_hetatms=True\n",
    ")\n",
    "data = proteinsolver.datasets.row_to_data(pdata)\n",
    "data = proteinsolver.datasets.transform_edge_attr(data)"
   ]
  },
  {
   "cell_type": "code",
   "execution_count": 17,
   "id": "628bb013",
   "metadata": {},
   "outputs": [
    {
     "data": {
      "text/plain": [
       "Data(x=[406], edge_index=[2, 21790], edge_attr=[21790, 2])"
      ]
     },
     "execution_count": 17,
     "metadata": {},
     "output_type": "execute_result"
    }
   ],
   "source": [
    "data"
   ]
  },
  {
   "cell_type": "code",
   "execution_count": 58,
   "id": "884087e7",
   "metadata": {},
   "outputs": [
    {
     "data": {
      "text/plain": [
       "tensor([ 0, 12, 19, 12,  6, 18, 14,  7,  7, 13, 12,  1, 12, 18,  9,  0, 18,  0,\n",
       "        11,  9, 18,  7,  4,  2,  1,  0, 14,  1, 10, 10, 13, 15,  7,  1, 18,  7,\n",
       "        10, 12, 10,  2,  2, 12, 15, 18,  6, 11,  9, 18,  2,  9,  8,  4, 11, 15,\n",
       "        11,  0,  9, 11, 14,  8, 10,  0, 11, 13, 18, 17,  1, 17,  2, 19, 12, 15,\n",
       "        13, 19, 18,  1, 10,  3,  0, 13,  3, 18,  0, 14, 14, 16, 15, 12, 11,  2,\n",
       "         0, 12, 19, 13,  1, 15, 18,  6, 14,  0,  5, 10,  1,  0, 12, 10,  8, 18,\n",
       "         7,  3, 18,  0, 14, 19, 15, 14,  2, 14, 10,  0, 17, 10, 14,  4,  2,  3,\n",
       "        17, 11, 10,  3, 18, 12,  8, 13,  2,  2, 10,  6,  2,  2, 15, 13, 13, 17,\n",
       "        19, 17,  8, 11,  2,  2, 19,  1,  2, 11, 15,  3, 18,  2, 14,  3, 11,  0,\n",
       "        13,  5,  1, 11,  8,  3, 18, 18, 14,  3, 11, 16,  0, 17, 11, 13,  3, 16,\n",
       "         3,  1,  9,  6,  1,  2, 13,  1, 15, 17,  1, 13, 15,  2, 15, 13, 11,  4,\n",
       "        12,  1,  1, 11, 17, 11, 10,  1, 13,  3, 10,  5,  1, 14, 11, 13, 18, 10,\n",
       "        13, 13, 14, 14,  3,  7,  8, 14, 17, 15,  9,  9, 12,  0, 11,  3,  1,  7,\n",
       "         3,  4, 18, 18, 16, 12,  7, 10, 11, 15, 16, 11,  4, 12,  0, 18, 14, 12,\n",
       "         8, 16,  7, 15, 17, 12, 13, 12, 12,  7, 16,  7, 13,  4, 13,  2, 12, 15,\n",
       "         1,  1, 10, 12,  2,  1, 14,  7,  5,  2, 12,  0, 13, 14, 17, 14,  4,  7,\n",
       "         0, 13,  0, 13, 18,  3, 17,  1,  1, 13, 15, 16,  9, 18, 14,  3,  4, 13,\n",
       "         1, 13,  0, 17, 17,  3, 13,  1, 13,  5, 12, 15, 16,  6, 16, 19, 11, 14,\n",
       "         6, 12,  8, 14, 18, 15, 10,  9,  0,  3,  0,  3, 18, 15,  4, 14, 14, 12,\n",
       "         6, 16,  1, 11,  1, 13, 10, 17,  0, 10,  1,  9, 11,  0, 14, 17,  1, 12,\n",
       "        18, 17, 11, 17, 18, 16,  7,  9,  3,  4,  3, 11, 12,  9, 12,  9, 16, 15,\n",
       "        13, 12,  3, 14,  7,  5,  2, 12, 12, 15, 18,  2,  0, 18,  1, 10, 13, 15,\n",
       "        14,  7,  0,  9,  0, 13, 18,  3, 13,  1])"
      ]
     },
     "execution_count": 58,
     "metadata": {},
     "output_type": "execute_result"
    }
   ],
   "source": [
    "data.x"
   ]
  },
  {
   "cell_type": "code",
   "execution_count": 20,
   "id": "eb3ad797",
   "metadata": {},
   "outputs": [
    {
     "name": "stdout",
     "output_type": "stream",
     "text": [
      "[11, 12, 13, 14, 15, 16, 17, 18, 19, 20, 21, 22, 23, 24, 25] [6, 7, 8, 9, 10] [1, 2, 3, 4, 5]\n",
      "[6, 7, 8, 9, 10, 16, 17, 18, 19, 20, 21, 22, 23, 24, 25] [11, 12, 13, 14, 15] [1, 2, 3, 4, 5]\n",
      "[6, 7, 8, 9, 10, 11, 12, 13, 14, 15, 21, 22, 23, 24, 25] [16, 17, 18, 19, 20] [1, 2, 3, 4, 5]\n",
      "[6, 7, 8, 9, 10, 11, 12, 13, 14, 15, 16, 17, 18, 19, 20] [21, 22, 23, 24, 25] [1, 2, 3, 4, 5]\n"
     ]
    },
    {
     "data": {
      "text/plain": [
       "[None, None, None, None]"
      ]
     },
     "execution_count": 20,
     "metadata": {},
     "output_type": "execute_result"
    }
   ],
   "source": [
    "i = 0\n",
    "partitions = [[1,2,3,4,5], [6,7,8,9,10], [11,12,13,14,15], [16,17,18,19,20], [21,22,23,24,25]]\n",
    "test_idx = partitions[i]\n",
    "outer_train_folds = [partitions[j] for j in range(5) if j != i]\n",
    "inner_train_partitions, inner_valid_partitions = join_partitions(outer_train_folds)\n",
    "[print(inner_train_partitions[k], inner_valid_partitions[k], test_idx) for k in range(4)]"
   ]
  },
  {
   "cell_type": "code",
   "execution_count": 3,
   "id": "414c6987",
   "metadata": {},
   "outputs": [],
   "source": [
    "cluster_path = data_root / \"clusterRes_cdr3b_cluster.tsv\"\n",
    "partitions = partition_clusters(cluster_path, 5)\n"
   ]
  },
  {
   "cell_type": "code",
   "execution_count": 4,
   "id": "57295750",
   "metadata": {},
   "outputs": [],
   "source": [
    "n_splits = 5\n",
    "for i in range(len(partitions)):\n",
    "    test_idx = partitions[i]\n",
    "    outer_train_folds = [partitions[j] for j in range(n_splits) if j != i]\n",
    "    inner_train_partitions, inner_valid_partitions = join_partitions(outer_train_folds)\n",
    "    for train_idx, valid_idx in zip(inner_train_partitions, inner_valid_partitions):\n",
    "\n",
    "    #print(len(inner_train_partitions), len(inner_valid_partitions), len(test_idx))"
   ]
  },
  {
   "cell_type": "code",
   "execution_count": 16,
   "id": "3dccd79a",
   "metadata": {},
   "outputs": [],
   "source": [
    "def pad_collate_test(batch, pad_val=0):\n",
    "    (xx, yy) = zip(*batch)\n",
    "    #x_lens = [len(x) for x in xx]\n",
    "    #y_lens = [len(y) for y in yy]\n",
    "\n",
    "    #xx_pad = nn.utils.rnn.pad_sequence(xx, batch_first=True, padding_value=pad_val)\n",
    "    #yy_pad = nn.utils.rnn.pad_sequence(yy, batch_first=True, padding_value=pad_val)\n",
    "\n",
    "    return xx, yy\n",
    "\n",
    "class LSTMDataset(torch.utils.data.Dataset):\n",
    "    def __init__(\n",
    "        self, \n",
    "        data_dir, \n",
    "        annotations_path, \n",
    "        transform=None, \n",
    "        target_transform=None\n",
    "    ):\n",
    "        self.data_dir = data_dir\n",
    "        self.transform = transform\n",
    "        self.target_transform = target_transform\n",
    "        self.annotations = torch.Tensor(torch.load(annotations_path))\n",
    "\n",
    "    def __len__(self):\n",
    "        return len(self.annotations)\n",
    "\n",
    "    def __getitem__(self, idx):\n",
    "        #print(idx)\n",
    "        #x = torch.load(f\"{self.data_dir}/data_{idx}.pt\")\n",
    "        y = self.annotations[idx]\n",
    "        return idx, y\n",
    "\n",
    "mode = \"ps\"\n",
    "\n",
    "if mode == \"ps\":\n",
    "    data = processed_dir / \"proteinsolver_embeddings_pos\"\n",
    "    targets = processed_dir / \"proteinsolver_embeddings_pos\" / \"targets.pt\"\n",
    "\n",
    "if mode == \"blosum\":\n",
    "    data = processed_dir / \"blosum_embeddings_pos\"\n",
    "    targets = processed_dir / \"proteinsolver_embeddings_pos\" / \"targets.pt\"\n",
    "\n",
    "dataset = LSTMDataset(data, targets)\n",
    "\n",
    "n_splits = 5\n",
    "for i in range(len(partitions)):\n",
    "    test_idx = partitions[i]\n",
    "    outer_train_folds = [partitions[j] for j in range(n_splits) if j != i]\n",
    "    inner_train_partitions, inner_valid_partitions = join_partitions(outer_train_folds)\n",
    "    for train_idx, valid_idx in zip(inner_train_partitions, inner_valid_partitions):\n",
    "        train_sampler = BatchSampler(SubsetRandomSampler(train_idx), batch_size=8, drop_last=True)\n",
    "        valid_sampler = BatchSampler(SubsetRandomSampler(valid_idx), batch_size=1, drop_last=False)\n",
    "\n",
    "        train_loader = DataLoader(dataset=dataset, batch_sampler=train_sampler, collate_fn=pad_collate_test)\n",
    "        valid_loader = DataLoader(dataset=dataset, batch_sampler=valid_sampler, collate_fn=pad_collate_test)\n",
    "\n",
    "        test_loader = DataLoader(dataset=dataset, sampler=test_idx, batch_size=1, collate_fn=pad_collate_test)\n",
    "\n",
    "\n",
    "        train_set = list()\n",
    "        valid_set = list()\n",
    "        test_set = list()\n",
    "        for xx, y in train_loader:\n",
    "            train_set.extend(xx)\n",
    "\n",
    "        for xx, y in valid_loader:\n",
    "            valid_set.extend(xx)\n",
    "\n",
    "        for xx, y in test_loader:\n",
    "            test_set.extend(xx)\n",
    "\n",
    "        for j in train_set:\n",
    "            if j in test_idx:\n",
    "                print(j)\n",
    "\n",
    "        for j in train_set:\n",
    "            if j in test_set:\n",
    "                print(j)\n",
    "\n",
    "        for j in valid_set:\n",
    "            if j in test_idx:\n",
    "                print(j)\n",
    "\n",
    "        for j in valid_set:\n",
    "            if j in test_set:\n",
    "                print(j)\n",
    "\n"
   ]
  },
  {
   "cell_type": "code",
   "execution_count": 12,
   "id": "8b8c6c62",
   "metadata": {},
   "outputs": [
    {
     "data": {
      "text/plain": [
       "10324"
      ]
     },
     "execution_count": 12,
     "metadata": {},
     "output_type": "execute_result"
    }
   ],
   "source": [
    "len(train_set) + len(valid_set) + len(test_idx)"
   ]
  },
  {
   "cell_type": "code",
   "execution_count": 14,
   "id": "602cc57e",
   "metadata": {},
   "outputs": [],
   "source": [
    "for j in valid_set:\n",
    "    if j in test_idx:\n",
    "        print(j)"
   ]
  },
  {
   "cell_type": "code",
   "execution_count": 55,
   "id": "758803f3",
   "metadata": {
    "scrolled": true
   },
   "outputs": [
    {
     "data": {
      "text/plain": [
       "tensor([ 0.3633, -0.8219])"
      ]
     },
     "execution_count": 55,
     "metadata": {},
     "output_type": "execute_result"
    }
   ],
   "source": [
    "data.edge_attr[11111]"
   ]
  },
  {
   "cell_type": "code",
   "execution_count": 59,
   "id": "193c90c6",
   "metadata": {
    "scrolled": true
   },
   "outputs": [
    {
     "data": {
      "text/plain": [
       "tensor([ 0.3633, -0.8219])"
      ]
     },
     "execution_count": 59,
     "metadata": {},
     "output_type": "execute_result"
    }
   ],
   "source": [
    "data.edge_attr[11111]"
   ]
  },
  {
   "cell_type": "code",
   "execution_count": 26,
   "id": "6f5d2808",
   "metadata": {},
   "outputs": [],
   "source": [
    "sequence_path = data_root/\"full_seqs.fsa\"\n",
    "lines = open(sequence_path).readlines()\n",
    "#lines = [line.strip() for line in lines]\n",
    "lines = \"\".join(lines)\n",
    "lines = lines.split(\">\")\n",
    "\n",
    "for i, seq in enumerate(lines[1:]):\n",
    "    seq = seq.split(\"\\n\")[1]\n",
    "    data = list()\n",
    "    for res in seq:\n",
    "        blosum_enc = torch.Tensor(blosum_encode_dict[res])\n",
    "        data.append(blosum_enc)\n",
    "    data = torch.Tensor(blosum_enc)\n",
    "    \n",
    "        "
   ]
  },
  {
   "cell_type": "code",
   "execution_count": 3,
   "id": "60d3f987",
   "metadata": {},
   "outputs": [],
   "source": [
    "# give path to ida data dir and metadata file (here, metadata row = idx of file)\n",
    "# glob and load file sequentially\n",
    "# split on _ to get index/target and partition\n",
    "# send file path to partition\n",
    "#\n",
    "# when loading data during training, slice out each time variable from the data\n",
    "# convert to tensor"
   ]
  },
  {
   "cell_type": "code",
   "execution_count": 4,
   "id": "2f45c16e",
   "metadata": {},
   "outputs": [],
   "source": [
    "# LOO validation\n",
    "#model_energies_dir = data_root / \"test\"\n",
    "model_dir = data_root / \"raw\" /\"tcrpmhc\"\n",
    "\n",
    "paths = list(model_dir.glob(\"*\"))\n",
    "join_key = [int(x.name.split(\"_\")[0]) for x in paths]\n",
    "path_df = pd.DataFrame({'#ID': join_key, 'path': paths})\n",
    "\n",
    "metadata = pd.read_csv(metadata_path)\n",
    "metadata = metadata.join(path_df.set_index(\"#ID\"), on=\"#ID\", how=\"inner\")  # filter to non-missing data\n",
    "metadata = metadata.sort_values(by=\"#ID\")\n",
    "metadata = metadata.reset_index(drop=True)"
   ]
  },
  {
   "cell_type": "code",
   "execution_count": 33,
   "id": "4c52f331",
   "metadata": {},
   "outputs": [
    {
     "data": {
      "text/html": [
       "<div>\n",
       "<style scoped>\n",
       "    .dataframe tbody tr th:only-of-type {\n",
       "        vertical-align: middle;\n",
       "    }\n",
       "\n",
       "    .dataframe tbody tr th {\n",
       "        vertical-align: top;\n",
       "    }\n",
       "\n",
       "    .dataframe thead th {\n",
       "        text-align: right;\n",
       "    }\n",
       "</style>\n",
       "<table border=\"1\" class=\"dataframe\">\n",
       "  <thead>\n",
       "    <tr style=\"text-align: right;\">\n",
       "      <th></th>\n",
       "      <th>#ID</th>\n",
       "      <th>CDR3a</th>\n",
       "      <th>CDR3b</th>\n",
       "      <th>peptide</th>\n",
       "      <th>partition</th>\n",
       "      <th>binder</th>\n",
       "      <th>v_gene_alpha</th>\n",
       "      <th>j_gene_alpha</th>\n",
       "      <th>v_gene_beta</th>\n",
       "      <th>j_gene_beta</th>\n",
       "      <th>origin</th>\n",
       "      <th>v_alpha_vdjdb_name</th>\n",
       "      <th>j_alpha_vdjdb_name</th>\n",
       "      <th>v_beta_vdjdb_name</th>\n",
       "      <th>j_beta_vdjdb_name</th>\n",
       "      <th>path</th>\n",
       "    </tr>\n",
       "  </thead>\n",
       "  <tbody>\n",
       "    <tr>\n",
       "      <th>2654</th>\n",
       "      <td>3278</td>\n",
       "      <td>VVGLTGANNLF</td>\n",
       "      <td>ATSDGTGFGETQY</td>\n",
       "      <td>CLGGLLTMV</td>\n",
       "      <td>3</td>\n",
       "      <td>0</td>\n",
       "      <td>TRAV10</td>\n",
       "      <td>TRAJ36</td>\n",
       "      <td>TRBV24-1</td>\n",
       "      <td>TRBJ2-5</td>\n",
       "      <td>tenX</td>\n",
       "      <td>TRAV10*01</td>\n",
       "      <td>TRAJ36*01</td>\n",
       "      <td>TRBV24-1*01</td>\n",
       "      <td>TRBJ2-5*01</td>\n",
       "      <td>/home/sebastian/masters/data/neat_data/raw/tcr...</td>\n",
       "    </tr>\n",
       "    <tr>\n",
       "      <th>2655</th>\n",
       "      <td>3280</td>\n",
       "      <td>ALDMSGNKLV</td>\n",
       "      <td>ASSWTGNGYT</td>\n",
       "      <td>CLGGLLTMV</td>\n",
       "      <td>3</td>\n",
       "      <td>0</td>\n",
       "      <td>TRAV6</td>\n",
       "      <td>TRAJ47</td>\n",
       "      <td>TRBV6-5</td>\n",
       "      <td>TRBJ1-2</td>\n",
       "      <td>tenX</td>\n",
       "      <td>TRAV6*01</td>\n",
       "      <td>TRAJ47*01</td>\n",
       "      <td>TRBV6-5*01</td>\n",
       "      <td>TRBJ1-2*01</td>\n",
       "      <td>/home/sebastian/masters/data/neat_data/raw/tcr...</td>\n",
       "    </tr>\n",
       "    <tr>\n",
       "      <th>4043</th>\n",
       "      <td>4960</td>\n",
       "      <td>AVNPSGTYKYI</td>\n",
       "      <td>ASSPSGGDYNEQF</td>\n",
       "      <td>CLGGLLTMV</td>\n",
       "      <td>4</td>\n",
       "      <td>0</td>\n",
       "      <td>TRAV12-2</td>\n",
       "      <td>TRAJ40</td>\n",
       "      <td>TRBV2</td>\n",
       "      <td>TRBJ2-1</td>\n",
       "      <td>tenX</td>\n",
       "      <td>TRAV12-2*01</td>\n",
       "      <td>TRAJ40*01</td>\n",
       "      <td>TRBV2*01</td>\n",
       "      <td>TRBJ2-1*01</td>\n",
       "      <td>/home/sebastian/masters/data/neat_data/raw/tcr...</td>\n",
       "    </tr>\n",
       "    <tr>\n",
       "      <th>4044</th>\n",
       "      <td>4961</td>\n",
       "      <td>AVRDRLTGRRALT</td>\n",
       "      <td>SARALPVGNTIY</td>\n",
       "      <td>CLGGLLTMV</td>\n",
       "      <td>4</td>\n",
       "      <td>0</td>\n",
       "      <td>TRAV1-2</td>\n",
       "      <td>TRAJ5</td>\n",
       "      <td>TRBV20-1</td>\n",
       "      <td>TRBJ1-3</td>\n",
       "      <td>tenX</td>\n",
       "      <td>TRAV1-2*01</td>\n",
       "      <td>TRAJ5*01</td>\n",
       "      <td>TRBV20-1*01</td>\n",
       "      <td>TRBJ1-3*01</td>\n",
       "      <td>/home/sebastian/masters/data/neat_data/raw/tcr...</td>\n",
       "    </tr>\n",
       "    <tr>\n",
       "      <th>5350</th>\n",
       "      <td>6579</td>\n",
       "      <td>AGLNYGGSQGNLI</td>\n",
       "      <td>ASSLIGPYGYT</td>\n",
       "      <td>CLGGLLTMV</td>\n",
       "      <td>5</td>\n",
       "      <td>0</td>\n",
       "      <td>TRAV27</td>\n",
       "      <td>TRAJ42</td>\n",
       "      <td>TRBV4-1</td>\n",
       "      <td>TRBJ1-2</td>\n",
       "      <td>tenX</td>\n",
       "      <td>TRAV27*01</td>\n",
       "      <td>TRAJ42*01</td>\n",
       "      <td>TRBV4-1*01</td>\n",
       "      <td>TRBJ1-2*01</td>\n",
       "      <td>/home/sebastian/masters/data/neat_data/raw/tcr...</td>\n",
       "    </tr>\n",
       "    <tr>\n",
       "      <th>5351</th>\n",
       "      <td>6580</td>\n",
       "      <td>AVQADRGSTLGRLY</td>\n",
       "      <td>ATSDSWGGDTQY</td>\n",
       "      <td>CLGGLLTMV</td>\n",
       "      <td>5</td>\n",
       "      <td>0</td>\n",
       "      <td>TRAV20</td>\n",
       "      <td>TRAJ18</td>\n",
       "      <td>TRBV24-1</td>\n",
       "      <td>TRBJ2-3</td>\n",
       "      <td>tenX</td>\n",
       "      <td>TRAV20*01</td>\n",
       "      <td>TRAJ18*01</td>\n",
       "      <td>TRBV24-1*01</td>\n",
       "      <td>TRBJ2-3*01</td>\n",
       "      <td>/home/sebastian/masters/data/neat_data/raw/tcr...</td>\n",
       "    </tr>\n",
       "    <tr>\n",
       "      <th>5352</th>\n",
       "      <td>6581</td>\n",
       "      <td>ATDRYNDYKLS</td>\n",
       "      <td>ASSPGWGTDHSPLH</td>\n",
       "      <td>CLGGLLTMV</td>\n",
       "      <td>5</td>\n",
       "      <td>0</td>\n",
       "      <td>TRAV17</td>\n",
       "      <td>TRAJ20</td>\n",
       "      <td>TRBV7-9</td>\n",
       "      <td>TRBJ1-6</td>\n",
       "      <td>tenX</td>\n",
       "      <td>TRAV17*01</td>\n",
       "      <td>TRAJ20*01</td>\n",
       "      <td>TRBV7-9*01</td>\n",
       "      <td>TRBJ1-6*01</td>\n",
       "      <td>/home/sebastian/masters/data/neat_data/raw/tcr...</td>\n",
       "    </tr>\n",
       "  </tbody>\n",
       "</table>\n",
       "</div>"
      ],
      "text/plain": [
       "       #ID           CDR3a           CDR3b    peptide  partition  binder  \\\n",
       "2654  3278     VVGLTGANNLF   ATSDGTGFGETQY  CLGGLLTMV          3       0   \n",
       "2655  3280      ALDMSGNKLV      ASSWTGNGYT  CLGGLLTMV          3       0   \n",
       "4043  4960     AVNPSGTYKYI   ASSPSGGDYNEQF  CLGGLLTMV          4       0   \n",
       "4044  4961   AVRDRLTGRRALT    SARALPVGNTIY  CLGGLLTMV          4       0   \n",
       "5350  6579   AGLNYGGSQGNLI     ASSLIGPYGYT  CLGGLLTMV          5       0   \n",
       "5351  6580  AVQADRGSTLGRLY    ATSDSWGGDTQY  CLGGLLTMV          5       0   \n",
       "5352  6581     ATDRYNDYKLS  ASSPGWGTDHSPLH  CLGGLLTMV          5       0   \n",
       "\n",
       "     v_gene_alpha j_gene_alpha v_gene_beta j_gene_beta origin  \\\n",
       "2654       TRAV10       TRAJ36    TRBV24-1     TRBJ2-5   tenX   \n",
       "2655        TRAV6       TRAJ47     TRBV6-5     TRBJ1-2   tenX   \n",
       "4043     TRAV12-2       TRAJ40       TRBV2     TRBJ2-1   tenX   \n",
       "4044      TRAV1-2        TRAJ5    TRBV20-1     TRBJ1-3   tenX   \n",
       "5350       TRAV27       TRAJ42     TRBV4-1     TRBJ1-2   tenX   \n",
       "5351       TRAV20       TRAJ18    TRBV24-1     TRBJ2-3   tenX   \n",
       "5352       TRAV17       TRAJ20     TRBV7-9     TRBJ1-6   tenX   \n",
       "\n",
       "     v_alpha_vdjdb_name  j_alpha_vdjdb_name  v_beta_vdjdb_name  \\\n",
       "2654          TRAV10*01           TRAJ36*01        TRBV24-1*01   \n",
       "2655           TRAV6*01           TRAJ47*01         TRBV6-5*01   \n",
       "4043        TRAV12-2*01           TRAJ40*01           TRBV2*01   \n",
       "4044         TRAV1-2*01            TRAJ5*01        TRBV20-1*01   \n",
       "5350          TRAV27*01           TRAJ42*01         TRBV4-1*01   \n",
       "5351          TRAV20*01           TRAJ18*01        TRBV24-1*01   \n",
       "5352          TRAV17*01           TRAJ20*01         TRBV7-9*01   \n",
       "\n",
       "      j_beta_vdjdb_name                                               path  \n",
       "2654         TRBJ2-5*01  /home/sebastian/masters/data/neat_data/raw/tcr...  \n",
       "2655         TRBJ1-2*01  /home/sebastian/masters/data/neat_data/raw/tcr...  \n",
       "4043         TRBJ2-1*01  /home/sebastian/masters/data/neat_data/raw/tcr...  \n",
       "4044         TRBJ1-3*01  /home/sebastian/masters/data/neat_data/raw/tcr...  \n",
       "5350         TRBJ1-2*01  /home/sebastian/masters/data/neat_data/raw/tcr...  \n",
       "5351         TRBJ2-3*01  /home/sebastian/masters/data/neat_data/raw/tcr...  \n",
       "5352         TRBJ1-6*01  /home/sebastian/masters/data/neat_data/raw/tcr...  "
      ]
     },
     "execution_count": 33,
     "metadata": {},
     "output_type": "execute_result"
    }
   ],
   "source": [
    "metadata[metadata[\"peptide\"] == \"CLGGLLTMV\"]"
   ]
  },
  {
   "cell_type": "code",
   "execution_count": null,
   "id": "6189d1e5",
   "metadata": {},
   "outputs": [],
   "source": [
    "clusterRes_all_seqs.fasta                         \n",
    "clusterRes_cdr3b_50_all_seqs.fasta                \n",
    "clusterRes_cdr3b_50_cluster.tsv                   \n",
    "clusterRes_cdr3b_50_rep_seq.fasta                 \n",
    "clusterRes_cdr3b_all_seqs.fasta                   \n",
    "clusterRes_cdr3b_cluster.tsv                      \n",
    "clusterRes_cdr3b_rep_seq.fasta                    \n",
    "clusterRes_cdr3b_test_cov_25_all_seqs.fasta       \n",
    "clusterRes_cdr3b_test_cov_25_cluster.tsv          \n",
    "clusterRes_cdr3b_test_cov_25_mode_2_all_seqs.fasta\n",
    "clusterRes_cdr3b_test_cov_25_mode_2_cluster.tsv   \n",
    "clusterRes_cdr3b_test_cov_25_mode_2_rep_seq.fasta \n",
    "clusterRes_cdr3b_test_cov_25_rep_seq.fasta        \n",
    "clusterRes_cdr3b_test_cov_95_all_seqs.fasta       \n",
    "clusterRes_cdr3b_test_cov_95_cluster.tsv          \n",
    "clusterRes_cdr3b_test_cov_95_mode_2_all_seqs.fasta\n",
    "clusterRes_cdr3b_test_cov_95_mode_2_cluster.tsv   \n",
    "clusterRes_cdr3b_test_cov_95_mode_2_rep_seq.fasta \n",
    "clusterRes_cdr3b_test_cov_95_rep_seq.fasta        \n",
    "clusterRes_cluster.tsv                                                                                                                                                          100%   99KB   3.0MB/s   00:00\n",
    "clusterRes_rep_seq.fasta"
   ]
  },
  {
   "cell_type": "code",
   "execution_count": 6,
   "id": "b85bcf80",
   "metadata": {},
   "outputs": [],
   "source": [
    "clusters_1 = dict()\n",
    "with open(data_root / \"clusterRes_cdr3b_50_cluster.tsv\") as file:\n",
    "    for line in file:\n",
    "        line = line.strip()\n",
    "        line = line.split(\"\\t\")\n",
    "        cluster_id = int(line[0])\n",
    "        seq_id = int(line[1])\n",
    "        if cluster_id not in clusters_1:\n",
    "            clusters_1[cluster_id] = [seq_id]\n",
    "        else:\n",
    "            clusters_1[cluster_id].append(seq_id)\n",
    "\n",
    "clusters_2 = dict()\n",
    "with open(data_root / \"clusterRes_cdr3b_cluster.tsv\") as file:\n",
    "    for line in file:\n",
    "        line = line.strip()\n",
    "        line = line.split(\"\\t\")\n",
    "        cluster_id = int(line[0])\n",
    "        seq_id = int(line[1])\n",
    "        if cluster_id not in clusters_2:\n",
    "            clusters_2[cluster_id] = [seq_id]\n",
    "        else:\n",
    "            clusters_2[cluster_id].append(seq_id)\n",
    "\n",
    "clusters_3 = dict()\n",
    "with open(data_root / \"clusterRes_cdr3b_test_cov_25_cluster.tsv\") as file:\n",
    "    for line in file:\n",
    "        line = line.strip()\n",
    "        line = line.split(\"\\t\")\n",
    "        cluster_id = int(line[0])\n",
    "        seq_id = int(line[1])\n",
    "        if cluster_id not in clusters_3:\n",
    "            clusters_3[cluster_id] = [seq_id]\n",
    "        else:\n",
    "            clusters_3[cluster_id].append(seq_id)\n",
    "                \n",
    "clusters_4 = dict()\n",
    "with open(data_root / \"clusterRes_cdr3b_test_cov_95_cluster.tsv\") as file:\n",
    "    for line in file:\n",
    "        line = line.strip()\n",
    "        line = line.split(\"\\t\")\n",
    "        cluster_id = int(line[0])\n",
    "        seq_id = int(line[1])\n",
    "        if cluster_id not in clusters_4:\n",
    "            clusters_4[cluster_id] = [seq_id]\n",
    "        else:\n",
    "            clusters_4[cluster_id].append(seq_id)"
   ]
  },
  {
   "cell_type": "code",
   "execution_count": 11,
   "id": "1396d0c3",
   "metadata": {},
   "outputs": [
    {
     "name": "stdout",
     "output_type": "stream",
     "text": [
      "6715\n",
      "10331\n",
      "6876\n",
      "10331\n",
      "6875\n",
      "10331\n",
      "6877\n",
      "10331\n"
     ]
    }
   ],
   "source": [
    "print(len(clusters_1))\n",
    "print(sum([len(clusters_1[k]) for k in list(clusters_1.keys())]))\n",
    "print(len(clusters_2))\n",
    "print(sum([len(clusters_2[k]) for k in list(clusters_2.keys())]))\n",
    "print(len(clusters_3))\n",
    "print(sum([len(clusters_3[k]) for k in list(clusters_3.keys())]))\n",
    "print(len(clusters_4))\n",
    "print(sum([len(clusters_4[k]) for k in list(clusters_4.keys())]))\n"
   ]
  },
  {
   "cell_type": "code",
   "execution_count": 18,
   "id": "e3292063",
   "metadata": {},
   "outputs": [
    {
     "name": "stdout",
     "output_type": "stream",
     "text": [
      "8068\n",
      "to remove 17489\n",
      "5308\n",
      "9920\n",
      "to remove 38460\n",
      "6092\n",
      "10222\n",
      "to remove 76631\n",
      "6083\n",
      "9555\n",
      "to remove 25460\n",
      "6020\n",
      "9965\n",
      "to remove 40737\n",
      "6136\n",
      "10254\n",
      "to remove 67735\n",
      "6097\n",
      "10205\n",
      "to remove 75754\n",
      "6143\n",
      "10188\n",
      "to remove 62075\n",
      "6103\n",
      "9922\n",
      "to remove 70326\n",
      "6049\n",
      "10284\n",
      "to remove 80932\n",
      "6165\n",
      "9505\n",
      "to remove 27947\n",
      "5992\n",
      "7509\n",
      "to remove 10982\n",
      "5070\n",
      "10145\n",
      "to remove 65001\n",
      "6085\n",
      "2190\n",
      "to remove 891\n",
      "1618\n",
      "10320\n",
      "to remove 73570\n",
      "6192\n",
      "10321\n",
      "to remove 84731\n",
      "6142\n"
     ]
    }
   ],
   "source": [
    "cluster_file = data_root / \"clusterRes_cdr3b_50_cluster.tsv\"\n",
    "loo_train_partitions, loo_test_partitions, loo_valid_partitions, unique_peptides = generate_3_loo_partitions(metadata, cluster_file)"
   ]
  },
  {
   "cell_type": "code",
   "execution_count": 17,
   "id": "97331b68",
   "metadata": {},
   "outputs": [
    {
     "name": "stdout",
     "output_type": "stream",
     "text": [
      "7814\n",
      "8105\n",
      "8147\n",
      "8066\n",
      "8156\n",
      "8185\n",
      "8174\n",
      "8181\n",
      "8102\n",
      "8165\n",
      "8097\n",
      "7624\n",
      "8176\n",
      "7911\n",
      "8194\n",
      "8195\n"
     ]
    }
   ],
   "source": [
    "for i in range(len(loo_train_partitions)):\n",
    "    print(sum([len(loo_train_partitions[i]), len(loo_valid_partitions[i]), len(loo_test_partitions[i])]))"
   ]
  },
  {
   "cell_type": "code",
   "execution_count": 62,
   "id": "28755e3b",
   "metadata": {},
   "outputs": [
    {
     "name": "stdout",
     "output_type": "stream",
     "text": [
      "train: 8698 valid: 52\n",
      "train: 8685 valid: 45\n",
      "train: 8547 valid: 144\n",
      "train: 8727 valid: 24\n",
      "train: 8716 valid: 35\n",
      "train: 8674 valid: 60\n",
      "train: 8673 valid: 42\n",
      "train: 8508 valid: 124\n",
      "train: 8733 valid: 21\n",
      "train: 8477 valid: 153\n",
      "train: 6775 valid: 1042\n",
      "train: 8681 valid: 48\n",
      "train: 1570 valid: 5713\n",
      "train: 8765 valid: 5\n",
      "train: 8768 valid: 3\n",
      "test: 834\n",
      "train: 8698 valid: 832\n",
      "train: 10127 valid: 46\n",
      "train: 9982 valid: 149\n",
      "train: 10180 valid: 24\n",
      "train: 10166 valid: 36\n",
      "train: 10122 valid: 62\n",
      "train: 10128 valid: 42\n",
      "train: 9950 valid: 127\n",
      "train: 10186 valid: 22\n",
      "train: 9922 valid: 155\n",
      "train: 8144 valid: 1061\n",
      "train: 10135 valid: 48\n",
      "train: 2326 valid: 5830\n",
      "train: 10220 valid: 5\n",
      "train: 10223 valid: 3\n",
      "test: 54\n",
      "train: 8685 valid: 833\n",
      "train: 10127 valid: 54\n",
      "train: 9967 valid: 149\n",
      "train: 10165 valid: 24\n",
      "train: 10151 valid: 36\n",
      "train: 10106 valid: 62\n",
      "train: 10110 valid: 43\n",
      "train: 9936 valid: 127\n",
      "train: 10171 valid: 22\n",
      "train: 9907 valid: 155\n",
      "train: 8127 valid: 1062\n",
      "train: 10119 valid: 48\n",
      "train: 2325 valid: 5834\n",
      "train: 10205 valid: 5\n",
      "train: 10208 valid: 3\n",
      "test: 46\n",
      "train: 8547 valid: 829\n",
      "train: 9982 valid: 54\n",
      "train: 9967 valid: 46\n",
      "train: 10021 valid: 24\n",
      "train: 10006 valid: 36\n",
      "train: 9962 valid: 62\n",
      "train: 9966 valid: 43\n",
      "train: 9795 valid: 126\n",
      "train: 10026 valid: 22\n",
      "train: 9764 valid: 154\n",
      "train: 7997 valid: 1058\n",
      "train: 9976 valid: 47\n",
      "train: 2221 valid: 5823\n",
      "train: 10060 valid: 5\n",
      "train: 10063 valid: 3\n",
      "test: 149\n",
      "train: 8727 valid: 834\n",
      "train: 10180 valid: 54\n",
      "train: 10165 valid: 46\n",
      "train: 10021 valid: 149\n",
      "train: 10204 valid: 36\n",
      "train: 10159 valid: 62\n",
      "train: 10163 valid: 43\n",
      "train: 9988 valid: 127\n",
      "train: 10224 valid: 22\n",
      "train: 9960 valid: 155\n",
      "train: 8183 valid: 1061\n",
      "train: 10172 valid: 48\n",
      "train: 2356 valid: 5834\n",
      "train: 10258 valid: 5\n",
      "train: 10261 valid: 3\n",
      "test: 24\n",
      "train: 8716 valid: 833\n",
      "train: 10166 valid: 54\n",
      "train: 10151 valid: 46\n",
      "train: 10006 valid: 149\n",
      "train: 10204 valid: 24\n",
      "train: 10145 valid: 62\n",
      "train: 10149 valid: 43\n",
      "train: 9976 valid: 126\n",
      "train: 10210 valid: 22\n",
      "train: 9946 valid: 155\n",
      "train: 8166 valid: 1062\n",
      "train: 10158 valid: 48\n",
      "train: 2343 valid: 5834\n",
      "train: 10244 valid: 5\n",
      "train: 10247 valid: 3\n",
      "test: 36\n",
      "train: 8674 valid: 832\n",
      "train: 10122 valid: 54\n",
      "train: 10106 valid: 46\n",
      "train: 9962 valid: 149\n",
      "train: 10159 valid: 24\n",
      "train: 10145 valid: 36\n",
      "train: 10104 valid: 43\n",
      "train: 9931 valid: 127\n",
      "train: 10165 valid: 22\n",
      "train: 9905 valid: 153\n",
      "train: 8123 valid: 1061\n",
      "train: 10113 valid: 48\n",
      "train: 2311 valid: 5833\n",
      "train: 10199 valid: 5\n",
      "train: 10202 valid: 3\n",
      "test: 62\n",
      "train: 8673 valid: 833\n",
      "train: 10128 valid: 53\n",
      "train: 10110 valid: 46\n",
      "train: 9966 valid: 149\n",
      "train: 10163 valid: 24\n",
      "train: 10149 valid: 36\n",
      "train: 10104 valid: 62\n",
      "train: 9933 valid: 127\n",
      "train: 10169 valid: 22\n",
      "train: 9906 valid: 155\n",
      "train: 8129 valid: 1061\n",
      "train: 10117 valid: 48\n",
      "train: 2335 valid: 5833\n",
      "train: 10203 valid: 5\n",
      "train: 10206 valid: 3\n",
      "test: 43\n",
      "train: 8508 valid: 831\n",
      "train: 9950 valid: 54\n",
      "train: 9936 valid: 46\n",
      "train: 9795 valid: 148\n",
      "train: 9988 valid: 24\n",
      "train: 9976 valid: 35\n",
      "train: 9931 valid: 62\n",
      "train: 9933 valid: 43\n",
      "train: 9994 valid: 22\n",
      "train: 9733 valid: 155\n",
      "train: 7964 valid: 1060\n",
      "train: 9942 valid: 48\n",
      "train: 2244 valid: 5819\n",
      "train: 10028 valid: 5\n",
      "train: 10031 valid: 3\n",
      "test: 127\n",
      "train: 8733 valid: 833\n",
      "train: 10186 valid: 54\n",
      "train: 10171 valid: 46\n",
      "train: 10026 valid: 149\n",
      "train: 10224 valid: 24\n",
      "train: 10210 valid: 36\n",
      "train: 10165 valid: 62\n",
      "train: 10169 valid: 43\n",
      "train: 9994 valid: 127\n",
      "train: 9967 valid: 155\n",
      "train: 8186 valid: 1062\n",
      "train: 10178 valid: 48\n",
      "train: 2359 valid: 5834\n",
      "train: 10264 valid: 5\n",
      "train: 10267 valid: 3\n",
      "test: 22\n",
      "train: 8477 valid: 832\n",
      "train: 9922 valid: 54\n",
      "train: 9907 valid: 46\n",
      "train: 9764 valid: 148\n",
      "train: 9960 valid: 24\n",
      "train: 9946 valid: 36\n",
      "train: 9905 valid: 60\n",
      "train: 9906 valid: 43\n",
      "train: 9733 valid: 127\n",
      "train: 9967 valid: 22\n",
      "train: 7936 valid: 1059\n",
      "train: 9915 valid: 48\n",
      "train: 2225 valid: 5816\n",
      "train: 10000 valid: 5\n",
      "train: 10003 valid: 3\n",
      "test: 155\n",
      "train: 6775 valid: 814\n",
      "train: 8144 valid: 53\n",
      "train: 8127 valid: 46\n",
      "train: 7997 valid: 145\n",
      "train: 8183 valid: 23\n",
      "train: 8166 valid: 36\n",
      "train: 8123 valid: 61\n",
      "train: 8129 valid: 42\n",
      "train: 7964 valid: 125\n",
      "train: 8186 valid: 22\n",
      "train: 7936 valid: 152\n",
      "train: 8150 valid: 45\n",
      "train: 1386 valid: 5671\n",
      "train: 8219 valid: 5\n",
      "train: 8223 valid: 3\n",
      "test: 1062\n",
      "train: 8681 valid: 834\n",
      "train: 10135 valid: 54\n",
      "train: 10119 valid: 46\n",
      "train: 9976 valid: 148\n",
      "train: 10172 valid: 24\n",
      "train: 10158 valid: 36\n",
      "train: 10113 valid: 62\n",
      "train: 10117 valid: 43\n",
      "train: 9942 valid: 127\n",
      "train: 10178 valid: 22\n",
      "train: 9915 valid: 155\n",
      "train: 8150 valid: 1059\n",
      "train: 2324 valid: 5832\n",
      "train: 10212 valid: 5\n",
      "train: 10215 valid: 3\n",
      "test: 48\n",
      "train: 1570 valid: 708\n",
      "train: 2326 valid: 45\n",
      "train: 2325 valid: 41\n",
      "train: 2221 valid: 133\n",
      "train: 2356 valid: 19\n",
      "train: 2343 valid: 31\n",
      "train: 2311 valid: 56\n",
      "train: 2335 valid: 37\n",
      "train: 2244 valid: 107\n",
      "train: 2359 valid: 17\n",
      "train: 2225 valid: 132\n",
      "train: 1386 valid: 894\n",
      "train: 2324 valid: 41\n",
      "train: 2375 valid: 3\n",
      "train: 2374 valid: 3\n",
      "test: 5839\n",
      "train: 8765 valid: 834\n",
      "train: 10220 valid: 54\n",
      "train: 10205 valid: 46\n",
      "train: 10060 valid: 149\n",
      "train: 10258 valid: 24\n",
      "train: 10244 valid: 36\n",
      "train: 10199 valid: 62\n",
      "train: 10203 valid: 43\n",
      "train: 10028 valid: 127\n",
      "train: 10264 valid: 22\n",
      "train: 10000 valid: 155\n",
      "train: 8219 valid: 1062\n",
      "train: 10212 valid: 48\n",
      "train: 2375 valid: 5837\n",
      "train: 10301 valid: 3\n",
      "test: 5\n",
      "train: 8768 valid: 834\n",
      "train: 10223 valid: 54\n",
      "train: 10208 valid: 46\n",
      "train: 10063 valid: 149\n",
      "train: 10261 valid: 24\n",
      "train: 10247 valid: 36\n",
      "train: 10202 valid: 62\n",
      "train: 10206 valid: 43\n",
      "train: 10031 valid: 127\n",
      "train: 10267 valid: 22\n",
      "train: 10003 valid: 155\n",
      "train: 8223 valid: 1062\n",
      "train: 10215 valid: 48\n",
      "train: 2374 valid: 5839\n",
      "train: 10301 valid: 5\n",
      "test: 3\n"
     ]
    }
   ],
   "source": [
    "\n",
    "#inner_loo_train_partitions, inner_loo_valid_partitions = some_other_func()\n",
    "\n",
    "model_ensemble = list()\n",
    "\n",
    "outer_train_partitions, test_partitions, unique_peptides = generate_loo_partitions(metadata)\n",
    "\n",
    "for outer_train_idx, test_idx in zip(outer_train_partitions, test_partitions):\n",
    "    inner_metadata = metadata.iloc[outer_train_idx].copy(deep=True)\n",
    "    \n",
    "    inner_train_partitions, inner_valid_partitions, _ = generate_loo_partitions(inner_metadata)\n",
    "\n",
    "    for train_idx, valid_idx in zip(inner_train_partitions, inner_valid_partitions):\n",
    "        print(\"train:\", len(train_idx), \"valid:\",len(valid_idx))\n",
    "        #model_ensemble.append(copy.deepcopy(net.state_dict()))\n",
    "    print(\"test:\", len(test_idx))\n",
    "\n",
    "    \n",
    "\n",
    "#ensemble_states = dict()\n",
    "#for i, net in model_ensemble:\n",
    "#    ensemble_states[i] = net\n",
    "#torch.save(ensemble_states)\n",
    "#https://pytorch.org/tutorials/recipes/recipes/saving_multiple_models_in_one_file.html\n",
    "#def ensemble_lstm_predict()\n",
    "\n",
    "\n",
    "def ensemble_lstm_predict(ensemble, dataset, idx, device, collate_fn=pad_collate_chain_split):\n",
    "    data_loader = DataLoader(dataset=dataset, sampler=idx, batch_size=1, collate_fn=collate_fn)\n",
    "    pred = list()\n",
    "    true = list()\n",
    "    model.eval()\n",
    "    with torch.no_grad():\n",
    "        for xx, y in data_loader:\n",
    "            y = y.to(device)    \n",
    "            if type(xx) == list:\n",
    "                xx = (x.to(device) for x in xx)\n",
    "                y_pred = torch.mean(torch.Tensor([torch.sigmoid(model(*xx)) for model in ensemble]))\n",
    "            else:\n",
    "                xx = xx.to(device)\n",
    "                y_pred = torch.mean(torch.Tensor([torch.sigmoid(model(xx)) for model in ensemble]))\n",
    "            pred.append(y_pred)\n",
    "            true.append(y)\n",
    "    return torch.Tensor(pred), torch.Tensor(true)"
   ]
  },
  {
   "cell_type": "code",
   "execution_count": 56,
   "id": "5b8562b0",
   "metadata": {},
   "outputs": [
    {
     "data": {
      "text/plain": [
       "tensor(1.)"
      ]
     },
     "execution_count": 56,
     "metadata": {},
     "output_type": "execute_result"
    }
   ],
   "source": [
    "t = torch.Tensor([torch.Tensor([1]), torch.Tensor([1]), torch.Tensor([1]), torch.Tensor([1])])\n",
    "torch.mean(t)"
   ]
  },
  {
   "cell_type": "code",
   "execution_count": 55,
   "id": "9c45ea3a",
   "metadata": {},
   "outputs": [
    {
     "data": {
      "text/plain": [
       "tensor(7.1001e-25)"
      ]
     },
     "execution_count": 55,
     "metadata": {},
     "output_type": "execute_result"
    }
   ],
   "source": [
    "t[0]"
   ]
  },
  {
   "cell_type": "code",
   "execution_count": 47,
   "id": "98240618",
   "metadata": {},
   "outputs": [
    {
     "data": {
      "text/html": [
       "<div>\n",
       "<style scoped>\n",
       "    .dataframe tbody tr th:only-of-type {\n",
       "        vertical-align: middle;\n",
       "    }\n",
       "\n",
       "    .dataframe tbody tr th {\n",
       "        vertical-align: top;\n",
       "    }\n",
       "\n",
       "    .dataframe thead th {\n",
       "        text-align: right;\n",
       "    }\n",
       "</style>\n",
       "<table border=\"1\" class=\"dataframe\">\n",
       "  <thead>\n",
       "    <tr style=\"text-align: right;\">\n",
       "      <th></th>\n",
       "      <th>#ID</th>\n",
       "      <th>CDR3a</th>\n",
       "      <th>CDR3b</th>\n",
       "      <th>peptide</th>\n",
       "      <th>partition</th>\n",
       "      <th>binder</th>\n",
       "      <th>v_gene_alpha</th>\n",
       "      <th>j_gene_alpha</th>\n",
       "      <th>v_gene_beta</th>\n",
       "      <th>j_gene_beta</th>\n",
       "      <th>origin</th>\n",
       "      <th>v_alpha_vdjdb_name</th>\n",
       "      <th>j_alpha_vdjdb_name</th>\n",
       "      <th>v_beta_vdjdb_name</th>\n",
       "      <th>j_beta_vdjdb_name</th>\n",
       "      <th>path</th>\n",
       "      <th>merged_chains</th>\n",
       "    </tr>\n",
       "  </thead>\n",
       "  <tbody>\n",
       "    <tr>\n",
       "      <th>427</th>\n",
       "      <td>545</td>\n",
       "      <td>AGSRSNDYKLS</td>\n",
       "      <td>ASSIVRGGVYNEQF</td>\n",
       "      <td>GILGFVFTL</td>\n",
       "      <td>1</td>\n",
       "      <td>0</td>\n",
       "      <td>TRAV25</td>\n",
       "      <td>TRAJ20</td>\n",
       "      <td>TRBV19</td>\n",
       "      <td>TRBJ2-1</td>\n",
       "      <td>tenX</td>\n",
       "      <td>TRAV25*01</td>\n",
       "      <td>TRAJ20*01</td>\n",
       "      <td>TRBV19*01</td>\n",
       "      <td>TRBJ2-1*01</td>\n",
       "      <td>/home/sebastian/masters/data/neat_data/raw/tcr...</td>\n",
       "      <td>AGSRSNDYKLSASSIVRGGVYNEQF</td>\n",
       "    </tr>\n",
       "    <tr>\n",
       "      <th>428</th>\n",
       "      <td>546</td>\n",
       "      <td>AVVSGTYKYI</td>\n",
       "      <td>SARDPETSSYEQY</td>\n",
       "      <td>GILGFVFTL</td>\n",
       "      <td>1</td>\n",
       "      <td>0</td>\n",
       "      <td>TRAV39</td>\n",
       "      <td>TRAJ40</td>\n",
       "      <td>TRBV20-1</td>\n",
       "      <td>TRBJ2-7</td>\n",
       "      <td>tenX</td>\n",
       "      <td>TRAV39*01</td>\n",
       "      <td>TRAJ40*01</td>\n",
       "      <td>TRBV20-1*01</td>\n",
       "      <td>TRBJ2-7*01</td>\n",
       "      <td>/home/sebastian/masters/data/neat_data/raw/tcr...</td>\n",
       "      <td>AVVSGTYKYISARDPETSSYEQY</td>\n",
       "    </tr>\n",
       "    <tr>\n",
       "      <th>429</th>\n",
       "      <td>547</td>\n",
       "      <td>ALLDTDKLI</td>\n",
       "      <td>ASSLARGEKLF</td>\n",
       "      <td>GILGFVFTL</td>\n",
       "      <td>1</td>\n",
       "      <td>0</td>\n",
       "      <td>TRAV19</td>\n",
       "      <td>TRAJ34</td>\n",
       "      <td>TRBV7-9</td>\n",
       "      <td>TRBJ1-4</td>\n",
       "      <td>tenX</td>\n",
       "      <td>TRAV19*01</td>\n",
       "      <td>TRAJ34*01</td>\n",
       "      <td>TRBV7-9*01</td>\n",
       "      <td>TRBJ1-4*01</td>\n",
       "      <td>/home/sebastian/masters/data/neat_data/raw/tcr...</td>\n",
       "      <td>ALLDTDKLIASSLARGEKLF</td>\n",
       "    </tr>\n",
       "    <tr>\n",
       "      <th>430</th>\n",
       "      <td>548</td>\n",
       "      <td>AASETSYDKVI</td>\n",
       "      <td>ASSPGPSYEQY</td>\n",
       "      <td>GILGFVFTL</td>\n",
       "      <td>1</td>\n",
       "      <td>0</td>\n",
       "      <td>TRAV13-1</td>\n",
       "      <td>TRAJ50</td>\n",
       "      <td>TRBV19</td>\n",
       "      <td>TRBJ2-7</td>\n",
       "      <td>tenX</td>\n",
       "      <td>TRAV13-1*01</td>\n",
       "      <td>TRAJ50*01</td>\n",
       "      <td>TRBV19*01</td>\n",
       "      <td>TRBJ2-7*01</td>\n",
       "      <td>/home/sebastian/masters/data/neat_data/raw/tcr...</td>\n",
       "      <td>AASETSYDKVIASSPGPSYEQY</td>\n",
       "    </tr>\n",
       "    <tr>\n",
       "      <th>431</th>\n",
       "      <td>549</td>\n",
       "      <td>AMREGGDKII</td>\n",
       "      <td>ASSPERVEQY</td>\n",
       "      <td>GILGFVFTL</td>\n",
       "      <td>1</td>\n",
       "      <td>0</td>\n",
       "      <td>TRAV14DV4</td>\n",
       "      <td>TRAJ30</td>\n",
       "      <td>TRBV7-9</td>\n",
       "      <td>TRBJ2-7</td>\n",
       "      <td>tenX</td>\n",
       "      <td>TRAV14/DV4*01</td>\n",
       "      <td>TRAJ30*01</td>\n",
       "      <td>TRBV7-9*01</td>\n",
       "      <td>TRBJ2-7*01</td>\n",
       "      <td>/home/sebastian/masters/data/neat_data/raw/tcr...</td>\n",
       "      <td>AMREGGDKIIASSPERVEQY</td>\n",
       "    </tr>\n",
       "    <tr>\n",
       "      <th>...</th>\n",
       "      <td>...</td>\n",
       "      <td>...</td>\n",
       "      <td>...</td>\n",
       "      <td>...</td>\n",
       "      <td>...</td>\n",
       "      <td>...</td>\n",
       "      <td>...</td>\n",
       "      <td>...</td>\n",
       "      <td>...</td>\n",
       "      <td>...</td>\n",
       "      <td>...</td>\n",
       "      <td>...</td>\n",
       "      <td>...</td>\n",
       "      <td>...</td>\n",
       "      <td>...</td>\n",
       "      <td>...</td>\n",
       "      <td>...</td>\n",
       "    </tr>\n",
       "    <tr>\n",
       "      <th>10326</th>\n",
       "      <td>12961</td>\n",
       "      <td>AVNSYYNQGGKLI</td>\n",
       "      <td>SVLQGSPYEQY</td>\n",
       "      <td>GILGFVFTL</td>\n",
       "      <td>1</td>\n",
       "      <td>1</td>\n",
       "      <td>TRAV12-2*01</td>\n",
       "      <td>TRAJ23*01</td>\n",
       "      <td>TRBV29-1*01</td>\n",
       "      <td>TRBJ2-7*01</td>\n",
       "      <td>positive</td>\n",
       "      <td>TRAV12-2*01</td>\n",
       "      <td>TRAJ23*01</td>\n",
       "      <td>TRBV29-1*01</td>\n",
       "      <td>TRBJ2-7*01</td>\n",
       "      <td>/home/sebastian/masters/data/neat_data/raw/tcr...</td>\n",
       "      <td>AVNSYYNQGGKLISVLQGSPYEQY</td>\n",
       "    </tr>\n",
       "    <tr>\n",
       "      <th>10327</th>\n",
       "      <td>12962</td>\n",
       "      <td>AGNYGGSQGNLI</td>\n",
       "      <td>ASSIYSVNEQF</td>\n",
       "      <td>GILGFVFTL</td>\n",
       "      <td>1</td>\n",
       "      <td>1</td>\n",
       "      <td>TRAV35*01</td>\n",
       "      <td>TRAJ42*01</td>\n",
       "      <td>TRBV19*01</td>\n",
       "      <td>TRBJ2-1*01</td>\n",
       "      <td>positive</td>\n",
       "      <td>TRAV35*01</td>\n",
       "      <td>TRAJ42*01</td>\n",
       "      <td>TRBV19*01</td>\n",
       "      <td>TRBJ2-1*01</td>\n",
       "      <td>/home/sebastian/masters/data/neat_data/raw/tcr...</td>\n",
       "      <td>AGNYGGSQGNLIASSIYSVNEQF</td>\n",
       "    </tr>\n",
       "    <tr>\n",
       "      <th>10328</th>\n",
       "      <td>12966</td>\n",
       "      <td>AVGGSQGNLI</td>\n",
       "      <td>ASSVRSSYEQY</td>\n",
       "      <td>GILGFVFTL</td>\n",
       "      <td>1</td>\n",
       "      <td>1</td>\n",
       "      <td>TRAV8-6*02</td>\n",
       "      <td>TRAJ42*01</td>\n",
       "      <td>TRBV19*01</td>\n",
       "      <td>TRBJ2-7*01</td>\n",
       "      <td>positive</td>\n",
       "      <td>TRAV8-6*01</td>\n",
       "      <td>TRAJ42*01</td>\n",
       "      <td>TRBV19*01</td>\n",
       "      <td>TRBJ2-7*01</td>\n",
       "      <td>/home/sebastian/masters/data/neat_data/raw/tcr...</td>\n",
       "      <td>AVGGSQGNLIASSVRSSYEQY</td>\n",
       "    </tr>\n",
       "    <tr>\n",
       "      <th>10329</th>\n",
       "      <td>12968</td>\n",
       "      <td>AENGGGGADGLT</td>\n",
       "      <td>ASSIRSSYEQY</td>\n",
       "      <td>GILGFVFTL</td>\n",
       "      <td>1</td>\n",
       "      <td>1</td>\n",
       "      <td>TRAV13-2*01</td>\n",
       "      <td>TRAJ45*01</td>\n",
       "      <td>TRBV19*01</td>\n",
       "      <td>TRBJ2-7*01</td>\n",
       "      <td>positive</td>\n",
       "      <td>TRAV13-2*01</td>\n",
       "      <td>TRAJ45*01</td>\n",
       "      <td>TRBV19*01</td>\n",
       "      <td>TRBJ2-7*01</td>\n",
       "      <td>/home/sebastian/masters/data/neat_data/raw/tcr...</td>\n",
       "      <td>AENGGGGADGLTASSIRSSYEQY</td>\n",
       "    </tr>\n",
       "    <tr>\n",
       "      <th>10330</th>\n",
       "      <td>12971</td>\n",
       "      <td>AVSGSQGNLI</td>\n",
       "      <td>ASSLRSSYEQY</td>\n",
       "      <td>GILGFVFTL</td>\n",
       "      <td>1</td>\n",
       "      <td>1</td>\n",
       "      <td>TRAV8-6*02</td>\n",
       "      <td>TRAJ42*01</td>\n",
       "      <td>TRBV19*01</td>\n",
       "      <td>TRBJ2-7*01</td>\n",
       "      <td>positive</td>\n",
       "      <td>TRAV8-6*01</td>\n",
       "      <td>TRAJ42*01</td>\n",
       "      <td>TRBV19*01</td>\n",
       "      <td>TRBJ2-7*01</td>\n",
       "      <td>/home/sebastian/masters/data/neat_data/raw/tcr...</td>\n",
       "      <td>AVSGSQGNLIASSLRSSYEQY</td>\n",
       "    </tr>\n",
       "  </tbody>\n",
       "</table>\n",
       "<p>6219 rows × 17 columns</p>\n",
       "</div>"
      ],
      "text/plain": [
       "         #ID          CDR3a           CDR3b    peptide  partition  binder  \\\n",
       "427      545    AGSRSNDYKLS  ASSIVRGGVYNEQF  GILGFVFTL          1       0   \n",
       "428      546     AVVSGTYKYI   SARDPETSSYEQY  GILGFVFTL          1       0   \n",
       "429      547      ALLDTDKLI     ASSLARGEKLF  GILGFVFTL          1       0   \n",
       "430      548    AASETSYDKVI     ASSPGPSYEQY  GILGFVFTL          1       0   \n",
       "431      549     AMREGGDKII      ASSPERVEQY  GILGFVFTL          1       0   \n",
       "...      ...            ...             ...        ...        ...     ...   \n",
       "10326  12961  AVNSYYNQGGKLI     SVLQGSPYEQY  GILGFVFTL          1       1   \n",
       "10327  12962   AGNYGGSQGNLI     ASSIYSVNEQF  GILGFVFTL          1       1   \n",
       "10328  12966     AVGGSQGNLI     ASSVRSSYEQY  GILGFVFTL          1       1   \n",
       "10329  12968   AENGGGGADGLT     ASSIRSSYEQY  GILGFVFTL          1       1   \n",
       "10330  12971     AVSGSQGNLI     ASSLRSSYEQY  GILGFVFTL          1       1   \n",
       "\n",
       "      v_gene_alpha j_gene_alpha  v_gene_beta j_gene_beta    origin  \\\n",
       "427         TRAV25       TRAJ20       TRBV19     TRBJ2-1      tenX   \n",
       "428         TRAV39       TRAJ40     TRBV20-1     TRBJ2-7      tenX   \n",
       "429         TRAV19       TRAJ34      TRBV7-9     TRBJ1-4      tenX   \n",
       "430       TRAV13-1       TRAJ50       TRBV19     TRBJ2-7      tenX   \n",
       "431      TRAV14DV4       TRAJ30      TRBV7-9     TRBJ2-7      tenX   \n",
       "...            ...          ...          ...         ...       ...   \n",
       "10326  TRAV12-2*01    TRAJ23*01  TRBV29-1*01  TRBJ2-7*01  positive   \n",
       "10327    TRAV35*01    TRAJ42*01    TRBV19*01  TRBJ2-1*01  positive   \n",
       "10328   TRAV8-6*02    TRAJ42*01    TRBV19*01  TRBJ2-7*01  positive   \n",
       "10329  TRAV13-2*01    TRAJ45*01    TRBV19*01  TRBJ2-7*01  positive   \n",
       "10330   TRAV8-6*02    TRAJ42*01    TRBV19*01  TRBJ2-7*01  positive   \n",
       "\n",
       "      v_alpha_vdjdb_name  j_alpha_vdjdb_name  v_beta_vdjdb_name  \\\n",
       "427            TRAV25*01           TRAJ20*01          TRBV19*01   \n",
       "428            TRAV39*01           TRAJ40*01        TRBV20-1*01   \n",
       "429            TRAV19*01           TRAJ34*01         TRBV7-9*01   \n",
       "430          TRAV13-1*01           TRAJ50*01          TRBV19*01   \n",
       "431        TRAV14/DV4*01           TRAJ30*01         TRBV7-9*01   \n",
       "...                  ...                 ...                ...   \n",
       "10326        TRAV12-2*01           TRAJ23*01        TRBV29-1*01   \n",
       "10327          TRAV35*01           TRAJ42*01          TRBV19*01   \n",
       "10328         TRAV8-6*01           TRAJ42*01          TRBV19*01   \n",
       "10329        TRAV13-2*01           TRAJ45*01          TRBV19*01   \n",
       "10330         TRAV8-6*01           TRAJ42*01          TRBV19*01   \n",
       "\n",
       "       j_beta_vdjdb_name                                               path  \\\n",
       "427           TRBJ2-1*01  /home/sebastian/masters/data/neat_data/raw/tcr...   \n",
       "428           TRBJ2-7*01  /home/sebastian/masters/data/neat_data/raw/tcr...   \n",
       "429           TRBJ1-4*01  /home/sebastian/masters/data/neat_data/raw/tcr...   \n",
       "430           TRBJ2-7*01  /home/sebastian/masters/data/neat_data/raw/tcr...   \n",
       "431           TRBJ2-7*01  /home/sebastian/masters/data/neat_data/raw/tcr...   \n",
       "...                  ...                                                ...   \n",
       "10326         TRBJ2-7*01  /home/sebastian/masters/data/neat_data/raw/tcr...   \n",
       "10327         TRBJ2-1*01  /home/sebastian/masters/data/neat_data/raw/tcr...   \n",
       "10328         TRBJ2-7*01  /home/sebastian/masters/data/neat_data/raw/tcr...   \n",
       "10329         TRBJ2-7*01  /home/sebastian/masters/data/neat_data/raw/tcr...   \n",
       "10330         TRBJ2-7*01  /home/sebastian/masters/data/neat_data/raw/tcr...   \n",
       "\n",
       "                   merged_chains  \n",
       "427    AGSRSNDYKLSASSIVRGGVYNEQF  \n",
       "428      AVVSGTYKYISARDPETSSYEQY  \n",
       "429         ALLDTDKLIASSLARGEKLF  \n",
       "430       AASETSYDKVIASSPGPSYEQY  \n",
       "431         AMREGGDKIIASSPERVEQY  \n",
       "...                          ...  \n",
       "10326   AVNSYYNQGGKLISVLQGSPYEQY  \n",
       "10327    AGNYGGSQGNLIASSIYSVNEQF  \n",
       "10328      AVGGSQGNLIASSVRSSYEQY  \n",
       "10329    AENGGGGADGLTASSIRSSYEQY  \n",
       "10330      AVSGSQGNLIASSLRSSYEQY  \n",
       "\n",
       "[6219 rows x 17 columns]"
      ]
     },
     "execution_count": 47,
     "metadata": {},
     "output_type": "execute_result"
    }
   ],
   "source": [
    "inner_metadata[inner_metadata[\"peptide\"] == \"GILGFVFTL\"]"
   ]
  },
  {
   "cell_type": "code",
   "execution_count": 44,
   "id": "c4bb1360",
   "metadata": {},
   "outputs": [
    {
     "data": {
      "text/plain": [
       "array(['NLVPMVATV', 'SLFNTVATL', 'KTWGQYWQV', 'RTLNAWVKV', 'KVLEYVIKV',\n",
       "       'YLLEMLWRL', 'IMDQVPFSV', 'MLDLQPETT', 'FLYALALLL', 'SLLMWITQV',\n",
       "       'LLFGYPVYV', 'GLCTLVAML', 'RMFPNAPYL', 'GILGFVFTL', 'KLQCVDLHV',\n",
       "       'KVAELVHFL'], dtype=object)"
      ]
     },
     "execution_count": 44,
     "metadata": {},
     "output_type": "execute_result"
    }
   ],
   "source": [
    "unique_peptides"
   ]
  },
  {
   "cell_type": "code",
   "execution_count": 80,
   "id": "a476ebdd",
   "metadata": {},
   "outputs": [],
   "source": [
    "n_splits = 5\n",
    "i = 1\n",
    "test_idx = partitions[i]\n",
    "partitions = [[\"A\"], [\"B\"], [\"C\"], [\"D\"], [\"E\"]]\n",
    "outer_train_folds = [partitions[j] for j in range(n_splits) if j != i]\n",
    "inner_train_partitions, inner_valid_partitions = join_partitions(outer_train_folds)"
   ]
  },
  {
   "cell_type": "code",
   "execution_count": 81,
   "id": "07e40af7",
   "metadata": {},
   "outputs": [
    {
     "name": "stdout",
     "output_type": "stream",
     "text": [
      "test ['B']\n",
      "train [['A'], ['C'], ['D'], ['E']]\n",
      "inner train [['C', 'D', 'E'], ['A', 'D', 'E'], ['A', 'C', 'E'], ['A', 'C', 'D']]\n",
      "inner valid [['A'], ['C'], ['D'], ['E']]\n"
     ]
    }
   ],
   "source": [
    "print(\"test\", test_idx)\n",
    "print(\"train\", outer_train_folds)\n",
    "print(\"inner train\", inner_train_partitions)\n",
    "print(\"inner valid\", inner_valid_partitions)"
   ]
  },
  {
   "cell_type": "code",
   "execution_count": 97,
   "id": "cfd732fa",
   "metadata": {},
   "outputs": [
    {
     "data": {
      "text/plain": [
       "1"
      ]
     },
     "execution_count": 97,
     "metadata": {},
     "output_type": "execute_result"
    }
   ],
   "source": [
    "len(torch.Tensor([[0],[0],[0],[0]])[0])"
   ]
  },
  {
   "cell_type": "code",
   "execution_count": 111,
   "id": "c9e09508",
   "metadata": {},
   "outputs": [],
   "source": [
    "processed_dir = Path(\"/test/test/test\")\n",
    "idx = 1"
   ]
  },
  {
   "cell_type": "code",
   "execution_count": 113,
   "id": "f4475dba",
   "metadata": {},
   "outputs": [
    {
     "data": {
      "text/plain": [
       "'/test/test/test/data_1.pt'"
      ]
     },
     "execution_count": 113,
     "metadata": {},
     "output_type": "execute_result"
    }
   ],
   "source": [
    "f\"{processed_dir}/data_{idx}.pt\""
   ]
  },
  {
   "cell_type": "code",
   "execution_count": 110,
   "id": "ecb8d316",
   "metadata": {},
   "outputs": [
    {
     "data": {
      "text/plain": [
       "tensor([[0.],\n",
       "        [0.],\n",
       "        [0.],\n",
       "        [0.]])"
      ]
     },
     "execution_count": 110,
     "metadata": {},
     "output_type": "execute_result"
    }
   ],
   "source": [
    "torch.Tensor([0,0,0,0]).unsqueeze(1)"
   ]
  },
  {
   "cell_type": "code",
   "execution_count": null,
   "id": "0569c964",
   "metadata": {},
   "outputs": [],
   "source": [
    "# 5 fold CV\n",
    "\n",
    "metadata_path = data_root / \"metadata.csv\"\n",
    "\n",
    "partitions = [list() for _ in range(5)]\n",
    "targets = list()\n",
    "\n",
    "paths = list(model_dir.glob(\"*\"))\n",
    "for path in paths:\n",
    "    split = str(path).split(\"_\")\n",
    "    \n",
    "    bind_str = split[-2]\n",
    "    if bind_str == \"pos\":\n",
    "        bind = 1\n",
    "    else:\n",
    "        bind = 0\n",
    "    targets.append(bind)\n",
    "    \n",
    "    part = int(split[-3][0]) - 1\n",
    "    partitions[part].append(path)\n",
    "\n",
    "LSTMEnergyDataset(\n",
    "    paths=paths\n",
    "    targets=targets\n",
    ")\n"
   ]
  },
  {
   "cell_type": "code",
   "execution_count": null,
   "id": "a493e6b9",
   "metadata": {},
   "outputs": [],
   "source": [
    "class LSTMEnergyDataset(torch.utils.data.Dataset):\n",
    "    def __init__(\n",
    "        self, \n",
    "        paths, \n",
    "        targets, \n",
    "        transform=None, \n",
    "        target_transform=None\n",
    "    ):\n",
    "        self.data_dir = data_dir\n",
    "        self.transform = transform\n",
    "        self.target_transform = target_transform\n",
    "        self.annotations = torch.Tensor(targts)\n",
    "        self.paths = paths\n",
    "\n",
    "    def __len__(self):\n",
    "        return len(self.annotations)\n",
    "\n",
    "    def __getitem__(self, idx):\n",
    "        x = np.load(self.paths[idx])\n",
    "        time_idx = [92, 116, 140]  # time variables to be removed\n",
    "        for idx in time_idx:\n",
    "            x[:,idx] = 0.0\n",
    "        x = torch.from_numpy(x)\n",
    "        y = self.annotations[idx]\n",
    "        return x, y"
   ]
  },
  {
   "cell_type": "code",
   "execution_count": 66,
   "id": "04c5f10a",
   "metadata": {},
   "outputs": [
    {
     "data": {
      "text/plain": [
       "2"
      ]
     },
     "execution_count": 66,
     "metadata": {},
     "output_type": "execute_result"
    }
   ],
   "source": [
    "t = \"/home/sebastian/masters/data/neat_data/9978_2p_neg_swap.npy\".split(\"_\")\n",
    "int(t[-3][0])"
   ]
  },
  {
   "cell_type": "code",
   "execution_count": 37,
   "id": "010e00ea",
   "metadata": {},
   "outputs": [
    {
     "data": {
      "text/plain": [
       "torch.Size([406, 142])"
      ]
     },
     "execution_count": 37,
     "metadata": {},
     "output_type": "execute_result"
    }
   ],
   "source": [
    "t = np.load(\"/home/sebastian/masters/data/neat_data/9978_2p_neg_swap.npy\")\n",
    "torch.from_numpy(t).shape"
   ]
  },
  {
   "cell_type": "code",
   "execution_count": 11,
   "id": "bba2ddf3",
   "metadata": {},
   "outputs": [
    {
     "data": {
      "text/plain": [
       "torch.Size([414, 132])"
      ]
     },
     "execution_count": 11,
     "metadata": {},
     "output_type": "execute_result"
    }
   ],
   "source": [
    "torch.load(processed_dir / \"proteinsolver_embeddings_pos/data_1.pt\").shape"
   ]
  },
  {
   "cell_type": "code",
   "execution_count": 5,
   "id": "cd6d2941",
   "metadata": {},
   "outputs": [],
   "source": [
    "dataset = LSTMDataset(\n",
    "    data_dir=processed_dir / \"proteinsolver_embeddings\", \n",
    "    annotations_path=processed_dir / \"proteinsolver_embeddings\" / \"targets.pt\"\n",
    ")"
   ]
  },
  {
   "cell_type": "code",
   "execution_count": 6,
   "id": "047bb72a",
   "metadata": {},
   "outputs": [],
   "source": [
    "lens = list()\n",
    "for i in range(len(dataset)):\n",
    "    lens.append(len(dataset[i][0]))"
   ]
  },
  {
   "cell_type": "code",
   "execution_count": 7,
   "id": "36952e7d",
   "metadata": {},
   "outputs": [
    {
     "data": {
      "text/plain": [
       "(array([  1.,   0.,   5.,   4.,  17.,  24.,  76.,  86., 100., 100., 236.,\n",
       "        262., 360., 577., 606., 931., 957., 920., 956., 902., 740., 734.,\n",
       "        554., 457., 311., 197., 120.,  66.,  22.,  10.]),\n",
       " array([390., 391., 392., 393., 394., 395., 396., 397., 398., 399., 400.,\n",
       "        401., 402., 403., 404., 405., 406., 407., 408., 409., 410., 411.,\n",
       "        412., 413., 414., 415., 416., 417., 418., 419., 420.]),\n",
       " <a list of 30 Patch objects>)"
      ]
     },
     "execution_count": 7,
     "metadata": {},
     "output_type": "execute_result"
    },
    {
     "data": {
      "image/png": "[encoded data removed]",
      "text/plain": [
       "<Figure size 432x288 with 1 Axes>"
      ]
     },
     "metadata": {
      "needs_background": "light"
     },
     "output_type": "display_data"
    }
   ],
   "source": [
    "lens = np.array(lens)\n",
    "plt.hist(lens, bins=len(np.unique(lens)))"
   ]
  },
  {
   "cell_type": "code",
   "execution_count": 144,
   "id": "a114e61b",
   "metadata": {},
   "outputs": [
    {
     "ename": "IndexError",
     "evalue": "index 801 is out of bounds for axis 0 with size 10",
     "output_type": "error",
     "traceback": [
      "\u001b[0;31m---------------------------------------------------------------------------\u001b[0m",
      "\u001b[0;31mIndexError\u001b[0m                                Traceback (most recent call last)",
      "\u001b[0;32m/tmp/ipykernel_779/1471245054.py\u001b[0m in \u001b[0;36m<module>\u001b[0;34m\u001b[0m\n\u001b[1;32m      3\u001b[0m \u001b[0mtargets\u001b[0m \u001b[0;34m=\u001b[0m \u001b[0mlist\u001b[0m\u001b[0;34m(\u001b[0m\u001b[0;34m)\u001b[0m\u001b[0;34m\u001b[0m\u001b[0;34m\u001b[0m\u001b[0m\n\u001b[1;32m      4\u001b[0m \u001b[0;32mfor\u001b[0m \u001b[0mi\u001b[0m \u001b[0;32min\u001b[0m \u001b[0mlen_x\u001b[0m\u001b[0;34m[\u001b[0m\u001b[0;36m0\u001b[0m\u001b[0;34m]\u001b[0m\u001b[0;34m:\u001b[0m\u001b[0;34m\u001b[0m\u001b[0;34m\u001b[0m\u001b[0m\n\u001b[0;32m----> 5\u001b[0;31m     \u001b[0mx\u001b[0m\u001b[0;34m,\u001b[0m \u001b[0my\u001b[0m \u001b[0;34m=\u001b[0m \u001b[0mdataset\u001b[0m\u001b[0;34m[\u001b[0m\u001b[0mi\u001b[0m\u001b[0;34m]\u001b[0m\u001b[0;34m\u001b[0m\u001b[0;34m\u001b[0m\u001b[0m\n\u001b[0m\u001b[1;32m      6\u001b[0m     \u001b[0mx\u001b[0m \u001b[0;34m=\u001b[0m \u001b[0mx\u001b[0m\u001b[0;34m.\u001b[0m\u001b[0mflatten\u001b[0m\u001b[0;34m(\u001b[0m\u001b[0;34m)\u001b[0m\u001b[0;34m\u001b[0m\u001b[0;34m\u001b[0m\u001b[0m\n\u001b[1;32m      7\u001b[0m     \u001b[0mflattened\u001b[0m\u001b[0;34m.\u001b[0m\u001b[0mappend\u001b[0m\u001b[0;34m(\u001b[0m\u001b[0mx\u001b[0m\u001b[0;34m.\u001b[0m\u001b[0mnumpy\u001b[0m\u001b[0;34m(\u001b[0m\u001b[0;34m)\u001b[0m\u001b[0;34m)\u001b[0m\u001b[0;34m\u001b[0m\u001b[0;34m\u001b[0m\u001b[0m\n",
      "\u001b[0;32m/tmp/ipykernel_779/4282447565.py\u001b[0m in \u001b[0;36m__getitem__\u001b[0;34m(self, idx)\u001b[0m\n\u001b[1;32m     23\u001b[0m \u001b[0;34m\u001b[0m\u001b[0m\n\u001b[1;32m     24\u001b[0m     \u001b[0;32mdef\u001b[0m \u001b[0m__getitem__\u001b[0m\u001b[0;34m(\u001b[0m\u001b[0mself\u001b[0m\u001b[0;34m,\u001b[0m \u001b[0midx\u001b[0m\u001b[0;34m)\u001b[0m\u001b[0;34m:\u001b[0m\u001b[0;34m\u001b[0m\u001b[0;34m\u001b[0m\u001b[0m\n\u001b[0;32m---> 25\u001b[0;31m         \u001b[0mx\u001b[0m \u001b[0;34m=\u001b[0m \u001b[0mself\u001b[0m\u001b[0;34m.\u001b[0m\u001b[0mdata\u001b[0m\u001b[0;34m[\u001b[0m\u001b[0midx\u001b[0m\u001b[0;34m]\u001b[0m\u001b[0;34m\u001b[0m\u001b[0;34m\u001b[0m\u001b[0m\n\u001b[0m\u001b[1;32m     26\u001b[0m         \u001b[0my\u001b[0m \u001b[0;34m=\u001b[0m \u001b[0mself\u001b[0m\u001b[0;34m.\u001b[0m\u001b[0mannotations\u001b[0m\u001b[0;34m[\u001b[0m\u001b[0midx\u001b[0m\u001b[0;34m]\u001b[0m\u001b[0;34m\u001b[0m\u001b[0;34m\u001b[0m\u001b[0m\n\u001b[1;32m     27\u001b[0m         \u001b[0;32mreturn\u001b[0m \u001b[0mx\u001b[0m\u001b[0;34m,\u001b[0m \u001b[0my\u001b[0m\u001b[0;34m\u001b[0m\u001b[0;34m\u001b[0m\u001b[0m\n",
      "\u001b[0;31mIndexError\u001b[0m: index 801 is out of bounds for axis 0 with size 10"
     ]
    }
   ],
   "source": [
    "len_x = np.where(lens == 392)\n",
    "flattened = list()\n",
    "targets = list()\n",
    "for i in len_x[0]:\n",
    "    x, y = dataset[i]\n",
    "    x = x.flatten()\n",
    "    flattened.append(x.numpy())\n",
    "    targets.append(y.item())\n"
   ]
  },
  {
   "cell_type": "code",
   "execution_count": 91,
   "id": "782dc4a8",
   "metadata": {},
   "outputs": [],
   "source": [
    "class LSTMDatasetInMemory(torch.utils.data.Dataset):\n",
    "    def __init__(\n",
    "        self, \n",
    "        data_dir, \n",
    "        annotations_path, \n",
    "        transform=None, \n",
    "        target_transform=None\n",
    "    ):\n",
    "        self.data_dir = data_dir\n",
    "        self.transform = transform\n",
    "        self.target_transform = target_transform\n",
    "        self.annotations = torch.Tensor(torch.load(annotations_path))\n",
    "        self.data = np.array(\n",
    "            [torch.load(f\"{self.data_dir}/data_{idx}.pt\") for idx in range(len(self.annotations))],\n",
    "            dtype=object\n",
    "        )\n",
    "    \n",
    "    def add_data(self, new_x, new_y):\n",
    "        pass\n",
    "    \n",
    "    def __len__(self):\n",
    "        return len(self.annotations)\n",
    "\n",
    "    def __getitem__(self, idx):\n",
    "        x = self.data[idx]\n",
    "        y = self.annotations[idx]\n",
    "        return x, y\n",
    "    "
   ]
  },
  {
   "cell_type": "code",
   "execution_count": 94,
   "id": "1ad1e5eb",
   "metadata": {},
   "outputs": [
    {
     "name": "stderr",
     "output_type": "stream",
     "text": [
      "/tmp/ipykernel_779/4282447565.py:13: FutureWarning: The input object of type 'Tensor' is an array-like implementing one of the corresponding protocols (`__array__`, `__array_interface__` or `__array_struct__`); but not a sequence (or 0-D). In the future, this object will be coerced as if it was first converted using `np.array(obj)`. To retain the old behaviour, you have to either modify the type 'Tensor', or assign to an empty array created with `np.empty(correct_shape, dtype=object)`.\n",
      "  self.data = np.array(\n"
     ]
    }
   ],
   "source": [
    "from imblearn.over_sampling import SMOTE, BorderlineSMOTE\n",
    "\n",
    "dataset_1 = LSTMDataset(\n",
    "    data_dir=processed_dir / \"test_data\", \n",
    "    annotations_path=processed_dir / \"test_data\" / \"targets.pt\"\n",
    ")\n",
    "\n",
    "dataset_2 = LSTMDatasetInMemory(\n",
    "    data_dir=processed_dir / \"test_data\", \n",
    "    annotations_path=processed_dir / \"test_data\" / \"targets.pt\"\n",
    ")\n",
    "\n",
    "dataset = dataset_2\n",
    "\n",
    "lengths = np.array([len(dataset[i][0]) for i in range(len(dataset))])\n",
    "\n",
    "n_thresh = 0 #50  # TODO: set some number\n",
    "for length in np.unique(lengths):\n",
    "    length_idx = np.where(lengths == length)[0]\n",
    "    if len(length_idx) > n_thresh:  # replace with try/except. Catches both no positive and too few data error.\n",
    "        x_sub, y_sub = dataset[length_idx]\n",
    "        x_sub = torch.stack([x for x in x_sub])\n",
    "        \n",
    "        # split embedding and pos encoding\n",
    "        emb = x_sub[:,:,:-4]\n",
    "        pos = x_sub[:,:,-4:]\n",
    "        \n",
    "        emb = emb.flatten(1)  # reshape to (n_sample, (emb_dim x len))\n",
    "        \n",
    "        sm = BorderlineSMOTE(sampling_strategy=\"minority\", random_state=0)\n",
    "        x_os, y_os = sm.fit_resample(emb, y_sub.squeeze(1))\n",
    "        x_os = x_os[len(emb):]  # slice to only get syntheic data\n",
    "        y_os = y_os[len(emb):]\n",
    "\n",
    "        new_pos = #make a way to get representative positional encoding from x_sub\n",
    "        x_os = x_os.unflatten(0, torch.Size([length, 128]))  # reshape back to (n_sample, emb_dim, len)\n",
    "        x_os = torch.cat((x_os, new_pos), dim=2)  # add positional encoding\n",
    "\n",
    "# load dataset\n",
    "# get training partition\n",
    "# stratify training partition on length\n",
    "# for each length:\n",
    "    #try:\n",
    "        #join into one tensor\n",
    "        #split off positional encoding\n",
    "        #get positional encoding sequence that is representative of positives\n",
    "        #flatten tensor\n",
    "        #oversample with borderlinesmote\n",
    "        #unflatten tensor\n",
    "        #re-attach positional encodings to true positives\n",
    "        #attach generated positional encoding to synthetic positives\n",
    "    #except low count length or no positive:\n",
    "        #skip oversampling\n",
    "# take oversamplings for each length and join into new dataset\n",
    "# give training data to training func as an iterabledataset instead of map-style\n",
    "\n",
    "# we have to do it in memory since we have to oversample on training partition data only.\n",
    "# maybe its better to do interpolation per peptide?? according to paolos message perhaps\n",
    "\n",
    "\n",
    "#sm = BorderlineSMOTE(sampling_strategy=\"minority\", random_state=0)\n",
    "#x_os, y_os = sm.fit_resample(flattened, targets)"
   ]
  },
  {
   "cell_type": "code",
   "execution_count": 139,
   "id": "3fd08625",
   "metadata": {},
   "outputs": [],
   "source": [
    "x_sub, y_sub = dataset[length_idx]\n",
    "y_sub = torch.stack((y_sub, y_sub, y_sub))\n",
    "y_sub[1] = 1"
   ]
  },
  {
   "cell_type": "code",
   "execution_count": 151,
   "id": "4e726d06",
   "metadata": {},
   "outputs": [],
   "source": [
    "pos = emb[:,:,-4:]"
   ]
  },
  {
   "cell_type": "code",
   "execution_count": 189,
   "id": "a655978f",
   "metadata": {},
   "outputs": [
    {
     "data": {
      "text/plain": [
       "tensor([[[ 0.2346,  4.3500,  0.7100, -0.3586],\n",
       "         [ 2.6212,  1.3006, -0.1013,  1.9053],\n",
       "         [-2.5463,  2.8244,  1.1419, -1.2915],\n",
       "         ...,\n",
       "         [-2.0430,  0.8236,  1.2853, -2.7416],\n",
       "         [-1.4404,  3.8062,  1.3832,  1.1276],\n",
       "         [-1.4594,  1.0662,  1.4364, -2.3321]],\n",
       "\n",
       "        [[ 0.2346,  4.3500,  0.7100, -0.3586],\n",
       "         [ 2.6212,  1.3006, -0.1013,  1.9053],\n",
       "         [-2.5463,  2.8244,  1.1419, -1.2915],\n",
       "         ...,\n",
       "         [-2.0430,  0.8236,  1.2853, -2.7416],\n",
       "         [-1.4404,  3.8062,  1.3832,  1.1276],\n",
       "         [-1.4594,  1.0662,  1.4364, -2.3321]],\n",
       "\n",
       "        [[ 0.2346,  4.3500,  0.7100, -0.3586],\n",
       "         [ 2.6212,  1.3006, -0.1013,  1.9053],\n",
       "         [-2.5463,  2.8244,  1.1419, -1.2915],\n",
       "         ...,\n",
       "         [-2.0430,  0.8236,  1.2853, -2.7416],\n",
       "         [-1.4404,  3.8062,  1.3832,  1.1276],\n",
       "         [-1.4594,  1.0662,  1.4364, -2.3321]]])"
      ]
     },
     "execution_count": 189,
     "metadata": {},
     "output_type": "execute_result"
    }
   ],
   "source": [
    "pos"
   ]
  },
  {
   "cell_type": "code",
   "execution_count": 172,
   "id": "466d51c6",
   "metadata": {},
   "outputs": [
    {
     "data": {
      "text/plain": [
       "torch.Size([3, 414, 4, 2])"
      ]
     },
     "execution_count": 172,
     "metadata": {},
     "output_type": "execute_result"
    }
   ],
   "source": [
    "torch.stack((emb, pos), dim=3).shape"
   ]
  },
  {
   "cell_type": "code",
   "execution_count": 177,
   "id": "08fd10fd",
   "metadata": {},
   "outputs": [
    {
     "data": {
      "text/plain": [
       "torch.Size([3, 414, 4])"
      ]
     },
     "execution_count": 177,
     "metadata": {},
     "output_type": "execute_result"
    }
   ],
   "source": [
    "emb.shape"
   ]
  },
  {
   "cell_type": "code",
   "execution_count": 178,
   "id": "ba2c8d3d",
   "metadata": {},
   "outputs": [
    {
     "data": {
      "text/plain": [
       "torch.Size([3, 414, 4])"
      ]
     },
     "execution_count": 178,
     "metadata": {},
     "output_type": "execute_result"
    }
   ],
   "source": [
    "pos.shape"
   ]
  },
  {
   "cell_type": "code",
   "execution_count": 198,
   "id": "88661042",
   "metadata": {},
   "outputs": [
    {
     "data": {
      "text/plain": [
       "tensor([[[ 0.2346,  4.3500,  0.7100, -0.3586],\n",
       "         [ 2.6212,  1.3006, -0.1013,  1.9053],\n",
       "         [-2.5463,  2.8244,  1.1419, -1.2915],\n",
       "         ...,\n",
       "         [-2.0430,  0.8236,  1.2853, -2.7416],\n",
       "         [-1.4404,  3.8062,  1.3832,  1.1276],\n",
       "         [-1.4594,  1.0662,  1.4364, -2.3321]],\n",
       "\n",
       "        [[ 0.2346,  4.3500,  0.7100, -0.3586],\n",
       "         [ 2.6212,  1.3006, -0.1013,  1.9053],\n",
       "         [-2.5463,  2.8244,  1.1419, -1.2915],\n",
       "         ...,\n",
       "         [-2.0430,  0.8236,  1.2853, -2.7416],\n",
       "         [-1.4404,  3.8062,  1.3832,  1.1276],\n",
       "         [-1.4594,  1.0662,  1.4364, -2.3321]],\n",
       "\n",
       "        [[ 0.2346,  4.3500,  0.7100, -0.3586],\n",
       "         [ 2.6212,  1.3006, -0.1013,  1.9053],\n",
       "         [-2.5463,  2.8244,  1.1419, -1.2915],\n",
       "         ...,\n",
       "         [-2.0430,  0.8236,  1.2853, -2.7416],\n",
       "         [-1.4404,  3.8062,  1.3832,  1.1276],\n",
       "         [-1.4594,  1.0662,  1.4364, -2.3321]]])"
      ]
     },
     "execution_count": 198,
     "metadata": {},
     "output_type": "execute_result"
    }
   ],
   "source": [
    "emb"
   ]
  },
  {
   "cell_type": "code",
   "execution_count": 197,
   "id": "d8c78657",
   "metadata": {},
   "outputs": [
    {
     "data": {
      "text/plain": [
       "tensor([[[ 0.2346,  4.3500,  0.7100,  ...,  4.3500,  0.7100, -0.3586],\n",
       "         [ 2.6212,  1.3006, -0.1013,  ...,  1.3006, -0.1013,  1.9053],\n",
       "         [-2.5463,  2.8244,  1.1419,  ...,  2.8244,  1.1419, -1.2915],\n",
       "         ...,\n",
       "         [-2.0430,  0.8236,  1.2853,  ...,  0.8236,  1.2853, -2.7416],\n",
       "         [-1.4404,  3.8062,  1.3832,  ...,  3.8062,  1.3832,  1.1276],\n",
       "         [-1.4594,  1.0662,  1.4364,  ...,  1.0662,  1.4364, -2.3321]],\n",
       "\n",
       "        [[ 0.2346,  4.3500,  0.7100,  ...,  4.3500,  0.7100, -0.3586],\n",
       "         [ 2.6212,  1.3006, -0.1013,  ...,  1.3006, -0.1013,  1.9053],\n",
       "         [-2.5463,  2.8244,  1.1419,  ...,  2.8244,  1.1419, -1.2915],\n",
       "         ...,\n",
       "         [-2.0430,  0.8236,  1.2853,  ...,  0.8236,  1.2853, -2.7416],\n",
       "         [-1.4404,  3.8062,  1.3832,  ...,  3.8062,  1.3832,  1.1276],\n",
       "         [-1.4594,  1.0662,  1.4364,  ...,  1.0662,  1.4364, -2.3321]],\n",
       "\n",
       "        [[ 0.2346,  4.3500,  0.7100,  ...,  4.3500,  0.7100, -0.3586],\n",
       "         [ 2.6212,  1.3006, -0.1013,  ...,  1.3006, -0.1013,  1.9053],\n",
       "         [-2.5463,  2.8244,  1.1419,  ...,  2.8244,  1.1419, -1.2915],\n",
       "         ...,\n",
       "         [-2.0430,  0.8236,  1.2853,  ...,  0.8236,  1.2853, -2.7416],\n",
       "         [-1.4404,  3.8062,  1.3832,  ...,  3.8062,  1.3832,  1.1276],\n",
       "         [-1.4594,  1.0662,  1.4364,  ...,  1.0662,  1.4364, -2.3321]]])"
      ]
     },
     "execution_count": 197,
     "metadata": {},
     "output_type": "execute_result"
    }
   ],
   "source": []
  },
  {
   "cell_type": "code",
   "execution_count": 142,
   "id": "b4a405ea",
   "metadata": {},
   "outputs": [
    {
     "ename": "ValueError",
     "evalue": "Expected n_neighbors <= n_samples,  but n_samples = 3, n_neighbors = 11",
     "output_type": "error",
     "traceback": [
      "\u001b[0;31m---------------------------------------------------------------------------\u001b[0m",
      "\u001b[0;31mValueError\u001b[0m                                Traceback (most recent call last)",
      "\u001b[0;32m/tmp/ipykernel_779/1377238495.py\u001b[0m in \u001b[0;36m<module>\u001b[0;34m\u001b[0m\n\u001b[1;32m      1\u001b[0m \u001b[0msm\u001b[0m \u001b[0;34m=\u001b[0m \u001b[0mBorderlineSMOTE\u001b[0m\u001b[0;34m(\u001b[0m\u001b[0msampling_strategy\u001b[0m\u001b[0;34m=\u001b[0m\u001b[0;34m\"minority\"\u001b[0m\u001b[0;34m,\u001b[0m \u001b[0mrandom_state\u001b[0m\u001b[0;34m=\u001b[0m\u001b[0;36m0\u001b[0m\u001b[0;34m)\u001b[0m\u001b[0;34m\u001b[0m\u001b[0;34m\u001b[0m\u001b[0m\n\u001b[0;32m----> 2\u001b[0;31m \u001b[0mx_os\u001b[0m\u001b[0;34m,\u001b[0m \u001b[0my_os\u001b[0m \u001b[0;34m=\u001b[0m \u001b[0msm\u001b[0m\u001b[0;34m.\u001b[0m\u001b[0mfit_resample\u001b[0m\u001b[0;34m(\u001b[0m\u001b[0memb\u001b[0m\u001b[0;34m.\u001b[0m\u001b[0mflatten\u001b[0m\u001b[0;34m(\u001b[0m\u001b[0;36m1\u001b[0m\u001b[0;34m)\u001b[0m\u001b[0;34m,\u001b[0m \u001b[0my_sub\u001b[0m\u001b[0;34m.\u001b[0m\u001b[0msqueeze\u001b[0m\u001b[0;34m(\u001b[0m\u001b[0;36m1\u001b[0m\u001b[0;34m)\u001b[0m\u001b[0;34m)\u001b[0m\u001b[0;34m\u001b[0m\u001b[0;34m\u001b[0m\u001b[0m\n\u001b[0m",
      "\u001b[0;32m~/anaconda3/envs/ps/lib/python3.8/site-packages/imblearn/base.py\u001b[0m in \u001b[0;36mfit_resample\u001b[0;34m(self, X, y)\u001b[0m\n\u001b[1;32m     81\u001b[0m         )\n\u001b[1;32m     82\u001b[0m \u001b[0;34m\u001b[0m\u001b[0m\n\u001b[0;32m---> 83\u001b[0;31m         \u001b[0moutput\u001b[0m \u001b[0;34m=\u001b[0m \u001b[0mself\u001b[0m\u001b[0;34m.\u001b[0m\u001b[0m_fit_resample\u001b[0m\u001b[0;34m(\u001b[0m\u001b[0mX\u001b[0m\u001b[0;34m,\u001b[0m \u001b[0my\u001b[0m\u001b[0;34m)\u001b[0m\u001b[0;34m\u001b[0m\u001b[0;34m\u001b[0m\u001b[0m\n\u001b[0m\u001b[1;32m     84\u001b[0m \u001b[0;34m\u001b[0m\u001b[0m\n\u001b[1;32m     85\u001b[0m         y_ = (\n",
      "\u001b[0;32m~/anaconda3/envs/ps/lib/python3.8/site-packages/imblearn/over_sampling/_smote/filter.py\u001b[0m in \u001b[0;36m_fit_resample\u001b[0;34m(self, X, y)\u001b[0m\n\u001b[1;32m    159\u001b[0m \u001b[0;34m\u001b[0m\u001b[0m\n\u001b[1;32m    160\u001b[0m             \u001b[0mself\u001b[0m\u001b[0;34m.\u001b[0m\u001b[0mnn_m_\u001b[0m\u001b[0;34m.\u001b[0m\u001b[0mfit\u001b[0m\u001b[0;34m(\u001b[0m\u001b[0mX\u001b[0m\u001b[0;34m)\u001b[0m\u001b[0;34m\u001b[0m\u001b[0;34m\u001b[0m\u001b[0m\n\u001b[0;32m--> 161\u001b[0;31m             danger_index = self._in_danger_noise(\n\u001b[0m\u001b[1;32m    162\u001b[0m                 \u001b[0mself\u001b[0m\u001b[0;34m.\u001b[0m\u001b[0mnn_m_\u001b[0m\u001b[0;34m,\u001b[0m \u001b[0mX_class\u001b[0m\u001b[0;34m,\u001b[0m \u001b[0mclass_sample\u001b[0m\u001b[0;34m,\u001b[0m \u001b[0my\u001b[0m\u001b[0;34m,\u001b[0m \u001b[0mkind\u001b[0m\u001b[0;34m=\u001b[0m\u001b[0;34m\"danger\"\u001b[0m\u001b[0;34m\u001b[0m\u001b[0;34m\u001b[0m\u001b[0m\n\u001b[1;32m    163\u001b[0m             )\n",
      "\u001b[0;32m~/anaconda3/envs/ps/lib/python3.8/site-packages/imblearn/over_sampling/_smote/base.py\u001b[0m in \u001b[0;36m_in_danger_noise\u001b[0;34m(self, nn_estimator, samples, target_class, y, kind)\u001b[0m\n\u001b[1;32m    188\u001b[0m             \u001b[0mA\u001b[0m \u001b[0mboolean\u001b[0m \u001b[0marray\u001b[0m \u001b[0mwhere\u001b[0m \u001b[0;32mTrue\u001b[0m \u001b[0mrefer\u001b[0m \u001b[0mto\u001b[0m \u001b[0msamples\u001b[0m \u001b[0;32min\u001b[0m \u001b[0mdanger\u001b[0m \u001b[0;32mor\u001b[0m \u001b[0mnoise\u001b[0m\u001b[0;34m.\u001b[0m\u001b[0;34m\u001b[0m\u001b[0;34m\u001b[0m\u001b[0m\n\u001b[1;32m    189\u001b[0m         \"\"\"\n\u001b[0;32m--> 190\u001b[0;31m         \u001b[0mx\u001b[0m \u001b[0;34m=\u001b[0m \u001b[0mnn_estimator\u001b[0m\u001b[0;34m.\u001b[0m\u001b[0mkneighbors\u001b[0m\u001b[0;34m(\u001b[0m\u001b[0msamples\u001b[0m\u001b[0;34m,\u001b[0m \u001b[0mreturn_distance\u001b[0m\u001b[0;34m=\u001b[0m\u001b[0;32mFalse\u001b[0m\u001b[0;34m)\u001b[0m\u001b[0;34m[\u001b[0m\u001b[0;34m:\u001b[0m\u001b[0;34m,\u001b[0m \u001b[0;36m1\u001b[0m\u001b[0;34m:\u001b[0m\u001b[0;34m]\u001b[0m\u001b[0;34m\u001b[0m\u001b[0;34m\u001b[0m\u001b[0m\n\u001b[0m\u001b[1;32m    191\u001b[0m         \u001b[0mnn_label\u001b[0m \u001b[0;34m=\u001b[0m \u001b[0;34m(\u001b[0m\u001b[0my\u001b[0m\u001b[0;34m[\u001b[0m\u001b[0mx\u001b[0m\u001b[0;34m]\u001b[0m \u001b[0;34m!=\u001b[0m \u001b[0mtarget_class\u001b[0m\u001b[0;34m)\u001b[0m\u001b[0;34m.\u001b[0m\u001b[0mastype\u001b[0m\u001b[0;34m(\u001b[0m\u001b[0mint\u001b[0m\u001b[0;34m)\u001b[0m\u001b[0;34m\u001b[0m\u001b[0;34m\u001b[0m\u001b[0m\n\u001b[1;32m    192\u001b[0m         \u001b[0mn_maj\u001b[0m \u001b[0;34m=\u001b[0m \u001b[0mnp\u001b[0m\u001b[0;34m.\u001b[0m\u001b[0msum\u001b[0m\u001b[0;34m(\u001b[0m\u001b[0mnn_label\u001b[0m\u001b[0;34m,\u001b[0m \u001b[0maxis\u001b[0m\u001b[0;34m=\u001b[0m\u001b[0;36m1\u001b[0m\u001b[0;34m)\u001b[0m\u001b[0;34m\u001b[0m\u001b[0;34m\u001b[0m\u001b[0m\n",
      "\u001b[0;32m~/anaconda3/envs/ps/lib/python3.8/site-packages/sklearn/neighbors/_base.py\u001b[0m in \u001b[0;36mkneighbors\u001b[0;34m(self, X, n_neighbors, return_distance)\u001b[0m\n\u001b[1;32m    678\u001b[0m         \u001b[0mn_samples_fit\u001b[0m \u001b[0;34m=\u001b[0m \u001b[0mself\u001b[0m\u001b[0;34m.\u001b[0m\u001b[0mn_samples_fit_\u001b[0m\u001b[0;34m\u001b[0m\u001b[0;34m\u001b[0m\u001b[0m\n\u001b[1;32m    679\u001b[0m         \u001b[0;32mif\u001b[0m \u001b[0mn_neighbors\u001b[0m \u001b[0;34m>\u001b[0m \u001b[0mn_samples_fit\u001b[0m\u001b[0;34m:\u001b[0m\u001b[0;34m\u001b[0m\u001b[0;34m\u001b[0m\u001b[0m\n\u001b[0;32m--> 680\u001b[0;31m             raise ValueError(\n\u001b[0m\u001b[1;32m    681\u001b[0m                 \u001b[0;34m\"Expected n_neighbors <= n_samples, \"\u001b[0m\u001b[0;34m\u001b[0m\u001b[0;34m\u001b[0m\u001b[0m\n\u001b[1;32m    682\u001b[0m                 \u001b[0;34m\" but n_samples = %d, n_neighbors = %d\"\u001b[0m \u001b[0;34m%\u001b[0m\u001b[0;34m\u001b[0m\u001b[0;34m\u001b[0m\u001b[0m\n",
      "\u001b[0;31mValueError\u001b[0m: Expected n_neighbors <= n_samples,  but n_samples = 3, n_neighbors = 11"
     ]
    }
   ],
   "source": [
    "sm = BorderlineSMOTE(sampling_strategy=\"minority\", random_state=0)\n",
    "x_os, y_os = sm.fit_resample(emb.flatten(1), y_sub.squeeze(1))"
   ]
  },
  {
   "cell_type": "code",
   "execution_count": 130,
   "id": "625c202d",
   "metadata": {},
   "outputs": [
    {
     "data": {
      "text/plain": [
       "array([[0.],\n",
       "       [0.],\n",
       "       [0.]], dtype=float32)"
      ]
     },
     "execution_count": 130,
     "metadata": {},
     "output_type": "execute_result"
    }
   ],
   "source": [
    "y_sub.numpy()"
   ]
  },
  {
   "cell_type": "code",
   "execution_count": 95,
   "id": "b0f9dea6",
   "metadata": {},
   "outputs": [
    {
     "data": {
      "text/plain": [
       "(1,)"
      ]
     },
     "execution_count": 95,
     "metadata": {},
     "output_type": "execute_result"
    }
   ],
   "source": [
    "x_sub.shape"
   ]
  },
  {
   "cell_type": "code",
   "execution_count": 97,
   "id": "165baec6",
   "metadata": {},
   "outputs": [],
   "source": [
    "x_sub = torch.stack((x_sub[0], x_sub[0] ,x_sub[0]))"
   ]
  },
  {
   "cell_type": "code",
   "execution_count": 120,
   "id": "c79ba666",
   "metadata": {},
   "outputs": [],
   "source": [
    "emb = x_sub[:,:,:-4]"
   ]
  },
  {
   "cell_type": "code",
   "execution_count": 125,
   "id": "e5d0be72",
   "metadata": {},
   "outputs": [
    {
     "data": {
      "text/plain": [
       "torch.Size([3, 52992])"
      ]
     },
     "execution_count": 125,
     "metadata": {},
     "output_type": "execute_result"
    }
   ],
   "source": [
    "emb.flatten(1).shape"
   ]
  },
  {
   "cell_type": "code",
   "execution_count": 444,
   "id": "83b63a1c",
   "metadata": {},
   "outputs": [
    {
     "data": {
      "text/plain": [
       "tensor([[-3.4573, -0.2002,  1.6379,  ...,  0.3475,  0.7875,  1.2294],\n",
       "        [-5.4712,  0.9058,  0.8596,  ...,  3.1876, -1.0497,  1.7057],\n",
       "        [-3.2194, -0.0836, -0.0969,  ...,  0.1556, -0.1512, -0.1089],\n",
       "        ...,\n",
       "        [-5.6118,  0.1372, -0.2350,  ..., -4.4966,  1.4147, -1.5574],\n",
       "        [-5.9163,  0.8383,  1.1998,  ...,  3.0196, -0.5474,  1.6051],\n",
       "        [ 0.1068, -0.1263, -0.4633,  ...,  1.2110,  1.3926, -2.2330]])"
      ]
     },
     "execution_count": 444,
     "metadata": {},
     "output_type": "execute_result"
    }
   ],
   "source": [
    "torch.Tensor(x_os[-2]).unflatten(0, torch.Size([396, 128]))"
   ]
  },
  {
   "cell_type": "code",
   "execution_count": null,
   "id": "1f17a38c",
   "metadata": {},
   "outputs": [],
   "source": [
    "#from_dir = \"/home/sebastian/masters/data/210916_TCRpMHCmodels/models/\"\n",
    "#to_dir = \"/home/sebastian/masters/data/neat_data/tcrpmhc/\"\n",
    "#model_suffix = \"model_TCR-pMHC.pdb\"\n",
    "#for subdir in os.listdir(from_dir):\n",
    "#    subdir_id = subdir.split(\"_\")[0]\n",
    "#    new_name = f\"tcrpmhc_{subdir_id}.pdb\"\n",
    "#    os.system(f\"mv {from_dir}/{subdir}/{model_suffix} {to_dir}/{new_name}\")\n",
    "#    \n",
    "#from_dir = \"/home/sebastian/masters/data/embedding_verification/raw_filtered_models\"\n",
    "#to_dir = \"/home/sebastian/masters/data/neat_data/pmhc/\"\n",
    "#model_suffix = \"model_pMHC.pdb\"\n",
    "#for subdir in os.listdir(from_dir):\n",
    "#    subdir_id = subdir.split(\"_\")[0]\n",
    "#    new_name = f\"pmhc_{subdir_id}.pdb\"\n",
    "#    os.system(f\"mv {from_dir}/{subdir}/{model_suffix} {to_dir}/{new_name}\")\n",
    "#    \n",
    "#from_dir = \"/home/sebastian/masters/data/embedding_verification/raw_filtered_models\"\n",
    "#to_dir = \"/home/sebastian/masters/data/neat_data/p/\"\n",
    "#model_suffix = \"model_p.pdb\"\n",
    "#for subdir in os.listdir(from_dir):\n",
    "#    subdir_id = subdir.split(\"_\")[0]\n",
    "#    new_name = f\"p_{subdir_id}.pdb\"\n",
    "#    os.system(f\"mv {from_dir}/{subdir}/{model_suffix} {to_dir}/{new_name}\")"
   ]
  },
  {
   "cell_type": "code",
   "execution_count": null,
   "id": "60fc67c2",
   "metadata": {},
   "outputs": [],
   "source": [
    "UNIQUE_ID = \"191f05de\"\n",
    "BEST_STATE_FILES = {\n",
    "    #\n",
    "    \"191f05de\": \"/home/sebastian/proteinsolver/data/e53-s1952148-d93703104.state\"\n",
    "}\n",
    "state_file = BEST_STATE_FILES[UNIQUE_ID]\n",
    "\n",
    "\n",
    "#test_file = \"/home/sebastian/proteinsolver/notebooks/protein_demo/inputs/1n5uA03.pdb\"\n",
    "#test_id = \"1n5uA03.pdb\"\n",
    "\n",
    "test_file = \"/home/sebastian/masters/data/test/3hfm.pdb\"\n",
    "test_id = \"3hfm\"\n",
    "\n",
    "def load_model_paths(data_dir, model=\"model_TCR-pMHC.pdb\"):\n",
    "    model_list = list()\n",
    "    for subdir in os.listdir(data_dir):\n",
    "        path = f\"{data_dir}/{subdir}/{model}\"\n",
    "        model_list.append(path)\n",
    "    return np.array(model_list)\n",
    "\n",
    "infiles = load_model_paths(\"/home/sebastian/masters/data/210916_TCRpMHCmodels/models/\")"
   ]
  },
  {
   "cell_type": "code",
   "execution_count": null,
   "id": "2eb016cc",
   "metadata": {},
   "outputs": [],
   "source": [
    "structure_all = kmbio.PDB.load(infiles[0])\n",
    "structure_all = merge_chains(structure_all)\n",
    "structure = kmbio.PDB.Structure(test_id, structure_all[0].extract('A'))\n",
    "\n",
    "pdata = proteinsolver.utils.extract_seq_and_adj(structure, 'A', remove_hetatms=True)\n",
    "data = proteinsolver.datasets.row_to_data(pdata)\n",
    "data = proteinsolver.datasets.transform_edge_attr(data)\n",
    "data.to(device)"
   ]
  },
  {
   "cell_type": "code",
   "execution_count": 5,
   "id": "04fe7c92",
   "metadata": {},
   "outputs": [],
   "source": [
    "import torch.nn.functional as F"
   ]
  },
  {
   "cell_type": "code",
   "execution_count": 6,
   "id": "20d267c4",
   "metadata": {},
   "outputs": [
    {
     "ename": "TypeError",
     "evalue": "softmax() missing 1 required positional argument: 'input'",
     "output_type": "error",
     "traceback": [
      "\u001b[0;31m---------------------------------------------------------------------------\u001b[0m",
      "\u001b[0;31mTypeError\u001b[0m                                 Traceback (most recent call last)",
      "\u001b[0;32m<ipython-input-6-52a5e47581cc>\u001b[0m in \u001b[0;36m<module>\u001b[0;34m\u001b[0m\n\u001b[0;32m----> 1\u001b[0;31m \u001b[0mF\u001b[0m\u001b[0;34m.\u001b[0m\u001b[0msoftmax\u001b[0m\u001b[0;34m(\u001b[0m\u001b[0;34m)\u001b[0m\u001b[0;34m\u001b[0m\u001b[0;34m\u001b[0m\u001b[0m\n\u001b[0m",
      "\u001b[0;31mTypeError\u001b[0m: softmax() missing 1 required positional argument: 'input'"
     ]
    }
   ],
   "source": [
    "F.softmax()"
   ]
  },
  {
   "cell_type": "code",
   "execution_count": null,
   "id": "09eb50af",
   "metadata": {},
   "outputs": [],
   "source": [
    "#train_loader = iter(torch_geometric.data.DataLoader(d_train, batch_size=batch_size))\n",
    "#valid_loader = iter(torch_geometric.data.DataLoader(d_valid, batch_size=batch_size))\n",
    "#d = next(train_loader)\n",
    "#x = torch.ones_like(d.x)*d.x.max().item()\n",
    "#out = gnn(x, d.edge_index, d.edge_attr)\n",
    "#\n",
    "#net.eval()\n",
    "#with torch.no_grad():\n",
    "#    y = net(out.T.unsqueeze(0))\n",
    "#    y = F.softmax(y, dim=0)\n"
   ]
  },
  {
   "cell_type": "code",
   "execution_count": null,
   "id": "31befdf4",
   "metadata": {},
   "outputs": [],
   "source": [
    "def gnn_to_fnn(data, hidden_size, gnn_instance):\n",
    "        data = data.to(device)\n",
    "        y = data.y.to(device)\n",
    "        with torch.no_grad():\n",
    "            out = gnn_instance(data.x, data.edge_index, data.edge_attr)\n",
    "        \n",
    "        batches = torch.unique(data.batch)\n",
    "        sliced_outs = list()\n",
    "        pool = nn.AdaptiveAvgPool1d(output_size=hidden_size)\n",
    "        for batch_idx in batches:\n",
    "            batch_slice = torch.nonzero(data.batch == batch_idx)\n",
    "            chain_map = data.chain_map[batch_idx]\n",
    "            out_sliced = out[batch_slice]\n",
    "            out_sliced = out_sliced[chain_map == \"P\"]  # get peptide only\n",
    "            out_sliced = pool(out_sliced.T)\n",
    "            sliced_outs.append(out_sliced)\n",
    "        batched_out = torch.cat(sliced_outs, dim=1)\n",
    "        return out, y\n",
    "    \n",
    "def gnn_to_lstm_batch(data, gnn_instance, device, num_classes):\n",
    "    \"\"\"function for bridging gnn output to lstm\"\"\"\n",
    "    data = data.to(device)\n",
    "    y = data.y\n",
    "    with torch.no_grad():\n",
    "        out = gnn_instance(data.x, data.edge_index, data.edge_attr)\n",
    "    \n",
    "    batches = torch.unique(data.batch)\n",
    "    sliced_embeddings = list()\n",
    "    encoded_y = list()\n",
    "    for batch_idx in batches:\n",
    "        # split sub graphs into batches\n",
    "        batch_slice = torch.nonzero(data.batch == batch_idx)\n",
    "        chain_map = data.chain_map[batch_idx]\n",
    "        one_batch_peptide_emb = out[batch_slice][chain_map == \"P\"]  # get peptide only\n",
    "        sliced_embeddings.append(one_batch_peptide_emb.squeeze(1))\n",
    "        \n",
    "        # one hot encode targets\n",
    "        sliced_y = int(y[batch_idx].item())\n",
    "        one_hot_y = np.zeros(num_classes)\n",
    "        one_hot_y[sliced_y] = 1\n",
    "        encoded_y.append(one_hot_y)\n",
    "        \n",
    "    sliced_embeddings.sort(key=lambda x: len(x))\n",
    "    encoded_y = torch.Tensor(encoded_y)\n",
    "    \n",
    "    return sliced_embeddings, encoded_y"
   ]
  },
  {
   "cell_type": "code",
   "execution_count": null,
   "id": "5dbda8eb",
   "metadata": {},
   "outputs": [],
   "source": [
    "class MyFNN(nn.Module):\n",
    "    def __init__(self, hidden_size):\n",
    "        super().__init__()\n",
    "        \n",
    "        self.linear = nn.Sequential(\n",
    "            nn.Linear(hidden_size * num_features, hidden_size),\n",
    "            nn.ReLU(),\n",
    "            nn.Linear(hidden_size, hidden_size),\n",
    "            nn.ReLU(),\n",
    "            nn.Linear(hidden_size, 1)  # output dim should be 3 long\n",
    "        )\n",
    "\n",
    "    def forward(self, x):\n",
    "        x = x.T.flatten()\n",
    "        x = self.linear(x)\n",
    "        return x"
   ]
  },
  {
   "cell_type": "code",
   "execution_count": null,
   "id": "b496345d",
   "metadata": {},
   "outputs": [],
   "source": [
    "# init proteinsolver gnn\n",
    "num_features = 20\n",
    "adj_input_size = 2\n",
    "hidden_size = 128\n",
    "#frac_present = 0.5\n",
    "#frac_present_valid = frac_present\n",
    "#info_size= 1024\n",
    "\n",
    "gnn = Net(\n",
    "    x_input_size=num_features + 1, \n",
    "    adj_input_size=adj_input_size, \n",
    "    hidden_size=hidden_size, \n",
    "    output_size=num_features\n",
    ")\n",
    "gnn.load_state_dict(torch.load(state_file, map_location=device))\n",
    "gnn.eval()\n",
    "gnn = gnn.to(device)"
   ]
  },
  {
   "cell_type": "code",
   "execution_count": null,
   "id": "5b171b6d",
   "metadata": {},
   "outputs": [],
   "source": [
    "#from sklearn.model_selection import KFold\n",
    "#from sklearn.metrics import *\n",
    "#from torch import nn, optim\n",
    "#import torch.nn.functional as F\n",
    "#\n",
    "#\n",
    "#root = Path(\"/home/sebastian/masters/data/\")\n",
    "#data_root = root / \"neat_data\"\n",
    "#metadata_path = data_root / \"embedding_dataset.csv\"\n",
    "#processed_dir = data_root / \"processed\" / \"embedding_verification\"\n",
    "#state_file = root / \"state_files\" / \"e53-s1952148-d93703104.state\"\n",
    "#out_dir = root / \"state_files\" / \"embedding_verification\" \n",
    "#\n",
    "#device = torch.device(\"cuda:1\" if torch.cuda.is_available() else \"cpu\")\n",
    "#\n",
    "## load dataset\n",
    "#raw_files = list()\n",
    "#targets = list()\n",
    "#with open(metadata_path, \"r\") as infile:\n",
    "#    for line in infile:\n",
    "#        line = line.strip().split(\",\")\n",
    "#        raw_files.append(line[0])\n",
    "#        targets.append(int(line[1]))\n",
    "#\n",
    "#raw_files = np.array(raw_files)\n",
    "#targets = np.array(targets)\n",
    "#\n",
    "#dataset = ProteinDataset(processed_dir, raw_files, targets, overwrite=False)\n",
    "#\n",
    "## init proteinsolver gnn\n",
    "#num_features = 20\n",
    "#adj_input_size = 2\n",
    "#hidden_size = 128\n",
    "#\n",
    "#gnn = Net(\n",
    "#    x_input_size=num_features + 1, \n",
    "#    adj_input_size=adj_input_size, \n",
    "#    hidden_size=hidden_size, \n",
    "#    output_size=num_features\n",
    "#)\n",
    "#gnn.load_state_dict(torch.load(state_file, map_location=device))\n",
    "#gnn.eval()\n",
    "#gnn = gnn.to(device)\n",
    "#\n",
    "## init LSTM\n",
    "#num_classes = 3\n",
    "#num_layers = 2\n",
    "#hidden_size = 26\n",
    "#\n",
    "#net = MyLSTM(num_classes, num_features, num_layers, hidden_size)\n",
    "#net = net.to(device)\n",
    "#\n",
    "#criterion = nn.BCEWithLogitsLoss()\n",
    "#optimizer = optim.Adam(net.parameters(), lr=0.0001) \n",
    "#\n",
    "## training params\n",
    "#epochs = 1\n",
    "#n_splits = 5\n",
    "#batch_size = 5\n",
    "#\n",
    "## touch files to ensure output\n",
    "#save_dir = get_non_dupe_dir(out_dir)\n",
    "#loss_paths = touch_output_files(save_dir, \"loss\", n_splits)\n",
    "#state_paths = touch_output_files(save_dir, \"state\", n_splits)\n",
    "#pred_paths = touch_output_files(save_dir, \"pred\", n_splits)\n",
    "#\n",
    "#CV = KFold(n_splits=n_splits, shuffle=True)\n",
    "#i = 0\n",
    "#for train_idx, valid_idx in CV.split(dataset):\n",
    "#    \n",
    "#    train_subset = dataset[torch.LongTensor(train_idx)][0:10]\n",
    "#    valid_subset = dataset[torch.LongTensor(valid_idx)][0:10]\n",
    "#    \n",
    "#    net = MyLSTM(num_classes, num_features, num_layers, hidden_size)\n",
    "#    net = net.to(device)\n",
    "#    \n",
    "#    # partial function - gnn arg is static, x is given later\n",
    "#    gnn_transform = lambda x: gnn_to_lstm_batch(\n",
    "#        x, \n",
    "#        gnn_instance=gnn, \n",
    "#        device=device,\n",
    "#        num_classes=num_classes\n",
    "#)\n",
    "#    \n",
    "#    net, train_subset_losses, valid_subset_losses = train_model(\n",
    "#        model=net,\n",
    "#        epochs=epochs, \n",
    "#        criterion=criterion,\n",
    "#        optimizer=optimizer,\n",
    "#        train_data=train_subset, \n",
    "#        valid_data=valid_subset,\n",
    "#        batch_size=batch_size,\n",
    "#        device=device,\n",
    "#        transform=gnn_transform,\n",
    "#)\n",
    "#\n",
    "#    torch.save({\"train\": train_subset_losses, \"valid\": valid_subset_losses}, loss_paths[i])\n",
    "#    torch.save(net.state_dict(), state_paths[i])\n",
    "#    \n",
    "#    # perform test preds\n",
    "#    y_pred, y_true = predict(\n",
    "#        model=net, \n",
    "#        data=train_subset, \n",
    "#        batch_size=batch_size,\n",
    "#        device=device,\n",
    "#        transform=gnn_transform,\n",
    "#)\n",
    "#\n",
    "#    torch.save({\"y_pred\": y_pred, \"y_true\": y_true,}, pred_paths[i])\n",
    "#    \n",
    "#    i += 1\n"
   ]
  },
  {
   "cell_type": "code",
   "execution_count": null,
   "id": "64886378",
   "metadata": {},
   "outputs": [],
   "source": [
    "    #annotations = train_subset.dataset.annotations.squeeze(1)\n",
    "    #class_weights = compute_class_weight(\n",
    "    #    'balanced',\n",
    "    #    np.unique(annotations),\n",
    "    #    annotations.numpy()\n",
    "    #)\n",
    "    #class_weights = torch.tensor(class_weights, dtype=torch.float)"
   ]
  },
  {
   "cell_type": "code",
   "execution_count": null,
   "id": "0751cf30",
   "metadata": {},
   "outputs": [],
   "source": [
    "#def pad_collate_chain_split(batch, pad_val=0):\n",
    "#    (xx, yy) = zip(*batch)\n",
    "#    x_1_batch = list()\n",
    "#    x_2_batch = list()\n",
    "#    x_3_batch = list()\n",
    "#    x_4_batch = list()\n",
    "#    for x in xx:\n",
    "#        x_1_batch.append(x[x[:,-1] == 1][:,:-4])  # slice based on positional encoding and remove encoding part\n",
    "#        x_2_batch.append(x[x[:,-2] == 1][:,:-4])\n",
    "#        x_3_batch.append(x[x[:,-3] == 1][:,:-4])\n",
    "#        x_4_batch.append(x[x[:,-4] == 1][:,:-4])\n",
    "#\n",
    "#    x1_pad = nn.utils.rnn.pad_sequence(x_1_batch, batch_first=True, padding_value=pad_val)\n",
    "#    x2_pad = nn.utils.rnn.pad_sequence(x_2_batch, batch_first=True, padding_value=pad_val)\n",
    "#    x3_pad = nn.utils.rnn.pad_sequence(x_3_batch, batch_first=True, padding_value=pad_val)\n",
    "#    x4_pad = nn.utils.rnn.pad_sequence(x_4_batch, batch_first=True, padding_value=pad_val)\n",
    "#    yy_pad = nn.utils.rnn.pad_sequence(yy, batch_first=True, padding_value=pad_val)\n",
    "#    return (x1_pad, x2_pad, x3_pad, x4_pad), yy_pad\n",
    "\n"
   ]
  },
  {
   "cell_type": "code",
   "execution_count": null,
   "id": "32218ec4",
   "metadata": {},
   "outputs": [],
   "source": [
    "def lstm_train(\n",
    "    model,\n",
    "    epochs,\n",
    "    criterion,\n",
    "    optimizer,\n",
    "    dataset,\n",
    "    train_idx, \n",
    "    valid_idx,\n",
    "    batch_size,\n",
    "    device,\n",
    "):\n",
    "    train_losses = list()\n",
    "    valid_losses = list()\n",
    "    \n",
    "    for e in range(epochs):\n",
    "        train_loader = DataLoader(dataset=dataset, batch_size=batch_size, collate_fn=pad_collate)\n",
    "        valid_loader = DataLoader(dataset=dataset, batch_size=batch_size, collate_fn=pad_collate)\n",
    "\n",
    "        train_len = len(train_loader)\n",
    "        valid_len = len(valid_loader)\n",
    "\n",
    "        train_loss = 0\n",
    "        model.train()\n",
    "        j = 0\n",
    "        for x, y, _, _ in train_loader:    \n",
    "            y = y.to(device)\n",
    "            x = x.to(device)\n",
    "            y_pred = model(x)\n",
    "            optimizer.zero_grad()\n",
    "            loss = criterion(y_pred, y)\n",
    "            loss.backward()\n",
    "            optimizer.step()\n",
    "            train_loss += loss.item()\n",
    "\n",
    "            display_func(j, train_len, e, train_losses, valid_losses)\n",
    "            j += 1\n",
    "            \n",
    "        valid_loss = 0\n",
    "        model.eval()\n",
    "        with torch.no_grad():\n",
    "            for x, y, _, _ in valid_loader:    \n",
    "                y = y.to(device)\n",
    "                x = x.to(device)\n",
    "                y_pred = model(x)\n",
    "                loss = criterion(y_pred, y)\n",
    "                valid_loss += loss.item()\n",
    "\n",
    "        train_losses.append(train_loss / train_len)\n",
    "        valid_losses.append(valid_loss / valid_len)\n",
    "\n",
    "    return model, train_losses, valid_losses\n",
    "\n",
    "\n",
    "def lstm_predict(model, dataset, idx, device):\n",
    "    data_loader = DataLoader(dataset=dataset, sampler=idx, batch_size=1, shuffle=False, collate_fn=pad_collate)\n",
    "    pred = list()\n",
    "    true = list()\n",
    "    with torch.no_grad():\n",
    "        for x, y, _, _ in data_loader:    \n",
    "            y = y.to(device)\n",
    "            x = x.to(device)\n",
    "            y_pred = model(x)\n",
    "            pred.append(torch.sigmoid(y_pred))\n",
    "            true.append(y)\n",
    "    return torch.Tensor(pred), torch.Tensor(true)\n"
   ]
  }
 ],
 "metadata": {
  "kernelspec": {
   "display_name": "Python 3 (ipykernel)",
   "language": "python",
   "name": "python3"
  },
  "language_info": {
   "codemirror_mode": {
    "name": "ipython",
    "version": 3
   },
   "file_extension": ".py",
   "mimetype": "text/x-python",
   "name": "python",
   "nbconvert_exporter": "python",
   "pygments_lexer": "ipython3",
   "version": "3.8.0"
  }
 },
 "nbformat": 4,
 "nbformat_minor": 5
}

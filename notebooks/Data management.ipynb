{
 "cells": [
  {
   "cell_type": "code",
   "execution_count": 2,
   "id": "89154be2",
   "metadata": {},
   "outputs": [],
   "source": [
    "%reload_ext autoreload\n",
    "%autoreload 2\n",
    "import sys\n",
    "sys.path.append('/home/sebastian/masters/') # add my repo to python path\n",
    "import os\n",
    "import torch\n",
    "import torch.nn.functional as F\n",
    "import torch_geometric\n",
    "import kmbio  # fork of biopython PDB with some changes in how the structure, chain, etc. classes are defined.\n",
    "import numpy as np\n",
    "import pandas as pd\n",
    "import proteinsolver\n",
    "import modules\n",
    "\n",
    "from torch.utils.data import Dataset, DataLoader\n",
    "from sklearn.model_selection import KFold\n",
    "from sklearn.utils.class_weight import compute_class_weight\n",
    "from sklearn.metrics import *\n",
    "from torch import nn, optim\n",
    "from pathlib import Path\n",
    "\n",
    "from modules.dataset import *\n",
    "from modules.utils import *\n",
    "from modules.models import *\n",
    "from modules.lstm_utils import *"
   ]
  },
  {
   "cell_type": "markdown",
   "id": "34544647",
   "metadata": {},
   "source": [
    "### Get sequences"
   ]
  },
  {
   "cell_type": "code",
   "execution_count": 4,
   "id": "dc24e545",
   "metadata": {},
   "outputs": [],
   "source": [
    "root = Path(\"/home/sebastian/masters/data/\")\n",
    "data_root = root / \"neat_data\"\n",
    "metadata_path = data_root / \"metadata.csv\"\n",
    "processed_dir = data_root / \"processed\" / \"tcr_binding\"\n",
    "state_file = root / \"state_files\" / \"e53-s1952148-d93703104.state\"\n",
    "out_dir = root / \"state_files\" / \"tcr_binding\"\n",
    "model_dir = data_root / \"raw\" / \"tcrpmhc\"\n",
    "\n",
    "one_letter_map = {'CYS': 'C', 'ASP': 'D', 'SER': 'S', 'GLN': 'Q', 'LYS': 'K',\n",
    " 'ILE': 'I', 'PRO': 'P', 'THR': 'T', 'PHE': 'F', 'ASN': 'N', \n",
    " 'GLY': 'G', 'HIS': 'H', 'LEU': 'L', 'ARG': 'R', 'TRP': 'W', \n",
    " 'ALA': 'A', 'VAL':'V', 'GLU': 'E', 'TYR': 'Y', 'MET': 'M'}\n",
    "\n",
    "paths = list(model_dir.glob(\"*\"))\n",
    "join_key = [int(x.name.split(\"_\")[0]) for x in paths]\n",
    "path_df = pd.DataFrame({'#ID': join_key, 'path': paths})\n",
    "\n",
    "metadata = pd.read_csv(metadata_path)\n",
    "metadata = metadata.join(path_df.set_index(\"#ID\"), on=\"#ID\", how=\"inner\")  # filter to non-missing data\n",
    "metadata = metadata.reset_index(drop=True)\n",
    "\n",
    "out_path = data_root / \"full_seqs_raw.fsa\"\n",
    "\n",
    "with open(out_path, \"w\") as outfile:\n",
    "    for idx, raw_file in zip(metadata[\"#ID\"], metadata[\"path\"]):\n",
    "\n",
    "        structure_all = kmbio.PDB.load(raw_file)\n",
    "        structure_all = merge_chains(structure_all) \n",
    "        structure = kmbio.PDB.Structure(idx, structure_all[0].extract(\"A\"))\n",
    "        seq = [one_letter_map[res.resname] for res in structure.residues]\n",
    "        seq = \"\".join(seq)\n",
    "\n",
    "        print(f\">{idx}\", file=outfile)\n",
    "        print(seq, file=outfile)"
   ]
  },
  {
   "cell_type": "markdown",
   "id": "e5fb438a",
   "metadata": {},
   "source": [
    "### Rename stuff and organize more neatly"
   ]
  },
  {
   "cell_type": "code",
   "execution_count": null,
   "id": "4d0827e7",
   "metadata": {},
   "outputs": [],
   "source": [
    "from_dir = \"/home/sebastian/masters/data/210916_TCRpMHCmodels/models/\"\n",
    "to_dir = \"/home/sebastian/masters/data/neat_data/tcrpmhc/\"\n",
    "model_suffix = \"model_TCR-pMHC.pdb\"\n",
    "for subdir in os.listdir(from_dir):\n",
    "    subdir_id = subdir.split(\"_\")[0]\n",
    "    new_name = f\"{subdir_id}_tcrpmhc.pdb\"\n",
    "    os.system(f\"mv {from_dir}/{subdir}/{model_suffix} {to_dir}/{new_name}\")"
   ]
  },
  {
   "cell_type": "code",
   "execution_count": null,
   "id": "30a715e4",
   "metadata": {},
   "outputs": [],
   "source": [
    "from_dir = \"/home/sebastian/masters/data/embedding_verification/raw_filtered_models\"\n",
    "to_dir = \"/home/sebastian/masters/data/neat_data/pmhc/\"\n",
    "model_suffix = \"model_pMHC.pdb\"\n",
    "for subdir in os.listdir(from_dir):\n",
    "    subdir_id = subdir.split(\"_\")[0]\n",
    "    new_name = f\"pmhc_{subdir_id}.pdb\"\n",
    "    os.system(f\"mv {from_dir}/{subdir}/{model_suffix} {to_dir}/{new_name}\")"
   ]
  },
  {
   "cell_type": "code",
   "execution_count": null,
   "id": "d1208723",
   "metadata": {},
   "outputs": [],
   "source": [
    "from_dir = \"/home/sebastian/masters/data/embedding_verification/raw_filtered_models\"\n",
    "to_dir = \"/home/sebastian/masters/data/neat_data/p/\"\n",
    "model_suffix = \"model_p.pdb\"\n",
    "for subdir in os.listdir(from_dir):\n",
    "    subdir_id = subdir.split(\"_\")[0]\n",
    "    new_name = f\"p_{subdir_id}.pdb\"\n",
    "    os.system(f\"mv {from_dir}/{subdir}/{model_suffix} {to_dir}/{new_name}\")"
   ]
  },
  {
   "cell_type": "code",
   "execution_count": 2,
   "id": "918cba25",
   "metadata": {},
   "outputs": [],
   "source": [
    "l = [\"p\", \"pmhc\", \"tcrpmhc\"]\n",
    "\n",
    "for x in l:\n",
    "    path = f\"/home/sebastian/masters/data/neat_data/raw/{x}/\"\n",
    "    files = os.listdir(path)\n",
    "    for file in files:\n",
    "        name = os.path.basename(file)\n",
    "        name = name.split(\".\")[0].split(\"_\")[1]\n",
    "        new_name = f\"/home/sebastian/masters/data/neat_data/raw/{x}/{name}_{x}.pdb\"\n",
    "        os.system(f\"mv {path}/{file} {new_name}\")"
   ]
  },
  {
   "cell_type": "code",
   "execution_count": null,
   "id": "3feaf338",
   "metadata": {},
   "outputs": [],
   "source": []
  }
 ],
 "metadata": {
  "kernelspec": {
   "display_name": "Python 3 (ipykernel)",
   "language": "python",
   "name": "python3"
  },
  "language_info": {
   "codemirror_mode": {
    "name": "ipython",
    "version": 3
   },
   "file_extension": ".py",
   "mimetype": "text/x-python",
   "name": "python",
   "nbconvert_exporter": "python",
   "pygments_lexer": "ipython3",
   "version": "3.8.0"
  }
 },
 "nbformat": 4,
 "nbformat_minor": 5
}

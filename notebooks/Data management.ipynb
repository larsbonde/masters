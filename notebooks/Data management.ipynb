{
 "cells": [
  {
   "cell_type": "code",
   "execution_count": 1,
   "id": "89154be2",
   "metadata": {},
   "outputs": [],
   "source": [
    "import os"
   ]
  },
  {
   "cell_type": "code",
   "execution_count": null,
   "id": "4d0827e7",
   "metadata": {},
   "outputs": [],
   "source": [
    "from_dir = \"/home/sebastian/masters/data/210916_TCRpMHCmodels/models/\"\n",
    "to_dir = \"/home/sebastian/masters/data/neat_data/tcrpmhc/\"\n",
    "model_suffix = \"model_TCR-pMHC.pdb\"\n",
    "for subdir in os.listdir(from_dir):\n",
    "    subdir_id = subdir.split(\"_\")[0]\n",
    "    new_name = f\"tcrpmhc_{subdir_id}.pdb\"\n",
    "    os.system(f\"mv {from_dir}/{subdir}/{model_suffix} {to_dir}/{new_name}\")"
   ]
  },
  {
   "cell_type": "code",
   "execution_count": null,
   "id": "30a715e4",
   "metadata": {},
   "outputs": [],
   "source": [
    "from_dir = \"/home/sebastian/masters/data/embedding_verification/raw_filtered_models\"\n",
    "to_dir = \"/home/sebastian/masters/data/neat_data/pmhc/\"\n",
    "model_suffix = \"model_pMHC.pdb\"\n",
    "for subdir in os.listdir(from_dir):\n",
    "    subdir_id = subdir.split(\"_\")[0]\n",
    "    new_name = f\"pmhc_{subdir_id}.pdb\"\n",
    "    os.system(f\"mv {from_dir}/{subdir}/{model_suffix} {to_dir}/{new_name}\")"
   ]
  },
  {
   "cell_type": "code",
   "execution_count": null,
   "id": "d1208723",
   "metadata": {},
   "outputs": [],
   "source": [
    "from_dir = \"/home/sebastian/masters/data/embedding_verification/raw_filtered_models\"\n",
    "to_dir = \"/home/sebastian/masters/data/neat_data/p/\"\n",
    "model_suffix = \"model_p.pdb\"\n",
    "for subdir in os.listdir(from_dir):\n",
    "    subdir_id = subdir.split(\"_\")[0]\n",
    "    new_name = f\"p_{subdir_id}.pdb\"\n",
    "    os.system(f\"mv {from_dir}/{subdir}/{model_suffix} {to_dir}/{new_name}\")"
   ]
  },
  {
   "cell_type": "code",
   "execution_count": 2,
   "id": "918cba25",
   "metadata": {},
   "outputs": [],
   "source": [
    "l = [\"p\", \"pmhc\", \"tcrpmhc\"]\n",
    "\n",
    "for x in l:\n",
    "    path = f\"/home/sebastian/masters/data/neat_data/raw/{x}/\"\n",
    "    files = os.listdir(path)\n",
    "    for file in files:\n",
    "        name = os.path.basename(file)\n",
    "        name = name.split(\".\")[0].split(\"_\")[1]\n",
    "        new_name = f\"/home/sebastian/masters/data/neat_data/raw/{x}/{name}_{x}.pdb\"\n",
    "        os.system(f\"mv {path}/{file} {new_name}\")"
   ]
  },
  {
   "cell_type": "code",
   "execution_count": null,
   "id": "3feaf338",
   "metadata": {},
   "outputs": [],
   "source": []
  }
 ],
 "metadata": {
  "kernelspec": {
   "display_name": "Python 3 (ipykernel)",
   "language": "python",
   "name": "python3"
  },
  "language_info": {
   "codemirror_mode": {
    "name": "ipython",
    "version": 3
   },
   "file_extension": ".py",
   "mimetype": "text/x-python",
   "name": "python",
   "nbconvert_exporter": "python",
   "pygments_lexer": "ipython3",
   "version": "3.8.0"
  }
 },
 "nbformat": 4,
 "nbformat_minor": 5
}

{
 "cells": [
  {
   "cell_type": "code",
   "execution_count": 2,
   "id": "6552d90e",
   "metadata": {},
   "outputs": [
    {
     "data": {
      "text/plain": [
       "<torch._C.Generator at 0x7f89a89906f0>"
      ]
     },
     "execution_count": 2,
     "metadata": {},
     "output_type": "execute_result"
    }
   ],
   "source": [
    "%reload_ext autoreload\n",
    "%autoreload 2\n",
    "import sys\n",
    "sys.path.append('/home/sebastian/masters/') # add my repo to python path\n",
    "import os\n",
    "import torch\n",
    "import torch.nn.functional as F\n",
    "import torch_geometric\n",
    "import kmbio  # fork of biopython PDB with some changes in how the structure, chain, etc. classes are defined.\n",
    "import numpy as np\n",
    "import pandas as pd\n",
    "import proteinsolver\n",
    "import modules\n",
    "\n",
    "from Bio import SeqIO\n",
    "from torch.utils.data import Dataset, DataLoader, SubsetRandomSampler, BatchSampler\n",
    "from sklearn.model_selection import KFold\n",
    "from sklearn.utils.class_weight import compute_class_weight\n",
    "from sklearn.metrics import *\n",
    "from torch import nn, optim\n",
    "from pathlib import Path\n",
    "\n",
    "from modules.dataset import *\n",
    "from modules.utils import *\n",
    "from modules.models import *\n",
    "from modules.lstm_utils import *\n",
    "\n",
    "np.random.seed(1)\n",
    "torch.manual_seed(1)"
   ]
  },
  {
   "cell_type": "markdown",
   "id": "d7c0bded",
   "metadata": {},
   "source": [
    "### Paths"
   ]
  },
  {
   "cell_type": "code",
   "execution_count": 3,
   "id": "f5c8ee8a",
   "metadata": {},
   "outputs": [],
   "source": [
    "root = Path(\"/home/sebastian/masters/data/\")\n",
    "data_root = root / \"neat_data\"\n",
    "metadata_path = data_root / \"metadata.csv\"\n",
    "processed_dir = data_root / \"processed\" / \"tcr_binding\"\n",
    "state_file = root / \"state_files\" / \"e53-s1952148-d93703104.state\"\n",
    "out_dir = root / \"state_files\" / \"tcr_binding\""
   ]
  },
  {
   "cell_type": "markdown",
   "id": "e0e550ed",
   "metadata": {},
   "source": [
    "### Get metadata"
   ]
  },
  {
   "cell_type": "code",
   "execution_count": 4,
   "id": "ca8d579c",
   "metadata": {},
   "outputs": [
    {
     "data": {
      "text/html": [
       "<div>\n",
       "<style scoped>\n",
       "    .dataframe tbody tr th:only-of-type {\n",
       "        vertical-align: middle;\n",
       "    }\n",
       "\n",
       "    .dataframe tbody tr th {\n",
       "        vertical-align: top;\n",
       "    }\n",
       "\n",
       "    .dataframe thead th {\n",
       "        text-align: right;\n",
       "    }\n",
       "</style>\n",
       "<table border=\"1\" class=\"dataframe\">\n",
       "  <thead>\n",
       "    <tr style=\"text-align: right;\">\n",
       "      <th></th>\n",
       "      <th>#ID</th>\n",
       "      <th>CDR3a</th>\n",
       "      <th>CDR3b</th>\n",
       "      <th>peptide</th>\n",
       "      <th>partition</th>\n",
       "      <th>binder</th>\n",
       "      <th>v_gene_alpha</th>\n",
       "      <th>j_gene_alpha</th>\n",
       "      <th>v_gene_beta</th>\n",
       "      <th>j_gene_beta</th>\n",
       "      <th>origin</th>\n",
       "      <th>v_alpha_vdjdb_name</th>\n",
       "      <th>j_alpha_vdjdb_name</th>\n",
       "      <th>v_beta_vdjdb_name</th>\n",
       "      <th>j_beta_vdjdb_name</th>\n",
       "      <th>path</th>\n",
       "    </tr>\n",
       "  </thead>\n",
       "  <tbody>\n",
       "    <tr>\n",
       "      <th>0</th>\n",
       "      <td>1</td>\n",
       "      <td>AVSQSNTGKLI</td>\n",
       "      <td>ASSQLMENTEAF</td>\n",
       "      <td>NLVPMVATV</td>\n",
       "      <td>1</td>\n",
       "      <td>0</td>\n",
       "      <td>TRAV12-2</td>\n",
       "      <td>TRAJ37</td>\n",
       "      <td>TRBV4-1</td>\n",
       "      <td>TRBJ1-1</td>\n",
       "      <td>tenX</td>\n",
       "      <td>TRAV12-2*01</td>\n",
       "      <td>TRAJ37*01</td>\n",
       "      <td>TRBV4-1*01</td>\n",
       "      <td>TRBJ1-1*01</td>\n",
       "      <td>/home/sebastian/masters/data/neat_data/raw/tcr...</td>\n",
       "    </tr>\n",
       "    <tr>\n",
       "      <th>1</th>\n",
       "      <td>2</td>\n",
       "      <td>AASEVCADYKLS</td>\n",
       "      <td>ASSYSLLRAAPNTEAF</td>\n",
       "      <td>NLVPMVATV</td>\n",
       "      <td>1</td>\n",
       "      <td>0</td>\n",
       "      <td>TRAV29DV5</td>\n",
       "      <td>TRAJ20</td>\n",
       "      <td>TRBV6-3</td>\n",
       "      <td>TRBJ1-1</td>\n",
       "      <td>tenX</td>\n",
       "      <td>TRAV29/DV5*01</td>\n",
       "      <td>TRAJ20*01</td>\n",
       "      <td>TRBV6-3*01</td>\n",
       "      <td>TRBJ1-1*01</td>\n",
       "      <td>/home/sebastian/masters/data/neat_data/raw/tcr...</td>\n",
       "    </tr>\n",
       "    <tr>\n",
       "      <th>2</th>\n",
       "      <td>3</td>\n",
       "      <td>AGRLGAQKLV</td>\n",
       "      <td>ASSQGGRRNQPQH</td>\n",
       "      <td>NLVPMVATV</td>\n",
       "      <td>1</td>\n",
       "      <td>0</td>\n",
       "      <td>TRAV25</td>\n",
       "      <td>TRAJ54</td>\n",
       "      <td>TRBV4-2</td>\n",
       "      <td>TRBJ1-5</td>\n",
       "      <td>tenX</td>\n",
       "      <td>TRAV25*01</td>\n",
       "      <td>TRAJ54*01</td>\n",
       "      <td>TRBV4-2*01</td>\n",
       "      <td>TRBJ1-5*01</td>\n",
       "      <td>/home/sebastian/masters/data/neat_data/raw/tcr...</td>\n",
       "    </tr>\n",
       "    <tr>\n",
       "      <th>3</th>\n",
       "      <td>4</td>\n",
       "      <td>AVEPLYGNKLV</td>\n",
       "      <td>ASSSREAEAF</td>\n",
       "      <td>NLVPMVATV</td>\n",
       "      <td>1</td>\n",
       "      <td>0</td>\n",
       "      <td>TRAV22</td>\n",
       "      <td>TRAJ47</td>\n",
       "      <td>TRBV7-9</td>\n",
       "      <td>TRBJ1-1</td>\n",
       "      <td>tenX</td>\n",
       "      <td>TRAV22*01</td>\n",
       "      <td>TRAJ47*01</td>\n",
       "      <td>TRBV7-9*01</td>\n",
       "      <td>TRBJ1-1*01</td>\n",
       "      <td>/home/sebastian/masters/data/neat_data/raw/tcr...</td>\n",
       "    </tr>\n",
       "    <tr>\n",
       "      <th>4</th>\n",
       "      <td>5</td>\n",
       "      <td>ASGTYKYI</td>\n",
       "      <td>ASSQRAGRVDTQY</td>\n",
       "      <td>NLVPMVATV</td>\n",
       "      <td>1</td>\n",
       "      <td>0</td>\n",
       "      <td>TRAV19</td>\n",
       "      <td>TRAJ40</td>\n",
       "      <td>TRBV27</td>\n",
       "      <td>TRBJ2-3</td>\n",
       "      <td>tenX</td>\n",
       "      <td>TRAV19*01</td>\n",
       "      <td>TRAJ40*01</td>\n",
       "      <td>TRBV27*01</td>\n",
       "      <td>TRBJ2-3*01</td>\n",
       "      <td>/home/sebastian/masters/data/neat_data/raw/tcr...</td>\n",
       "    </tr>\n",
       "    <tr>\n",
       "      <th>...</th>\n",
       "      <td>...</td>\n",
       "      <td>...</td>\n",
       "      <td>...</td>\n",
       "      <td>...</td>\n",
       "      <td>...</td>\n",
       "      <td>...</td>\n",
       "      <td>...</td>\n",
       "      <td>...</td>\n",
       "      <td>...</td>\n",
       "      <td>...</td>\n",
       "      <td>...</td>\n",
       "      <td>...</td>\n",
       "      <td>...</td>\n",
       "      <td>...</td>\n",
       "      <td>...</td>\n",
       "      <td>...</td>\n",
       "    </tr>\n",
       "    <tr>\n",
       "      <th>10326</th>\n",
       "      <td>12961</td>\n",
       "      <td>AVNSYYNQGGKLI</td>\n",
       "      <td>SVLQGSPYEQY</td>\n",
       "      <td>GILGFVFTL</td>\n",
       "      <td>1</td>\n",
       "      <td>1</td>\n",
       "      <td>TRAV12-2*01</td>\n",
       "      <td>TRAJ23*01</td>\n",
       "      <td>TRBV29-1*01</td>\n",
       "      <td>TRBJ2-7*01</td>\n",
       "      <td>positive</td>\n",
       "      <td>TRAV12-2*01</td>\n",
       "      <td>TRAJ23*01</td>\n",
       "      <td>TRBV29-1*01</td>\n",
       "      <td>TRBJ2-7*01</td>\n",
       "      <td>/home/sebastian/masters/data/neat_data/raw/tcr...</td>\n",
       "    </tr>\n",
       "    <tr>\n",
       "      <th>10327</th>\n",
       "      <td>12962</td>\n",
       "      <td>AGNYGGSQGNLI</td>\n",
       "      <td>ASSIYSVNEQF</td>\n",
       "      <td>GILGFVFTL</td>\n",
       "      <td>1</td>\n",
       "      <td>1</td>\n",
       "      <td>TRAV35*01</td>\n",
       "      <td>TRAJ42*01</td>\n",
       "      <td>TRBV19*01</td>\n",
       "      <td>TRBJ2-1*01</td>\n",
       "      <td>positive</td>\n",
       "      <td>TRAV35*01</td>\n",
       "      <td>TRAJ42*01</td>\n",
       "      <td>TRBV19*01</td>\n",
       "      <td>TRBJ2-1*01</td>\n",
       "      <td>/home/sebastian/masters/data/neat_data/raw/tcr...</td>\n",
       "    </tr>\n",
       "    <tr>\n",
       "      <th>10328</th>\n",
       "      <td>12966</td>\n",
       "      <td>AVGGSQGNLI</td>\n",
       "      <td>ASSVRSSYEQY</td>\n",
       "      <td>GILGFVFTL</td>\n",
       "      <td>1</td>\n",
       "      <td>1</td>\n",
       "      <td>TRAV8-6*02</td>\n",
       "      <td>TRAJ42*01</td>\n",
       "      <td>TRBV19*01</td>\n",
       "      <td>TRBJ2-7*01</td>\n",
       "      <td>positive</td>\n",
       "      <td>TRAV8-6*01</td>\n",
       "      <td>TRAJ42*01</td>\n",
       "      <td>TRBV19*01</td>\n",
       "      <td>TRBJ2-7*01</td>\n",
       "      <td>/home/sebastian/masters/data/neat_data/raw/tcr...</td>\n",
       "    </tr>\n",
       "    <tr>\n",
       "      <th>10329</th>\n",
       "      <td>12968</td>\n",
       "      <td>AENGGGGADGLT</td>\n",
       "      <td>ASSIRSSYEQY</td>\n",
       "      <td>GILGFVFTL</td>\n",
       "      <td>1</td>\n",
       "      <td>1</td>\n",
       "      <td>TRAV13-2*01</td>\n",
       "      <td>TRAJ45*01</td>\n",
       "      <td>TRBV19*01</td>\n",
       "      <td>TRBJ2-7*01</td>\n",
       "      <td>positive</td>\n",
       "      <td>TRAV13-2*01</td>\n",
       "      <td>TRAJ45*01</td>\n",
       "      <td>TRBV19*01</td>\n",
       "      <td>TRBJ2-7*01</td>\n",
       "      <td>/home/sebastian/masters/data/neat_data/raw/tcr...</td>\n",
       "    </tr>\n",
       "    <tr>\n",
       "      <th>10330</th>\n",
       "      <td>12971</td>\n",
       "      <td>AVSGSQGNLI</td>\n",
       "      <td>ASSLRSSYEQY</td>\n",
       "      <td>GILGFVFTL</td>\n",
       "      <td>1</td>\n",
       "      <td>1</td>\n",
       "      <td>TRAV8-6*02</td>\n",
       "      <td>TRAJ42*01</td>\n",
       "      <td>TRBV19*01</td>\n",
       "      <td>TRBJ2-7*01</td>\n",
       "      <td>positive</td>\n",
       "      <td>TRAV8-6*01</td>\n",
       "      <td>TRAJ42*01</td>\n",
       "      <td>TRBV19*01</td>\n",
       "      <td>TRBJ2-7*01</td>\n",
       "      <td>/home/sebastian/masters/data/neat_data/raw/tcr...</td>\n",
       "    </tr>\n",
       "  </tbody>\n",
       "</table>\n",
       "<p>10331 rows × 16 columns</p>\n",
       "</div>"
      ],
      "text/plain": [
       "         #ID          CDR3a             CDR3b    peptide  partition  binder  \\\n",
       "0          1    AVSQSNTGKLI      ASSQLMENTEAF  NLVPMVATV          1       0   \n",
       "1          2   AASEVCADYKLS  ASSYSLLRAAPNTEAF  NLVPMVATV          1       0   \n",
       "2          3     AGRLGAQKLV     ASSQGGRRNQPQH  NLVPMVATV          1       0   \n",
       "3          4    AVEPLYGNKLV        ASSSREAEAF  NLVPMVATV          1       0   \n",
       "4          5       ASGTYKYI     ASSQRAGRVDTQY  NLVPMVATV          1       0   \n",
       "...      ...            ...               ...        ...        ...     ...   \n",
       "10326  12961  AVNSYYNQGGKLI       SVLQGSPYEQY  GILGFVFTL          1       1   \n",
       "10327  12962   AGNYGGSQGNLI       ASSIYSVNEQF  GILGFVFTL          1       1   \n",
       "10328  12966     AVGGSQGNLI       ASSVRSSYEQY  GILGFVFTL          1       1   \n",
       "10329  12968   AENGGGGADGLT       ASSIRSSYEQY  GILGFVFTL          1       1   \n",
       "10330  12971     AVSGSQGNLI       ASSLRSSYEQY  GILGFVFTL          1       1   \n",
       "\n",
       "      v_gene_alpha j_gene_alpha  v_gene_beta j_gene_beta    origin  \\\n",
       "0         TRAV12-2       TRAJ37      TRBV4-1     TRBJ1-1      tenX   \n",
       "1        TRAV29DV5       TRAJ20      TRBV6-3     TRBJ1-1      tenX   \n",
       "2           TRAV25       TRAJ54      TRBV4-2     TRBJ1-5      tenX   \n",
       "3           TRAV22       TRAJ47      TRBV7-9     TRBJ1-1      tenX   \n",
       "4           TRAV19       TRAJ40       TRBV27     TRBJ2-3      tenX   \n",
       "...            ...          ...          ...         ...       ...   \n",
       "10326  TRAV12-2*01    TRAJ23*01  TRBV29-1*01  TRBJ2-7*01  positive   \n",
       "10327    TRAV35*01    TRAJ42*01    TRBV19*01  TRBJ2-1*01  positive   \n",
       "10328   TRAV8-6*02    TRAJ42*01    TRBV19*01  TRBJ2-7*01  positive   \n",
       "10329  TRAV13-2*01    TRAJ45*01    TRBV19*01  TRBJ2-7*01  positive   \n",
       "10330   TRAV8-6*02    TRAJ42*01    TRBV19*01  TRBJ2-7*01  positive   \n",
       "\n",
       "      v_alpha_vdjdb_name  j_alpha_vdjdb_name  v_beta_vdjdb_name  \\\n",
       "0            TRAV12-2*01           TRAJ37*01         TRBV4-1*01   \n",
       "1          TRAV29/DV5*01           TRAJ20*01         TRBV6-3*01   \n",
       "2              TRAV25*01           TRAJ54*01         TRBV4-2*01   \n",
       "3              TRAV22*01           TRAJ47*01         TRBV7-9*01   \n",
       "4              TRAV19*01           TRAJ40*01          TRBV27*01   \n",
       "...                  ...                 ...                ...   \n",
       "10326        TRAV12-2*01           TRAJ23*01        TRBV29-1*01   \n",
       "10327          TRAV35*01           TRAJ42*01          TRBV19*01   \n",
       "10328         TRAV8-6*01           TRAJ42*01          TRBV19*01   \n",
       "10329        TRAV13-2*01           TRAJ45*01          TRBV19*01   \n",
       "10330         TRAV8-6*01           TRAJ42*01          TRBV19*01   \n",
       "\n",
       "       j_beta_vdjdb_name                                               path  \n",
       "0             TRBJ1-1*01  /home/sebastian/masters/data/neat_data/raw/tcr...  \n",
       "1             TRBJ1-1*01  /home/sebastian/masters/data/neat_data/raw/tcr...  \n",
       "2             TRBJ1-5*01  /home/sebastian/masters/data/neat_data/raw/tcr...  \n",
       "3             TRBJ1-1*01  /home/sebastian/masters/data/neat_data/raw/tcr...  \n",
       "4             TRBJ2-3*01  /home/sebastian/masters/data/neat_data/raw/tcr...  \n",
       "...                  ...                                                ...  \n",
       "10326         TRBJ2-7*01  /home/sebastian/masters/data/neat_data/raw/tcr...  \n",
       "10327         TRBJ2-1*01  /home/sebastian/masters/data/neat_data/raw/tcr...  \n",
       "10328         TRBJ2-7*01  /home/sebastian/masters/data/neat_data/raw/tcr...  \n",
       "10329         TRBJ2-7*01  /home/sebastian/masters/data/neat_data/raw/tcr...  \n",
       "10330         TRBJ2-7*01  /home/sebastian/masters/data/neat_data/raw/tcr...  \n",
       "\n",
       "[10331 rows x 16 columns]"
      ]
     },
     "execution_count": 4,
     "metadata": {},
     "output_type": "execute_result"
    }
   ],
   "source": [
    "model_dir = data_root / \"raw\" / \"tcrpmhc\"\n",
    "\n",
    "paths = list(model_dir.glob(\"*\"))\n",
    "join_key = [int(x.name.split(\"_\")[0]) for x in paths]\n",
    "path_df = pd.DataFrame({'#ID': join_key, 'path': paths})\n",
    "\n",
    "metadata = pd.read_csv(metadata_path)\n",
    "metadata = metadata.join(path_df.set_index(\"#ID\"), on=\"#ID\", how=\"inner\")  # filter to non-missing data\n",
    "metadata = metadata.reset_index(drop=True)\n",
    "metadata"
   ]
  },
  {
   "cell_type": "code",
   "execution_count": 5,
   "id": "010d1bd7",
   "metadata": {},
   "outputs": [],
   "source": [
    "metadata[\"merged\"] = metadata[\"CDR3a\"] + metadata[\"CDR3b\"]"
   ]
  },
  {
   "cell_type": "code",
   "execution_count": 12,
   "id": "eabf2888",
   "metadata": {},
   "outputs": [],
   "source": [
    "outfile = open(\"cdr3_seqs.fsa\", \"w\")\n",
    "for x, i in zip(list(metadata[\"merged\"]), list(metadata.index)):\n",
    "    string = f\">{i}\\n{x}\"\n",
    "    print(string, file=outfile)\n",
    "outfile.close()"
   ]
  },
  {
   "cell_type": "code",
   "execution_count": 113,
   "id": "dd694a73",
   "metadata": {},
   "outputs": [],
   "source": [
    "cluster_path = \"/home/sebastian/masters/data/neat_data/clusterRes_cluster.tsv\"\n",
    "\n",
    "def K_fold_CV_from_clusters(cluster_path, n_split=5):\n",
    "    \"\"\"loads clusters from mmseqs2 clustering tsv formatted results\"\"\"\n",
    "    clusters = dict()\n",
    "    with open(cluster_path) as file:\n",
    "        for line in file:\n",
    "            line = line.strip()\n",
    "            line = line.split(\"\\t\")\n",
    "            cluster_id = int(line[0])\n",
    "            seq_id = int(line[1])\n",
    "            if cluster_id not in clusters:\n",
    "                clusters[cluster_id] = [seq_id]\n",
    "            else:\n",
    "                clusters[cluster_id].append(seq_id)\n",
    "\n",
    "    clusters_list = list(clusters.values())\n",
    "    clusters_list.sort(key=len)\n",
    "\n",
    "    partitions = [list() for _ in range(n_split)]\n",
    "    \n",
    "    # round robin balancing of partitions\n",
    "    i = 0\n",
    "    for seq_idx in clusters_list:\n",
    "        partitions[i].extend(seq_idx)\n",
    "        i += 1\n",
    "        if i >= n_split:\n",
    "            i = 0        \n",
    "\n",
    "    train_partitions = [list() for _ in range(n_split)]\n",
    "    test_partitions = [list() for _ in range(n_split)]\n",
    "\n",
    "    for i in range(len(partitions)):\n",
    "        test_partitions[i] = partitions[i]\n",
    "        for j in range(len(partitions)):\n",
    "            if j != i:\n",
    "                train_partitions[i].extend(partitions[j])\n",
    "\n",
    "    return train_partitions, test_partitions\n",
    "\n",
    "train_partitions, test_partitions = K_fold_CV_from_clusters(cluster_path)"
   ]
  },
  {
   "cell_type": "code",
   "execution_count": 115,
   "id": "65f467d3",
   "metadata": {},
   "outputs": [
    {
     "data": {
      "text/plain": [
       "<generator object _BaseKFold.split at 0x7f8963ab0dd0>"
      ]
     },
     "execution_count": 115,
     "metadata": {},
     "output_type": "execute_result"
    }
   ],
   "source": [
    "CV = KFold(n_splits=5, shuffle=True)\n"
   ]
  },
  {
   "cell_type": "code",
   "execution_count": 116,
   "id": "c495a470",
   "metadata": {},
   "outputs": [
    {
     "name": "stdout",
     "output_type": "stream",
     "text": [
      "6528 1633\n",
      "6529 1632\n",
      "6529 1632\n",
      "6529 1632\n",
      "6529 1632\n"
     ]
    }
   ],
   "source": [
    "for x, y in CV.split(train_partitions[0]):\n",
    "    print(len(x), len(y))"
   ]
  },
  {
   "cell_type": "code",
   "execution_count": 110,
   "id": "8cca31b6",
   "metadata": {},
   "outputs": [
    {
     "data": {
      "text/plain": [
       "8161"
      ]
     },
     "execution_count": 110,
     "metadata": {},
     "output_type": "execute_result"
    }
   ],
   "source": [
    "2149+1937+2031+2044"
   ]
  },
  {
   "cell_type": "code",
   "execution_count": 108,
   "id": "c5dba139",
   "metadata": {},
   "outputs": [
    {
     "data": {
      "text/plain": [
       "8161"
      ]
     },
     "execution_count": 108,
     "metadata": {},
     "output_type": "execute_result"
    }
   ],
   "source": [
    "len(train_partitions[0])"
   ]
  },
  {
   "cell_type": "code",
   "execution_count": 109,
   "id": "adbf6945",
   "metadata": {},
   "outputs": [
    {
     "data": {
      "text/plain": [
       "2170"
      ]
     },
     "execution_count": 109,
     "metadata": {},
     "output_type": "execute_result"
    }
   ],
   "source": [
    "len(test_partitions[0])"
   ]
  },
  {
   "cell_type": "code",
   "execution_count": 89,
   "id": "b8fe255b",
   "metadata": {},
   "outputs": [
    {
     "data": {
      "text/plain": [
       "4"
      ]
     },
     "execution_count": 89,
     "metadata": {},
     "output_type": "execute_result"
    }
   ],
   "source": [
    "len(train_part)"
   ]
  },
  {
   "cell_type": "code",
   "execution_count": 72,
   "id": "b5d70fa1",
   "metadata": {},
   "outputs": [
    {
     "data": {
      "text/plain": [
       "2044"
      ]
     },
     "execution_count": 72,
     "metadata": {},
     "output_type": "execute_result"
    }
   ],
   "source": [
    "len(partitions[])"
   ]
  },
  {
   "cell_type": "code",
   "execution_count": 57,
   "id": "c88154ce",
   "metadata": {},
   "outputs": [
    {
     "data": {
      "text/plain": [
       "2149"
      ]
     },
     "execution_count": 57,
     "metadata": {},
     "output_type": "execute_result"
    }
   ],
   "source": [
    "len(test_part)"
   ]
  },
  {
   "cell_type": "code",
   "execution_count": 58,
   "id": "db773021",
   "metadata": {},
   "outputs": [
    {
     "data": {
      "text/plain": [
       "2170"
      ]
     },
     "execution_count": 58,
     "metadata": {},
     "output_type": "execute_result"
    }
   ],
   "source": [
    "len(train_part)"
   ]
  },
  {
   "cell_type": "markdown",
   "id": "332c9a01",
   "metadata": {},
   "source": [
    "### Make GNN embeddings"
   ]
  },
  {
   "cell_type": "code",
   "execution_count": 6,
   "id": "3bec31de",
   "metadata": {},
   "outputs": [],
   "source": [
    "device = torch.device(\"cuda\" if torch.cuda.is_available() else \"cpu\")\n",
    "\n",
    "# init proteinsolver gnn\n",
    "num_features = 20\n",
    "adj_input_size = 2\n",
    "hidden_size = 128\n",
    "\n",
    "gnn = Net(\n",
    "    x_input_size=num_features + 1, \n",
    "    adj_input_size=adj_input_size, \n",
    "    hidden_size=hidden_size, \n",
    "    output_size=num_features\n",
    ")\n",
    "gnn.load_state_dict(torch.load(state_file, map_location=device))\n",
    "gnn.eval()\n",
    "gnn = gnn.to(device)\n",
    "\n",
    "raw_files = np.array(metadata[\"path\"])\n",
    "targets = np.array(metadata[\"binder\"])\n",
    "\n",
    "dataset = ProteinDataset(processed_dir, raw_files, targets, overwrite=False)"
   ]
  },
  {
   "cell_type": "code",
   "execution_count": 7,
   "id": "667fae26",
   "metadata": {
    "scrolled": true
   },
   "outputs": [],
   "source": [
    "def create_gnn_embeddings(\n",
    "    dataset, \n",
    "    out_dir, \n",
    "    device, \n",
    "    gnn_func, \n",
    "    cores=1, \n",
    "    overwrite=False, \n",
    "    chain_keys=np.array([\"P\", \"M\", \"A\", \"B\"])\n",
    "):  \n",
    "    def _sub_process(out_path, data, chain_keys=chain_keys, gnn_func=gnn_func):\n",
    "        #data = data.to(\"cpu\")\n",
    "        with torch.no_grad():\n",
    "            out = gnn_func(data.x, data.edge_index, data.edge_attr)\n",
    "\n",
    "        # add positional encoding of chains\n",
    "        positional_encoding = np.zeros((len(data.x), len(chain_keys)))\n",
    "        for j, p in enumerate(data.chain_map[0]):\n",
    "            positional_encoding[j][np.where(chain_keys == p)] = 1\n",
    "        positional_encoding = torch.Tensor(positional_encoding)\n",
    "        out = torch.cat((out, positional_encoding), dim=1)\n",
    "\n",
    "        torch.save(out, out_path)\n",
    "\n",
    "    out_dir.mkdir(mode=0o775, parents=True, exist_ok=True)\n",
    "    \n",
    "    data_loader = torch_geometric.loader.DataLoader(dataset, shuffle=False, batch_size=1)\n",
    "    out_files = list()\n",
    "    targets = list()\n",
    "    for i, data in enumerate(data_loader):\n",
    "        out_path = out_dir / f\"data_{i}.pt\"\n",
    "        if not out_path.is_file() or overwrite:\n",
    "            out_files.append(out_path)\n",
    "        targets.append([data.y])\n",
    "    torch.save(targets, out_dir / f\"targets.pt\")\n",
    "\n",
    "    #sub_process = lambda out_path, data: _sub_process(\n",
    "    #    out_path,\n",
    "    #    data,\n",
    "    #    gnn_func=gnn_func,\n",
    "    #    chain_keys=chain_keys,\n",
    "    #)\n",
    "    #args = zip(out_files, data_loader)\n",
    "    #Parallel(n_jobs=cores)(delayed(_sub_process)(*arg) for arg in args)\n",
    "    for arg in zip(out_files, data_loader):  # use instead of failed attempt at parallelizing pytorch stuff\n",
    "        _sub_process(*arg)\n",
    "\n",
    "gnn_func = gnn.forward_without_last_layer\n",
    "processed_out_dir = processed_dir / \"gnn_out_pos_128\"\n",
    "#create_gnn_embeddings(dataset, processed_out_dir, device, gnn_func, cores=4, overwrite=False)\n",
    "#create_gnn_embeddings(dataset, processed_out_dir, device, gnn_func, overwrite=False)"
   ]
  },
  {
   "cell_type": "markdown",
   "id": "e8afb24a",
   "metadata": {},
   "source": [
    "### Get indices of CDR3 residues"
   ]
  },
  {
   "cell_type": "code",
   "execution_count": null,
   "id": "29198829",
   "metadata": {},
   "outputs": [],
   "source": [
    "def find_subset_idx(seq, subset_seq):\n",
    "    subset_indices = list()\n",
    "    subset_len = len(subset_seq)\n",
    "    for i in range(len(seq) - subset_len + 1):\n",
    "        if np.all(seq[i : i + subset_len] == subset_seq):\n",
    "            return [i, i + subset_len]\n",
    "\n",
    "new_out_dir = processed_dir / \"cdr_and_peptide_only\"\n",
    "new_out_dir.mkdir(mode=0o775, parents=True, exist_ok=True)\n",
    "\n",
    "chain_keys = np.array([\"P\", \"M\", \"A\", \"B\"])\n",
    "full_seq_path = data_root / \"full_seqs.fsa\"\n",
    "\n",
    "cdr3a_indices = list()\n",
    "cdr3b_indices = list()\n",
    "\n",
    "for i, record in enumerate(SeqIO.parse(full_seq_path, \"fasta\")):\n",
    "    seq = np.array(list(record.seq))\n",
    "    \n",
    "    data = dataset[i]\n",
    "    x = torch.load(out_dir / f\"data_{i}.pt\")\n",
    "    metadata_row = metadata.iloc[i]\n",
    "    \n",
    "    new_data = list()\n",
    "    for cdr3, tcr in [[\"CDR3a\", \"A\"], [\"CDR3b\", \"B\"]]:\n",
    "        # get TCR and CDR3 seq\n",
    "        tcr_seq = seq[np.where(data.chain_map == tcr)]\n",
    "        cdr3_seq = np.array(list(metadata_row[cdr3]))\n",
    "        \n",
    "        # find indices of CDR3 in TCR\n",
    "        start_idx, end_idx = find_subset_idx(tcr_seq, cdr3_seq)\n",
    "        \n",
    "        # slice embedded data to correct chain using pos encoding and subset CDR indices\n",
    "        pos_encoding_key = np.where(chain_keys == tcr)[0][0] - 4 # subtract 4 to get same key as when data was generated\n",
    "        cdr3_embed = x[x[:, pos_encoding_key] == 1]  \n",
    "        cdr3_embed = cdr3_embed[start_idx:end_idx]\n",
    "        new_data.append(cdr3_embed)\n",
    "    \n",
    "    pos_encoding_key = np.where(chain_keys == \"P\")[0][0] - 4\n",
    "    peptide_embed = x[x[:, pos_encoding_key] == 1]\n",
    "    new_data.append(peptide_embed)\n",
    "    new_data = torch.vstack(new_data)\n",
    "    torch.save(new_data, new_out_dir / f\"data_{i}.pt\")\n",
    "    "
   ]
  },
  {
   "cell_type": "markdown",
   "id": "526dac04",
   "metadata": {},
   "source": [
    "### Make LOO partitions and init dataset"
   ]
  },
  {
   "cell_type": "code",
   "execution_count": 8,
   "id": "e368f52e",
   "metadata": {},
   "outputs": [],
   "source": [
    "unique_peptides = metadata[\"peptide\"].unique()\n",
    "\n",
    "metadata[\"merged_chains\"] = metadata[\"CDR3a\"] + metadata[\"CDR3b\"]\n",
    "loo_train_partitions = list()\n",
    "loo_valid_partitions = list()\n",
    "for pep in unique_peptides:\n",
    "    valid_df = metadata[metadata[\"peptide\"] == pep]\n",
    "    valid_unique_cdr = valid_df[\"merged_chains\"].unique()\n",
    "    \n",
    "    # get training rows and drop swapped data\n",
    "    train_df = metadata[metadata[\"peptide\"] != pep]\n",
    "    train_df = train_df[~train_df[\"merged_chains\"].str.contains('|'.join(valid_unique_cdr))]\n",
    "\n",
    "    loo_train_partitions.append(list(train_df.index))\n",
    "    loo_valid_partitions.append(list(valid_df.index))\n",
    "\n",
    "dataset = LSTMDataset(\n",
    "    data_dir=processed_dir / \"cdr_and_peptide_only\", \n",
    "    annotations_path=processed_dir / \"gnn_out_pos_128\" / \"targets.pt\"\n",
    ")\n",
    "\n",
    "# hacky dataset fix\n",
    "# hacky dataset fix\n",
    "# hacky dataset fix\n",
    "filtered_peptides = [\"CLGGLLTMV\", \"ILKEPVHGV\"]\n",
    "filtered_indices = list()\n",
    "filtered_partitions = list()\n",
    "\n",
    "for pep in filtered_peptides:\n",
    "    filtered_indices.extend(list(metadata[metadata[\"peptide\"] == pep].index))\n",
    "    filtered_partitions.extend(np.where(unique_peptides == pep)[0])\n",
    "\n",
    "loo_train_partitions = [part for i, part in enumerate(loo_train_partitions) if i not in filtered_partitions]\n",
    "loo_valid_partitions = [part for i, part in enumerate(loo_valid_partitions) if i not in filtered_partitions]\n",
    "\n",
    "filtered_indices = set(filtered_indices)\n",
    "\n",
    "for i in range(len(loo_train_partitions)):\n",
    "    train_part, valid_part = loo_train_partitions[i], loo_valid_partitions[i]\n",
    "    train_part = [i for i in train_part if i not in filtered_indices]\n",
    "    valid_part = [i for i in valid_part if i not in filtered_indices]\n",
    "    loo_train_partitions[i], loo_valid_partitions[i] = train_part, valid_part\n",
    "    \n",
    "unique_peptides = np.delete(unique_peptides, filtered_partitions)"
   ]
  },
  {
   "cell_type": "code",
   "execution_count": 9,
   "id": "17625535",
   "metadata": {
    "scrolled": true
   },
   "outputs": [
    {
     "name": "stdout",
     "output_type": "stream",
     "text": [
      "(8381, 1217, 9598)\n",
      "(10214, 70, 10284)\n",
      "(10174, 87, 10261)\n",
      "(10017, 201, 10218)\n",
      "(10253, 39, 10292)\n",
      "(10236, 54, 10290)\n",
      "(10182, 89, 10271)\n",
      "(10169, 86, 10255)\n",
      "(9946, 217, 10163)\n",
      "(10262, 34, 10296)\n",
      "(9917, 245, 10162)\n",
      "(7613, 1667, 9280)\n",
      "(10192, 76, 10268)\n",
      "(2011, 6223, 8234)\n",
      "(10306, 8, 10314)\n",
      "(10308, 7, 10315)\n"
     ]
    }
   ],
   "source": [
    "for x in [(len(x), len(y), len(x)+len(y)) for x,y in zip(loo_train_partitions, loo_valid_partitions)]:\n",
    "    print(x)"
   ]
  },
  {
   "cell_type": "markdown",
   "id": "3cee69c3",
   "metadata": {},
   "source": [
    "### LSTM"
   ]
  },
  {
   "cell_type": "code",
   "execution_count": 10,
   "id": "a1b201cc",
   "metadata": {},
   "outputs": [],
   "source": [
    "class TripleLSTM(nn.Module):\n",
    "    def __init__(self, embedding_dim, hidden_dim, num_layers, dropout=0.0):\n",
    "        super(TripleLSTM, self).__init__()\n",
    "        \n",
    "        self.num_layers = num_layers\n",
    "        self.hidden_dim = hidden_dim\n",
    "        self.dropout = dropout\n",
    "        \n",
    "        self.lstm_1 = nn.LSTM(\n",
    "            input_size=embedding_dim,\n",
    "            hidden_size=hidden_dim,\n",
    "            num_layers=num_layers,\n",
    "            dropout=dropout,\n",
    "            batch_first=True,\n",
    "        )       \n",
    "        self.lstm_2 = nn.LSTM(\n",
    "            input_size=embedding_dim,\n",
    "            hidden_size=hidden_dim,\n",
    "            num_layers=num_layers,\n",
    "            dropout=dropout,\n",
    "            batch_first=True,\n",
    "        )        \n",
    "        self.lstm_3 = nn.LSTM(\n",
    "            input_size=embedding_dim,\n",
    "            hidden_size=hidden_dim,\n",
    "            num_layers=num_layers,\n",
    "            dropout=dropout, \n",
    "            batch_first=True,\n",
    "        )     \n",
    "\n",
    "        self.linear_dropout = nn.Dropout(p=dropout)\n",
    "        self.batch_norm = nn.BatchNorm1d(num_features=hidden_dim)\n",
    "        self.linear_1 = nn.Linear(hidden_dim * 3, hidden_dim)\n",
    "        self.linear_2 = nn.Linear(hidden_dim, 1)\n",
    "        \n",
    "        torch.nn.init.xavier_uniform_(self.linear_1.weight)\n",
    "        torch.nn.init.xavier_uniform_(self.linear_2.weight)\n",
    "    \n",
    "    def forward(self, x_1, x_2, x_3):\n",
    "        _, (h_1, _) = self.lstm_1(x_1)\n",
    "        _, (h_2, _) = self.lstm_2(x_2)\n",
    "        _, (h_3, _) = self.lstm_3(x_3)\n",
    "        h_cat = torch.cat((h_1[-1], h_2[-1], h_3[-1]), dim=1)\n",
    "        out = self.linear_1(h_cat)\n",
    "        out = self.batch_norm(out)\n",
    "        out = F.relu(out)\n",
    "        out = self.linear_dropout(out)\n",
    "        out = self.linear_2(out)\n",
    "        return out\n",
    "\n",
    "    \n",
    "def pad_collate_chain_split_cdr(batch, pad_val=0, n_split=4, drop_idx=None):\n",
    "    (xx, yy) = zip(*batch)\n",
    "    x_split_batch = [list() for _ in range(n_split)]\n",
    "    for x in xx:\n",
    "        for i in range(n_split):\n",
    "            x_split_batch[i].append(x[x[:,-i - 1] == 1][:,:-n_split])  # slice based on positional encoding and remove encoding part\n",
    "    \n",
    "    for i in range(n_split):\n",
    "        x_split_batch[i] = nn.utils.rnn.pad_sequence(\n",
    "            x_split_batch[i], \n",
    "            batch_first=True, \n",
    "            padding_value=pad_val\n",
    "        )\n",
    "\n",
    "    if drop_idx is not None:\n",
    "        del x_split_batch[drop_idx]\n",
    "    \n",
    "    yy_pad = nn.utils.rnn.pad_sequence(yy, batch_first=True, padding_value=pad_val)\n",
    "    return x_split_batch, yy_pad"
   ]
  },
  {
   "cell_type": "markdown",
   "id": "46f5f5ca",
   "metadata": {},
   "source": [
    "### LOO training scheme"
   ]
  },
  {
   "cell_type": "code",
   "execution_count": null,
   "id": "dbce7995",
   "metadata": {},
   "outputs": [],
   "source": [
    "from functools import partial\n",
    "\n",
    "# LSTM params\n",
    "batch_size = 64\n",
    "embedding_dim = 128\n",
    "hidden_dim = 64 #32\n",
    "num_layers = 2  # from 2\n",
    "epochs = 20\n",
    "learning_rate = 1e-3\n",
    "lr_decay = 0.95 #TODO set some val, 1=no effect\n",
    "w_decay = 1e-4\n",
    "dropout = 0.8  # test scheduled dropout. Can set droput using net.layer.dropout = 0.x https://arxiv.org/pdf/1703.06229.pdf\n",
    "\n",
    "# touch files to ensure output\n",
    "n_splits = len(unique_peptides)\n",
    "save_dir = get_non_dupe_dir(out_dir)\n",
    "loss_paths = touch_output_files(save_dir, \"loss\", n_splits)\n",
    "state_paths = touch_output_files(save_dir, \"state\", n_splits)\n",
    "pred_paths = touch_output_files(save_dir, \"pred\", n_splits)\n",
    "\n",
    "# extra stuff\n",
    "extra_print_str = \"\\nSaving to {}\\nFold: {}\\nPeptide: {}\"\n",
    "drop_idx = np.where(chain_keys == \"M\")[0][0] + 1 # drop data for MHC chain\n",
    "\n",
    "i = 0\n",
    "for train_idx, valid_idx in zip(loo_train_partitions, loo_valid_partitions):\n",
    "    \n",
    "    net = TripleLSTM(\n",
    "        embedding_dim=embedding_dim, \n",
    "        hidden_dim=hidden_dim, \n",
    "        num_layers=num_layers, \n",
    "        dropout=dropout,\n",
    "    )\n",
    "    net = net.to(device)\n",
    "\n",
    "    criterion = nn.BCEWithLogitsLoss()\n",
    "    optimizer = optim.Adam(\n",
    "        net.parameters(), \n",
    "        lr=learning_rate, \n",
    "        #weight_decay=w_decay,\n",
    "    )  # test learning rate scheduler to reduce validation volatility\n",
    "    scheduler = optim.lr_scheduler.MultiplicativeLR(\n",
    "        optimizer, \n",
    "        lr_lambda=lambda epoch: lr_decay\n",
    "    )\n",
    "    \n",
    "    net, train_losses, valid_losses = lstm_quad_train(\n",
    "        net,\n",
    "        epochs,\n",
    "        criterion,\n",
    "        optimizer,\n",
    "        scheduler,\n",
    "        dataset,\n",
    "        train_idx,\n",
    "        valid_idx,\n",
    "        batch_size,\n",
    "        device,\n",
    "        collate_fn=partial(pad_collate_chain_split_cdr, drop_idx=drop_idx),\n",
    "        extra_print=extra_print_str.format(save_dir, i, unique_peptides[i]),\n",
    "    )\n",
    "    torch.save(net.state_dict(), state_paths[i])\n",
    "    torch.save({\"train\": train_losses, \"valid\": valid_losses}, loss_paths[i])\n",
    "    \n",
    "    pred, true = lstm_quad_predict(\n",
    "        net, \n",
    "        dataset, \n",
    "        valid_idx, \n",
    "        device, \n",
    "        collate_fn=partial(pad_collate_chain_split_cdr, drop_idx=drop_idx),\n",
    "    )     \n",
    "    torch.save({\"y_pred\": pred, \"y_true\": true}, pred_paths[i])\n",
    "    \n",
    "    i += 1"
   ]
  },
  {
   "cell_type": "markdown",
   "id": "11eddc4d",
   "metadata": {},
   "source": [
    "### Performance metrics"
   ]
  },
  {
   "cell_type": "code",
   "execution_count": 11,
   "id": "a358b3d6",
   "metadata": {},
   "outputs": [],
   "source": [
    "import matplotlib.pyplot as plt\n",
    "import copy\n",
    "\n",
    "save_dir = Path(\"/home/sebastian/masters/data/state_files/tcr_binding/computerome/tcr_binding/cdr3_and_pep_only/621f7c26a4efaf043d39d0e78402f4b0\")\n",
    "#save_dir = Path(\"/home/sebastian/masters/data/state_files/tcr_binding/computerome/tcr_binding/drop_80_high/7fa74d3b42225d6eaffe7847ca8133ae/\")\n",
    "#save_dir = Path(\"/home/sebastian/masters/data/state_files/tcr_binding/computerome/tcr_binding/randomforest_baseline/250/25cec4b3ceb002bbbaa3ee5147ecda47\")\n",
    "pred_paths = [save_dir / f\"pred_{i}.pt\" for i in range(len(unique_peptides))]"
   ]
  },
  {
   "cell_type": "code",
   "execution_count": 45,
   "id": "3a7fc225",
   "metadata": {},
   "outputs": [
    {
     "data": {
      "text/plain": [
       "[<matplotlib.lines.Line2D at 0x7fab54084cd0>]"
      ]
     },
     "execution_count": 45,
     "metadata": {},
     "output_type": "execute_result"
    },
    {
     "data": {
      "image/png": "[encoded data removed]",
      "text/plain": [
       "<Figure size 432x288 with 1 Axes>"
      ]
     },
     "metadata": {
      "needs_background": "light"
     },
     "output_type": "display_data"
    }
   ],
   "source": [
    "import matplotlib.pyplot as plt\n",
    "\n",
    "t = torch.load(save_dir/\"loss_4.pt\")\n",
    "plt.plot(t[\"train\"])\n",
    "plt.plot(t[\"valid\"])"
   ]
  },
  {
   "cell_type": "code",
   "execution_count": 33,
   "id": "b1fd3586",
   "metadata": {
    "scrolled": false
   },
   "outputs": [
    {
     "name": "stdout",
     "output_type": "stream",
     "text": [
      "0.5731468215066737 0.01181741767800179\n",
      "0.5384615384615384 -0.033389028164708894\n",
      "0.5789473684210527 -0.058357285367106965\n",
      "0.5070332480818414 0.05730937269821193\n",
      "0.595959595959596 -0.06917144638660747\n",
      "0.6666666666666667 -0.058823529411764705\n",
      "0.38580246913580246 -0.1473040805672863\n",
      "0.41696969696969693 -0.07280937315536447\n",
      "0.5502354788069074 0.1552930502691702\n",
      "0.5310344827586206 -0.12917122661105557\n",
      "0.432093023255814 -0.016772606538118056\n",
      "0.3885020693836664 -0.15058440063876308\n",
      "0.8407960199004976 0.23126555068632454\n",
      "0.5749526525739359 -0.020019607700281935\n",
      "0.2857142857142857 -0.2182178902359924\n",
      "0.33333333333333337 -0.16666666666666666\n",
      "overall AUC: 0.5484139231713097\n",
      "overall MCC (t=0.1): -0.06965095894974581\n"
     ]
    },
    {
     "data": {
      "image/png": "[encoded data removed]",
      "text/plain": [
       "<Figure size 864x504 with 1 Axes>"
      ]
     },
     "metadata": {
      "needs_background": "light"
     },
     "output_type": "display_data"
    }
   ],
   "source": [
    "n_splits = len(unique_peptides)\n",
    "threshold = 0.1\n",
    "\n",
    "overall_pred = list()\n",
    "overall_true = list()\n",
    "overall_thres_pred = list()\n",
    "# compute metrics\n",
    "perf_data = dict()\n",
    "for i in range(n_splits):\n",
    "    data = torch.load(pred_paths[i])\n",
    "    pred = data[\"y_pred\"]\n",
    "    true = data[\"y_true\"]\n",
    "\n",
    "    # auc\n",
    "    auc = roc_auc_score(true, pred)\n",
    "    fpr, tpr, thr = roc_curve(true, pred, pos_label=1)\n",
    "    \n",
    "    thresh_pred = torch.zeros(len(pred))\n",
    "    thresh_pred[pred >= threshold] = 1\n",
    "    mcc = matthews_corrcoef(true, thresh_pred)\n",
    "    \n",
    "    pep = unique_peptides[i]\n",
    "    perf_data[pep] = [fpr, tpr, auc, mcc]\n",
    "\n",
    "    print(auc, mcc)\n",
    "\n",
    "    overall_pred.extend(pred)\n",
    "    overall_true.extend(true)\n",
    "    overall_thres_pred.extend(thresh_pred)\n",
    "\n",
    "print(\"overall AUC:\", roc_auc_score(overall_true, overall_pred))  \n",
    "print(f\"overall MCC (t={threshold}):\", matthews_corrcoef(overall_true, overall_thres_pred))\n",
    "\n",
    "performance_file = save_dir / \"performance_data.pt\"\n",
    "torch.save(perf_data, performance_file)\n",
    "\n",
    "# ROC plot\n",
    "cm = plt.get_cmap('tab20')  # https://matplotlib.org/stable/tutorials/colors/colormaps.html\n",
    "\n",
    "fig = plt.figure(figsize=(12, 7))\n",
    "ax = fig.add_subplot(111)\n",
    "ax.set_prop_cycle(color=[cm(1*i/n_splits) for i in range(n_splits)])\n",
    "excluded = [\"KLQCVDLHV\", \"KVAELVHFL\", \"YLLEMLWRL\", \"SLLMWITQV\"] # TODO delete (filter <40 in test set)\n",
    "for pep in unique_peptides:\n",
    "    if pep not in excluded:\n",
    "        ax.plot(\n",
    "            perf_data[pep][0], \n",
    "            perf_data[pep][1], \n",
    "            label=f\"{pep}, AUC = {round(perf_data[pep][2], 3)}\",\n",
    "        )\n",
    "plt.legend()\n",
    "plt.plot([0, 1], [0, 1], linestyle=\"--\")\n",
    "plt.xlim([0.0, 1.0])\n",
    "plt.ylim([0.0, 1.0])\n",
    "plt.xlabel(\"False Positive Rate\")\n",
    "plt.ylabel(\"True Positive Rate\")\n",
    "plt.title(\"LOO validation ROC curve (peptides with count < 40 left out for visual clarity (drop on CDR3b))\")\n",
    "plt.show()"
   ]
  },
  {
   "cell_type": "code",
   "execution_count": null,
   "id": "9fd93896",
   "metadata": {},
   "outputs": [],
   "source": [
    "# confusion matrix\n",
    "labels = [\"non-binder\", \"binder\"]\n",
    "pred_copy = copy.deepcopy(pred)\n",
    "pred_copy[pred >= 0.2] = 1\n",
    "pred_copy[pred < 0.2] = 0\n",
    "cm = confusion_matrix(true, pred_copy)\n",
    "\n",
    "# f1\n",
    "f1 = f1_score(true, pred_copy)\n",
    "disp = ConfusionMatrixDisplay(cm, display_labels=labels)\n",
    "plot = disp.plot()\n",
    "plot.figure_.show()"
   ]
  },
  {
   "cell_type": "code",
   "execution_count": null,
   "id": "bd601cbc",
   "metadata": {},
   "outputs": [],
   "source": [
    "fold_idx = 1\n",
    "data = torch.load(performance_file)[fold_idx]\n",
    "\n",
    "cm, f1, auc = data[\"cm\"], data[\"f1\"], data[\"auc\"]\n",
    "disp = ConfusionMatrixDisplay(cm, display_labels=labels)\n",
    "disp.plot()\n",
    "print(f\"LOO performance of fold {fold_idx}:\")\n",
    "print(f\"AUC={auc}\")\n",
    "print(f\"F1={f1}\")"
   ]
  },
  {
   "cell_type": "code",
   "execution_count": 12,
   "id": "e79b2956",
   "metadata": {},
   "outputs": [],
   "source": [
    "# quick viz\n",
    "count_dict = dict()\n",
    "for pep in unique_peptides:\n",
    "    total = len(metadata[metadata[\"peptide\"] == pep])\n",
    "    pos = len(metadata[(metadata[\"peptide\"] == pep) & (metadata[\"binder\"] == 1)])\n",
    "    count_dict[pep] = [total, pos]"
   ]
  },
  {
   "cell_type": "code",
   "execution_count": 13,
   "id": "97c32bc5",
   "metadata": {},
   "outputs": [
    {
     "data": {
      "text/plain": [
       "{'NLVPMVATV': [1217, 149],\n",
       " 'SLFNTVATL': [70, 5],\n",
       " 'KTWGQYWQV': [87, 11],\n",
       " 'RTLNAWVKV': [201, 17],\n",
       " 'KVLEYVIKV': [39, 6],\n",
       " 'YLLEMLWRL': [54, 3],\n",
       " 'IMDQVPFSV': [89, 8],\n",
       " 'MLDLQPETT': [86, 11],\n",
       " 'FLYALALLL': [217, 35],\n",
       " 'SLLMWITQV': [34, 5],\n",
       " 'LLFGYPVYV': [245, 30],\n",
       " 'GLCTLVAML': [1667, 208],\n",
       " 'RMFPNAPYL': [76, 9],\n",
       " 'GILGFVFTL': [6223, 1311],\n",
       " 'KLQCVDLHV': [8, 1],\n",
       " 'KVAELVHFL': [7, 1]}"
      ]
     },
     "execution_count": 13,
     "metadata": {},
     "output_type": "execute_result"
    }
   ],
   "source": [
    "count_dict"
   ]
  },
  {
   "cell_type": "code",
   "execution_count": 66,
   "id": "05ddd404",
   "metadata": {},
   "outputs": [
    {
     "data": {
      "image/png": "[encoded data removed]",
      "text/plain": [
       "<Figure size 864x504 with 1 Axes>"
      ]
     },
     "metadata": {
      "needs_background": "light"
     },
     "output_type": "display_data"
    }
   ],
   "source": [
    "fig = plt.figure(figsize=(12, 7))\n",
    "ax = fig.add_subplot(111)\n",
    "\n",
    "peptides = list(count_dict.keys())\n",
    "negatives = [x[0] - x[1] for x in count_dict.values()]\n",
    "positives = [x[1] for x in count_dict.values()]\n",
    "\n",
    "width = 0.4\n",
    "idx = np.arange(len(unique_peptides))\n",
    "\n",
    "ax.bar(idx, negatives, width, zorder=3)\n",
    "ax.bar(idx + width, positives, width, zorder=3)\n",
    "ax.set_yscale('log')\n",
    "ax.set_xticks(idx+width)\n",
    "ax.set_xticklabels(count_dict.keys(), rotation=45)\n",
    "\n",
    "ax.grid(zorder=0, which='both', axis='y')\n",
    "\n",
    "plt.legend([\"Negatives\", \"Positives\"])\n",
    "plt.xlabel(\"Peptide\")\n",
    "plt.ylabel(\"log(Count)\")\n",
    "plt.title(\"Number of TCR-pMHC models for each unique peptide (log-scale)\")\n",
    "plt.show()"
   ]
  },
  {
   "cell_type": "code",
   "execution_count": null,
   "id": "e9aaaab0",
   "metadata": {},
   "outputs": [],
   "source": []
  }
 ],
 "metadata": {
  "kernelspec": {
   "display_name": "Python 3 (ipykernel)",
   "language": "python",
   "name": "python3"
  },
  "language_info": {
   "codemirror_mode": {
    "name": "ipython",
    "version": 3
   },
   "file_extension": ".py",
   "mimetype": "text/x-python",
   "name": "python",
   "nbconvert_exporter": "python",
   "pygments_lexer": "ipython3",
   "version": "3.8.0"
  }
 },
 "nbformat": 4,
 "nbformat_minor": 5
}

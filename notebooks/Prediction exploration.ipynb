{
 "cells": [
  {
   "cell_type": "code",
   "execution_count": 138,
   "id": "b2197ef8",
   "metadata": {},
   "outputs": [
    {
     "data": {
      "text/plain": [
       "<torch._C.Generator at 0x7f1c34dbb550>"
      ]
     },
     "execution_count": 138,
     "metadata": {},
     "output_type": "execute_result"
    }
   ],
   "source": [
    "%reload_ext autoreload\n",
    "%autoreload 2\n",
    "import sys\n",
    "sys.path.append('/home/sebastian/masters/') # add my repo to python path\n",
    "import os\n",
    "import torch\n",
    "import torch.nn.functional as F\n",
    "import torch_geometric\n",
    "import kmbio  # fork of biopython PDB with some changes in how the structure, chain, etc. classes are defined.\n",
    "import numpy as np\n",
    "import pandas as pd\n",
    "import proteinsolver\n",
    "import modules\n",
    "import matplotlib.pyplot as plt\n",
    "\n",
    "from torch.utils.data import Dataset, DataLoader, SubsetRandomSampler, BatchSampler\n",
    "from sklearn.model_selection import KFold\n",
    "from sklearn.utils.class_weight import compute_class_weight\n",
    "from sklearn.metrics import *\n",
    "from torch import nn, optim\n",
    "from pathlib import Path\n",
    "\n",
    "from modules.dataset_utils import *\n",
    "from modules.dataset import *\n",
    "from modules.utils import *\n",
    "from modules.models import *\n",
    "from modules.lstm_utils import *\n",
    "\n",
    "from scipy.stats import ttest_ind, describe, ttest_rel\n",
    "\n",
    "np.random.seed(0)\n",
    "torch.manual_seed(0)"
   ]
  },
  {
   "cell_type": "code",
   "execution_count": 2,
   "id": "d962aed0",
   "metadata": {},
   "outputs": [],
   "source": [
    "root = Path(\"/home/sebastian/masters/data/\")\n",
    "data_root = root / \"neat_data\"\n",
    "metadata_path = data_root / \"metadata.csv\"\n",
    "processed_dir = data_root / \"processed\" / \"tcr_binding\"\n",
    "state_file = root / \"state_files\" / \"e53-s1952148-d93703104.state\"\n",
    "out_dir = root / \"state_files\" / \"tcr_binding\""
   ]
  },
  {
   "cell_type": "markdown",
   "id": "f0535dfa",
   "metadata": {},
   "source": [
    "### Load data"
   ]
  },
  {
   "cell_type": "code",
   "execution_count": 199,
   "id": "6b7bcde0",
   "metadata": {},
   "outputs": [
    {
     "data": {
      "text/html": [
       "<div>\n",
       "<style scoped>\n",
       "    .dataframe tbody tr th:only-of-type {\n",
       "        vertical-align: middle;\n",
       "    }\n",
       "\n",
       "    .dataframe tbody tr th {\n",
       "        vertical-align: top;\n",
       "    }\n",
       "\n",
       "    .dataframe thead th {\n",
       "        text-align: right;\n",
       "    }\n",
       "</style>\n",
       "<table border=\"1\" class=\"dataframe\">\n",
       "  <thead>\n",
       "    <tr style=\"text-align: right;\">\n",
       "      <th></th>\n",
       "      <th>#ID</th>\n",
       "      <th>CDR3a</th>\n",
       "      <th>CDR3b</th>\n",
       "      <th>peptide</th>\n",
       "      <th>partition</th>\n",
       "      <th>binder</th>\n",
       "      <th>v_gene_alpha</th>\n",
       "      <th>j_gene_alpha</th>\n",
       "      <th>v_gene_beta</th>\n",
       "      <th>j_gene_beta</th>\n",
       "      <th>origin</th>\n",
       "      <th>v_alpha_vdjdb_name</th>\n",
       "      <th>j_alpha_vdjdb_name</th>\n",
       "      <th>v_beta_vdjdb_name</th>\n",
       "      <th>j_beta_vdjdb_name</th>\n",
       "      <th>path</th>\n",
       "      <th>merged_chains</th>\n",
       "    </tr>\n",
       "  </thead>\n",
       "  <tbody>\n",
       "    <tr>\n",
       "      <th>0</th>\n",
       "      <td>1</td>\n",
       "      <td>AVSQSNTGKLI</td>\n",
       "      <td>ASSQLMENTEAF</td>\n",
       "      <td>NLVPMVATV</td>\n",
       "      <td>1</td>\n",
       "      <td>0</td>\n",
       "      <td>TRAV12-2</td>\n",
       "      <td>TRAJ37</td>\n",
       "      <td>TRBV4-1</td>\n",
       "      <td>TRBJ1-1</td>\n",
       "      <td>tenX</td>\n",
       "      <td>TRAV12-2*01</td>\n",
       "      <td>TRAJ37*01</td>\n",
       "      <td>TRBV4-1*01</td>\n",
       "      <td>TRBJ1-1*01</td>\n",
       "      <td>/home/sebastian/masters/data/neat_data/raw/tcr...</td>\n",
       "      <td>AVSQSNTGKLIASSQLMENTEAF</td>\n",
       "    </tr>\n",
       "    <tr>\n",
       "      <th>1</th>\n",
       "      <td>2</td>\n",
       "      <td>AASEVCADYKLS</td>\n",
       "      <td>ASSYSLLRAAPNTEAF</td>\n",
       "      <td>NLVPMVATV</td>\n",
       "      <td>1</td>\n",
       "      <td>0</td>\n",
       "      <td>TRAV29DV5</td>\n",
       "      <td>TRAJ20</td>\n",
       "      <td>TRBV6-3</td>\n",
       "      <td>TRBJ1-1</td>\n",
       "      <td>tenX</td>\n",
       "      <td>TRAV29/DV5*01</td>\n",
       "      <td>TRAJ20*01</td>\n",
       "      <td>TRBV6-3*01</td>\n",
       "      <td>TRBJ1-1*01</td>\n",
       "      <td>/home/sebastian/masters/data/neat_data/raw/tcr...</td>\n",
       "      <td>AASEVCADYKLSASSYSLLRAAPNTEAF</td>\n",
       "    </tr>\n",
       "    <tr>\n",
       "      <th>2</th>\n",
       "      <td>3</td>\n",
       "      <td>AGRLGAQKLV</td>\n",
       "      <td>ASSQGGRRNQPQH</td>\n",
       "      <td>NLVPMVATV</td>\n",
       "      <td>1</td>\n",
       "      <td>0</td>\n",
       "      <td>TRAV25</td>\n",
       "      <td>TRAJ54</td>\n",
       "      <td>TRBV4-2</td>\n",
       "      <td>TRBJ1-5</td>\n",
       "      <td>tenX</td>\n",
       "      <td>TRAV25*01</td>\n",
       "      <td>TRAJ54*01</td>\n",
       "      <td>TRBV4-2*01</td>\n",
       "      <td>TRBJ1-5*01</td>\n",
       "      <td>/home/sebastian/masters/data/neat_data/raw/tcr...</td>\n",
       "      <td>AGRLGAQKLVASSQGGRRNQPQH</td>\n",
       "    </tr>\n",
       "    <tr>\n",
       "      <th>3</th>\n",
       "      <td>4</td>\n",
       "      <td>AVEPLYGNKLV</td>\n",
       "      <td>ASSSREAEAF</td>\n",
       "      <td>NLVPMVATV</td>\n",
       "      <td>1</td>\n",
       "      <td>0</td>\n",
       "      <td>TRAV22</td>\n",
       "      <td>TRAJ47</td>\n",
       "      <td>TRBV7-9</td>\n",
       "      <td>TRBJ1-1</td>\n",
       "      <td>tenX</td>\n",
       "      <td>TRAV22*01</td>\n",
       "      <td>TRAJ47*01</td>\n",
       "      <td>TRBV7-9*01</td>\n",
       "      <td>TRBJ1-1*01</td>\n",
       "      <td>/home/sebastian/masters/data/neat_data/raw/tcr...</td>\n",
       "      <td>AVEPLYGNKLVASSSREAEAF</td>\n",
       "    </tr>\n",
       "    <tr>\n",
       "      <th>4</th>\n",
       "      <td>5</td>\n",
       "      <td>ASGTYKYI</td>\n",
       "      <td>ASSQRAGRVDTQY</td>\n",
       "      <td>NLVPMVATV</td>\n",
       "      <td>1</td>\n",
       "      <td>0</td>\n",
       "      <td>TRAV19</td>\n",
       "      <td>TRAJ40</td>\n",
       "      <td>TRBV27</td>\n",
       "      <td>TRBJ2-3</td>\n",
       "      <td>tenX</td>\n",
       "      <td>TRAV19*01</td>\n",
       "      <td>TRAJ40*01</td>\n",
       "      <td>TRBV27*01</td>\n",
       "      <td>TRBJ2-3*01</td>\n",
       "      <td>/home/sebastian/masters/data/neat_data/raw/tcr...</td>\n",
       "      <td>ASGTYKYIASSQRAGRVDTQY</td>\n",
       "    </tr>\n",
       "    <tr>\n",
       "      <th>...</th>\n",
       "      <td>...</td>\n",
       "      <td>...</td>\n",
       "      <td>...</td>\n",
       "      <td>...</td>\n",
       "      <td>...</td>\n",
       "      <td>...</td>\n",
       "      <td>...</td>\n",
       "      <td>...</td>\n",
       "      <td>...</td>\n",
       "      <td>...</td>\n",
       "      <td>...</td>\n",
       "      <td>...</td>\n",
       "      <td>...</td>\n",
       "      <td>...</td>\n",
       "      <td>...</td>\n",
       "      <td>...</td>\n",
       "      <td>...</td>\n",
       "    </tr>\n",
       "    <tr>\n",
       "      <th>10326</th>\n",
       "      <td>12961</td>\n",
       "      <td>AVNSYYNQGGKLI</td>\n",
       "      <td>SVLQGSPYEQY</td>\n",
       "      <td>GILGFVFTL</td>\n",
       "      <td>1</td>\n",
       "      <td>1</td>\n",
       "      <td>TRAV12-2*01</td>\n",
       "      <td>TRAJ23*01</td>\n",
       "      <td>TRBV29-1*01</td>\n",
       "      <td>TRBJ2-7*01</td>\n",
       "      <td>positive</td>\n",
       "      <td>TRAV12-2*01</td>\n",
       "      <td>TRAJ23*01</td>\n",
       "      <td>TRBV29-1*01</td>\n",
       "      <td>TRBJ2-7*01</td>\n",
       "      <td>/home/sebastian/masters/data/neat_data/raw/tcr...</td>\n",
       "      <td>AVNSYYNQGGKLISVLQGSPYEQY</td>\n",
       "    </tr>\n",
       "    <tr>\n",
       "      <th>10327</th>\n",
       "      <td>12962</td>\n",
       "      <td>AGNYGGSQGNLI</td>\n",
       "      <td>ASSIYSVNEQF</td>\n",
       "      <td>GILGFVFTL</td>\n",
       "      <td>1</td>\n",
       "      <td>1</td>\n",
       "      <td>TRAV35*01</td>\n",
       "      <td>TRAJ42*01</td>\n",
       "      <td>TRBV19*01</td>\n",
       "      <td>TRBJ2-1*01</td>\n",
       "      <td>positive</td>\n",
       "      <td>TRAV35*01</td>\n",
       "      <td>TRAJ42*01</td>\n",
       "      <td>TRBV19*01</td>\n",
       "      <td>TRBJ2-1*01</td>\n",
       "      <td>/home/sebastian/masters/data/neat_data/raw/tcr...</td>\n",
       "      <td>AGNYGGSQGNLIASSIYSVNEQF</td>\n",
       "    </tr>\n",
       "    <tr>\n",
       "      <th>10328</th>\n",
       "      <td>12966</td>\n",
       "      <td>AVGGSQGNLI</td>\n",
       "      <td>ASSVRSSYEQY</td>\n",
       "      <td>GILGFVFTL</td>\n",
       "      <td>1</td>\n",
       "      <td>1</td>\n",
       "      <td>TRAV8-6*02</td>\n",
       "      <td>TRAJ42*01</td>\n",
       "      <td>TRBV19*01</td>\n",
       "      <td>TRBJ2-7*01</td>\n",
       "      <td>positive</td>\n",
       "      <td>TRAV8-6*01</td>\n",
       "      <td>TRAJ42*01</td>\n",
       "      <td>TRBV19*01</td>\n",
       "      <td>TRBJ2-7*01</td>\n",
       "      <td>/home/sebastian/masters/data/neat_data/raw/tcr...</td>\n",
       "      <td>AVGGSQGNLIASSVRSSYEQY</td>\n",
       "    </tr>\n",
       "    <tr>\n",
       "      <th>10329</th>\n",
       "      <td>12968</td>\n",
       "      <td>AENGGGGADGLT</td>\n",
       "      <td>ASSIRSSYEQY</td>\n",
       "      <td>GILGFVFTL</td>\n",
       "      <td>1</td>\n",
       "      <td>1</td>\n",
       "      <td>TRAV13-2*01</td>\n",
       "      <td>TRAJ45*01</td>\n",
       "      <td>TRBV19*01</td>\n",
       "      <td>TRBJ2-7*01</td>\n",
       "      <td>positive</td>\n",
       "      <td>TRAV13-2*01</td>\n",
       "      <td>TRAJ45*01</td>\n",
       "      <td>TRBV19*01</td>\n",
       "      <td>TRBJ2-7*01</td>\n",
       "      <td>/home/sebastian/masters/data/neat_data/raw/tcr...</td>\n",
       "      <td>AENGGGGADGLTASSIRSSYEQY</td>\n",
       "    </tr>\n",
       "    <tr>\n",
       "      <th>10330</th>\n",
       "      <td>12971</td>\n",
       "      <td>AVSGSQGNLI</td>\n",
       "      <td>ASSLRSSYEQY</td>\n",
       "      <td>GILGFVFTL</td>\n",
       "      <td>1</td>\n",
       "      <td>1</td>\n",
       "      <td>TRAV8-6*02</td>\n",
       "      <td>TRAJ42*01</td>\n",
       "      <td>TRBV19*01</td>\n",
       "      <td>TRBJ2-7*01</td>\n",
       "      <td>positive</td>\n",
       "      <td>TRAV8-6*01</td>\n",
       "      <td>TRAJ42*01</td>\n",
       "      <td>TRBV19*01</td>\n",
       "      <td>TRBJ2-7*01</td>\n",
       "      <td>/home/sebastian/masters/data/neat_data/raw/tcr...</td>\n",
       "      <td>AVSGSQGNLIASSLRSSYEQY</td>\n",
       "    </tr>\n",
       "  </tbody>\n",
       "</table>\n",
       "<p>10331 rows × 17 columns</p>\n",
       "</div>"
      ],
      "text/plain": [
       "         #ID          CDR3a             CDR3b    peptide  partition  binder  \\\n",
       "0          1    AVSQSNTGKLI      ASSQLMENTEAF  NLVPMVATV          1       0   \n",
       "1          2   AASEVCADYKLS  ASSYSLLRAAPNTEAF  NLVPMVATV          1       0   \n",
       "2          3     AGRLGAQKLV     ASSQGGRRNQPQH  NLVPMVATV          1       0   \n",
       "3          4    AVEPLYGNKLV        ASSSREAEAF  NLVPMVATV          1       0   \n",
       "4          5       ASGTYKYI     ASSQRAGRVDTQY  NLVPMVATV          1       0   \n",
       "...      ...            ...               ...        ...        ...     ...   \n",
       "10326  12961  AVNSYYNQGGKLI       SVLQGSPYEQY  GILGFVFTL          1       1   \n",
       "10327  12962   AGNYGGSQGNLI       ASSIYSVNEQF  GILGFVFTL          1       1   \n",
       "10328  12966     AVGGSQGNLI       ASSVRSSYEQY  GILGFVFTL          1       1   \n",
       "10329  12968   AENGGGGADGLT       ASSIRSSYEQY  GILGFVFTL          1       1   \n",
       "10330  12971     AVSGSQGNLI       ASSLRSSYEQY  GILGFVFTL          1       1   \n",
       "\n",
       "      v_gene_alpha j_gene_alpha  v_gene_beta j_gene_beta    origin  \\\n",
       "0         TRAV12-2       TRAJ37      TRBV4-1     TRBJ1-1      tenX   \n",
       "1        TRAV29DV5       TRAJ20      TRBV6-3     TRBJ1-1      tenX   \n",
       "2           TRAV25       TRAJ54      TRBV4-2     TRBJ1-5      tenX   \n",
       "3           TRAV22       TRAJ47      TRBV7-9     TRBJ1-1      tenX   \n",
       "4           TRAV19       TRAJ40       TRBV27     TRBJ2-3      tenX   \n",
       "...            ...          ...          ...         ...       ...   \n",
       "10326  TRAV12-2*01    TRAJ23*01  TRBV29-1*01  TRBJ2-7*01  positive   \n",
       "10327    TRAV35*01    TRAJ42*01    TRBV19*01  TRBJ2-1*01  positive   \n",
       "10328   TRAV8-6*02    TRAJ42*01    TRBV19*01  TRBJ2-7*01  positive   \n",
       "10329  TRAV13-2*01    TRAJ45*01    TRBV19*01  TRBJ2-7*01  positive   \n",
       "10330   TRAV8-6*02    TRAJ42*01    TRBV19*01  TRBJ2-7*01  positive   \n",
       "\n",
       "      v_alpha_vdjdb_name  j_alpha_vdjdb_name  v_beta_vdjdb_name  \\\n",
       "0            TRAV12-2*01           TRAJ37*01         TRBV4-1*01   \n",
       "1          TRAV29/DV5*01           TRAJ20*01         TRBV6-3*01   \n",
       "2              TRAV25*01           TRAJ54*01         TRBV4-2*01   \n",
       "3              TRAV22*01           TRAJ47*01         TRBV7-9*01   \n",
       "4              TRAV19*01           TRAJ40*01          TRBV27*01   \n",
       "...                  ...                 ...                ...   \n",
       "10326        TRAV12-2*01           TRAJ23*01        TRBV29-1*01   \n",
       "10327          TRAV35*01           TRAJ42*01          TRBV19*01   \n",
       "10328         TRAV8-6*01           TRAJ42*01          TRBV19*01   \n",
       "10329        TRAV13-2*01           TRAJ45*01          TRBV19*01   \n",
       "10330         TRAV8-6*01           TRAJ42*01          TRBV19*01   \n",
       "\n",
       "       j_beta_vdjdb_name                                               path  \\\n",
       "0             TRBJ1-1*01  /home/sebastian/masters/data/neat_data/raw/tcr...   \n",
       "1             TRBJ1-1*01  /home/sebastian/masters/data/neat_data/raw/tcr...   \n",
       "2             TRBJ1-5*01  /home/sebastian/masters/data/neat_data/raw/tcr...   \n",
       "3             TRBJ1-1*01  /home/sebastian/masters/data/neat_data/raw/tcr...   \n",
       "4             TRBJ2-3*01  /home/sebastian/masters/data/neat_data/raw/tcr...   \n",
       "...                  ...                                                ...   \n",
       "10326         TRBJ2-7*01  /home/sebastian/masters/data/neat_data/raw/tcr...   \n",
       "10327         TRBJ2-1*01  /home/sebastian/masters/data/neat_data/raw/tcr...   \n",
       "10328         TRBJ2-7*01  /home/sebastian/masters/data/neat_data/raw/tcr...   \n",
       "10329         TRBJ2-7*01  /home/sebastian/masters/data/neat_data/raw/tcr...   \n",
       "10330         TRBJ2-7*01  /home/sebastian/masters/data/neat_data/raw/tcr...   \n",
       "\n",
       "                      merged_chains  \n",
       "0           AVSQSNTGKLIASSQLMENTEAF  \n",
       "1      AASEVCADYKLSASSYSLLRAAPNTEAF  \n",
       "2           AGRLGAQKLVASSQGGRRNQPQH  \n",
       "3             AVEPLYGNKLVASSSREAEAF  \n",
       "4             ASGTYKYIASSQRAGRVDTQY  \n",
       "...                             ...  \n",
       "10326      AVNSYYNQGGKLISVLQGSPYEQY  \n",
       "10327       AGNYGGSQGNLIASSIYSVNEQF  \n",
       "10328         AVGGSQGNLIASSVRSSYEQY  \n",
       "10329       AENGGGGADGLTASSIRSSYEQY  \n",
       "10330         AVSGSQGNLIASSLRSSYEQY  \n",
       "\n",
       "[10331 rows x 17 columns]"
      ]
     },
     "execution_count": 199,
     "metadata": {},
     "output_type": "execute_result"
    }
   ],
   "source": [
    "metadata"
   ]
  },
  {
   "cell_type": "code",
   "execution_count": 3,
   "id": "8174aaf2",
   "metadata": {},
   "outputs": [],
   "source": [
    "model_dir = data_root / \"raw\" / \"tcrpmhc\"\n",
    "\n",
    "paths = list(model_dir.glob(\"*\"))\n",
    "join_key = [int(x.name.split(\"_\")[0]) for x in paths]\n",
    "path_df = pd.DataFrame({'#ID': join_key, 'path': paths})\n",
    "\n",
    "metadata = pd.read_csv(metadata_path)\n",
    "metadata = metadata.join(path_df.set_index(\"#ID\"), on=\"#ID\", how=\"inner\")  # filter to non-missing data\n",
    "metadata = metadata.reset_index(drop=True)\n",
    "\n",
    "loo_train_partitions, loo_valid_partitions, unique_peptides = generate_loo_partitions(metadata)\n",
    "\n",
    "dataset = LSTMDataset(\n",
    "    data_dir=processed_dir / \"gnn_out_pos_128\", \n",
    "    annotations_path=processed_dir / \"gnn_out_pos_128\" / \"targets.pt\"\n",
    ")"
   ]
  },
  {
   "cell_type": "code",
   "execution_count": 153,
   "id": "7405c1ae",
   "metadata": {},
   "outputs": [],
   "source": [
    "swapped_idx = metadata[metadata[\"origin\"] == \"swapped\"].index\n",
    "non_swapped_loo_valid_partitions = list()\n",
    "for part in loo_valid_partitions:\n",
    "    new_part = [x for x in part if x not in swapped_idx]\n",
    "    non_swapped_loo_valid_partitions.append(new_part)"
   ]
  },
  {
   "cell_type": "markdown",
   "id": "e05f6027",
   "metadata": {},
   "source": [
    "### Load model and make predictions"
   ]
  },
  {
   "cell_type": "code",
   "execution_count": 178,
   "id": "dc420b4e",
   "metadata": {},
   "outputs": [
    {
     "name": "stdout",
     "output_type": "stream",
     "text": [
      "Peptide: NLVPMVATV\n",
      "Peptide: SLFNTVATL\n",
      "Peptide: KTWGQYWQV\n",
      "Peptide: RTLNAWVKV\n",
      "Peptide: KVLEYVIKV\n",
      "Peptide: YLLEMLWRL\n",
      "Peptide: IMDQVPFSV\n",
      "Peptide: MLDLQPETT\n",
      "Peptide: FLYALALLL\n",
      "Peptide: SLLMWITQV\n",
      "Peptide: LLFGYPVYV\n",
      "Peptide: GLCTLVAML\n",
      "Peptide: RMFPNAPYL\n",
      "Peptide: GILGFVFTL\n",
      "Peptide: KLQCVDLHV\n",
      "Peptide: KVAELVHFL\n"
     ]
    }
   ],
   "source": [
    "device = torch.device(\"cuda\" if torch.cuda.is_available() else \"cpu\")\n",
    "\n",
    "data_dir = Path(\"/home/sebastian/masters/data/state_files/tcr_binding/archive/filter_cdr3b_and_cdr3a/50f2df244c395d50d6d8712860e754a3\")\n",
    "state_paths = [data_dir / f\"state_{i}.pt\" for i in range(len(unique_peptides))]\n",
    "\n",
    "true_all = list()\n",
    "pred_all = list()\n",
    "\n",
    "loo_valid = loo_valid_partitions\n",
    "\n",
    "for i in range(len(unique_peptides)):\n",
    "    \n",
    "    print(\"Peptide:\", unique_peptides[i])\n",
    "\n",
    "    net = QuadLSTM(\n",
    "        embedding_dim=128,\n",
    "        hidden_dim=128,\n",
    "        num_layers=3,\n",
    "        dropout=0.8,\n",
    "    )\n",
    "    net.load_state_dict(torch.load(state_paths[i], map_location=device))\n",
    "    #test_data = loo_valid_partitions[pep_idx]\n",
    "    test_data = loo_valid[i]\n",
    "    pred, true = lstm_quad_predict(net, dataset, test_data, device)\n",
    "    true_all.append(true)\n",
    "    pred_all.append(pred)\n",
    "\n",
    "pred_flatten = torch.hstack(pred_all)\n",
    "true_flatten = torch.hstack(true_all)\n",
    "\n",
    "# loss analysis\n",
    "bce_loss = torch.nn.BCELoss()\n",
    "pred_loss = list()\n",
    "with torch.no_grad():\n",
    "    for p, t in zip(pred_flatten, true_flatten):\n",
    "        pred_loss.append(bce_loss(p, t).item())"
   ]
  },
  {
   "cell_type": "code",
   "execution_count": 197,
   "id": "2e00d06f",
   "metadata": {},
   "outputs": [
    {
     "name": "stdout",
     "output_type": "stream",
     "text": [
      "AUC: 0.8333333333333334\n"
     ]
    },
    {
     "name": "stderr",
     "output_type": "stream",
     "text": [
      "/home/sebastian/anaconda3/envs/ps/lib/python3.8/site-packages/matplotlib/cbook/__init__.py:1376: VisibleDeprecationWarning: Creating an ndarray from ragged nested sequences (which is a list-or-tuple of lists-or-tuples-or ndarrays with different lengths or shapes) is deprecated. If you meant to do this, you must specify 'dtype=object' when creating the ndarray.\n",
      "  X = np.atleast_1d(X.T if isinstance(X, np.ndarray) else np.asarray(X))\n",
      "/home/sebastian/anaconda3/envs/ps/lib/python3.8/site-packages/numpy/core/fromnumeric.py:1970: VisibleDeprecationWarning: Creating an ndarray from ragged nested sequences (which is a list-or-tuple of lists-or-tuples-or ndarrays with different lengths or shapes) is deprecated. If you meant to do this, you must specify 'dtype=object' when creating the ndarray.\n",
      "  result = asarray(a).shape\n"
     ]
    },
    {
     "data": {
      "image/png": "[encoded data removed]",
      "text/plain": [
       "<Figure size 216x432 with 1 Axes>"
      ]
     },
     "metadata": {
      "needs_background": "light"
     },
     "output_type": "display_data"
    },
    {
     "name": "stdout",
     "output_type": "stream",
     "text": [
      "Positive stats:  DescribeResult(nobs=1, minmax=(0.2130553275346756, 0.2130553275346756), mean=0.2130553275346756, variance=nan, skewness=0.0, kurtosis=-3.0)\n",
      "\n",
      "Tenx stats:  DescribeResult(nobs=2, minmax=(0.021427156403660774, 0.12664607167243958), mean=0.07403661403805017, variance=0.005535510065169226, skewness=0.0, kurtosis=-2.0)\n",
      "\n",
      "Swapped stats:  DescribeResult(nobs=4, minmax=(0.07135436683893204, 0.2212609052658081), mean=0.11385968141257763, variance=0.00518656455498058, skewness=1.1158053845057232, kurtosis=-0.6992824380480762)\n",
      "\n",
      "Positives vs. tenX two-way T-test:  Ttest_indResult(statistic=nan, pvalue=nan)\n",
      "Positives vs. swapped two-way T-test:  Ttest_indResult(statistic=nan, pvalue=nan)\n",
      "swapped vs. tenX two-way T-test:  Ttest_indResult(statistic=0.6246499243994522, pvalue=0.5957015159731095)\n"
     ]
    },
    {
     "name": "stderr",
     "output_type": "stream",
     "text": [
      "/home/sebastian/anaconda3/envs/ps/lib/python3.8/site-packages/numpy/core/fromnumeric.py:3723: RuntimeWarning: Degrees of freedom <= 0 for slice\n",
      "  return _methods._var(a, axis=axis, dtype=dtype, out=out, ddof=ddof,\n",
      "/home/sebastian/anaconda3/envs/ps/lib/python3.8/site-packages/numpy/core/_methods.py:254: RuntimeWarning: invalid value encountered in double_scalars\n",
      "  ret = ret.dtype.type(ret / rcount)\n"
     ]
    }
   ],
   "source": [
    "auc = roc_auc_score(true, pred)\n",
    "print(\"AUC:\", auc)\n",
    "\n",
    "key = np.array(metadata.iloc[test_data][\"origin\"])\n",
    "data = np.array(np.array([pred.numpy(), key]))\n",
    "\n",
    "tenx = data[0][data[1,] == \"tenX\"].astype(float)\n",
    "swapped = data[0][data[1,] == \"swapped\"].astype(float)\n",
    "positives = data[0][data[1,] == \"positive\"].astype(float)\n",
    "\n",
    "# Create an axes instance\n",
    "fig, ax = plt.subplots(figsize=(3, 6))\n",
    "\n",
    "# Create the boxplot\n",
    "ax.violinplot([positives, tenx, swapped])\n",
    "ax.set_title(\"Prediction scores for positives, tenx and swapped\")\n",
    "\n",
    "plt.show()\n",
    "\n",
    "print(\"Positive stats: \", describe(positives))\n",
    "print()\n",
    "print(\"Tenx stats: \", describe(tenx))\n",
    "print()\n",
    "print(\"Swapped stats: \", describe(swapped))\n",
    "print()\n",
    "print(\"Positives vs. tenX two-way T-test: \", ttest_ind(positives, tenx, equal_var=False))\n",
    "print(\"Positives vs. swapped two-way T-test: \", ttest_ind(positives, swapped, equal_var=False))\n",
    "print(\"swapped vs. tenX two-way T-test: \", ttest_ind(swapped, tenx, equal_var=False))\n",
    "\n",
    "\n"
   ]
  },
  {
   "cell_type": "code",
   "execution_count": 215,
   "id": "fb88c68c",
   "metadata": {},
   "outputs": [
    {
     "name": "stdout",
     "output_type": "stream",
     "text": [
      "AUC: 0.5669208146412086\n",
      "MCC (t=0.1): -0.03914882991210548\n"
     ]
    },
    {
     "name": "stderr",
     "output_type": "stream",
     "text": [
      "/home/sebastian/anaconda3/envs/ps/lib/python3.8/site-packages/matplotlib/cbook/__init__.py:1376: VisibleDeprecationWarning: Creating an ndarray from ragged nested sequences (which is a list-or-tuple of lists-or-tuples-or ndarrays with different lengths or shapes) is deprecated. If you meant to do this, you must specify 'dtype=object' when creating the ndarray.\n",
      "  X = np.atleast_1d(X.T if isinstance(X, np.ndarray) else np.asarray(X))\n",
      "/home/sebastian/anaconda3/envs/ps/lib/python3.8/site-packages/numpy/core/fromnumeric.py:1970: VisibleDeprecationWarning: Creating an ndarray from ragged nested sequences (which is a list-or-tuple of lists-or-tuples-or ndarrays with different lengths or shapes) is deprecated. If you meant to do this, you must specify 'dtype=object' when creating the ndarray.\n",
      "  result = asarray(a).shape\n"
     ]
    },
    {
     "data": {
      "image/png": "[encoded data removed]",
      "text/plain": [
       "<Figure size 216x432 with 1 Axes>"
      ]
     },
     "metadata": {
      "needs_background": "light"
     },
     "output_type": "display_data"
    },
    {
     "name": "stdout",
     "output_type": "stream",
     "text": [
      "Positive stats:  DescribeResult(nobs=1810, minmax=(1.1246300346101634e-05, 0.7980820536613464), mean=0.04626288706696055, variance=0.006750820313070992, skewness=2.9882648361419917, kurtosis=10.97670678486648)\n",
      "\n",
      "TenX stats:  DescribeResult(nobs=6699, minmax=(1.1697486115735956e-05, 0.8191697001457214), mean=0.06250205562102934, variance=0.012270134150923097, skewness=2.1712366003598875, kurtosis=4.32243443878418)\n",
      "\n",
      "Swapped stats:  DescribeResult(nobs=1811, minmax=(1.1720622751454357e-05, 0.9942935109138489), mean=0.042100620173328676, variance=0.014543084999322777, skewness=4.242725623136483, kurtosis=21.685740465143137)\n",
      "\n",
      "Positives vs. tenX two-way T-test:  Ttest_indResult(statistic=-6.88609214267353, pvalue=6.688086992488282e-12)\n",
      "Positives > tenX one-way T-test:  Ttest_indResult(statistic=-6.88609214267353, pvalue=0.9999999999966559)\n",
      "Positives vs. swapped two-way T-test:  Ttest_indResult(statistic=1.213733836696145, pvalue=0.2249391575306272)\n",
      "swapped vs. tenX two-way T-test:  Ttest_indResult(statistic=-6.496464156837377, pvalue=9.760438130488182e-11)\n"
     ]
    },
    {
     "data": {
      "image/png": "[encoded data removed]",
      "text/plain": [
       "<Figure size 216x432 with 1 Axes>"
      ]
     },
     "metadata": {
      "needs_background": "light"
     },
     "output_type": "display_data"
    },
    {
     "name": "stdout",
     "output_type": "stream",
     "text": [
      "Positives vs. tenX two-way T-test:  Ttest_indResult(statistic=88.05322715473716, pvalue=0.0)\n",
      "Positives vs. swapped two-way T-test:  Ttest_indResult(statistic=87.61815345319717, pvalue=0.0)\n",
      "swapped vs. tenX two-way T-test:  Ttest_indResult(statistic=-1.5210294937803572, pvalue=0.12840565249451522)\n"
     ]
    }
   ],
   "source": [
    "\n",
    "\n",
    "auc = roc_auc_score(true_flatten, pred_flatten)\n",
    "\n",
    "threshold = 0.1\n",
    "thresh_pred = torch.zeros(len(pred_flatten))\n",
    "thresh_pred[pred_flatten >= threshold] = 1\n",
    "mcc = matthews_corrcoef(true_flatten, thresh_pred)\n",
    "print(\"AUC:\", auc)\n",
    "print(f\"MCC (t={threshold}):\", mcc)\n",
    "\n",
    "# prediction analysis\n",
    "flattened_valid_idx = [x for y in loo_valid for x in y]\n",
    "valid_df = metadata.iloc[flattened_valid_idx]\n",
    "key = np.array(valid_df[\"origin\"])\n",
    "data = np.array(np.array([pred_flatten.numpy(), key]))\n",
    "\n",
    "tenx = data[0][data[1,] == \"tenX\"].astype(float)\n",
    "swapped = data[0][data[1,] == \"swapped\"].astype(float)\n",
    "positives = data[0][data[1,] == \"positive\"].astype(float)\n",
    "\n",
    "# Create an axes instance\n",
    "fig, ax = plt.subplots(figsize=(3, 6))\n",
    "\n",
    "# Create the boxplot\n",
    "ax.violinplot([positives, tenx, swapped])\n",
    "#ax.violinplot([positives, tenx])\n",
    "ax.set_title(\"Prediction scores for positives, tenx and swapped\")\n",
    "\n",
    "plt.show()\n",
    "\n",
    "print(\"Positive stats: \", describe(positives))\n",
    "print()\n",
    "print(\"TenX stats: \", describe(tenx))\n",
    "print()\n",
    "print(\"Swapped stats: \", describe(swapped))\n",
    "print()\n",
    "print(\"Positives vs. tenX two-way T-test: \", ttest_ind(positives, tenx, equal_var=False))\n",
    "print(\"Positives > tenX one-way T-test: \", ttest_ind(positives, tenx, alternative=\"greater\", equal_var=False))\n",
    "print(\"Positives vs. swapped two-way T-test: \", ttest_ind(positives, swapped, equal_var=False))\n",
    "print(\"swapped vs. tenX two-way T-test: \", ttest_ind(swapped, tenx, equal_var=False))\n",
    "\n",
    "\n",
    "\n",
    "data_loss = np.array(np.array([pred_loss, key]))\n",
    "tenx_loss = data_loss[0][data_loss[1,] == \"tenX\"].astype(float)\n",
    "swapped_loss = data_loss[0][data_loss[1,] == \"swapped\"].astype(float)\n",
    "positives_loss = data_loss[0][data_loss[1,] == \"positive\"].astype(float)\n",
    "\n",
    "fig, ax = plt.subplots(figsize=(3, 6))\n",
    "ax.violinplot([positives_loss, tenx_loss, swapped_loss])\n",
    "ax.set_title(\"BCELoss for positives, tenx and swapped\")\n",
    "plt.show()\n",
    "\n",
    "print(\"Positives vs. tenX two-way T-test: \", ttest_ind(positives_loss, tenx_loss, equal_var=False))\n",
    "print(\"Positives vs. swapped two-way T-test: \", ttest_ind(positives_loss, swapped_loss, equal_var=False))\n",
    "print(\"swapped vs. tenX two-way T-test: \", ttest_ind(swapped_loss, tenx_loss, equal_var=False))\n",
    "\n"
   ]
  },
  {
   "cell_type": "code",
   "execution_count": 217,
   "id": "56892031",
   "metadata": {},
   "outputs": [
    {
     "data": {
      "image/png": "[encoded data removed]",
      "text/plain": [
       "<Figure size 216x864 with 1 Axes>"
      ]
     },
     "metadata": {
      "needs_background": "light"
     },
     "output_type": "display_data"
    },
    {
     "name": "stderr",
     "output_type": "stream",
     "text": [
      "/tmp/ipykernel_160/629421353.py:38: VisibleDeprecationWarning: Creating an ndarray from ragged nested sequences (which is a list-or-tuple of lists-or-tuples-or ndarrays with different lengths or shapes) is deprecated. If you meant to do this, you must specify 'dtype=object' when creating the ndarray.\n",
      "  data_loss = np.array(np.array([pred_loss, key]))\n"
     ]
    },
    {
     "ename": "TypeError",
     "evalue": "only integer scalar arrays can be converted to a scalar index",
     "output_type": "error",
     "traceback": [
      "\u001b[0;31m---------------------------------------------------------------------------\u001b[0m",
      "\u001b[0;31mTypeError\u001b[0m                                 Traceback (most recent call last)",
      "\u001b[0;32m/tmp/ipykernel_160/629421353.py\u001b[0m in \u001b[0;36m<module>\u001b[0;34m\u001b[0m\n\u001b[1;32m     37\u001b[0m \u001b[0;34m\u001b[0m\u001b[0m\n\u001b[1;32m     38\u001b[0m \u001b[0mdata_loss\u001b[0m \u001b[0;34m=\u001b[0m \u001b[0mnp\u001b[0m\u001b[0;34m.\u001b[0m\u001b[0marray\u001b[0m\u001b[0;34m(\u001b[0m\u001b[0mnp\u001b[0m\u001b[0;34m.\u001b[0m\u001b[0marray\u001b[0m\u001b[0;34m(\u001b[0m\u001b[0;34m[\u001b[0m\u001b[0mpred_loss\u001b[0m\u001b[0;34m,\u001b[0m \u001b[0mkey\u001b[0m\u001b[0;34m]\u001b[0m\u001b[0;34m)\u001b[0m\u001b[0;34m)\u001b[0m\u001b[0;34m\u001b[0m\u001b[0;34m\u001b[0m\u001b[0m\n\u001b[0;32m---> 39\u001b[0;31m \u001b[0mtenx_loss\u001b[0m \u001b[0;34m=\u001b[0m \u001b[0mdata_loss\u001b[0m\u001b[0;34m[\u001b[0m\u001b[0;36m0\u001b[0m\u001b[0;34m]\u001b[0m\u001b[0;34m[\u001b[0m\u001b[0mdata_loss\u001b[0m\u001b[0;34m[\u001b[0m\u001b[0;36m1\u001b[0m\u001b[0;34m,\u001b[0m\u001b[0;34m]\u001b[0m \u001b[0;34m==\u001b[0m \u001b[0;34m\"tenX\"\u001b[0m\u001b[0;34m]\u001b[0m\u001b[0;34m.\u001b[0m\u001b[0mastype\u001b[0m\u001b[0;34m(\u001b[0m\u001b[0mfloat\u001b[0m\u001b[0;34m)\u001b[0m\u001b[0;34m\u001b[0m\u001b[0;34m\u001b[0m\u001b[0m\n\u001b[0m\u001b[1;32m     40\u001b[0m \u001b[0mswapped_loss\u001b[0m \u001b[0;34m=\u001b[0m \u001b[0mdata_loss\u001b[0m\u001b[0;34m[\u001b[0m\u001b[0;36m0\u001b[0m\u001b[0;34m]\u001b[0m\u001b[0;34m[\u001b[0m\u001b[0mdata_loss\u001b[0m\u001b[0;34m[\u001b[0m\u001b[0;36m1\u001b[0m\u001b[0;34m,\u001b[0m\u001b[0;34m]\u001b[0m \u001b[0;34m==\u001b[0m \u001b[0;34m\"swapped\"\u001b[0m\u001b[0;34m]\u001b[0m\u001b[0;34m.\u001b[0m\u001b[0mastype\u001b[0m\u001b[0;34m(\u001b[0m\u001b[0mfloat\u001b[0m\u001b[0;34m)\u001b[0m\u001b[0;34m\u001b[0m\u001b[0;34m\u001b[0m\u001b[0m\n\u001b[1;32m     41\u001b[0m \u001b[0mpositives_loss\u001b[0m \u001b[0;34m=\u001b[0m \u001b[0mdata_loss\u001b[0m\u001b[0;34m[\u001b[0m\u001b[0;36m0\u001b[0m\u001b[0;34m]\u001b[0m\u001b[0;34m[\u001b[0m\u001b[0mdata_loss\u001b[0m\u001b[0;34m[\u001b[0m\u001b[0;36m1\u001b[0m\u001b[0;34m,\u001b[0m\u001b[0;34m]\u001b[0m \u001b[0;34m==\u001b[0m \u001b[0;34m\"positive\"\u001b[0m\u001b[0;34m]\u001b[0m\u001b[0;34m.\u001b[0m\u001b[0mastype\u001b[0m\u001b[0;34m(\u001b[0m\u001b[0mfloat\u001b[0m\u001b[0;34m)\u001b[0m\u001b[0;34m\u001b[0m\u001b[0;34m\u001b[0m\u001b[0m\n",
      "\u001b[0;31mTypeError\u001b[0m: only integer scalar arrays can be converted to a scalar index"
     ]
    }
   ],
   "source": [
    "\n",
    "#auc = roc_auc_score(true_flatten, pred_flatten)\n",
    "#\n",
    "#threshold = 0.1\n",
    "#thresh_pred = torch.zeros(len(pred_flatten))\n",
    "#thresh_pred[pred_flatten >= threshold] = 1\n",
    "#mcc = matthews_corrcoef(true_flatten, thresh_pred)\n",
    "#print(\"AUC:\", auc)\n",
    "#print(f\"MCC (t={threshold}):\", mcc)\n",
    "#\n",
    "# prediction analysis\n",
    "fig, ax = plt.subplots(figsize=(3, 12))\n",
    "\n",
    "for i, valid_idx in enumerate(loo_valid_partitions):\n",
    "    valid_df = metadata.iloc[valid_idx]\n",
    "    key = np.array(valid_df[\"origin\"])\n",
    "    data = np.array(np.array([pred_all[i].numpy(), key]))\n",
    "\n",
    "    tenx = data[0][data[1,] == \"tenX\"].astype(float)\n",
    "    swapped = data[0][data[1,] == \"swapped\"].astype(float)\n",
    "    positives = data[0][data[1,] == \"positive\"].astype(float)\n",
    "\n",
    "    # Create the boxplot\n",
    "    ax.violinplot([positives, tenx, swapped])\n",
    "\n",
    "\n",
    "ax.legend(unique_peptides)\n",
    "ax.set_title(\"Prediction scores for positives, tenx and swapped\")\n",
    "plt.show()\n",
    "\n",
    "\n",
    "\n",
    "\n",
    "data_loss = np.array(np.array([pred_loss, key]))\n",
    "tenx_loss = data_loss[0][data_loss[1,] == \"tenX\"].astype(float)\n",
    "swapped_loss = data_loss[0][data_loss[1,] == \"swapped\"].astype(float)\n",
    "positives_loss = data_loss[0][data_loss[1,] == \"positive\"].astype(float)\n",
    "\n",
    "fig, ax = plt.subplots(figsize=(3, 6))\n",
    "ax.violinplot([positives_loss, tenx_loss, swapped_loss])\n",
    "ax.set_title(\"BCELoss for positives, tenx and swapped\")\n",
    "plt.show()\n",
    "\n",
    "print(\"Positives vs. tenX two-way T-test: \", ttest_ind(positives_loss, tenx_loss, equal_var=False))\n",
    "print(\"Positives vs. swapped two-way T-test: \", ttest_ind(positives_loss, swapped_loss, equal_var=False))\n",
    "print(\"swapped vs. tenX two-way T-test: \", ttest_ind(swapped_loss, tenx_loss, equal_var=False))\n",
    "\n"
   ]
  },
  {
   "cell_type": "code",
   "execution_count": 177,
   "id": "3e42077f",
   "metadata": {},
   "outputs": [
    {
     "name": "stdout",
     "output_type": "stream",
     "text": [
      "AUC: 0.529740358707781\n"
     ]
    },
    {
     "name": "stderr",
     "output_type": "stream",
     "text": [
      "/home/sebastian/anaconda3/envs/ps/lib/python3.8/site-packages/matplotlib/cbook/__init__.py:1376: VisibleDeprecationWarning: Creating an ndarray from ragged nested sequences (which is a list-or-tuple of lists-or-tuples-or ndarrays with different lengths or shapes) is deprecated. If you meant to do this, you must specify 'dtype=object' when creating the ndarray.\n",
      "  X = np.atleast_1d(X.T if isinstance(X, np.ndarray) else np.asarray(X))\n",
      "/home/sebastian/anaconda3/envs/ps/lib/python3.8/site-packages/numpy/core/fromnumeric.py:1970: VisibleDeprecationWarning: Creating an ndarray from ragged nested sequences (which is a list-or-tuple of lists-or-tuples-or ndarrays with different lengths or shapes) is deprecated. If you meant to do this, you must specify 'dtype=object' when creating the ndarray.\n",
      "  result = asarray(a).shape\n"
     ]
    },
    {
     "data": {
      "image/png": "[encoded data removed]",
      "text/plain": [
       "<Figure size 216x432 with 1 Axes>"
      ]
     },
     "metadata": {
      "needs_background": "light"
     },
     "output_type": "display_data"
    },
    {
     "name": "stdout",
     "output_type": "stream",
     "text": [
      "Positive stats:  DescribeResult(nobs=1810, minmax=(1.1246300346101634e-05, 0.7980820536613464), mean=0.04626288706696055, variance=0.006750820313070992, skewness=2.9882648361419917, kurtosis=10.97670678486648)\n",
      "\n",
      "Positive tenx:  DescribeResult(nobs=6699, minmax=(1.1697486115735956e-05, 0.8191697001457214), mean=0.06250205562102934, variance=0.012270134150923097, skewness=2.1712366003598875, kurtosis=4.32243443878418)\n",
      "\n",
      "\n",
      "Positives vs. tenX two-way T-test:  Ttest_indResult(statistic=-5.819377912892944, pvalue=6.120628573828395e-09)\n"
     ]
    }
   ],
   "source": [
    "auc = roc_auc_score(true_flatten, pred_flatten)\n",
    "print(\"AUC:\", auc)\n",
    "\n",
    "flattened_valid_idx = [x for y in loo_valid for x in y]\n",
    "valid_df = metadata.iloc[flattened_valid_idx]\n",
    "key = np.array(valid_df[\"origin\"])\n",
    "data = np.array(np.array([pred_flatten.numpy(), key]))\n",
    "\n",
    "tenx = data[0][data[1,] == \"tenX\"].astype(float)\n",
    "#swapped = data[0][data[1,] == \"swapped\"].astype(float)\n",
    "positives = data[0][data[1,] == \"positive\"].astype(float)\n",
    "\n",
    "# Create an axes instance\n",
    "fig, ax = plt.subplots(figsize=(3, 6))\n",
    "\n",
    "# Create the boxplot\n",
    "#ax.violinplot([positives, tenx, swapped])\n",
    "ax.violinplot([positives, tenx])\n",
    "ax.set_title(\"Prediction scores for positives, tenx and swapped\")\n",
    "\n",
    "plt.show()\n",
    "\n",
    "print(\"Positive stats: \", describe(positives))\n",
    "print()\n",
    "print(\"Positive tenx: \", describe(tenx))\n",
    "print()\n",
    "#print(\"Positive swapped: \", describe(swapped))\n",
    "print()\n",
    "print(\"Positives vs. tenX two-way T-test: \", ttest_ind(positives, tenx, equal_var=False))\n",
    "#print(\"Positives vs. swapped two-way T-test: \", ttest_ind(positives, swapped, equal_var=False))\n",
    "#print(\"swapped vs. tenX two-way T-test: \", ttest_ind(swapped, tenx, equal_var=False))"
   ]
  },
  {
   "cell_type": "code",
   "execution_count": 194,
   "id": "4ce3f5a2",
   "metadata": {},
   "outputs": [
    {
     "data": {
      "text/plain": [
       "Ttest_indResult(statistic=2.8776288657908196, pvalue=0.002046087317281751)"
      ]
     },
     "execution_count": 194,
     "metadata": {},
     "output_type": "execute_result"
    }
   ],
   "source": [
    "from scipy import stats\n",
    "rng = np.random.default_rng()\n",
    "rvs1 = stats.norm.rvs(loc=5, scale=10, size=500, random_state=rng)\n",
    "rvs2 = stats.norm.rvs(loc=7, scale=10, size=500, random_state=rng)\n",
    "stats.ttest_ind(rvs2, rvs1, alternative=\"greater\")"
   ]
  },
  {
   "cell_type": "code",
   "execution_count": 188,
   "id": "071a685f",
   "metadata": {},
   "outputs": [
    {
     "data": {
      "text/plain": [
       "7.050082425769386"
      ]
     },
     "execution_count": 188,
     "metadata": {},
     "output_type": "execute_result"
    }
   ],
   "source": [
    "np.mean(rvs2)"
   ]
  },
  {
   "cell_type": "code",
   "execution_count": 189,
   "id": "830a96e2",
   "metadata": {},
   "outputs": [
    {
     "data": {
      "text/plain": [
       "4.695074304552389"
      ]
     },
     "execution_count": 189,
     "metadata": {},
     "output_type": "execute_result"
    }
   ],
   "source": [
    "np.mean(rvs1)"
   ]
  },
  {
   "cell_type": "code",
   "execution_count": null,
   "id": "b67e1f86",
   "metadata": {},
   "outputs": [],
   "source": []
  }
 ],
 "metadata": {
  "kernelspec": {
   "display_name": "Python 3 (ipykernel)",
   "language": "python",
   "name": "python3"
  },
  "language_info": {
   "codemirror_mode": {
    "name": "ipython",
    "version": 3
   },
   "file_extension": ".py",
   "mimetype": "text/x-python",
   "name": "python",
   "nbconvert_exporter": "python",
   "pygments_lexer": "ipython3",
   "version": "3.8.0"
  }
 },
 "nbformat": 4,
 "nbformat_minor": 5
}

{
 "cells": [
  {
   "cell_type": "code",
   "execution_count": 1,
   "id": "873ff6e9",
   "metadata": {},
   "outputs": [],
   "source": [
    "%reload_ext autoreload\n",
    "%autoreload 2\n",
    "import sys\n",
    "sys.path.append('/home/sebastian/masters/') # add my repo to python path\n",
    "import os\n",
    "import torch\n",
    "import torch.nn.functional as F\n",
    "import torch_geometric\n",
    "import kmbio  # fork of biopython PDB with some changes in how the structure, chain, etc. classes are defined.\n",
    "import numpy as np\n",
    "import proteinsolver\n",
    "import modules\n",
    "\n",
    "from torch.utils.data import Dataset, DataLoader\n",
    "from sklearn.model_selection import KFold\n",
    "from sklearn.metrics import *\n",
    "from torch import nn, optim\n",
    "from pathlib import Path\n",
    "\n",
    "from modules.dataset import *\n",
    "from modules.utils import *\n",
    "from modules.model import *\n",
    "from modules.lstm_utils import *\n",
    "\n",
    "np.random.seed(1)"
   ]
  },
  {
   "cell_type": "markdown",
   "id": "d79435b9",
   "metadata": {},
   "source": [
    "### Paths"
   ]
  },
  {
   "cell_type": "code",
   "execution_count": 2,
   "id": "bb3cb8b7",
   "metadata": {},
   "outputs": [],
   "source": [
    "root = Path(\"/home/sebastian/masters/data/\")\n",
    "data_root = root / \"neat_data\"\n",
    "metadata_path = data_root / \"embedding_dataset.csv\"\n",
    "processed_dir = data_root / \"processed\" / \"embedding_verification\"\n",
    "state_file = root / \"state_files\" / \"e53-s1952148-d93703104.state\"\n",
    "out_dir = root / \"state_files\" / \"embedding_verification\""
   ]
  },
  {
   "cell_type": "markdown",
   "id": "d8b2616d",
   "metadata": {},
   "source": [
    "### Load positive examples and generate different structure configurations"
   ]
  },
  {
   "cell_type": "code",
   "execution_count": 3,
   "id": "b946a100",
   "metadata": {
    "scrolled": true
   },
   "outputs": [],
   "source": [
    "class ChainFilter(kmbio.PDB.Select):\n",
    "    def __init__(self, subset):\n",
    "        self.subset = subset\n",
    "\n",
    "    def accept_chain(self, chain):\n",
    "        if chain.id in self.subset:\n",
    "            return 1\n",
    "        else:\n",
    "            return 0\n",
    "\n",
    "overwrite = False\n",
    "\n",
    "raw_files, targets = get_data(\n",
    "    model_dir=data_root / \"raw\" / \"tcrpmhc\",\n",
    "    metadata=data_root / \"metadata.csv\",\n",
    ")\n",
    "mask = np.ma.masked_array(raw_files, mask=targets)  # only get positives\n",
    "\n",
    "pmhc_chain_subset = [\"M\", \"P\"]\n",
    "p_chain_subset = [\"P\"]\n",
    "annotated_paths = list()\n",
    "\n",
    "outdir_1 = data_root / \"raw\" / \"pmhc\"\n",
    "outdir_2 = data_root / \"raw\" / \"p\"\n",
    "\n",
    "outdir_1.mkdir(parents=True, exist_ok=True)\n",
    "outdir_2.mkdir(parents=True, exist_ok=True)\n",
    "for raw_file in raw_files[mask.mask]:\n",
    "\n",
    "    model_id = raw_file.name.split(\"_\")[0]\n",
    "    pmhc_file_name = outdir_1 / f\"{model_id}_pmhc.pdb\"\n",
    "    p_file_name =  outdir_2/ f\"{model_id}_p.pdb\"\n",
    "    \n",
    "    if overwrite or (not pmhc_file_name.is_file() or not p_file_name.is_file()):\n",
    "        structure  = kmbio.PDB.load(raw_file)\n",
    "    \n",
    "        io = kmbio.PDB.io.PDBIO()\n",
    "        io.set_structure(structure)\n",
    "        io.save(pmhc_file_name, ChainFilter(subset=pmhc_chain_subset))\n",
    "    \n",
    "        io = kmbio.PDB.io.PDBIO()\n",
    "        io.set_structure(structure)\n",
    "        io.save(p_file_name, ChainFilter(subset=p_chain_subset))\n",
    "\n",
    "    annotated_paths.append([raw_file, \"0\"])  # add indices of peptide\n",
    "    annotated_paths.append([pmhc_file_name, \"1\"])  # add indices of peptide\n",
    "    annotated_paths.append([p_file_name, \"2\"])  # add indices of peptide\n",
    "\n",
    "with open(metadata_path, \"w\") as metadata_outfile:\n",
    "    for data in annotated_paths:\n",
    "        print(data[0], data[1], sep=\",\", file=metadata_outfile)"
   ]
  },
  {
   "cell_type": "markdown",
   "id": "f418b060",
   "metadata": {},
   "source": [
    "### GNN embeddings"
   ]
  },
  {
   "cell_type": "code",
   "execution_count": 4,
   "id": "f106011b",
   "metadata": {
    "scrolled": true
   },
   "outputs": [],
   "source": [
    "device = torch.device(\"cuda\" if torch.cuda.is_available() else \"cpu\")\n",
    "\n",
    "# init proteinsolver gnn\n",
    "num_features = 20\n",
    "adj_input_size = 2\n",
    "hidden_size = 128\n",
    "\n",
    "gnn = Net(\n",
    "    x_input_size=num_features + 1, \n",
    "    adj_input_size=adj_input_size, \n",
    "    hidden_size=hidden_size, \n",
    "    output_size=num_features\n",
    ")\n",
    "gnn.load_state_dict(torch.load(state_file, map_location=device))\n",
    "gnn.eval()\n",
    "gnn = gnn.to(device)\n",
    "\n",
    "# load dataset\n",
    "raw_files = list()\n",
    "targets = list()\n",
    "with open(metadata_path, \"r\") as infile:\n",
    "    for line in infile:\n",
    "        line = line.strip().split(\",\")\n",
    "        raw_files.append(line[0])\n",
    "        targets.append(int(line[1]))\n",
    "\n",
    "raw_files = np.array(raw_files)\n",
    "targets = np.array(targets)\n",
    "\n",
    "dataset = ProteinDataset(processed_dir, raw_files, targets, overwrite=False)\n",
    "data_loader = iter(torch_geometric.loader.DataLoader(dataset, shuffle=False, batch_size=1))\n",
    "\n",
    "# create gnn embedding\n",
    "targets = list()\n",
    "for i, data in enumerate(data_loader):\n",
    "    out_path = processed_dir / \"gnn_out\" / f\"data_{i}.pt\"\n",
    "    if not out_path.is_file() or overwrite:\n",
    "        data = data.to(device)\n",
    "        with torch.no_grad():\n",
    "            out = gnn(data.x, data.edge_index, data.edge_attr)\n",
    "        peptide_emb = out[data.chain_map[0] == \"P\"]  # idx 0 as we only have 1 batch\n",
    "        torch.save(peptide_emb, out_path)\n",
    "    targets.append([data.y])\n",
    "torch.save(targets, processed_dir / \"gnn_out\" / f\"targets.pt\")"
   ]
  },
  {
   "cell_type": "markdown",
   "id": "0eb4edc4",
   "metadata": {},
   "source": [
    "### Init LSTM"
   ]
  },
  {
   "cell_type": "code",
   "execution_count": 12,
   "id": "2f6c4ba1",
   "metadata": {},
   "outputs": [],
   "source": [
    "class MyLSTM(nn.Module):\n",
    "    def __init__(self, num_features, hidden_size, num_layers, num_classes):\n",
    "        super(MyLSTM, self).__init__()\n",
    "        \n",
    "        self.num_layers = num_layers\n",
    "        self.hidden_size = hidden_size\n",
    "        \n",
    "        self.lstm = nn.LSTM(\n",
    "            input_size=num_features,\n",
    "            hidden_size=hidden_size,\n",
    "            num_layers=num_layers,\n",
    "            batch_first=True,\n",
    "            dropout=0.8, \n",
    "        )\n",
    "        #self.linear_0 = nn.Linear(hidden_size, hidden_size)\n",
    "        #self.dropout = nn.Dropout(p=0.5)\n",
    "        self.linear_1 = nn.Linear(hidden_size, int(hidden_size/2))\n",
    "        self.linear_2 = nn.Linear(int(hidden_size/2), num_classes)\n",
    "        \n",
    "        #torch.nn.init.xavier_uniform_(self.linear.weight)\n",
    "    \n",
    "    def forward(self, x):\n",
    "        x, (h, c) = self.lstm(x)\n",
    "        out = self.linear_1(h[-1])\n",
    "        out = F.relu(out)\n",
    "        out = self.linear_2(out)\n",
    "        return out\n",
    "\n",
    "\n",
    "# init LSTM\n",
    "batch_size = 32\n",
    "vocab_size = 20\n",
    "hidden_size = 64\n",
    "num_layers = 2\n",
    "num_classes = 3\n",
    "epochs = 35\n",
    "n_splits = 5\n",
    "\n",
    "dataset = LSTMDataset(\n",
    "    data_dir=processed_dir / \"gnn_out\", \n",
    "    annotations_path=processed_dir / \"gnn_out\" / \"targets.pt\"\n",
    ")\n",
    "#dataset = torch.utils.data.Subset(dataset, list(range(0, 1000)))\n",
    "#data_loader = DataLoader(dataset=dataset, batch_size=batch_size, shuffle=True, collate_fn=pad_collate)"
   ]
  },
  {
   "cell_type": "markdown",
   "id": "e0fffddc",
   "metadata": {},
   "source": [
    "### K fold CV training"
   ]
  },
  {
   "cell_type": "code",
   "execution_count": null,
   "id": "7ba97ad4",
   "metadata": {},
   "outputs": [],
   "source": [
    "# touch files to ensure output\n",
    "save_dir = get_non_dupe_dir(out_dir)\n",
    "loss_paths = touch_output_files(save_dir, \"loss\", n_splits)\n",
    "state_paths = touch_output_files(save_dir, \"state\", n_splits)\n",
    "pred_paths = touch_output_files(save_dir, \"pred\", n_splits)\n",
    "\n",
    "CV = KFold(n_splits=n_splits, shuffle=True)\n",
    "i = 0\n",
    "for train_idx, valid_idx in CV.split(dataset):\n",
    "    net = MyLSTM(\n",
    "        num_features=vocab_size, \n",
    "        hidden_size=hidden_size, \n",
    "        num_layers=num_layers, \n",
    "        num_classes=num_classes\n",
    "    )\n",
    "    net = net.to(device)\n",
    "\n",
    "    criterion = nn.CrossEntropyLoss()\n",
    "    optimizer = optim.Adam(net.parameters(), lr=0.001) \n",
    "    \n",
    "    #train_subset = torch.utils.data.Subset(dataset, train_idx)\n",
    "    #valid_subset = torch.utils.data.Subset(dataset, valid_idx)\n",
    "    \n",
    "    net, train_losses, valid_losses = lstm_train(\n",
    "        net,\n",
    "        epochs,\n",
    "        criterion,\n",
    "        optimizer,\n",
    "        dataset,\n",
    "        train_idx, \n",
    "        valid_idx,\n",
    "        batch_size,\n",
    "        device,\n",
    "    )\n",
    "    torch.save({\"train\": train_losses, \"valid\": valid_losses}, loss_paths[i])\n",
    "    torch.save(net.state_dict(), state_paths[i])\n",
    "    \n",
    "    pred, true = lstm_predict(\n",
    "        net,\n",
    "        dataset,\n",
    "        valid_idx,\n",
    "        device,\n",
    "    )     \n",
    "    torch.save(\n",
    "        {\n",
    "            \"y_pred\": torch.stack(pred).squeeze(1), \n",
    "            \"y_true\": torch.stack(true).squeeze(1),\n",
    "        }, \n",
    "        pred_paths[i]\n",
    "    )\n",
    "    \n",
    "    i += 1"
   ]
  },
  {
   "cell_type": "markdown",
   "id": "5e3e5621",
   "metadata": {},
   "source": [
    "### Compute performance metrics on predictions"
   ]
  },
  {
   "cell_type": "code",
   "execution_count": 54,
   "id": "64a1d2be",
   "metadata": {},
   "outputs": [],
   "source": [
    "# compute performance\n",
    "labels = [\"TCRpMHC\", \"pMHC\", \"p\"]\n",
    "performance_data = dict()\n",
    "for i in range(n_splits):\n",
    "    data = torch.load(pred_paths[i])\n",
    "    i = 4\n",
    "    y_pred = data[\"y_pred\"]\n",
    "    y_true = data[\"y_true\"]\n",
    "    \n",
    "    # confusion matrix\n",
    "    y_pred_max = torch.argmax(y_pred, dim=1, keepdim=True)\n",
    "    cm = confusion_matrix(y_true, y_pred_max)\n",
    "\n",
    "    # f1\n",
    "    f1 = f1_score(y_pred_max, y_true, average=\"weighted\")\n",
    "\n",
    "    # multiclass auc\n",
    "    auc = roc_auc_score(y_true, y_pred, multi_class=\"ovr\", average=\"weighted\")\n",
    "\n",
    "    output = {\n",
    "        \"f1\": f1,\n",
    "        \"auc\": auc,\n",
    "        \"cm\": cm,\n",
    "        \"labels\": labels\n",
    "    }\n",
    "    performance_data[i] = output\n",
    "\n",
    "performance_file = save_dir / \"performance_data.pt\"\n",
    "torch.save(performance_data, performance_file)"
   ]
  },
  {
   "cell_type": "code",
   "execution_count": 59,
   "id": "22fb5116",
   "metadata": {},
   "outputs": [
    {
     "name": "stdout",
     "output_type": "stream",
     "text": [
      "Fold 4:\n",
      "Multiclass AUC=1.0\n",
      "F1=0.9966669070108395\n"
     ]
    },
    {
     "data": {
      "image/png": "[encoded data removed]",
      "text/plain": [
       "<Figure size 432x288 with 2 Axes>"
      ]
     },
     "metadata": {
      "needs_background": "light"
     },
     "output_type": "display_data"
    }
   ],
   "source": [
    "fold_idx = 4\n",
    "data = torch.load(performance_file)[fold_idx]\n",
    "\n",
    "cm, f1, auc = data[\"cm\"], data[\"f1\"], data[\"auc\"]\n",
    "disp = ConfusionMatrixDisplay(cm, display_labels=[\"TCRpMHC\", \"pMHC\", \"p\"])\n",
    "disp.plot()\n",
    "print(f\"Fold {fold_idx}:\")\n",
    "print(f\"Multiclass AUC={auc}\")\n",
    "print(f\"F1={f1}\")"
   ]
  }
 ],
 "metadata": {
  "kernelspec": {
   "display_name": "Python 3 (ipykernel)",
   "language": "python",
   "name": "python3"
  },
  "language_info": {
   "codemirror_mode": {
    "name": "ipython",
    "version": 3
   },
   "file_extension": ".py",
   "mimetype": "text/x-python",
   "name": "python",
   "nbconvert_exporter": "python",
   "pygments_lexer": "ipython3",
   "version": "3.8.0"
  }
 },
 "nbformat": 4,
 "nbformat_minor": 5
}

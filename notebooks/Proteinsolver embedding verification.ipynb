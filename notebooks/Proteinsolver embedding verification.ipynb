{
 "cells": [
  {
   "cell_type": "code",
   "execution_count": 1,
   "id": "873ff6e9",
   "metadata": {},
   "outputs": [],
   "source": [
    "%reload_ext autoreload\n",
    "%autoreload 2\n",
    "import sys\n",
    "sys.path.append('/home/sebastian/masters/') # add my repo to python path\n",
    "import os\n",
    "import torch\n",
    "import torch_geometric\n",
    "import kmbio  # fork of biopython PDB with some changes in how the structure, chain, etc. classes are defined.\n",
    "import numpy as np\n",
    "import proteinsolver\n",
    "import modules\n",
    "\n",
    "from pathlib import Path\n",
    "from modules.dataset import *\n",
    "from modules.utils import *\n",
    "from modules.model import *\n",
    "from modules.my_model import *\n",
    "\n",
    "np.random.seed(1)"
   ]
  },
  {
   "cell_type": "markdown",
   "id": "d8b2616d",
   "metadata": {},
   "source": [
    "### Load positive examples and generate different structure configurations"
   ]
  },
  {
   "cell_type": "code",
   "execution_count": 3,
   "id": "b946a100",
   "metadata": {
    "scrolled": true
   },
   "outputs": [],
   "source": [
    "root = Path(\"/home/sebastian/masters/data/\")\n",
    "data_root = root / \"neat_data\"\n",
    "metadata_path = data_root / \"embedding_dataset.csv\"\n",
    "\n",
    "\n",
    "class ChainFilter(kmbio.PDB.Select):\n",
    "    def __init__(self, subset):\n",
    "        self.subset = subset\n",
    "\n",
    "    def accept_chain(self, chain):\n",
    "        if chain.id in self.subset:\n",
    "            return 1\n",
    "        else:\n",
    "            return 0\n",
    "\n",
    "overwrite = False\n",
    "\n",
    "raw_files, targets = get_data(\n",
    "    model_dir=data_root / \"raw\" / \"tcrpmhc\",\n",
    "    metadata=data_root / \"metadata.csv\",\n",
    ")\n",
    "mask = np.ma.masked_array(raw_files, mask=targets)  # only get positives\n",
    "\n",
    "pmhc_chain_subset = [\"M\", \"P\"]\n",
    "p_chain_subset = [\"P\"]\n",
    "annotated_paths = list()\n",
    "\n",
    "outdir_1 = data_root / \"raw\" / \"pmhc\"\n",
    "outdir_2 = data_root / \"raw\" / \"p\"\n",
    "\n",
    "outdir_1.mkdir(parents=True, exist_ok=True)\n",
    "outdir_2.mkdir(parents=True, exist_ok=True)\n",
    "for raw_file in raw_files[mask.mask]:\n",
    "\n",
    "    model_id = raw_file.name.split(\"_\")[0]\n",
    "    pmhc_file_name = outdir_1 / f\"{model_id}_pmhc.pdb\"\n",
    "    p_file_name =  outdir_2/ f\"{model_id}_p.pdb\"\n",
    "    \n",
    "    if overwrite or (not pmhc_file_name.is_file() or not p_file_name.is_file()):\n",
    "        structure  = kmbio.PDB.load(raw_file)\n",
    "    \n",
    "        io = kmbio.PDB.io.PDBIO()\n",
    "        io.set_structure(structure)\n",
    "        io.save(pmhc_file_name, ChainFilter(subset=pmhc_chain_subset))\n",
    "    \n",
    "        io = kmbio.PDB.io.PDBIO()\n",
    "        io.set_structure(structure)\n",
    "        io.save(p_file_name, ChainFilter(subset=p_chain_subset))\n",
    "\n",
    "    annotated_paths.append([raw_file, \"0\"])  # add indices of peptide\n",
    "    annotated_paths.append([pmhc_file_name, \"1\"])  # add indices of peptide\n",
    "    annotated_paths.append([p_file_name, \"2\"])  # add indices of peptide\n",
    "\n",
    "with open(metadata_path, \"w\") as metadata_outfile:\n",
    "    for data in annotated_paths:\n",
    "        print(data[0], data[1], sep=\",\", file=metadata_outfile)"
   ]
  },
  {
   "cell_type": "markdown",
   "id": "7b2cd4a6",
   "metadata": {},
   "source": [
    "### Define and tune classifier"
   ]
  },
  {
   "cell_type": "code",
   "execution_count": 4,
   "id": "1cd138d6",
   "metadata": {
    "scrolled": true
   },
   "outputs": [
    {
     "name": "stdout",
     "output_type": "stream",
     "text": [
      "\n",
      "epoch: 1 - n: 2/2 - [========================================================100%]\n"
     ]
    }
   ],
   "source": [
    "from sklearn.model_selection import KFold\n",
    "from sklearn.metrics import *\n",
    "from torch import nn, optim\n",
    "import torch.nn.functional as F\n",
    "\n",
    "\n",
    "root = Path(\"/home/sebastian/masters/data/\")\n",
    "data_root = root / \"neat_data\"\n",
    "metadata_path = data_root / \"embedding_dataset.csv\"\n",
    "processed_dir = data_root / \"processed\" / \"embedding_verification\"\n",
    "state_file = root / \"state_files\" / \"e53-s1952148-d93703104.state\"\n",
    "out_dir = root / \"state_files\" / \"embedding_verification\" \n",
    "\n",
    "device = torch.device(\"cuda:1\" if torch.cuda.is_available() else \"cpu\")\n",
    "\n",
    "# load dataset\n",
    "raw_files = list()\n",
    "targets = list()\n",
    "with open(metadata_path, \"r\") as infile:\n",
    "    for line in infile:\n",
    "        line = line.strip().split(\",\")\n",
    "        raw_files.append(line[0])\n",
    "        targets.append(int(line[1]))\n",
    "\n",
    "raw_files = np.array(raw_files)\n",
    "targets = np.array(targets)\n",
    "\n",
    "dataset = ProteinDataset(processed_dir, raw_files, targets, overwrite=False)\n",
    "\n",
    "# init proteinsolver gnn\n",
    "num_features = 20\n",
    "adj_input_size = 2\n",
    "hidden_size = 128\n",
    "\n",
    "gnn = Net(\n",
    "    x_input_size=num_features + 1, \n",
    "    adj_input_size=adj_input_size, \n",
    "    hidden_size=hidden_size, \n",
    "    output_size=num_features\n",
    ")\n",
    "gnn.load_state_dict(torch.load(state_file, map_location=device))\n",
    "gnn.eval()\n",
    "gnn = gnn.to(device)\n",
    "\n",
    "# init LSTM\n",
    "num_classes = 3\n",
    "num_layers = 2\n",
    "hidden_size = 26\n",
    "\n",
    "net = MyLSTM(num_classes, num_features, num_layers, hidden_size)\n",
    "net = net.to(device)\n",
    "\n",
    "criterion = nn.BCEWithLogitsLoss()\n",
    "optimizer = optim.Adam(net.parameters(), lr=0.0001) \n",
    "\n",
    "# training params\n",
    "epochs = 1\n",
    "n_splits = 5\n",
    "batch_size = 5\n",
    "\n",
    "# touch files to ensure output\n",
    "save_dir = get_non_dupe_dir(out_dir)\n",
    "loss_paths = touch_output_files(save_dir, \"loss\", n_splits)\n",
    "state_paths = touch_output_files(save_dir, \"state\", n_splits)\n",
    "pred_paths = touch_output_files(save_dir, \"pred\", n_splits)\n",
    "\n",
    "CV = KFold(n_splits=n_splits, shuffle=True)\n",
    "i = 0\n",
    "for train_idx, valid_idx in CV.split(dataset):\n",
    "    \n",
    "    train_subset = dataset[torch.LongTensor(train_idx)][0:10]\n",
    "    valid_subset = dataset[torch.LongTensor(valid_idx)][0:10]\n",
    "    \n",
    "    net = MyLSTM(num_classes, num_features, num_layers, hidden_size)\n",
    "    net = net.to(device)\n",
    "    \n",
    "    # partial function - gnn arg is static, x is given later\n",
    "    gnn_transform = lambda x: gnn_to_lstm_batch(\n",
    "        x, \n",
    "        gnn_instance=gnn, \n",
    "        device=device,\n",
    "        num_classes=num_classes\n",
    ")\n",
    "    \n",
    "    net, train_subset_losses, valid_subset_losses = train_model(\n",
    "        model=net,\n",
    "        epochs=epochs, \n",
    "        criterion=criterion,\n",
    "        optimizer=optimizer,\n",
    "        train_data=train_subset, \n",
    "        valid_data=valid_subset,\n",
    "        batch_size=batch_size,\n",
    "        device=device,\n",
    "        transform=gnn_transform,\n",
    ")\n",
    "\n",
    "    torch.save({\"train\": train_subset_losses, \"valid\": valid_subset_losses}, loss_paths[i])\n",
    "    torch.save(net.state_dict(), state_paths[i])\n",
    "    \n",
    "    # perform test preds\n",
    "    y_pred, y_true = predict(\n",
    "        model=net, \n",
    "        data=train_subset, \n",
    "        batch_size=batch_size,\n",
    "        device=device,\n",
    "        transform=gnn_transform,\n",
    ")\n",
    "\n",
    "    torch.save({\"y_pred\": y_pred, \"y_true\": y_true,}, pred_paths[i])\n",
    "    \n",
    "    i += 1"
   ]
  },
  {
   "cell_type": "code",
   "execution_count": 5,
   "id": "64a1d2be",
   "metadata": {},
   "outputs": [],
   "source": [
    "# compute performance\n",
    "labels = [\"TCRpMHC\", \"pMHC\", \"p\"]\n",
    "performance_data = dict()\n",
    "for i in range(n_splits):\n",
    "    data = torch.load(pred_paths[i])\n",
    "    y_pred = data[\"y_pred\"]\n",
    "    y_true = data[\"y_true\"]\n",
    "    \n",
    "    # confusion matrix\n",
    "    y_pred_max = torch.argmax(y_pred, dim=1, keepdim=True)\n",
    "    y_true_idx = torch.argmax(y_true, dim=1, keepdim=True)\n",
    "    cm = confusion_matrix(y_true_idx, y_pred_max)\n",
    "\n",
    "    # f1\n",
    "    f1 = f1_score(y_pred_max, y_true_idx, average=\"weighted\")\n",
    "\n",
    "    # multiclass auc\n",
    "    auc = roc_auc_score(y_true, y_pred, multi_class=\"ovr\", average=\"weighted\")\n",
    "\n",
    "    output = {\n",
    "        \"f1\": f1,\n",
    "        \"auc\": auc,\n",
    "        \"cm\": cm,\n",
    "        \"labels\": labels\n",
    "    }\n",
    "    performance_data[i] = output\n",
    "\n",
    "torch.save(performance_data, save_dir / \"performance_data.pt\")"
   ]
  },
  {
   "cell_type": "code",
   "execution_count": 7,
   "id": "22fb5116",
   "metadata": {},
   "outputs": [
    {
     "data": {
      "text/plain": [
       "<sklearn.metrics._plot.confusion_matrix.ConfusionMatrixDisplay at 0x7fd6d05fa5b0>"
      ]
     },
     "execution_count": 7,
     "metadata": {},
     "output_type": "execute_result"
    },
    {
     "data": {
      "image/png": "[encoded data removed]",
      "text/plain": [
       "<Figure size 432x288 with 2 Axes>"
      ]
     },
     "metadata": {
      "needs_background": "light"
     },
     "output_type": "display_data"
    }
   ],
   "source": [
    "disp = ConfusionMatrixDisplay(cm, display_labels=[\"TCRpMHC\", \"pMHC\", \"p\"])\n",
    "disp.plot()"
   ]
  },
  {
   "cell_type": "code",
   "execution_count": null,
   "id": "5ff80864",
   "metadata": {},
   "outputs": [],
   "source": []
  }
 ],
 "metadata": {
  "kernelspec": {
   "display_name": "Python 3 (ipykernel)",
   "language": "python",
   "name": "python3"
  },
  "language_info": {
   "codemirror_mode": {
    "name": "ipython",
    "version": 3
   },
   "file_extension": ".py",
   "mimetype": "text/x-python",
   "name": "python",
   "nbconvert_exporter": "python",
   "pygments_lexer": "ipython3",
   "version": "3.8.0"
  }
 },
 "nbformat": 4,
 "nbformat_minor": 5
}
